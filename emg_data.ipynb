{
 "cells": [
  {
   "cell_type": "code",
   "execution_count": 1,
   "metadata": {},
   "outputs": [],
   "source": [
    "from scipy.io import loadmat\n",
    "import numpy as np"
   ]
  },
  {
   "cell_type": "code",
   "execution_count": 2,
   "metadata": {},
   "outputs": [],
   "source": [
    "path = 'data/emg/ninapro/db2/DB2_s1/'\n",
    "data = loadmat(path + 'S1_E1_A1.mat')"
   ]
  },
  {
   "cell_type": "code",
   "execution_count": 3,
   "metadata": {},
   "outputs": [
    {
     "data": {
      "text/plain": [
       "{'__globals__': [],\n",
       " '__header__': b'MATLAB 5.0 MAT-file, Platform: GLNXA64, Created on: Mon Jan 14 02:36:34 2013',\n",
       " '__version__': '1.0',\n",
       " 'acc': array([[ 0.14023736,  0.9540544 ,  0.27923268, ...,  0.875372  ,\n",
       "          0.41703165, -0.04865011],\n",
       "        [ 0.14023736,  0.9540544 ,  0.27806923, ...,  0.875372  ,\n",
       "          0.41703165, -0.04865011],\n",
       "        [ 0.14023736,  0.9540544 ,  0.27690578, ...,  0.875372  ,\n",
       "          0.41703165, -0.04865011],\n",
       "        ...,\n",
       "        [ 0.10907351,  0.93788403,  0.28970125, ...,  0.82055205,\n",
       "          0.4633685 ,  0.12973362],\n",
       "        [ 0.10907351,  0.93788403,  0.29086474, ...,  0.8193731 ,\n",
       "          0.4633685 ,  0.12973362],\n",
       "        [ 0.10907351,  0.93788403,  0.2920282 , ...,  0.81819415,\n",
       "          0.4633685 ,  0.12973362]], dtype=float32),\n",
       " 'emg': array([[-2.8512097e-06,  3.3552608e-06,  1.5988660e-06, ...,\n",
       "          1.4699236e-06, -5.6090889e-06,  4.0180992e-05],\n",
       "        [-4.6977384e-06,  3.3552124e-06,  1.4304406e-06, ...,\n",
       "          2.4781623e-06, -3.2593930e-06,  4.9580311e-05],\n",
       "        [-2.6837340e-06,  4.0265595e-06,  9.2631649e-07, ...,\n",
       "          2.4793057e-06, -7.0452693e-08,  4.7062331e-05],\n",
       "        ...,\n",
       "        [ 4.6579542e-05, -9.4416337e-06, -6.4931774e-06, ...,\n",
       "          5.3471636e-06, -1.9315494e-06,  1.6664750e-04],\n",
       "        [ 9.5255244e-05,  2.4758735e-06, -1.6255494e-06, ...,\n",
       "          6.8578074e-06, -1.2603056e-06,  8.5408486e-05],\n",
       "        [ 9.0051348e-05,  8.1829576e-06,  7.2433983e-07, ...,\n",
       "          4.6757668e-06, -2.4354026e-06,  1.1051290e-05]], dtype=float32),\n",
       " 'exercise': array([[1]], dtype=uint8),\n",
       " 'glove': array([[63.02556  ,  6.871781 , 13.948268 , ..., 33.340313 , 12.35292  ,\n",
       "          7.623547 ],\n",
       "        [63.02556  ,  6.871781 , 13.948268 , ..., 33.340313 , 12.35292  ,\n",
       "          7.623547 ],\n",
       "        [63.02556  ,  6.871781 , 13.948268 , ..., 33.340313 , 12.35292  ,\n",
       "          7.623547 ],\n",
       "        ...,\n",
       "        [56.180996 ,  8.537667 ,  1.5247095, ...,  9.121378 , 13.727402 ,\n",
       "         13.530604 ],\n",
       "        [56.16881  ,  8.537667 ,  1.5247095, ...,  9.164823 , 13.709742 ,\n",
       "         13.520008 ],\n",
       "        [56.156624 ,  8.537667 ,  1.5247095, ...,  9.208267 , 13.692081 ,\n",
       "         13.509412 ]], dtype=float32),\n",
       " 'inclin': array([[60.42475   , -0.61025   ],\n",
       "        [60.42475   , -0.6090038 ],\n",
       "        [60.42475   , -0.60595375],\n",
       "        ...,\n",
       "        [ 4.1120243 , -5.050363  ],\n",
       "        [ 4.115087  , -5.0564632 ],\n",
       "        [ 4.1181493 , -5.062563  ]], dtype=float32),\n",
       " 'repetition': array([[0],\n",
       "        [0],\n",
       "        [0],\n",
       "        ...,\n",
       "        [6],\n",
       "        [6],\n",
       "        [6]], dtype=int8),\n",
       " 'rerepetition': array([[1],\n",
       "        [1],\n",
       "        [1],\n",
       "        ...,\n",
       "        [0],\n",
       "        [0],\n",
       "        [0]], dtype=int8),\n",
       " 'restimulus': array([[0],\n",
       "        [0],\n",
       "        [0],\n",
       "        ...,\n",
       "        [0],\n",
       "        [0],\n",
       "        [0]], dtype=int8),\n",
       " 'stimulus': array([[ 0],\n",
       "        [ 0],\n",
       "        [ 0],\n",
       "        ...,\n",
       "        [17],\n",
       "        [17],\n",
       "        [17]], dtype=int8),\n",
       " 'subject': array([[1]], dtype=uint8)}"
      ]
     },
     "execution_count": 3,
     "metadata": {},
     "output_type": "execute_result"
    }
   ],
   "source": [
    "data"
   ]
  },
  {
   "cell_type": "code",
   "execution_count": 6,
   "metadata": {},
   "outputs": [
    {
     "data": {
      "text/plain": [
       "(1808331, 12)"
      ]
     },
     "execution_count": 6,
     "metadata": {},
     "output_type": "execute_result"
    }
   ],
   "source": [
    "data['emg'].shape"
   ]
  },
  {
   "cell_type": "code",
   "execution_count": 8,
   "metadata": {},
   "outputs": [
    {
     "data": {
      "text/plain": [
       "(1808331, 1)"
      ]
     },
     "execution_count": 8,
     "metadata": {},
     "output_type": "execute_result"
    }
   ],
   "source": [
    "data['stimulus'].shape"
   ]
  },
  {
   "cell_type": "code",
   "execution_count": null,
   "metadata": {},
   "outputs": [],
   "source": []
  }
 ],
 "metadata": {
  "kernelspec": {
   "display_name": "Python (py35)",
   "language": "python",
   "name": "py35"
  },
  "language_info": {
   "codemirror_mode": {
    "name": "ipython",
    "version": 3
   },
   "file_extension": ".py",
   "mimetype": "text/x-python",
   "name": "python",
   "nbconvert_exporter": "python",
   "pygments_lexer": "ipython3",
   "version": "3.5.6"
  }
 },
 "nbformat": 4,
 "nbformat_minor": 2
}
