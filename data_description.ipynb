{
 "cells": [
  {
   "cell_type": "code",
   "execution_count": 5,
   "metadata": {},
   "outputs": [
    {
     "name": "stdout",
     "output_type": "stream",
     "text": [
      "279.35290160430094\n"
     ]
    }
   ],
   "source": [
    "import sys,os,json\n",
    "import collections,math\n",
    "import time,datetime,pytz\n",
    "import numpy as np\n",
    "import pandas as pd\n",
    "import pickle\n",
    "import matplotlib.pyplot as plt\n",
    "from collections import Counter\n",
    "from matplotlib.colors import ListedColormap\n",
    "import seaborn as sns\n",
    "import networkx as nx\n",
    "# from textblob import TextBlob\n",
    "# from polyglot.detect import Detector\n",
    "import operator\n",
    "# import PlotUtil\n",
    "from scipy.stats import linregress\n",
    "import statsmodels.api as sm\n",
    "from sklearn.preprocessing import StandardScaler\n",
    "%matplotlib inline\n",
    "import warnings\n",
    "warnings.filterwarnings('ignore')\n",
    "# warnings.filterwarnings(action='once')\n",
    "# import foursq_helper as foursq\n",
    "# from yelp_helper import *\n",
    "\n",
    "############################################\n",
    "########## Plot Style Declaration ##########\n",
    "# Set the style globally\n",
    "# Alternatives include bmh, fivethirtyeight, ggplot,\n",
    "# dark_background, seaborn-deep, etc\n",
    "# plt.style.use('ggplot')\n",
    "plt.style.use('seaborn-white')\n",
    "\n",
    "plt.rcParams['font.family'] = 'times new roman'\n",
    "# plt.rcParams['font.serif'] = 'Ubuntu'\n",
    "# plt.rcParams['font.monospace'] = 'Ubuntu Mono'\n",
    "plt.rcParams['font.size'] = 15\n",
    "plt.rcParams['axes.labelsize'] = 15\n",
    "plt.rcParams['axes.labelweight'] = 'bold'\n",
    "plt.rcParams['axes.titlesize'] = 15\n",
    "plt.rcParams['xtick.labelsize'] = 15\n",
    "plt.rcParams['ytick.labelsize'] = 15\n",
    "plt.rcParams['legend.fontsize'] = 14\n",
    "plt.rcParams['figure.titlesize'] = 15\n",
    "plt.rcParams['lines.linewidth'] = 3\n",
    "plt.rcParams['pdf.fonttype'] = 42\n",
    "plt.rcParams['ps.fonttype'] = 42\n",
    "\n",
    "##########################################\n",
    "########## data set declaration ##########\n",
    "path_processed = \"data/processed/\"\n",
    "path_final = \"data/final/\"\n",
    "\n",
    "##### path to external files #####\n",
    "path_fsq = \"../../churn-4sq/data/\"\n",
    "path_yelp = \"../../churn-yelp/data/\"\n",
    "\n",
    "##### fsq base datasets #####\n",
    "fsq_f_venue = 'data/data_final.txt' # 12GB\n",
    "fsq_f_graph = 'data/foursquare_graph.txt' # 25GB\n",
    "fsq_f_profile = 'data/profiles_final.tsv' # 7GB\n",
    "fsq_f_tip = 'data/tips_all.txt' # 31GB\n",
    "\n",
    "##### Yelp base datasets #####\n",
    "yelp_f_business = 'data/business.json' # 145.2MB\n",
    "yelp_f_checkin = 'data/checkin.json'   # 63.3MB\n",
    "yelp_f_review = 'data/review.json'     # 4.2GB\n",
    "yelp_f_tip = 'data/tip.json'           # 197.6MB\n",
    "yelp_f_user = 'data/user.json'         # 1.9GB\n",
    "yelp_f_photos = 'data/photos.json'     # 26.9MB\n",
    "\n",
    "##################################\n",
    "########## End of Setup ##########\n",
    "\n",
    "##### Geographical Change #####\n",
    "import geopy\n",
    "from geopy import distance as geopy_distance\n",
    "coords_1 = (52.2296756, 21.0122287)\n",
    "coords_2 = (52.406374, 16.9251681)\n",
    "print (geopy.distance.distance(coords_1, coords_2).km)"
   ]
  },
  {
   "cell_type": "code",
   "execution_count": null,
   "metadata": {},
   "outputs": [],
   "source": [
    "[1000]+[]+[10]"
   ]
  },
  {
   "cell_type": "code",
   "execution_count": 6,
   "metadata": {},
   "outputs": [],
   "source": [
    "with open('data/opportunity.pkl', 'rb') as f:\n",
    "    opp_data = pickle.load(f)\n",
    "with open('data/opportunity.classes.pkl', 'rb') as f:\n",
    "    opp_class = pickle.load(f)"
   ]
  },
  {
   "cell_type": "code",
   "execution_count": 11,
   "metadata": {},
   "outputs": [],
   "source": [
    "opp_data = np.load('data/opportunity.npy').item()"
   ]
  },
  {
   "cell_type": "code",
   "execution_count": 13,
   "metadata": {
    "scrolled": true
   },
   "outputs": [
    {
     "data": {
      "text/plain": [
       "{'test': {'inputs': array([['-962', '-166', '96', ..., '0', '3', '139'],\n",
       "         ['-961', '-155', '79', ..., '6', '39', '140'],\n",
       "         ['-981', '-151', '69', ..., '5', '37', '140'],\n",
       "         ...,\n",
       "         ['-964', '-37', '247', ..., '-22', '7', '12'],\n",
       "         ['-971', '-44', '252', ..., '-10', '-6', '12'],\n",
       "         ['-980', '-52', '256', ..., '-17', '29', '12']], dtype='<U6'),\n",
       "  'targets': array([1, 1, 1, ..., 1, 1, 1])},\n",
       " 'training': {'inputs': array([['-983', '-199', '119', ..., '20', '42', '175'],\n",
       "         ['-986', '-220', '114', ..., '17', '31', '175'],\n",
       "         ['-987', '-227', '112', ..., '-27', '15', '175'],\n",
       "         ...,\n",
       "         ['-984', '-163', '66', ..., '24', '-36', '-77'],\n",
       "         ['-981', '-133', '75', ..., '25', '16', '-77'],\n",
       "         ['-994', '-113', '82', ..., '32', '2', '-77']], dtype='<U6'),\n",
       "  'targets': array([1, 1, 1, ..., 1, 1, 1])},\n",
       " 'validation': {'inputs': array([['-980', '-204', '26', ..., '4', '-7', '105'],\n",
       "         ['-978', '-204', '28', ..., '19', '16', '105'],\n",
       "         ['-977', '-204', '29', ..., '31', '37', '105'],\n",
       "         ...,\n",
       "         ['-976', '-219', '37', ..., '44', '-16', '168'],\n",
       "         ['-976', '-221', '41', ..., '27', '-19', '168'],\n",
       "         ['-979', '-218', '35', ..., '-9', '-14', '168']], dtype='<U6'),\n",
       "  'targets': array([1, 1, 1, ..., 1, 1, 1])}}"
      ]
     },
     "execution_count": 13,
     "metadata": {},
     "output_type": "execute_result"
    }
   ],
   "source": [
    "opp_data"
   ]
  },
  {
   "cell_type": "code",
   "execution_count": 19,
   "metadata": {},
   "outputs": [
    {
     "data": {
      "text/plain": [
       "(700165, 77)"
      ]
     },
     "execution_count": 19,
     "metadata": {},
     "output_type": "execute_result"
    }
   ],
   "source": [
    "opp_data['training']['inputs'].shape"
   ]
  },
  {
   "cell_type": "code",
   "execution_count": 20,
   "metadata": {},
   "outputs": [
    {
     "data": {
      "text/plain": [
       "(31892, 77)"
      ]
     },
     "execution_count": 20,
     "metadata": {},
     "output_type": "execute_result"
    }
   ],
   "source": [
    "opp_data['validation']['inputs'].shape"
   ]
  },
  {
   "cell_type": "code",
   "execution_count": 18,
   "metadata": {},
   "outputs": [
    {
     "data": {
      "text/plain": [
       "(120516, 77)"
      ]
     },
     "execution_count": 18,
     "metadata": {},
     "output_type": "execute_result"
    }
   ],
   "source": [
    "opp_data['test']['inputs'].shape"
   ]
  },
  {
   "cell_type": "markdown",
   "metadata": {},
   "source": [
    "### Initial look of Opportunity dataset"
   ]
  },
  {
   "cell_type": "markdown",
   "metadata": {},
   "source": [
    "### Plot Traces for single subject"
   ]
  },
  {
   "cell_type": "code",
   "execution_count": 21,
   "metadata": {},
   "outputs": [
    {
     "data": {
      "image/png": "[encoded data removed]",
      "text/plain": [
       "<Figure size 432x288 with 3 Axes>"
      ]
     },
     "metadata": {},
     "output_type": "display_data"
    }
   ],
   "source": [
    "# plot the x, y, z acceleration and activities for a single subject\n",
    "def plot_subject(subject):\n",
    "    plt.figure()\n",
    "    # create a plot for each column\n",
    "    for col in range(3):\n",
    "        plt.subplot(3, 1, col+1)\n",
    "        plt.plot(subject[:,col])\n",
    "    plt.show()\n",
    "\n",
    "# load\n",
    "# subjects = load_dataset()\n",
    "# print('Loaded %d subjects' % len(subjects))\n",
    "# plot activities for a single subject\n",
    "plot_subject(opp_data['validation']['inputs'])"
   ]
  },
  {
   "cell_type": "code",
   "execution_count": 22,
   "metadata": {},
   "outputs": [
    {
     "data": {
      "image/png": "[encoded data removed]",
      "text/plain": [
       "<Figure size 432x288 with 1 Axes>"
      ]
     },
     "metadata": {},
     "output_type": "display_data"
    }
   ],
   "source": [
    "plt.figure()\n",
    "plt.plot(opp_data['validation']['targets'])\n",
    "plt.show()"
   ]
  },
  {
   "cell_type": "code",
   "execution_count": 30,
   "metadata": {},
   "outputs": [
    {
     "ename": "ValueError",
     "evalue": "all the input arrays must have same number of dimensions",
     "output_type": "error",
     "traceback": [
      "\u001b[0;31m---------------------------------------------------------------------------\u001b[0m",
      "\u001b[0;31mValueError\u001b[0m                                Traceback (most recent call last)",
      "\u001b[0;32m<ipython-input-30-04a94be9cace>\u001b[0m in \u001b[0;36m<module>\u001b[0;34m()\u001b[0m\n\u001b[0;32m----> 1\u001b[0;31m \u001b[0mopp_val\u001b[0m \u001b[0;34m=\u001b[0m \u001b[0mnp\u001b[0m\u001b[0;34m.\u001b[0m\u001b[0mconcatenate\u001b[0m\u001b[0;34m(\u001b[0m\u001b[0;34m(\u001b[0m\u001b[0mopp_data\u001b[0m\u001b[0;34m[\u001b[0m\u001b[0;34m'validation'\u001b[0m\u001b[0;34m]\u001b[0m\u001b[0;34m[\u001b[0m\u001b[0;34m'inputs'\u001b[0m\u001b[0;34m]\u001b[0m\u001b[0;34m,\u001b[0m \u001b[0mopp_data\u001b[0m\u001b[0;34m[\u001b[0m\u001b[0;34m'validation'\u001b[0m\u001b[0;34m]\u001b[0m\u001b[0;34m[\u001b[0m\u001b[0;34m'targets'\u001b[0m\u001b[0;34m]\u001b[0m\u001b[0;34m.\u001b[0m\u001b[0mT\u001b[0m\u001b[0;34m)\u001b[0m\u001b[0;34m,\u001b[0m \u001b[0maxis\u001b[0m\u001b[0;34m=\u001b[0m\u001b[0;36m1\u001b[0m\u001b[0;34m)\u001b[0m\u001b[0;34m\u001b[0m\u001b[0m\n\u001b[0m",
      "\u001b[0;31mValueError\u001b[0m: all the input arrays must have same number of dimensions"
     ]
    }
   ],
   "source": [
    "opp_val = np.concatenate((opp_data['validation']['inputs'], opp_data['validation']['targets'].T), axis=1)"
   ]
  },
  {
   "cell_type": "code",
   "execution_count": 44,
   "metadata": {},
   "outputs": [
    {
     "ename": "TypeError",
     "evalue": "only size-1 arrays can be converted to Python scalars",
     "output_type": "error",
     "traceback": [
      "\u001b[0;31m---------------------------------------------------------------------------\u001b[0m",
      "\u001b[0;31mTypeError\u001b[0m                                 Traceback (most recent call last)",
      "\u001b[0;32m<ipython-input-44-094812060ab0>\u001b[0m in \u001b[0;36m<module>\u001b[0;34m()\u001b[0m\n\u001b[0;32m----> 1\u001b[0;31m \u001b[0mopp_val\u001b[0m \u001b[0;34m=\u001b[0m \u001b[0mnp\u001b[0m\u001b[0;34m.\u001b[0m\u001b[0mc_\u001b[0m\u001b[0;34m[\u001b[0m\u001b[0mopp_data\u001b[0m\u001b[0;34m[\u001b[0m\u001b[0;34m'validation'\u001b[0m\u001b[0;34m]\u001b[0m\u001b[0;34m[\u001b[0m\u001b[0;34m'inputs'\u001b[0m\u001b[0;34m]\u001b[0m\u001b[0;34m,\u001b[0m \u001b[0mint\u001b[0m\u001b[0;34m(\u001b[0m\u001b[0mopp_data\u001b[0m\u001b[0;34m[\u001b[0m\u001b[0;34m'validation'\u001b[0m\u001b[0;34m]\u001b[0m\u001b[0;34m[\u001b[0m\u001b[0;34m'targets'\u001b[0m\u001b[0;34m]\u001b[0m\u001b[0;34m)\u001b[0m\u001b[0;34m]\u001b[0m\u001b[0;34m\u001b[0m\u001b[0m\n\u001b[0m",
      "\u001b[0;31mTypeError\u001b[0m: only size-1 arrays can be converted to Python scalars"
     ]
    }
   ],
   "source": [
    "opp_val = np.c_[opp_data['validation']['inputs'], opp_data['validation']['targets']"
   ]
  },
  {
   "cell_type": "code",
   "execution_count": 35,
   "metadata": {},
   "outputs": [
    {
     "data": {
      "text/plain": [
       "(31892, 78)"
      ]
     },
     "execution_count": 35,
     "metadata": {},
     "output_type": "execute_result"
    }
   ],
   "source": [
    "opp_val.shape"
   ]
  },
  {
   "cell_type": "code",
   "execution_count": 49,
   "metadata": {},
   "outputs": [
    {
     "data": {
      "image/png": "[encoded data removed]",
      "text/plain": [
       "<Figure size 432x288 with 1 Axes>"
      ]
     },
     "metadata": {},
     "output_type": "display_data"
    }
   ],
   "source": [
    "# returns a list of dict, where each dict has one sequence per activity\n",
    "def group_by_activity(s, activities):\n",
    "    grouped = [{a:s[s[:,-1]==str(a)] for a in activities}]\n",
    "    return grouped\n",
    "\n",
    "# calculate total duration in sec for each activity per subject and plot\n",
    "def plot_durations(grouped, activities):\n",
    "    # calculate the lengths for each activity for each subject\n",
    "    freq = 1\n",
    "    durations = [[len(s[a])/freq for s in grouped] for a in activities]\n",
    "    plt.boxplot(durations, labels=activities)\n",
    "    plt.show()\n",
    "\n",
    "# load\n",
    "# subjects = load_dataset()\n",
    "# print('Loaded %d subjects' % len(subjects))\n",
    "# group traces by activity for each subject\n",
    "\n",
    "activities = [i for i in range(2,19)]\n",
    "grouped = group_by_activity(opp_val, activities)\n",
    "# plot durations\n",
    "plot_durations(grouped, activities)"
   ]
  },
  {
   "cell_type": "code",
   "execution_count": 45,
   "metadata": {},
   "outputs": [
    {
     "data": {
      "text/plain": [
       "array([['-980', '-204', '26', ..., '-7', '105', '1'],\n",
       "       ['-978', '-204', '28', ..., '16', '105', '1'],\n",
       "       ['-977', '-204', '29', ..., '37', '105', '1'],\n",
       "       ...,\n",
       "       ['-976', '-219', '37', ..., '-16', '168', '1'],\n",
       "       ['-976', '-221', '41', ..., '-19', '168', '1'],\n",
       "       ['-979', '-218', '35', ..., '-14', '168', '1']], dtype='<U21')"
      ]
     },
     "execution_count": 45,
     "metadata": {},
     "output_type": "execute_result"
    }
   ],
   "source": [
    "\n",
    "opp_val[opp_val[:,-1]==str(1)]"
   ]
  },
  {
   "cell_type": "code",
   "execution_count": 50,
   "metadata": {},
   "outputs": [
    {
     "data": {
      "image/png": "[encoded data removed]",
      "text/plain": [
       "<Figure size 432x288 with 1 Axes>"
      ]
     },
     "metadata": {},
     "output_type": "display_data"
    }
   ],
   "source": [
    "plt.figure()\n",
    "plt.hist(opp_val[:,0], bins=100)\n",
    "plt.hist(opp_val[:,1], bins=100)\n",
    "plt.hist(opp_val[:,2], bins=100)\n",
    "plt.show()"
   ]
  },
  {
   "cell_type": "code",
   "execution_count": 52,
   "metadata": {},
   "outputs": [],
   "source": [
    "df = pd.DataFrame(opp_val)"
   ]
  },
  {
   "cell_type": "code",
   "execution_count": 55,
   "metadata": {},
   "outputs": [
    {
     "data": {
      "text/html": [
       "<div>\n",
       "<style scoped>\n",
       "    .dataframe tbody tr th:only-of-type {\n",
       "        vertical-align: middle;\n",
       "    }\n",
       "\n",
       "    .dataframe tbody tr th {\n",
       "        vertical-align: top;\n",
       "    }\n",
       "\n",
       "    .dataframe thead th {\n",
       "        text-align: right;\n",
       "    }\n",
       "</style>\n",
       "<table border=\"1\" class=\"dataframe\">\n",
       "  <thead>\n",
       "    <tr style=\"text-align: right;\">\n",
       "      <th></th>\n",
       "      <th>0</th>\n",
       "      <th>1</th>\n",
       "      <th>2</th>\n",
       "      <th>3</th>\n",
       "      <th>4</th>\n",
       "      <th>5</th>\n",
       "      <th>6</th>\n",
       "      <th>7</th>\n",
       "      <th>8</th>\n",
       "      <th>9</th>\n",
       "      <th>...</th>\n",
       "      <th>68</th>\n",
       "      <th>69</th>\n",
       "      <th>70</th>\n",
       "      <th>71</th>\n",
       "      <th>72</th>\n",
       "      <th>73</th>\n",
       "      <th>74</th>\n",
       "      <th>75</th>\n",
       "      <th>76</th>\n",
       "      <th>77</th>\n",
       "    </tr>\n",
       "  </thead>\n",
       "  <tbody>\n",
       "    <tr>\n",
       "      <th>count</th>\n",
       "      <td>31892</td>\n",
       "      <td>31892</td>\n",
       "      <td>31892</td>\n",
       "      <td>31892</td>\n",
       "      <td>31892</td>\n",
       "      <td>31892</td>\n",
       "      <td>31892</td>\n",
       "      <td>31892</td>\n",
       "      <td>31892</td>\n",
       "      <td>31892</td>\n",
       "      <td>...</td>\n",
       "      <td>31892</td>\n",
       "      <td>31892</td>\n",
       "      <td>31892</td>\n",
       "      <td>31892</td>\n",
       "      <td>31892</td>\n",
       "      <td>31892</td>\n",
       "      <td>31892</td>\n",
       "      <td>31892</td>\n",
       "      <td>31892</td>\n",
       "      <td>31892</td>\n",
       "    </tr>\n",
       "    <tr>\n",
       "      <th>unique</th>\n",
       "      <td>1641</td>\n",
       "      <td>1362</td>\n",
       "      <td>1458</td>\n",
       "      <td>3848</td>\n",
       "      <td>2298</td>\n",
       "      <td>1857</td>\n",
       "      <td>2094</td>\n",
       "      <td>1853</td>\n",
       "      <td>1838</td>\n",
       "      <td>1660</td>\n",
       "      <td>...</td>\n",
       "      <td>3242</td>\n",
       "      <td>2782</td>\n",
       "      <td>6256</td>\n",
       "      <td>4750</td>\n",
       "      <td>5533</td>\n",
       "      <td>4750</td>\n",
       "      <td>6256</td>\n",
       "      <td>5533</td>\n",
       "      <td>449</td>\n",
       "      <td>17</td>\n",
       "    </tr>\n",
       "    <tr>\n",
       "      <th>top</th>\n",
       "      <td>-973</td>\n",
       "      <td>-231</td>\n",
       "      <td>55</td>\n",
       "      <td>-6</td>\n",
       "      <td>4</td>\n",
       "      <td>4</td>\n",
       "      <td>520</td>\n",
       "      <td>-847</td>\n",
       "      <td>653</td>\n",
       "      <td>-984</td>\n",
       "      <td>...</td>\n",
       "      <td>369</td>\n",
       "      <td>-807</td>\n",
       "      <td>-4</td>\n",
       "      <td>9</td>\n",
       "      <td>-6</td>\n",
       "      <td>9</td>\n",
       "      <td>4</td>\n",
       "      <td>-6</td>\n",
       "      <td>-4</td>\n",
       "      <td>1</td>\n",
       "    </tr>\n",
       "    <tr>\n",
       "      <th>freq</th>\n",
       "      <td>399</td>\n",
       "      <td>176</td>\n",
       "      <td>132</td>\n",
       "      <td>133</td>\n",
       "      <td>182</td>\n",
       "      <td>281</td>\n",
       "      <td>144</td>\n",
       "      <td>133</td>\n",
       "      <td>148</td>\n",
       "      <td>183</td>\n",
       "      <td>...</td>\n",
       "      <td>454</td>\n",
       "      <td>469</td>\n",
       "      <td>292</td>\n",
       "      <td>291</td>\n",
       "      <td>393</td>\n",
       "      <td>291</td>\n",
       "      <td>292</td>\n",
       "      <td>393</td>\n",
       "      <td>3080</td>\n",
       "      <td>25056</td>\n",
       "    </tr>\n",
       "  </tbody>\n",
       "</table>\n",
       "<p>4 rows × 78 columns</p>\n",
       "</div>"
      ],
      "text/plain": [
       "           0      1      2      3      4      5      6      7      8      9   \\\n",
       "count   31892  31892  31892  31892  31892  31892  31892  31892  31892  31892   \n",
       "unique   1641   1362   1458   3848   2298   1857   2094   1853   1838   1660   \n",
       "top      -973   -231     55     -6      4      4    520   -847    653   -984   \n",
       "freq      399    176    132    133    182    281    144    133    148    183   \n",
       "\n",
       "        ...       68     69     70     71     72     73     74     75     76  \\\n",
       "count   ...    31892  31892  31892  31892  31892  31892  31892  31892  31892   \n",
       "unique  ...     3242   2782   6256   4750   5533   4750   6256   5533    449   \n",
       "top     ...      369   -807     -4      9     -6      9      4     -6     -4   \n",
       "freq    ...      454    469    292    291    393    291    292    393   3080   \n",
       "\n",
       "           77  \n",
       "count   31892  \n",
       "unique     17  \n",
       "top         1  \n",
       "freq    25056  \n",
       "\n",
       "[4 rows x 78 columns]"
      ]
     },
     "execution_count": 55,
     "metadata": {},
     "output_type": "execute_result"
    }
   ],
   "source": [
    "df.describe()"
   ]
  },
  {
   "cell_type": "code",
   "execution_count": null,
   "metadata": {},
   "outputs": [],
   "source": []
  }
 ],
 "metadata": {
  "kernelspec": {
   "display_name": "Python (py354)",
   "language": "python",
   "name": "py354"
  },
  "language_info": {
   "codemirror_mode": {
    "name": "ipython",
    "version": 3
   },
   "file_extension": ".py",
   "mimetype": "text/x-python",
   "name": "python",
   "nbconvert_exporter": "python",
   "pygments_lexer": "ipython3",
   "version": "3.7.4"
  }
 },
 "nbformat": 4,
 "nbformat_minor": 2
}
