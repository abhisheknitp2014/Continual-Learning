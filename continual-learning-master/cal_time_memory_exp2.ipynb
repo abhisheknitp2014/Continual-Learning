{
 "cells": [
  {
   "cell_type": "code",
   "execution_count": 1,
   "metadata": {},
   "outputs": [],
   "source": [
    "%matplotlib inline\n",
    "from main_script_wrapper import *"
   ]
  },
  {
   "cell_type": "code",
   "execution_count": 2,
   "metadata": {
    "scrolled": true
   },
   "outputs": [
    {
     "name": "stdout",
     "output_type": "stream",
     "text": [
      "input_class_seq_l: \n",
      "[[5, 6, 7, 8, 9, 10, 11], [0], [3], [2], [4], [1]]\n",
      "[[5, 6, 7, 8, 9, 10, 11], [1], [4], [3], [2], [0]]\n",
      "[[5, 6, 7, 8, 9, 10, 11], [0], [2], [1], [3], [4]]\n",
      "[[5, 6, 7, 8, 9, 10, 11], [0], [2], [1], [4], [3]]\n",
      "[[5, 6, 7, 8, 9, 10, 11], [3], [0], [4], [2], [1]]\n",
      "[[0, 1, 2, 3, 4, 10, 11], [6], [9], [8], [5], [7]]\n",
      "[[0, 1, 2, 3, 4, 10, 11], [8], [6], [7], [9], [5]]\n",
      "[[0, 1, 2, 3, 4, 10, 11], [9], [8], [5], [6], [7]]\n",
      "[[0, 1, 2, 3, 4, 10, 11], [7], [5], [9], [6], [8]]\n",
      "[[0, 1, 2, 3, 4, 10, 11], [7], [5], [6], [9], [8]]\n",
      "\n",
      "\n",
      "===== Class Sequence 1 / 10 =====\n",
      "\n",
      "\n",
      "{'features': 52, 'seq': 33, 'classes': 12}\n",
      "The shape of the train dataset is 52, and the labels is 473445\n",
      "The shape of the val dataset is 52, and the labels is 90814\n",
      "The shape of the test dataset is 52, and the labels is 83366\n",
      "class: 0 , counts: 1023\n",
      "class: 1 , counts: 3523\n",
      "class: 2 , counts: 3378\n",
      "class: 3 , counts: 3448\n",
      "class: 4 , counts: 4438\n",
      "class: 5 , counts: 1569\n",
      "class: 6 , counts: 3002\n",
      "class: 7 , counts: 3365\n",
      "class: 8 , counts: 2164\n",
      "class: 9 , counts: 1951\n",
      "class: 10 , counts: 3215\n",
      "class: 11 , counts: 4187\n",
      "Total sum of train labels :  35263\n",
      "class: 0 , counts: 6\n",
      "class: 1 , counts: 485\n",
      "class: 2 , counts: 480\n",
      "class: 3 , counts: 507\n",
      "class: 4 , counts: 536\n",
      "class: 5 , counts: 475\n",
      "class: 6 , counts: 427\n",
      "class: 7 , counts: 556\n",
      "class: 8 , counts: 276\n",
      "class: 9 , counts: 235\n",
      "class: 10 , counts: 439\n",
      "class: 11 , counts: 787\n",
      "Total sum of test labels :  5209\n",
      "permu:  [ 7 11  9  8 10  0  1  2  3  4  5  6]\n",
      "weights_per_class:  [2.87251548 0.83411392 0.8699181  0.85225735 0.66214135 1.87290206\n",
      " 0.97887519 0.87327885 1.35794054 1.50619341 0.91402281 0.70183504]\n",
      "permuted weights_per_class:  [1.87290206 0.97887519 0.87327885 1.35794054 1.50619341 0.91402281\n",
      " 0.70183504 2.87251548 0.85225735 0.8699181  0.66214135 0.83411392]\n",
      "total data size of task idx -1 is 5209\n",
      "input_class_l:  [5, 6, 7, 8, 9, 10, 11]\n",
      "total data size of task idx 0 is 19453\n",
      "input_class_l:  [5, 6, 7, 8, 9, 10, 11]\n",
      "total data size of task idx 0 is 3195\n",
      "input_class_l:  [0]\n",
      "total data size of task idx 1 is 1023\n",
      "input_class_l:  [0]\n",
      "total data size of task idx 1 is 6\n",
      "input_class_l:  [3]\n",
      "total data size of task idx 2 is 3448\n",
      "input_class_l:  [3]\n",
      "total data size of task idx 2 is 507\n",
      "input_class_l:  [2]\n",
      "total data size of task idx 3 is 3378\n",
      "input_class_l:  [2]\n",
      "total data size of task idx 3 is 480\n",
      "input_class_l:  [4]\n"
     ]
    },
    {
     "name": "stderr",
     "output_type": "stream",
     "text": [
      "\r",
      "  0%|          | 0/608 [00:00<?, ?it/s]"
     ]
    },
    {
     "name": "stdout",
     "output_type": "stream",
     "text": [
      "total data size of task idx 4 is 4438\n",
      "input_class_l:  [4]\n",
      "total data size of task idx 4 is 536\n",
      "input_class_l:  [1]\n",
      "total data size of task idx 5 is 3523\n",
      "input_class_l:  [1]\n",
      "total data size of task idx 5 is 485\n",
      "args fc_lay: 1 fc_units: 32 lr: 0.001000 fc_nl: relu batch: 32\n",
      "args.device:  cpu\n",
      "\n",
      " --> task:          sensor6-class\n",
      " --> model:         LSTM([33 X 52]_c12)\n",
      " --> hyper-params:  i608-lr0.001-b32-adam\n",
      "sensor6-class--LSTM([33 X 52]_c12)--i608-lr0.001-b32-adam\n",
      "\n",
      "\n",
      "Model-name: \"LSTM([33 X 52]_c12)\"\n",
      "----------------------------------------MAIN MODEL----------------------------------------\n",
      "Classifier(\n",
      "  (flatten): Flatten()\n",
      "  (lstm_input_dropout): Dropout(p=0.2, inplace=False)\n",
      "  (lstm): LSTM(52, 32, batch_first=True)\n",
      "  (lstm_fc): Linear(in_features=32, out_features=12, bias=True)\n",
      ")\n",
      "------------------------------------------------------------------------------------------\n",
      "--> this network has 11404 parameters (~0.0 million)\n",
      "      of which: - learnable: 11404 (~0.0 million)\n",
      "                - fixed: 0 (~0.0 million)\n",
      "------------------------------------------------------------------------------------------\n",
      "\n",
      "\n",
      "--> Training:\n"
     ]
    },
    {
     "name": "stderr",
     "output_type": "stream",
     "text": [
      "  <SOLVER>   | Task: 1/6 | training loss: 0.239 | training precision: 0.906 |: 100%|█████████▉| 607/608 [00:29<00:00, 21.92it/s]"
     ]
    },
    {
     "name": "stdout",
     "output_type": "stream",
     "text": [
      "allowed_classes_set:  {0, 1, 2, 3, 4, 5, 6}\n"
     ]
    },
    {
     "name": "stderr",
     "output_type": "stream",
     "text": [
      "  <SOLVER>   | Task: 1/6 | training loss: 0.239 | training precision: 0.906 |: 100%|██████████| 608/608 [00:30<00:00, 20.12it/s]\n",
      "  <SOLVER>   | Task: 1/6 | training loss: 1.94 | training precision: 0.25 |:   0%|          | 2/608 [00:00<00:38, 15.86it/s] "
     ]
    },
    {
     "name": "stdout",
     "output_type": "stream",
     "text": [
      "Epoch 1 best model saved with weighted f1: 0.874223984568125, accuracy: 0.8760563380281691, loss 0.23861590027809143\n",
      "precision_dict:  {'all_tasks_macro_rec': [0.8564240007066422], 'all_tasks_micro_f1': [0.8760563380281691], 'all_tasks_macro_prec': [0.8534933920546519], 'all_tasks_weighted_rec': [0.8760563380281691], 'all_tasks_macro_f1': [0.8410957309384262], 'x_iteration': [608], 'all_tasks_weighted_f1': [0.874223984568125], 'all_tasks_acc': [0.8760563380281691], 'all_tasks_micro_rec': [0.8760563380281691], 'all_tasks_micro_prec': [0.8760563380281691], 'x_task': [1], 'all_tasks_weighted_prec': [0.8944460772391957]}\n",
      "total_time:  30.235608100891113\n",
      "eval_time:  2.2463290691375732\n",
      "train_time_ewc:  0.0\n",
      "train_time_si:  0.0\n",
      "train_time_lwf:  0.0\n",
      "train_time_icarl:  0.0\n",
      "train_time_gem:  0.0\n",
      "only train_time:  27.98927903175354\n",
      "args fc_lay: 1 fc_units: 64 lr: 0.001000 fc_nl: relu batch: 32\n",
      "args.device:  cpu\n",
      "\n",
      " --> task:          sensor6-class\n",
      " --> model:         LSTM([33 X 52]_c12)\n",
      " --> hyper-params:  i608-lr0.001-b32-adam\n",
      "sensor6-class--LSTM([33 X 52]_c12)--i608-lr0.001-b32-adam\n",
      "\n",
      "\n",
      "Model-name: \"LSTM([33 X 52]_c12)\"\n",
      "----------------------------------------MAIN MODEL----------------------------------------\n",
      "Classifier(\n",
      "  (flatten): Flatten()\n",
      "  (lstm_input_dropout): Dropout(p=0.2, inplace=False)\n",
      "  (lstm): LSTM(52, 64, batch_first=True)\n",
      "  (lstm_fc): Linear(in_features=64, out_features=12, bias=True)\n",
      ")\n",
      "------------------------------------------------------------------------------------------\n",
      "--> this network has 30988 parameters (~0.0 million)\n",
      "      of which: - learnable: 30988 (~0.0 million)\n",
      "                - fixed: 0 (~0.0 million)\n",
      "------------------------------------------------------------------------------------------\n",
      "\n",
      "\n",
      "--> Training:\n"
     ]
    },
    {
     "name": "stderr",
     "output_type": "stream",
     "text": [
      "  <SOLVER>   | Task: 1/6 | training loss: 0.13 | training precision: 0.969 |:  94%|█████████▍| 572/608 [00:35<00:02, 15.91it/s]  "
     ]
    },
    {
     "ename": "KeyboardInterrupt",
     "evalue": "",
     "output_type": "error",
     "traceback": [
      "\u001b[0;31m---------------------------------------------------------------------------\u001b[0m",
      "\u001b[0;31mKeyboardInterrupt\u001b[0m                         Traceback (most recent call last)",
      "\u001b[0;32m<ipython-input-2-4dd432073a65>\u001b[0m in \u001b[0;36m<module>\u001b[0;34m()\u001b[0m\n\u001b[1;32m      1\u001b[0m run_exp3_ewc_from_t0_permu(rClassD2List=class_D2_list_task2_c10_2, \n\u001b[1;32m      2\u001b[0m             \u001b[0mrDataset\u001b[0m\u001b[0;34m=\u001b[0m\u001b[0;34m'pamap2'\u001b[0m\u001b[0;34m,\u001b[0m \u001b[0mrEpoch\u001b[0m\u001b[0;34m=\u001b[0m\u001b[0;36m1\u001b[0m\u001b[0;34m,\u001b[0m \u001b[0mcuda_num\u001b[0m\u001b[0;34m=\u001b[0m\u001b[0;36m0\u001b[0m\u001b[0;34m,\u001b[0m\u001b[0;34m\u001b[0m\u001b[0m\n\u001b[0;32m----> 3\u001b[0;31m             max_num_cases=5)\n\u001b[0m",
      "\u001b[0;32m~/2ndData/_MPhil/self_study/catastrophic-forgetting/catastrophic-forgetting/continual-learning-master/main_script_wrapper.py\u001b[0m in \u001b[0;36mrun_exp3_ewc_from_t0_permu\u001b[0;34m(rClassD2List, rDataset, rEpoch, cuda_num, exp_type, subject_idx, exp_setup, max_num_cases)\u001b[0m\n\u001b[1;32m   1993\u001b[0m                             \u001b[0margs\u001b[0m\u001b[0;34m.\u001b[0m\u001b[0mset_params_eval\u001b[0m\u001b[0;34m(\u001b[0m\u001b[0miter_per_epoch\u001b[0m\u001b[0;34m)\u001b[0m\u001b[0;34m\u001b[0m\u001b[0m\n\u001b[1;32m   1994\u001b[0m                             \u001b[0margs\u001b[0m\u001b[0;34m.\u001b[0m\u001b[0mset_params_D1\u001b[0m\u001b[0;34m(\u001b[0m\u001b[0mfc_lay\u001b[0m\u001b[0;34m,\u001b[0m \u001b[0mfc_units\u001b[0m\u001b[0;34m,\u001b[0m \u001b[0mfc_nl\u001b[0m\u001b[0;34m,\u001b[0m \u001b[0mlr\u001b[0m\u001b[0;34m,\u001b[0m \u001b[0mbatch\u001b[0m\u001b[0;34m)\u001b[0m\u001b[0;34m\u001b[0m\u001b[0m\n\u001b[0;32m-> 1995\u001b[0;31m                             \u001b[0mmodel\u001b[0m\u001b[0;34m,\u001b[0m\u001b[0mprecision_dict\u001b[0m\u001b[0;34m,\u001b[0m\u001b[0mprecision_dict_exemplars\u001b[0m\u001b[0;34m=\u001b[0m\u001b[0mrun_D1orD2\u001b[0m\u001b[0;34m(\u001b[0m\u001b[0margs\u001b[0m\u001b[0;34m,\u001b[0m \u001b[0mtrain_datasets\u001b[0m\u001b[0;34m,\u001b[0m \u001b[0mtest_datasets\u001b[0m\u001b[0;34m,\u001b[0m \u001b[0mtest_total_dataset\u001b[0m\u001b[0;34m,\u001b[0m \u001b[0;32mNone\u001b[0m\u001b[0;34m)\u001b[0m\u001b[0;34m\u001b[0m\u001b[0m\n\u001b[0m\u001b[1;32m   1996\u001b[0m                             \u001b[0macc_D1_temp\u001b[0m \u001b[0;34m=\u001b[0m \u001b[0mnp\u001b[0m\u001b[0;34m.\u001b[0m\u001b[0mmax\u001b[0m\u001b[0;34m(\u001b[0m\u001b[0mprecision_dict\u001b[0m\u001b[0;34m[\u001b[0m\u001b[0;34m'all_tasks_weighted_f1'\u001b[0m\u001b[0;34m]\u001b[0m\u001b[0;34m)\u001b[0m\u001b[0;34m\u001b[0m\u001b[0m\n\u001b[1;32m   1997\u001b[0m                             \u001b[0;31m# compare with the best accuracy, store the arguments to args_D1 and store the best model\u001b[0m\u001b[0;34m\u001b[0m\u001b[0;34m\u001b[0m\u001b[0m\n",
      "\u001b[0;32m~/2ndData/_MPhil/self_study/catastrophic-forgetting/catastrophic-forgetting/continual-learning-master/main_script.py\u001b[0m in \u001b[0;36mrun_D1orD2\u001b[0;34m(args, train_datasets, test_datasets, test_total_dataset, model)\u001b[0m\n\u001b[1;32m    378\u001b[0m             \u001b[0msample_cbs\u001b[0m\u001b[0;34m=\u001b[0m\u001b[0msample_cbs\u001b[0m\u001b[0;34m,\u001b[0m \u001b[0meval_cbs\u001b[0m\u001b[0;34m=\u001b[0m\u001b[0meval_cbs\u001b[0m\u001b[0;34m,\u001b[0m \u001b[0mloss_cbs\u001b[0m\u001b[0;34m=\u001b[0m\u001b[0mgenerator_loss_cbs\u001b[0m \u001b[0;32mif\u001b[0m \u001b[0margs\u001b[0m\u001b[0;34m.\u001b[0m\u001b[0mfeedback\u001b[0m \u001b[0;32melse\u001b[0m \u001b[0msolver_loss_cbs\u001b[0m\u001b[0;34m,\u001b[0m\u001b[0;34m\u001b[0m\u001b[0m\n\u001b[1;32m    379\u001b[0m             \u001b[0meval_cbs_exemplars\u001b[0m\u001b[0;34m=\u001b[0m\u001b[0meval_cbs_exemplars\u001b[0m\u001b[0;34m,\u001b[0m \u001b[0muse_exemplars\u001b[0m\u001b[0;34m=\u001b[0m\u001b[0margs\u001b[0m\u001b[0;34m.\u001b[0m\u001b[0muse_exemplars\u001b[0m\u001b[0;34m,\u001b[0m \u001b[0madd_exemplars\u001b[0m\u001b[0;34m=\u001b[0m\u001b[0margs\u001b[0m\u001b[0;34m.\u001b[0m\u001b[0madd_exemplars\u001b[0m\u001b[0;34m,\u001b[0m\u001b[0;34m\u001b[0m\u001b[0m\n\u001b[0;32m--> 380\u001b[0;31m             \u001b[0mnum_classes_per_task_l\u001b[0m\u001b[0;34m=\u001b[0m\u001b[0margs\u001b[0m\u001b[0;34m.\u001b[0m\u001b[0mnum_classes_per_task_l\u001b[0m\u001b[0;34m,\u001b[0m \u001b[0mexperiment\u001b[0m\u001b[0;34m=\u001b[0m\u001b[0margs\u001b[0m\u001b[0;34m.\u001b[0m\u001b[0mexperiment\u001b[0m\u001b[0;34m,\u001b[0m \u001b[0mconfig\u001b[0m\u001b[0;34m=\u001b[0m\u001b[0mconfig\u001b[0m\u001b[0;34m,\u001b[0m \u001b[0margs\u001b[0m\u001b[0;34m=\u001b[0m\u001b[0margs\u001b[0m\u001b[0;34m\u001b[0m\u001b[0m\n\u001b[0m\u001b[1;32m    381\u001b[0m         )\n\u001b[1;32m    382\u001b[0m     \u001b[0;31m# if len(train_datasets) <= 3:\u001b[0m\u001b[0;34m\u001b[0m\u001b[0;34m\u001b[0m\u001b[0m\n",
      "\u001b[0;32m~/2ndData/_MPhil/self_study/catastrophic-forgetting/catastrophic-forgetting/continual-learning-master/train.py\u001b[0m in \u001b[0;36mtrain_cl\u001b[0;34m(model, train_datasets, replay_mode, scenario, classes_per_task, iters, batch_size, generator, gen_iters, gen_loss_cbs, loss_cbs, eval_cbs, sample_cbs, use_exemplars, add_exemplars, eval_cbs_exemplars, num_classes_per_task_l, experiment, config, args)\u001b[0m\n\u001b[1;32m    386\u001b[0m                 loss_dict = model.train_a_batch(x, y, x_=x_, y_=y_, scores=scores, scores_=scores_,\n\u001b[1;32m    387\u001b[0m                                                 \u001b[0mactive_classes\u001b[0m\u001b[0;34m=\u001b[0m\u001b[0mactive_classes\u001b[0m\u001b[0;34m,\u001b[0m \u001b[0mnum_classes_per_task_l\u001b[0m\u001b[0;34m=\u001b[0m\u001b[0mnum_classes_per_task_l\u001b[0m\u001b[0;34m,\u001b[0m\u001b[0;34m\u001b[0m\u001b[0m\n\u001b[0;32m--> 388\u001b[0;31m                                                 task=task, rnt = 1./task,args=args)\n\u001b[0m\u001b[1;32m    389\u001b[0m                 \u001b[0;31m# print('batch_index: ', batch_index, loss_dict)\u001b[0m\u001b[0;34m\u001b[0m\u001b[0;34m\u001b[0m\u001b[0m\n\u001b[1;32m    390\u001b[0m                 \u001b[0;31m# Update running parameter importance estimates in W\u001b[0m\u001b[0;34m\u001b[0m\u001b[0;34m\u001b[0m\u001b[0m\n",
      "\u001b[0;32m~/2ndData/_MPhil/self_study/catastrophic-forgetting/catastrophic-forgetting/continual-learning-master/encoder.py\u001b[0m in \u001b[0;36mtrain_a_batch\u001b[0;34m(self, x, y, scores, x_, y_, scores_, rnt, active_classes, num_classes_per_task_l, task, args)\u001b[0m\n\u001b[1;32m    364\u001b[0m \u001b[0;34m\u001b[0m\u001b[0m\n\u001b[1;32m    365\u001b[0m                 \u001b[0;31m# Run model\u001b[0m\u001b[0;34m\u001b[0m\u001b[0;34m\u001b[0m\u001b[0m\n\u001b[0;32m--> 366\u001b[0;31m                 \u001b[0my_hat\u001b[0m \u001b[0;34m=\u001b[0m \u001b[0mself\u001b[0m\u001b[0;34m(\u001b[0m\u001b[0mx\u001b[0m\u001b[0;34m)\u001b[0m\u001b[0;34m\u001b[0m\u001b[0m\n\u001b[0m\u001b[1;32m    367\u001b[0m                 \u001b[0;31m# -if needed, remove predictions for classes not in current task\u001b[0m\u001b[0;34m\u001b[0m\u001b[0;34m\u001b[0m\u001b[0m\n\u001b[1;32m    368\u001b[0m                 \u001b[0;32mif\u001b[0m \u001b[0mactive_classes\u001b[0m \u001b[0;32mis\u001b[0m \u001b[0;32mnot\u001b[0m \u001b[0;32mNone\u001b[0m\u001b[0;34m:\u001b[0m\u001b[0;34m\u001b[0m\u001b[0m\n",
      "\u001b[0;32m~/anaconda2/envs/py354/lib/python3.5/site-packages/torch/nn/modules/module.py\u001b[0m in \u001b[0;36m__call__\u001b[0;34m(self, *input, **kwargs)\u001b[0m\n\u001b[1;32m    545\u001b[0m             \u001b[0mresult\u001b[0m \u001b[0;34m=\u001b[0m \u001b[0mself\u001b[0m\u001b[0;34m.\u001b[0m\u001b[0m_slow_forward\u001b[0m\u001b[0;34m(\u001b[0m\u001b[0;34m*\u001b[0m\u001b[0minput\u001b[0m\u001b[0;34m,\u001b[0m \u001b[0;34m**\u001b[0m\u001b[0mkwargs\u001b[0m\u001b[0;34m)\u001b[0m\u001b[0;34m\u001b[0m\u001b[0m\n\u001b[1;32m    546\u001b[0m         \u001b[0;32melse\u001b[0m\u001b[0;34m:\u001b[0m\u001b[0;34m\u001b[0m\u001b[0m\n\u001b[0;32m--> 547\u001b[0;31m             \u001b[0mresult\u001b[0m \u001b[0;34m=\u001b[0m \u001b[0mself\u001b[0m\u001b[0;34m.\u001b[0m\u001b[0mforward\u001b[0m\u001b[0;34m(\u001b[0m\u001b[0;34m*\u001b[0m\u001b[0minput\u001b[0m\u001b[0;34m,\u001b[0m \u001b[0;34m**\u001b[0m\u001b[0mkwargs\u001b[0m\u001b[0;34m)\u001b[0m\u001b[0;34m\u001b[0m\u001b[0m\n\u001b[0m\u001b[1;32m    548\u001b[0m         \u001b[0;32mfor\u001b[0m \u001b[0mhook\u001b[0m \u001b[0;32min\u001b[0m \u001b[0mself\u001b[0m\u001b[0;34m.\u001b[0m\u001b[0m_forward_hooks\u001b[0m\u001b[0;34m.\u001b[0m\u001b[0mvalues\u001b[0m\u001b[0;34m(\u001b[0m\u001b[0;34m)\u001b[0m\u001b[0;34m:\u001b[0m\u001b[0;34m\u001b[0m\u001b[0m\n\u001b[1;32m    549\u001b[0m             \u001b[0mhook_result\u001b[0m \u001b[0;34m=\u001b[0m \u001b[0mhook\u001b[0m\u001b[0;34m(\u001b[0m\u001b[0mself\u001b[0m\u001b[0;34m,\u001b[0m \u001b[0minput\u001b[0m\u001b[0;34m,\u001b[0m \u001b[0mresult\u001b[0m\u001b[0;34m)\u001b[0m\u001b[0;34m\u001b[0m\u001b[0m\n",
      "\u001b[0;32m~/2ndData/_MPhil/self_study/catastrophic-forgetting/catastrophic-forgetting/continual-learning-master/encoder.py\u001b[0m in \u001b[0;36mforward\u001b[0;34m(self, x)\u001b[0m\n\u001b[1;32m    211\u001b[0m             \u001b[0mx\u001b[0m \u001b[0;34m=\u001b[0m \u001b[0mself\u001b[0m\u001b[0;34m.\u001b[0m\u001b[0mlstm_input_dropout\u001b[0m\u001b[0;34m(\u001b[0m\u001b[0mx\u001b[0m\u001b[0;34m)\u001b[0m\u001b[0;34m\u001b[0m\u001b[0m\n\u001b[1;32m    212\u001b[0m             \u001b[0mh0\u001b[0m\u001b[0;34m,\u001b[0m \u001b[0mc0\u001b[0m \u001b[0;34m=\u001b[0m \u001b[0mself\u001b[0m\u001b[0;34m.\u001b[0m\u001b[0minit_hidden\u001b[0m\u001b[0;34m(\u001b[0m\u001b[0mx\u001b[0m\u001b[0;34m)\u001b[0m\u001b[0;34m\u001b[0m\u001b[0m\n\u001b[0;32m--> 213\u001b[0;31m             \u001b[0mout\u001b[0m\u001b[0;34m,\u001b[0m \u001b[0;34m(\u001b[0m\u001b[0mhn\u001b[0m\u001b[0;34m,\u001b[0m \u001b[0mcn\u001b[0m\u001b[0;34m)\u001b[0m \u001b[0;34m=\u001b[0m \u001b[0mself\u001b[0m\u001b[0;34m.\u001b[0m\u001b[0mlstm\u001b[0m\u001b[0;34m(\u001b[0m\u001b[0mx\u001b[0m\u001b[0;34m,\u001b[0m \u001b[0;34m(\u001b[0m\u001b[0mh0\u001b[0m\u001b[0;34m,\u001b[0m \u001b[0mc0\u001b[0m\u001b[0;34m)\u001b[0m\u001b[0;34m)\u001b[0m\u001b[0;34m\u001b[0m\u001b[0m\n\u001b[0m\u001b[1;32m    214\u001b[0m             \u001b[0;32mreturn\u001b[0m \u001b[0mself\u001b[0m\u001b[0;34m.\u001b[0m\u001b[0mlstm_fc\u001b[0m\u001b[0;34m(\u001b[0m\u001b[0mout\u001b[0m\u001b[0;34m[\u001b[0m\u001b[0;34m:\u001b[0m\u001b[0;34m,\u001b[0m \u001b[0;34m-\u001b[0m\u001b[0;36m1\u001b[0m\u001b[0;34m,\u001b[0m \u001b[0;34m:\u001b[0m\u001b[0;34m]\u001b[0m\u001b[0;34m)\u001b[0m\u001b[0;34m\u001b[0m\u001b[0m\n\u001b[1;32m    215\u001b[0m             \u001b[0;31m# lstm_out, hidden = self.lstm(x)\u001b[0m\u001b[0;34m\u001b[0m\u001b[0;34m\u001b[0m\u001b[0m\n",
      "\u001b[0;32m~/anaconda2/envs/py354/lib/python3.5/site-packages/torch/nn/modules/module.py\u001b[0m in \u001b[0;36m__call__\u001b[0;34m(self, *input, **kwargs)\u001b[0m\n\u001b[1;32m    545\u001b[0m             \u001b[0mresult\u001b[0m \u001b[0;34m=\u001b[0m \u001b[0mself\u001b[0m\u001b[0;34m.\u001b[0m\u001b[0m_slow_forward\u001b[0m\u001b[0;34m(\u001b[0m\u001b[0;34m*\u001b[0m\u001b[0minput\u001b[0m\u001b[0;34m,\u001b[0m \u001b[0;34m**\u001b[0m\u001b[0mkwargs\u001b[0m\u001b[0;34m)\u001b[0m\u001b[0;34m\u001b[0m\u001b[0m\n\u001b[1;32m    546\u001b[0m         \u001b[0;32melse\u001b[0m\u001b[0;34m:\u001b[0m\u001b[0;34m\u001b[0m\u001b[0m\n\u001b[0;32m--> 547\u001b[0;31m             \u001b[0mresult\u001b[0m \u001b[0;34m=\u001b[0m \u001b[0mself\u001b[0m\u001b[0;34m.\u001b[0m\u001b[0mforward\u001b[0m\u001b[0;34m(\u001b[0m\u001b[0;34m*\u001b[0m\u001b[0minput\u001b[0m\u001b[0;34m,\u001b[0m \u001b[0;34m**\u001b[0m\u001b[0mkwargs\u001b[0m\u001b[0;34m)\u001b[0m\u001b[0;34m\u001b[0m\u001b[0m\n\u001b[0m\u001b[1;32m    548\u001b[0m         \u001b[0;32mfor\u001b[0m \u001b[0mhook\u001b[0m \u001b[0;32min\u001b[0m \u001b[0mself\u001b[0m\u001b[0;34m.\u001b[0m\u001b[0m_forward_hooks\u001b[0m\u001b[0;34m.\u001b[0m\u001b[0mvalues\u001b[0m\u001b[0;34m(\u001b[0m\u001b[0;34m)\u001b[0m\u001b[0;34m:\u001b[0m\u001b[0;34m\u001b[0m\u001b[0m\n\u001b[1;32m    549\u001b[0m             \u001b[0mhook_result\u001b[0m \u001b[0;34m=\u001b[0m \u001b[0mhook\u001b[0m\u001b[0;34m(\u001b[0m\u001b[0mself\u001b[0m\u001b[0;34m,\u001b[0m \u001b[0minput\u001b[0m\u001b[0;34m,\u001b[0m \u001b[0mresult\u001b[0m\u001b[0;34m)\u001b[0m\u001b[0;34m\u001b[0m\u001b[0m\n",
      "\u001b[0;32m~/anaconda2/envs/py354/lib/python3.5/site-packages/torch/nn/modules/rnn.py\u001b[0m in \u001b[0;36mforward\u001b[0;34m(self, input, hx)\u001b[0m\n\u001b[1;32m    562\u001b[0m             \u001b[0;32mreturn\u001b[0m \u001b[0mself\u001b[0m\u001b[0;34m.\u001b[0m\u001b[0mforward_packed\u001b[0m\u001b[0;34m(\u001b[0m\u001b[0minput\u001b[0m\u001b[0;34m,\u001b[0m \u001b[0mhx\u001b[0m\u001b[0;34m)\u001b[0m\u001b[0;34m\u001b[0m\u001b[0m\n\u001b[1;32m    563\u001b[0m         \u001b[0;32melse\u001b[0m\u001b[0;34m:\u001b[0m\u001b[0;34m\u001b[0m\u001b[0m\n\u001b[0;32m--> 564\u001b[0;31m             \u001b[0;32mreturn\u001b[0m \u001b[0mself\u001b[0m\u001b[0;34m.\u001b[0m\u001b[0mforward_tensor\u001b[0m\u001b[0;34m(\u001b[0m\u001b[0minput\u001b[0m\u001b[0;34m,\u001b[0m \u001b[0mhx\u001b[0m\u001b[0;34m)\u001b[0m\u001b[0;34m\u001b[0m\u001b[0m\n\u001b[0m\u001b[1;32m    565\u001b[0m \u001b[0;34m\u001b[0m\u001b[0m\n\u001b[1;32m    566\u001b[0m \u001b[0;32mclass\u001b[0m \u001b[0mGRU\u001b[0m\u001b[0;34m(\u001b[0m\u001b[0mRNNBase\u001b[0m\u001b[0;34m)\u001b[0m\u001b[0;34m:\u001b[0m\u001b[0;34m\u001b[0m\u001b[0m\n",
      "\u001b[0;32m~/anaconda2/envs/py354/lib/python3.5/site-packages/torch/nn/modules/rnn.py\u001b[0m in \u001b[0;36mforward_tensor\u001b[0;34m(self, input, hx)\u001b[0m\n\u001b[1;32m    541\u001b[0m         \u001b[0munsorted_indices\u001b[0m \u001b[0;34m=\u001b[0m \u001b[0;32mNone\u001b[0m\u001b[0;34m\u001b[0m\u001b[0m\n\u001b[1;32m    542\u001b[0m \u001b[0;34m\u001b[0m\u001b[0m\n\u001b[0;32m--> 543\u001b[0;31m         \u001b[0moutput\u001b[0m\u001b[0;34m,\u001b[0m \u001b[0mhidden\u001b[0m \u001b[0;34m=\u001b[0m \u001b[0mself\u001b[0m\u001b[0;34m.\u001b[0m\u001b[0mforward_impl\u001b[0m\u001b[0;34m(\u001b[0m\u001b[0minput\u001b[0m\u001b[0;34m,\u001b[0m \u001b[0mhx\u001b[0m\u001b[0;34m,\u001b[0m \u001b[0mbatch_sizes\u001b[0m\u001b[0;34m,\u001b[0m \u001b[0mmax_batch_size\u001b[0m\u001b[0;34m,\u001b[0m \u001b[0msorted_indices\u001b[0m\u001b[0;34m)\u001b[0m\u001b[0;34m\u001b[0m\u001b[0m\n\u001b[0m\u001b[1;32m    544\u001b[0m \u001b[0;34m\u001b[0m\u001b[0m\n\u001b[1;32m    545\u001b[0m         \u001b[0;32mreturn\u001b[0m \u001b[0moutput\u001b[0m\u001b[0;34m,\u001b[0m \u001b[0mself\u001b[0m\u001b[0;34m.\u001b[0m\u001b[0mpermute_hidden\u001b[0m\u001b[0;34m(\u001b[0m\u001b[0mhidden\u001b[0m\u001b[0;34m,\u001b[0m \u001b[0munsorted_indices\u001b[0m\u001b[0;34m)\u001b[0m\u001b[0;34m\u001b[0m\u001b[0m\n",
      "\u001b[0;32m~/anaconda2/envs/py354/lib/python3.5/site-packages/torch/nn/modules/rnn.py\u001b[0m in \u001b[0;36mforward_impl\u001b[0;34m(self, input, hx, batch_sizes, max_batch_size, sorted_indices)\u001b[0m\n\u001b[1;32m    524\u001b[0m         \u001b[0;32mif\u001b[0m \u001b[0mbatch_sizes\u001b[0m \u001b[0;32mis\u001b[0m \u001b[0;32mNone\u001b[0m\u001b[0;34m:\u001b[0m\u001b[0;34m\u001b[0m\u001b[0m\n\u001b[1;32m    525\u001b[0m             result = _VF.lstm(input, hx, self._get_flat_weights(), self.bias, self.num_layers,\n\u001b[0;32m--> 526\u001b[0;31m                               self.dropout, self.training, self.bidirectional, self.batch_first)\n\u001b[0m\u001b[1;32m    527\u001b[0m         \u001b[0;32melse\u001b[0m\u001b[0;34m:\u001b[0m\u001b[0;34m\u001b[0m\u001b[0m\n\u001b[1;32m    528\u001b[0m             result = _VF.lstm(input, batch_sizes, hx, self._get_flat_weights(), self.bias,\n",
      "\u001b[0;31mKeyboardInterrupt\u001b[0m: "
     ]
    },
    {
     "name": "stderr",
     "output_type": "stream",
     "text": [
      "\r",
      "  <SOLVER>   | Task: 1/6 | training loss: 0.13 | training precision: 0.969 |:  94%|█████████▍| 572/608 [00:50<00:02, 15.91it/s]"
     ]
    }
   ],
   "source": [
    "run_exp3_ewc_from_t0_permu(rClassD2List=class_D2_list_task2_c10_2, \n",
    "            rDataset='pamap2', rEpoch=1, cuda_num=0,\n",
    "            max_num_cases=5)"
   ]
  },
  {
   "cell_type": "code",
   "execution_count": null,
   "metadata": {},
   "outputs": [],
   "source": []
  }
 ],
 "metadata": {
  "kernelspec": {
   "display_name": "Python (py354)",
   "language": "python",
   "name": "py354"
  },
  "language_info": {
   "codemirror_mode": {
    "name": "ipython",
    "version": 3
   },
   "file_extension": ".py",
   "mimetype": "text/x-python",
   "name": "python",
   "nbconvert_exporter": "python",
   "pygments_lexer": "ipython3",
   "version": "3.5.4"
  }
 },
 "nbformat": 4,
 "nbformat_minor": 2
}
