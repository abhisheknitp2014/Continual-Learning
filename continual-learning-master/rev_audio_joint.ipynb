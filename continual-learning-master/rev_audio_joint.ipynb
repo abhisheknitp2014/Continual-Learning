{
 "cells": [
  {
   "cell_type": "code",
   "execution_count": 1,
   "metadata": {},
   "outputs": [],
   "source": [
    "%matplotlib inline\n",
    "from rev_main_script_wrapper import *"
   ]
  },
  {
   "cell_type": "code",
   "execution_count": null,
   "metadata": {},
   "outputs": [],
   "source": [
    "run_exp_joint(class_D2_list_task1_c6, 'hhar-noaug', 40, 0)"
   ]
  },
  {
   "cell_type": "code",
   "execution_count": 4,
   "metadata": {
    "scrolled": true
   },
   "outputs": [
    {
     "name": "stderr",
     "output_type": "stream",
     "text": [
      "  <SOLVER>   | Task: 1/1 | training loss: 2.68 | training precision: 0.0625 |:   0%|          | 4/9450 [00:00<04:51, 32.40it/s]"
     ]
    },
    {
     "name": "stdout",
     "output_type": "stream",
     "text": [
      "The shape of the train dataset is 24, and the labels is 89400\n",
      "The shape of the val dataset is 24, and the labels is 11150\n",
      "The shape of the test dataset is 24, and the labels is 11200\n",
      "class: 1 , counts: 174\n",
      "class: 12 , counts: 78\n",
      "class: 0 , counts: 94\n",
      "class: 5 , counts: 263\n",
      "class: 8 , counts: 75\n",
      "class: 2 , counts: 250\n",
      "class: 13 , counts: 107\n",
      "class: 7 , counts: 224\n",
      "class: 4 , counts: 113\n",
      "class: 9 , counts: 75\n",
      "class: 6 , counts: 120\n",
      "class: 3 , counts: 254\n",
      "class: 10 , counts: 99\n",
      "class: 11 , counts: 85\n",
      "Total sum of train labels :  2011\n",
      "class: 3 , counts: 26\n",
      "class: 4 , counts: 14\n",
      "class: 2 , counts: 20\n",
      "class: 6 , counts: 14\n",
      "class: 0 , counts: 9\n",
      "class: 1 , counts: 24\n",
      "class: 9 , counts: 6\n",
      "class: 5 , counts: 25\n",
      "class: 10 , counts: 16\n",
      "class: 7 , counts: 25\n",
      "class: 12 , counts: 10\n",
      "class: 13 , counts: 16\n",
      "class: 11 , counts: 11\n",
      "class: 8 , counts: 8\n",
      "Total sum of test labels :  224\n",
      "total data size of test_total is 224\n",
      "total data size of train_D1 is 2011\n",
      "total data size of test_D1 is 224\n",
      "args fc_lay: 1 fc_units: 64 lr: 0.001000 fc_nl: relu batch: 32\n",
      "args.device:  cpu\n",
      "\n",
      " --> task:          sensor1-class\n",
      " --> model:         LSTM([50 X 24]_c14)\n",
      " --> hyper-params:  i9450-lr0.001-b32-adam\n",
      "sensor1-class--LSTM([50 X 24]_c14)--i9450-lr0.001-b32-adam\n",
      "\n",
      "\n",
      "Model-name: \"LSTM([50 X 24]_c14)\"\n",
      "----------------------------------------MAIN MODEL----------------------------------------\n",
      "Classifier(\n",
      "  (flatten): Flatten()\n",
      "  (lstm_input_dropout): Dropout(p=0.2, inplace=False)\n",
      "  (lstm): LSTM(24, 64, batch_first=True)\n",
      "  (lstm_fc): Linear(in_features=64, out_features=14, bias=True)\n",
      ")\n",
      "------------------------------------------------------------------------------------------\n",
      "--> this network has 23950 parameters (~0.0 million)\n",
      "      of which: - learnable: 23950 (~0.0 million)\n",
      "                - fixed: 0 (~0.0 million)\n",
      "------------------------------------------------------------------------------------------\n",
      "\n",
      "\n",
      "--> Training:\n"
     ]
    },
    {
     "name": "stderr",
     "output_type": "stream",
     "text": [
      "  <SOLVER>   | Task: 1/1 | training loss: 2.55 | training precision: 0.219 |:   1%|          | 66/9450 [00:01<05:06, 30.62it/s] "
     ]
    },
    {
     "name": "stdout",
     "output_type": "stream",
     "text": [
      "allowed_classes_set:  {0, 1, 2, 3, 4, 5, 6, 7, 8, 9, 10, 11, 12, 13}\n",
      "Epoch 1 best model saved with weighted f1: 0.10819710019602742, accuracy: 0.15625, loss 2.581001043319702\n"
     ]
    },
    {
     "name": "stderr",
     "output_type": "stream",
     "text": [
      "  <SOLVER>   | Task: 1/1 | training loss: 2.46 | training precision: 0.125 |:   1%|▏         | 128/9450 [00:03<05:54, 26.28it/s]"
     ]
    },
    {
     "name": "stdout",
     "output_type": "stream",
     "text": [
      "allowed_classes_set:  {0, 1, 2, 3, 4, 5, 6, 7, 8, 9, 10, 11, 12, 13}\n",
      "Epoch 2 best model saved with weighted f1: 0.11276728169859422, accuracy: 0.17410714285714285, loss 2.3242669105529785\n"
     ]
    },
    {
     "name": "stderr",
     "output_type": "stream",
     "text": [
      "  <SOLVER>   | Task: 1/1 | training loss: 2.28 | training precision: 0.375 |:   2%|▏         | 190/9450 [00:06<06:53, 22.42it/s] "
     ]
    },
    {
     "name": "stdout",
     "output_type": "stream",
     "text": [
      "allowed_classes_set:  {0, 1, 2, 3, 4, 5, 6, 7, 8, 9, 10, 11, 12, 13}\n",
      "Epoch 3 best model saved with weighted f1: 0.12306612144170047, accuracy: 0.19642857142857142, loss 2.255880832672119\n"
     ]
    },
    {
     "name": "stderr",
     "output_type": "stream",
     "text": [
      "  <SOLVER>   | Task: 1/1 | training loss: 2.2 | training precision: 0.281 |:   3%|▎         | 255/9450 [00:08<08:29, 18.06it/s] "
     ]
    },
    {
     "name": "stdout",
     "output_type": "stream",
     "text": [
      "allowed_classes_set:  {0, 1, 2, 3, 4, 5, 6, 7, 8, 9, 10, 11, 12, 13}\n",
      "Epoch 4 best model saved with weighted f1: 0.13744110411178878, accuracy: 0.21428571428571427, loss 2.325683355331421\n"
     ]
    },
    {
     "name": "stderr",
     "output_type": "stream",
     "text": [
      "  <SOLVER>   | Task: 1/1 | training loss: 2.22 | training precision: 0.281 |:   3%|▎         | 320/9450 [00:11<05:27, 27.89it/s] "
     ]
    },
    {
     "name": "stdout",
     "output_type": "stream",
     "text": [
      "allowed_classes_set:  {0, 1, 2, 3, 4, 5, 6, 7, 8, 9, 10, 11, 12, 13}\n"
     ]
    },
    {
     "name": "stderr",
     "output_type": "stream",
     "text": [
      "  <SOLVER>   | Task: 1/1 | training loss: 2.3 | training precision: 0.219 |:   4%|▍         | 378/9450 [00:13<05:40, 26.64it/s]  "
     ]
    },
    {
     "name": "stdout",
     "output_type": "stream",
     "text": [
      "allowed_classes_set:  {0, 1, 2, 3, 4, 5, 6, 7, 8, 9, 10, 11, 12, 13}\n",
      "Epoch 6 best model saved with weighted f1: 0.1451467138966435, accuracy: 0.21428571428571427, loss 2.2443385124206543\n"
     ]
    },
    {
     "name": "stderr",
     "output_type": "stream",
     "text": [
      "  <SOLVER>   | Task: 1/1 | training loss: 2.29 | training precision: 0.375 |:   5%|▍         | 444/9450 [00:16<06:42, 22.40it/s] "
     ]
    },
    {
     "name": "stdout",
     "output_type": "stream",
     "text": [
      "allowed_classes_set:  {0, 1, 2, 3, 4, 5, 6, 7, 8, 9, 10, 11, 12, 13}\n",
      "Epoch 7 best model saved with weighted f1: 0.20838974005365324, accuracy: 0.25, loss 2.1610946655273438\n"
     ]
    },
    {
     "name": "stderr",
     "output_type": "stream",
     "text": [
      "  <SOLVER>   | Task: 1/1 | training loss: 2.0 | training precision: 0.344 |:   5%|▌         | 505/9450 [00:19<10:12, 14.60it/s] "
     ]
    },
    {
     "name": "stdout",
     "output_type": "stream",
     "text": [
      "allowed_classes_set:  {0, 1, 2, 3, 4, 5, 6, 7, 8, 9, 10, 11, 12, 13}\n"
     ]
    },
    {
     "name": "stderr",
     "output_type": "stream",
     "text": [
      "  <SOLVER>   | Task: 1/1 | training loss: 2.18 | training precision: 0.281 |:   6%|▌         | 569/9450 [00:23<07:55, 18.67it/s]"
     ]
    },
    {
     "name": "stdout",
     "output_type": "stream",
     "text": [
      "allowed_classes_set:  {0, 1, 2, 3, 4, 5, 6, 7, 8, 9, 10, 11, 12, 13}\n"
     ]
    },
    {
     "name": "stderr",
     "output_type": "stream",
     "text": [
      "  <SOLVER>   | Task: 1/1 | training loss: 2.0 | training precision: 0.312 |:   7%|▋         | 632/9450 [00:24<03:59, 36.77it/s] "
     ]
    },
    {
     "name": "stdout",
     "output_type": "stream",
     "text": [
      "allowed_classes_set:  {0, 1, 2, 3, 4, 5, 6, 7, 8, 9, 10, 11, 12, 13}\n",
      "Epoch 10 best model saved with weighted f1: 0.21904081160840264, accuracy: 0.2544642857142857, loss 1.9108812808990479\n"
     ]
    },
    {
     "name": "stderr",
     "output_type": "stream",
     "text": [
      "  <SOLVER>   | Task: 1/1 | training loss: 2.03 | training precision: 0.219 |:   7%|▋         | 696/9450 [00:26<05:26, 26.81it/s]"
     ]
    },
    {
     "name": "stdout",
     "output_type": "stream",
     "text": [
      "allowed_classes_set:  {0, 1, 2, 3, 4, 5, 6, 7, 8, 9, 10, 11, 12, 13}\n"
     ]
    },
    {
     "name": "stderr",
     "output_type": "stream",
     "text": [
      "  <SOLVER>   | Task: 1/1 | training loss: 2.01 | training precision: 0.406 |:   8%|▊         | 757/9450 [00:28<04:16, 33.84it/s]"
     ]
    },
    {
     "name": "stdout",
     "output_type": "stream",
     "text": [
      "allowed_classes_set:  {0, 1, 2, 3, 4, 5, 6, 7, 8, 9, 10, 11, 12, 13}\n",
      "Epoch 12 best model saved with weighted f1: 0.23539453289571272, accuracy: 0.28125, loss 1.9844942092895508\n"
     ]
    },
    {
     "name": "stderr",
     "output_type": "stream",
     "text": [
      "  <SOLVER>   | Task: 1/1 | training loss: 2.0 | training precision: 0.375 |:   9%|▊         | 821/9450 [00:31<06:38, 21.63it/s] "
     ]
    },
    {
     "name": "stdout",
     "output_type": "stream",
     "text": [
      "allowed_classes_set:  {0, 1, 2, 3, 4, 5, 6, 7, 8, 9, 10, 11, 12, 13}\n",
      "Epoch 13 best model saved with weighted f1: 0.24789691265757116, accuracy: 0.28125, loss 1.8266422748565674\n"
     ]
    },
    {
     "name": "stderr",
     "output_type": "stream",
     "text": [
      "  <SOLVER>   | Task: 1/1 | training loss: 2.03 | training precision: 0.438 |:   9%|▉         | 885/9450 [00:33<05:25, 26.34it/s]"
     ]
    },
    {
     "name": "stdout",
     "output_type": "stream",
     "text": [
      "allowed_classes_set:  {0, 1, 2, 3, 4, 5, 6, 7, 8, 9, 10, 11, 12, 13}\n",
      "Epoch 14 best model saved with weighted f1: 0.27589208943873755, accuracy: 0.3169642857142857, loss 2.1553804874420166\n"
     ]
    },
    {
     "name": "stderr",
     "output_type": "stream",
     "text": [
      "  <SOLVER>   | Task: 1/1 | training loss: 2.0 | training precision: 0.375 |:  10%|█         | 949/9450 [00:35<05:31, 25.67it/s] "
     ]
    },
    {
     "name": "stdout",
     "output_type": "stream",
     "text": [
      "allowed_classes_set:  {0, 1, 2, 3, 4, 5, 6, 7, 8, 9, 10, 11, 12, 13}\n"
     ]
    },
    {
     "name": "stderr",
     "output_type": "stream",
     "text": [
      "  <SOLVER>   | Task: 1/1 | training loss: 1.81 | training precision: 0.344 |:  11%|█         | 1011/9450 [00:37<05:51, 23.99it/s]"
     ]
    },
    {
     "name": "stdout",
     "output_type": "stream",
     "text": [
      "allowed_classes_set:  {0, 1, 2, 3, 4, 5, 6, 7, 8, 9, 10, 11, 12, 13}\n"
     ]
    },
    {
     "name": "stderr",
     "output_type": "stream",
     "text": [
      "  <SOLVER>   | Task: 1/1 | training loss: 2.0 | training precision: 0.375 |:  11%|█▏        | 1072/9450 [00:40<05:10, 26.99it/s] "
     ]
    },
    {
     "name": "stdout",
     "output_type": "stream",
     "text": [
      "allowed_classes_set:  {0, 1, 2, 3, 4, 5, 6, 7, 8, 9, 10, 11, 12, 13}\n",
      "Epoch 17 best model saved with weighted f1: 0.2837931199139753, accuracy: 0.3169642857142857, loss 1.9902352094650269\n"
     ]
    },
    {
     "name": "stderr",
     "output_type": "stream",
     "text": [
      "  <SOLVER>   | Task: 1/1 | training loss: 2.11 | training precision: 0.188 |:  12%|█▏        | 1135/9450 [00:42<06:30, 21.31it/s]"
     ]
    },
    {
     "name": "stdout",
     "output_type": "stream",
     "text": [
      "allowed_classes_set:  {0, 1, 2, 3, 4, 5, 6, 7, 8, 9, 10, 11, 12, 13}\n",
      "Epoch 18 best model saved with weighted f1: 0.2961554679998371, accuracy: 0.32142857142857145, loss 1.7567777633666992\n"
     ]
    },
    {
     "name": "stderr",
     "output_type": "stream",
     "text": [
      "  <SOLVER>   | Task: 1/1 | training loss: 1.9 | training precision: 0.406 |:  13%|█▎        | 1198/9450 [00:44<04:38, 29.59it/s] "
     ]
    },
    {
     "name": "stdout",
     "output_type": "stream",
     "text": [
      "allowed_classes_set:  {0, 1, 2, 3, 4, 5, 6, 7, 8, 9, 10, 11, 12, 13}\n",
      "Epoch 19 best model saved with weighted f1: 0.30701000461347594, accuracy: 0.33035714285714285, loss 1.7505362033843994\n"
     ]
    },
    {
     "name": "stderr",
     "output_type": "stream",
     "text": [
      "  <SOLVER>   | Task: 1/1 | training loss: 1.68 | training precision: 0.469 |:  13%|█▎        | 1262/9450 [00:47<08:00, 17.04it/s]"
     ]
    },
    {
     "name": "stdout",
     "output_type": "stream",
     "text": [
      "allowed_classes_set:  {0, 1, 2, 3, 4, 5, 6, 7, 8, 9, 10, 11, 12, 13}\n",
      "Epoch 20 best model saved with weighted f1: 0.31326951333220704, accuracy: 0.34375, loss 1.7596949338912964\n"
     ]
    },
    {
     "name": "stderr",
     "output_type": "stream",
     "text": [
      "  <SOLVER>   | Task: 1/1 | training loss: 2.0 | training precision: 0.25 |:  14%|█▍        | 1326/9450 [00:49<05:20, 25.32it/s]  "
     ]
    },
    {
     "name": "stdout",
     "output_type": "stream",
     "text": [
      "allowed_classes_set:  {0, 1, 2, 3, 4, 5, 6, 7, 8, 9, 10, 11, 12, 13}\n"
     ]
    },
    {
     "name": "stderr",
     "output_type": "stream",
     "text": [
      "  <SOLVER>   | Task: 1/1 | training loss: 2.0 | training precision: 0.281 |:  15%|█▍        | 1387/9450 [00:52<05:24, 24.84it/s] "
     ]
    },
    {
     "name": "stdout",
     "output_type": "stream",
     "text": [
      "allowed_classes_set:  {0, 1, 2, 3, 4, 5, 6, 7, 8, 9, 10, 11, 12, 13}\n",
      "Epoch 22 best model saved with weighted f1: 0.3432534654602119, accuracy: 0.35267857142857145, loss 1.6625059843063354\n"
     ]
    },
    {
     "name": "stderr",
     "output_type": "stream",
     "text": [
      "  <SOLVER>   | Task: 1/1 | training loss: 1.74 | training precision: 0.406 |:  15%|█▌        | 1454/9450 [00:54<04:37, 28.86it/s]"
     ]
    },
    {
     "name": "stdout",
     "output_type": "stream",
     "text": [
      "allowed_classes_set:  {0, 1, 2, 3, 4, 5, 6, 7, 8, 9, 10, 11, 12, 13}\n"
     ]
    },
    {
     "name": "stderr",
     "output_type": "stream",
     "text": [
      "  <SOLVER>   | Task: 1/1 | training loss: 1.88 | training precision: 0.375 |:  16%|█▌        | 1517/9450 [00:56<03:55, 33.75it/s]"
     ]
    },
    {
     "name": "stdout",
     "output_type": "stream",
     "text": [
      "allowed_classes_set:  {0, 1, 2, 3, 4, 5, 6, 7, 8, 9, 10, 11, 12, 13}\n"
     ]
    },
    {
     "name": "stderr",
     "output_type": "stream",
     "text": [
      "  <SOLVER>   | Task: 1/1 | training loss: 1.87 | training precision: 0.375 |:  17%|█▋        | 1581/9450 [00:58<04:06, 31.87it/s]"
     ]
    },
    {
     "name": "stdout",
     "output_type": "stream",
     "text": [
      "allowed_classes_set:  {0, 1, 2, 3, 4, 5, 6, 7, 8, 9, 10, 11, 12, 13}\n"
     ]
    },
    {
     "name": "stderr",
     "output_type": "stream",
     "text": [
      "  <SOLVER>   | Task: 1/1 | training loss: 1.82 | training precision: 0.469 |:  17%|█▋        | 1643/9450 [01:00<02:57, 43.98it/s]"
     ]
    },
    {
     "name": "stdout",
     "output_type": "stream",
     "text": [
      "allowed_classes_set:  {0, 1, 2, 3, 4, 5, 6, 7, 8, 9, 10, 11, 12, 13}\n"
     ]
    },
    {
     "name": "stderr",
     "output_type": "stream",
     "text": [
      "  <SOLVER>   | Task: 1/1 | training loss: 1.94 | training precision: 0.375 |:  18%|█▊        | 1705/9450 [01:02<03:37, 35.57it/s]"
     ]
    },
    {
     "name": "stdout",
     "output_type": "stream",
     "text": [
      "allowed_classes_set:  {0, 1, 2, 3, 4, 5, 6, 7, 8, 9, 10, 11, 12, 13}\n",
      "Epoch 27 best model saved with weighted f1: 0.34930224801154297, accuracy: 0.35267857142857145, loss 1.9241454601287842\n"
     ]
    },
    {
     "name": "stderr",
     "output_type": "stream",
     "text": [
      "  <SOLVER>   | Task: 1/1 | training loss: 1.73 | training precision: 0.375 |:  19%|█▊        | 1767/9450 [01:04<05:36, 22.87it/s]"
     ]
    },
    {
     "name": "stdout",
     "output_type": "stream",
     "text": [
      "allowed_classes_set:  {0, 1, 2, 3, 4, 5, 6, 7, 8, 9, 10, 11, 12, 13}\n"
     ]
    },
    {
     "name": "stderr",
     "output_type": "stream",
     "text": [
      "  <SOLVER>   | Task: 1/1 | training loss: 1.53 | training precision: 0.406 |:  19%|█▉        | 1829/9450 [01:06<06:34, 19.31it/s]"
     ]
    },
    {
     "name": "stdout",
     "output_type": "stream",
     "text": [
      "allowed_classes_set:  {0, 1, 2, 3, 4, 5, 6, 7, 8, 9, 10, 11, 12, 13}\n",
      "Epoch 29 best model saved with weighted f1: 0.39032415390028496, accuracy: 0.40625, loss 1.5439586639404297\n"
     ]
    },
    {
     "name": "stderr",
     "output_type": "stream",
     "text": [
      "  <SOLVER>   | Task: 1/1 | training loss: 1.96 | training precision: 0.312 |:  20%|██        | 1895/9450 [01:09<05:35, 22.50it/s]"
     ]
    },
    {
     "name": "stdout",
     "output_type": "stream",
     "text": [
      "allowed_classes_set:  {0, 1, 2, 3, 4, 5, 6, 7, 8, 9, 10, 11, 12, 13}\n"
     ]
    },
    {
     "name": "stderr",
     "output_type": "stream",
     "text": [
      "  <SOLVER>   | Task: 1/1 | training loss: 1.77 | training precision: 0.438 |:  21%|██        | 1957/9450 [01:12<04:32, 27.50it/s]"
     ]
    },
    {
     "name": "stdout",
     "output_type": "stream",
     "text": [
      "allowed_classes_set:  {0, 1, 2, 3, 4, 5, 6, 7, 8, 9, 10, 11, 12, 13}\n"
     ]
    },
    {
     "name": "stderr",
     "output_type": "stream",
     "text": [
      "  <SOLVER>   | Task: 1/1 | training loss: 1.94 | training precision: 0.375 |:  21%|██▏       | 2022/9450 [01:14<03:29, 35.41it/s]"
     ]
    },
    {
     "name": "stdout",
     "output_type": "stream",
     "text": [
      "allowed_classes_set:  {0, 1, 2, 3, 4, 5, 6, 7, 8, 9, 10, 11, 12, 13}\n"
     ]
    },
    {
     "name": "stderr",
     "output_type": "stream",
     "text": [
      "  <SOLVER>   | Task: 1/1 | training loss: 1.51 | training precision: 0.5 |:  22%|██▏       | 2084/9450 [01:16<03:20, 36.77it/s]  "
     ]
    },
    {
     "name": "stdout",
     "output_type": "stream",
     "text": [
      "allowed_classes_set:  {0, 1, 2, 3, 4, 5, 6, 7, 8, 9, 10, 11, 12, 13}\n"
     ]
    },
    {
     "name": "stderr",
     "output_type": "stream",
     "text": [
      "  <SOLVER>   | Task: 1/1 | training loss: 1.56 | training precision: 0.5 |:  23%|██▎       | 2151/9450 [01:17<02:49, 43.15it/s]  "
     ]
    },
    {
     "name": "stdout",
     "output_type": "stream",
     "text": [
      "allowed_classes_set:  {0, 1, 2, 3, 4, 5, 6, 7, 8, 9, 10, 11, 12, 13}\n"
     ]
    },
    {
     "name": "stderr",
     "output_type": "stream",
     "text": [
      "  <SOLVER>   | Task: 1/1 | training loss: 1.45 | training precision: 0.594 |:  23%|██▎       | 2207/9450 [01:20<05:53, 20.48it/s]"
     ]
    },
    {
     "name": "stdout",
     "output_type": "stream",
     "text": [
      "allowed_classes_set:  {0, 1, 2, 3, 4, 5, 6, 7, 8, 9, 10, 11, 12, 13}\n",
      "Epoch 35 best model saved with weighted f1: 0.39256684372220485, accuracy: 0.4107142857142857, loss 1.46370267868042\n"
     ]
    },
    {
     "name": "stderr",
     "output_type": "stream",
     "text": [
      "  <SOLVER>   | Task: 1/1 | training loss: 1.63 | training precision: 0.406 |:  24%|██▍       | 2271/9450 [01:22<05:09, 23.21it/s]"
     ]
    },
    {
     "name": "stdout",
     "output_type": "stream",
     "text": [
      "allowed_classes_set:  {0, 1, 2, 3, 4, 5, 6, 7, 8, 9, 10, 11, 12, 13}\n"
     ]
    },
    {
     "name": "stderr",
     "output_type": "stream",
     "text": [
      "  <SOLVER>   | Task: 1/1 | training loss: 1.13 | training precision: 0.688 |:  25%|██▍       | 2333/9450 [01:24<06:06, 19.39it/s]"
     ]
    },
    {
     "name": "stdout",
     "output_type": "stream",
     "text": [
      "allowed_classes_set:  {0, 1, 2, 3, 4, 5, 6, 7, 8, 9, 10, 11, 12, 13}\n"
     ]
    },
    {
     "name": "stderr",
     "output_type": "stream",
     "text": [
      "  <SOLVER>   | Task: 1/1 | training loss: 1.44 | training precision: 0.531 |:  25%|██▌       | 2400/9450 [01:27<04:05, 28.75it/s]"
     ]
    },
    {
     "name": "stdout",
     "output_type": "stream",
     "text": [
      "allowed_classes_set:  {0, 1, 2, 3, 4, 5, 6, 7, 8, 9, 10, 11, 12, 13}\n"
     ]
    },
    {
     "name": "stderr",
     "output_type": "stream",
     "text": [
      "  <SOLVER>   | Task: 1/1 | training loss: 1.49 | training precision: 0.594 |:  26%|██▌       | 2461/9450 [01:29<04:10, 27.92it/s]"
     ]
    },
    {
     "name": "stdout",
     "output_type": "stream",
     "text": [
      "allowed_classes_set:  {0, 1, 2, 3, 4, 5, 6, 7, 8, 9, 10, 11, 12, 13}\n"
     ]
    },
    {
     "name": "stderr",
     "output_type": "stream",
     "text": [
      "  <SOLVER>   | Task: 1/1 | training loss: 1.63 | training precision: 0.562 |:  27%|██▋       | 2528/9450 [01:31<02:38, 43.64it/s]"
     ]
    },
    {
     "name": "stdout",
     "output_type": "stream",
     "text": [
      "allowed_classes_set:  {0, 1, 2, 3, 4, 5, 6, 7, 8, 9, 10, 11, 12, 13}\n"
     ]
    },
    {
     "name": "stderr",
     "output_type": "stream",
     "text": [
      "  <SOLVER>   | Task: 1/1 | training loss: 1.8 | training precision: 0.438 |:  27%|██▋       | 2589/9450 [01:32<02:39, 43.11it/s] "
     ]
    },
    {
     "name": "stdout",
     "output_type": "stream",
     "text": [
      "allowed_classes_set:  {0, 1, 2, 3, 4, 5, 6, 7, 8, 9, 10, 11, 12, 13}\n",
      "Epoch 41 best model saved with weighted f1: 0.4280271802016692, accuracy: 0.42410714285714285, loss 1.6278952360153198\n"
     ]
    },
    {
     "name": "stderr",
     "output_type": "stream",
     "text": [
      "  <SOLVER>   | Task: 1/1 | training loss: 1.25 | training precision: 0.562 |:  28%|██▊       | 2647/9450 [01:34<06:13, 18.22it/s]"
     ]
    },
    {
     "name": "stdout",
     "output_type": "stream",
     "text": [
      "allowed_classes_set:  {0, 1, 2, 3, 4, 5, 6, 7, 8, 9, 10, 11, 12, 13}\n",
      "Epoch 42 best model saved with weighted f1: 0.4679059684665292, accuracy: 0.45982142857142855, loss 1.4135123491287231\n"
     ]
    },
    {
     "name": "stderr",
     "output_type": "stream",
     "text": [
      "  <SOLVER>   | Task: 1/1 | training loss: 1.44 | training precision: 0.5 |:  29%|██▊       | 2713/9450 [01:36<04:05, 27.48it/s]   "
     ]
    },
    {
     "name": "stdout",
     "output_type": "stream",
     "text": [
      "allowed_classes_set:  {0, 1, 2, 3, 4, 5, 6, 7, 8, 9, 10, 11, 12, 13}\n"
     ]
    },
    {
     "name": "stderr",
     "output_type": "stream",
     "text": [
      "  <SOLVER>   | Task: 1/1 | training loss: 1.17 | training precision: 0.531 |:  29%|██▉       | 2773/9450 [01:39<04:28, 24.87it/s]"
     ]
    },
    {
     "name": "stdout",
     "output_type": "stream",
     "text": [
      "allowed_classes_set:  {0, 1, 2, 3, 4, 5, 6, 7, 8, 9, 10, 11, 12, 13}\n"
     ]
    },
    {
     "name": "stderr",
     "output_type": "stream",
     "text": [
      "  <SOLVER>   | Task: 1/1 | training loss: 1.34 | training precision: 0.562 |:  30%|███       | 2840/9450 [01:42<04:44, 23.22it/s]"
     ]
    },
    {
     "name": "stdout",
     "output_type": "stream",
     "text": [
      "allowed_classes_set:  {0, 1, 2, 3, 4, 5, 6, 7, 8, 9, 10, 11, 12, 13}\n"
     ]
    },
    {
     "name": "stderr",
     "output_type": "stream",
     "text": [
      "  <SOLVER>   | Task: 1/1 | training loss: 1.35 | training precision: 0.594 |:  31%|███       | 2902/9450 [01:45<03:51, 28.26it/s]"
     ]
    },
    {
     "name": "stdout",
     "output_type": "stream",
     "text": [
      "allowed_classes_set:  {0, 1, 2, 3, 4, 5, 6, 7, 8, 9, 10, 11, 12, 13}\n"
     ]
    },
    {
     "name": "stderr",
     "output_type": "stream",
     "text": [
      "  <SOLVER>   | Task: 1/1 | training loss: 1.42 | training precision: 0.594 |:  31%|███▏      | 2966/9450 [01:46<03:32, 30.53it/s] "
     ]
    },
    {
     "name": "stdout",
     "output_type": "stream",
     "text": [
      "allowed_classes_set:  {0, 1, 2, 3, 4, 5, 6, 7, 8, 9, 10, 11, 12, 13}\n"
     ]
    },
    {
     "name": "stderr",
     "output_type": "stream",
     "text": [
      "  <SOLVER>   | Task: 1/1 | training loss: 1.88 | training precision: 0.438 |:  32%|███▏      | 3030/9450 [01:48<03:56, 27.15it/s] "
     ]
    },
    {
     "name": "stdout",
     "output_type": "stream",
     "text": [
      "allowed_classes_set:  {0, 1, 2, 3, 4, 5, 6, 7, 8, 9, 10, 11, 12, 13}\n"
     ]
    },
    {
     "name": "stderr",
     "output_type": "stream",
     "text": [
      "  <SOLVER>   | Task: 1/1 | training loss: 1.19 | training precision: 0.594 |:  33%|███▎      | 3093/9450 [01:50<02:32, 41.64it/s] "
     ]
    },
    {
     "name": "stdout",
     "output_type": "stream",
     "text": [
      "allowed_classes_set:  {0, 1, 2, 3, 4, 5, 6, 7, 8, 9, 10, 11, 12, 13}\n"
     ]
    },
    {
     "name": "stderr",
     "output_type": "stream",
     "text": [
      "  <SOLVER>   | Task: 1/1 | training loss: 1.43 | training precision: 0.656 |:  33%|███▎      | 3155/9450 [01:51<02:41, 38.91it/s]"
     ]
    },
    {
     "name": "stdout",
     "output_type": "stream",
     "text": [
      "allowed_classes_set:  {0, 1, 2, 3, 4, 5, 6, 7, 8, 9, 10, 11, 12, 13}\n"
     ]
    },
    {
     "name": "stderr",
     "output_type": "stream",
     "text": [
      "  <SOLVER>   | Task: 1/1 | training loss: 1.35 | training precision: 0.562 |:  34%|███▍      | 3220/9450 [01:53<02:38, 39.42it/s] "
     ]
    },
    {
     "name": "stdout",
     "output_type": "stream",
     "text": [
      "allowed_classes_set:  {0, 1, 2, 3, 4, 5, 6, 7, 8, 9, 10, 11, 12, 13}\n"
     ]
    },
    {
     "name": "stderr",
     "output_type": "stream",
     "text": [
      "  <SOLVER>   | Task: 1/1 | training loss: 1.13 | training precision: 0.688 |:  35%|███▍      | 3282/9450 [01:55<02:25, 42.41it/s] "
     ]
    },
    {
     "name": "stdout",
     "output_type": "stream",
     "text": [
      "allowed_classes_set:  {0, 1, 2, 3, 4, 5, 6, 7, 8, 9, 10, 11, 12, 13}\n"
     ]
    },
    {
     "name": "stderr",
     "output_type": "stream",
     "text": [
      "  <SOLVER>   | Task: 1/1 | training loss: 1.06 | training precision: 0.688 |:  35%|███▌      | 3347/9450 [01:56<02:49, 36.03it/s] "
     ]
    },
    {
     "name": "stdout",
     "output_type": "stream",
     "text": [
      "allowed_classes_set:  {0, 1, 2, 3, 4, 5, 6, 7, 8, 9, 10, 11, 12, 13}\n"
     ]
    },
    {
     "name": "stderr",
     "output_type": "stream",
     "text": [
      "  <SOLVER>   | Task: 1/1 | training loss: 1.35 | training precision: 0.625 |:  36%|███▌      | 3409/9450 [01:58<02:40, 37.62it/s] "
     ]
    },
    {
     "name": "stdout",
     "output_type": "stream",
     "text": [
      "allowed_classes_set:  {0, 1, 2, 3, 4, 5, 6, 7, 8, 9, 10, 11, 12, 13}\n",
      "Epoch 54 best model saved with weighted f1: 0.4792109409550345, accuracy: 0.48660714285714285, loss 1.3168307542800903\n"
     ]
    },
    {
     "name": "stderr",
     "output_type": "stream",
     "text": [
      "  <SOLVER>   | Task: 1/1 | training loss: 1.46 | training precision: 0.438 |:  37%|███▋      | 3468/9450 [02:00<04:16, 23.30it/s] "
     ]
    },
    {
     "name": "stdout",
     "output_type": "stream",
     "text": [
      "allowed_classes_set:  {0, 1, 2, 3, 4, 5, 6, 7, 8, 9, 10, 11, 12, 13}\n"
     ]
    },
    {
     "name": "stderr",
     "output_type": "stream",
     "text": [
      "  <SOLVER>   | Task: 1/1 | training loss: 1.05 | training precision: 0.719 |:  37%|███▋      | 3532/9450 [02:02<03:50, 25.65it/s] "
     ]
    },
    {
     "name": "stdout",
     "output_type": "stream",
     "text": [
      "allowed_classes_set:  {0, 1, 2, 3, 4, 5, 6, 7, 8, 9, 10, 11, 12, 13}\n"
     ]
    },
    {
     "name": "stderr",
     "output_type": "stream",
     "text": [
      "  <SOLVER>   | Task: 1/1 | training loss: 0.879 | training precision: 0.812 |:  38%|███▊      | 3594/9450 [02:05<04:48, 20.33it/s]"
     ]
    },
    {
     "name": "stdout",
     "output_type": "stream",
     "text": [
      "allowed_classes_set:  {0, 1, 2, 3, 4, 5, 6, 7, 8, 9, 10, 11, 12, 13}\n"
     ]
    },
    {
     "name": "stderr",
     "output_type": "stream",
     "text": [
      "  <SOLVER>   | Task: 1/1 | training loss: 1.24 | training precision: 0.562 |:  39%|███▊      | 3659/9450 [02:07<03:10, 30.38it/s] "
     ]
    },
    {
     "name": "stdout",
     "output_type": "stream",
     "text": [
      "allowed_classes_set:  {0, 1, 2, 3, 4, 5, 6, 7, 8, 9, 10, 11, 12, 13}\n"
     ]
    },
    {
     "name": "stderr",
     "output_type": "stream",
     "text": [
      "  <SOLVER>   | Task: 1/1 | training loss: 1.0 | training precision: 0.594 |:  39%|███▉      | 3725/9450 [02:09<02:31, 37.87it/s]  "
     ]
    },
    {
     "name": "stdout",
     "output_type": "stream",
     "text": [
      "allowed_classes_set:  {0, 1, 2, 3, 4, 5, 6, 7, 8, 9, 10, 11, 12, 13}\n",
      "Epoch 59 best model saved with weighted f1: 0.4876176258452287, accuracy: 0.48660714285714285, loss 1.3914936780929565\n"
     ]
    },
    {
     "name": "stderr",
     "output_type": "stream",
     "text": [
      "  <SOLVER>   | Task: 1/1 | training loss: 0.937 | training precision: 0.625 |:  40%|████      | 3784/9450 [02:10<02:54, 32.56it/s]"
     ]
    },
    {
     "name": "stdout",
     "output_type": "stream",
     "text": [
      "allowed_classes_set:  {0, 1, 2, 3, 4, 5, 6, 7, 8, 9, 10, 11, 12, 13}\n"
     ]
    },
    {
     "name": "stderr",
     "output_type": "stream",
     "text": [
      "  <SOLVER>   | Task: 1/1 | training loss: 1.03 | training precision: 0.656 |:  41%|████      | 3847/9450 [02:13<04:59, 18.72it/s] "
     ]
    },
    {
     "name": "stdout",
     "output_type": "stream",
     "text": [
      "allowed_classes_set:  {0, 1, 2, 3, 4, 5, 6, 7, 8, 9, 10, 11, 12, 13}\n"
     ]
    },
    {
     "name": "stderr",
     "output_type": "stream",
     "text": [
      "  <SOLVER>   | Task: 1/1 | training loss: 0.986 | training precision: 0.656 |:  41%|████▏     | 3909/9450 [02:16<04:47, 19.27it/s]"
     ]
    },
    {
     "name": "stdout",
     "output_type": "stream",
     "text": [
      "allowed_classes_set:  {0, 1, 2, 3, 4, 5, 6, 7, 8, 9, 10, 11, 12, 13}\n"
     ]
    },
    {
     "name": "stderr",
     "output_type": "stream",
     "text": [
      "  <SOLVER>   | Task: 1/1 | training loss: 0.793 | training precision: 0.719 |:  42%|████▏     | 3976/9450 [02:18<02:43, 33.52it/s]"
     ]
    },
    {
     "name": "stdout",
     "output_type": "stream",
     "text": [
      "allowed_classes_set:  {0, 1, 2, 3, 4, 5, 6, 7, 8, 9, 10, 11, 12, 13}\n"
     ]
    },
    {
     "name": "stderr",
     "output_type": "stream",
     "text": [
      "  <SOLVER>   | Task: 1/1 | training loss: 1.49 | training precision: 0.469 |:  43%|████▎     | 4038/9450 [02:20<03:39, 24.66it/s] "
     ]
    },
    {
     "name": "stdout",
     "output_type": "stream",
     "text": [
      "allowed_classes_set:  {0, 1, 2, 3, 4, 5, 6, 7, 8, 9, 10, 11, 12, 13}\n"
     ]
    },
    {
     "name": "stderr",
     "output_type": "stream",
     "text": [
      "  <SOLVER>   | Task: 1/1 | training loss: 0.919 | training precision: 0.688 |:  43%|████▎     | 4096/9450 [02:22<02:09, 41.40it/s]"
     ]
    },
    {
     "name": "stdout",
     "output_type": "stream",
     "text": [
      "allowed_classes_set:  {0, 1, 2, 3, 4, 5, 6, 7, 8, 9, 10, 11, 12, 13}\n",
      "Epoch 65 best model saved with weighted f1: 0.5197800297276101, accuracy: 0.5223214285714286, loss 1.1698702573776245\n"
     ]
    },
    {
     "name": "stderr",
     "output_type": "stream",
     "text": [
      "  <SOLVER>   | Task: 1/1 | training loss: 1.12 | training precision: 0.719 |:  44%|████▍     | 4165/9450 [02:24<02:51, 30.84it/s] "
     ]
    },
    {
     "name": "stdout",
     "output_type": "stream",
     "text": [
      "allowed_classes_set:  {0, 1, 2, 3, 4, 5, 6, 7, 8, 9, 10, 11, 12, 13}\n",
      "Epoch 66 best model saved with weighted f1: 0.5275263563923593, accuracy: 0.5267857142857143, loss 0.9831620454788208\n"
     ]
    },
    {
     "name": "stderr",
     "output_type": "stream",
     "text": [
      "  <SOLVER>   | Task: 1/1 | training loss: 1.32 | training precision: 0.594 |:  45%|████▍     | 4224/9450 [02:26<03:26, 25.31it/s] "
     ]
    },
    {
     "name": "stdout",
     "output_type": "stream",
     "text": [
      "allowed_classes_set:  {0, 1, 2, 3, 4, 5, 6, 7, 8, 9, 10, 11, 12, 13}\n"
     ]
    },
    {
     "name": "stderr",
     "output_type": "stream",
     "text": [
      "  <SOLVER>   | Task: 1/1 | training loss: 0.84 | training precision: 0.781 |:  45%|████▌     | 4289/9450 [02:29<05:15, 16.36it/s] "
     ]
    },
    {
     "name": "stdout",
     "output_type": "stream",
     "text": [
      "allowed_classes_set:  {0, 1, 2, 3, 4, 5, 6, 7, 8, 9, 10, 11, 12, 13}\n"
     ]
    },
    {
     "name": "stderr",
     "output_type": "stream",
     "text": [
      "  <SOLVER>   | Task: 1/1 | training loss: 1.09 | training precision: 0.625 |:  46%|████▌     | 4350/9450 [02:32<03:25, 24.87it/s] "
     ]
    },
    {
     "name": "stdout",
     "output_type": "stream",
     "text": [
      "allowed_classes_set:  {0, 1, 2, 3, 4, 5, 6, 7, 8, 9, 10, 11, 12, 13}\n"
     ]
    },
    {
     "name": "stderr",
     "output_type": "stream",
     "text": [
      "  <SOLVER>   | Task: 1/1 | training loss: 0.908 | training precision: 0.688 |:  47%|████▋     | 4416/9450 [02:34<02:37, 31.89it/s]"
     ]
    },
    {
     "name": "stdout",
     "output_type": "stream",
     "text": [
      "allowed_classes_set:  {0, 1, 2, 3, 4, 5, 6, 7, 8, 9, 10, 11, 12, 13}\n"
     ]
    },
    {
     "name": "stderr",
     "output_type": "stream",
     "text": [
      "  <SOLVER>   | Task: 1/1 | training loss: 0.832 | training precision: 0.75 |:  47%|████▋     | 4477/9450 [02:35<01:43, 48.16it/s] "
     ]
    },
    {
     "name": "stdout",
     "output_type": "stream",
     "text": [
      "allowed_classes_set:  {0, 1, 2, 3, 4, 5, 6, 7, 8, 9, 10, 11, 12, 13}\n"
     ]
    },
    {
     "name": "stderr",
     "output_type": "stream",
     "text": [
      "  <SOLVER>   | Task: 1/1 | training loss: 0.851 | training precision: 0.656 |:  48%|████▊     | 4545/9450 [02:37<01:40, 48.93it/s]"
     ]
    },
    {
     "name": "stdout",
     "output_type": "stream",
     "text": [
      "allowed_classes_set:  {0, 1, 2, 3, 4, 5, 6, 7, 8, 9, 10, 11, 12, 13}\n"
     ]
    },
    {
     "name": "stderr",
     "output_type": "stream",
     "text": [
      "  <SOLVER>   | Task: 1/1 | training loss: 0.903 | training precision: 0.625 |:  49%|████▊     | 4605/9450 [02:38<02:13, 36.38it/s]"
     ]
    },
    {
     "name": "stdout",
     "output_type": "stream",
     "text": [
      "allowed_classes_set:  {0, 1, 2, 3, 4, 5, 6, 7, 8, 9, 10, 11, 12, 13}\n"
     ]
    },
    {
     "name": "stderr",
     "output_type": "stream",
     "text": [
      "  <SOLVER>   | Task: 1/1 | training loss: 1.19 | training precision: 0.594 |:  49%|████▉     | 4669/9450 [02:40<02:12, 36.20it/s] "
     ]
    },
    {
     "name": "stdout",
     "output_type": "stream",
     "text": [
      "allowed_classes_set:  {0, 1, 2, 3, 4, 5, 6, 7, 8, 9, 10, 11, 12, 13}\n"
     ]
    },
    {
     "name": "stderr",
     "output_type": "stream",
     "text": [
      "  <SOLVER>   | Task: 1/1 | training loss: 1.1 | training precision: 0.562 |:  50%|█████     | 4731/9450 [02:41<01:48, 43.45it/s]  "
     ]
    },
    {
     "name": "stdout",
     "output_type": "stream",
     "text": [
      "allowed_classes_set:  {0, 1, 2, 3, 4, 5, 6, 7, 8, 9, 10, 11, 12, 13}\n"
     ]
    },
    {
     "name": "stderr",
     "output_type": "stream",
     "text": [
      "  <SOLVER>   | Task: 1/1 | training loss: 1.02 | training precision: 0.625 |:  51%|█████     | 4796/9450 [02:43<01:46, 43.80it/s] "
     ]
    },
    {
     "name": "stdout",
     "output_type": "stream",
     "text": [
      "allowed_classes_set:  {0, 1, 2, 3, 4, 5, 6, 7, 8, 9, 10, 11, 12, 13}\n"
     ]
    },
    {
     "name": "stderr",
     "output_type": "stream",
     "text": [
      "  <SOLVER>   | Task: 1/1 | training loss: 0.96 | training precision: 0.594 |:  51%|█████▏    | 4859/9450 [02:44<01:55, 39.84it/s] "
     ]
    },
    {
     "name": "stdout",
     "output_type": "stream",
     "text": [
      "allowed_classes_set:  {0, 1, 2, 3, 4, 5, 6, 7, 8, 9, 10, 11, 12, 13}\n"
     ]
    },
    {
     "name": "stderr",
     "output_type": "stream",
     "text": [
      "  <SOLVER>   | Task: 1/1 | training loss: 0.857 | training precision: 0.688 |:  52%|█████▏    | 4922/9450 [02:46<01:34, 47.99it/s]"
     ]
    },
    {
     "name": "stdout",
     "output_type": "stream",
     "text": [
      "allowed_classes_set:  {0, 1, 2, 3, 4, 5, 6, 7, 8, 9, 10, 11, 12, 13}\n"
     ]
    },
    {
     "name": "stderr",
     "output_type": "stream",
     "text": [
      "  <SOLVER>   | Task: 1/1 | training loss: 0.795 | training precision: 0.781 |:  53%|█████▎    | 4983/9450 [02:47<02:09, 34.38it/s]"
     ]
    },
    {
     "name": "stdout",
     "output_type": "stream",
     "text": [
      "allowed_classes_set:  {0, 1, 2, 3, 4, 5, 6, 7, 8, 9, 10, 11, 12, 13}\n",
      "Epoch 79 best model saved with weighted f1: 0.5312668409481943, accuracy: 0.5401785714285714, loss 0.8647700548171997\n"
     ]
    },
    {
     "name": "stderr",
     "output_type": "stream",
     "text": [
      "  <SOLVER>   | Task: 1/1 | training loss: 1.08 | training precision: 0.625 |:  53%|█████▎    | 5043/9450 [02:49<02:45, 26.63it/s] "
     ]
    },
    {
     "name": "stdout",
     "output_type": "stream",
     "text": [
      "allowed_classes_set:  {0, 1, 2, 3, 4, 5, 6, 7, 8, 9, 10, 11, 12, 13}\n",
      "Epoch 80 best model saved with weighted f1: 0.5396394403536797, accuracy: 0.5401785714285714, loss 1.1077712774276733\n"
     ]
    },
    {
     "name": "stderr",
     "output_type": "stream",
     "text": [
      "  <SOLVER>   | Task: 1/1 | training loss: 0.634 | training precision: 0.75 |:  54%|█████▍    | 5108/9450 [02:52<02:27, 29.53it/s] "
     ]
    },
    {
     "name": "stdout",
     "output_type": "stream",
     "text": [
      "allowed_classes_set:  {0, 1, 2, 3, 4, 5, 6, 7, 8, 9, 10, 11, 12, 13}\n"
     ]
    },
    {
     "name": "stderr",
     "output_type": "stream",
     "text": [
      "  <SOLVER>   | Task: 1/1 | training loss: 0.852 | training precision: 0.812 |:  55%|█████▍    | 5167/9450 [02:54<02:56, 24.31it/s]"
     ]
    },
    {
     "name": "stdout",
     "output_type": "stream",
     "text": [
      "allowed_classes_set:  {0, 1, 2, 3, 4, 5, 6, 7, 8, 9, 10, 11, 12, 13}\n"
     ]
    },
    {
     "name": "stderr",
     "output_type": "stream",
     "text": [
      "  <SOLVER>   | Task: 1/1 | training loss: 0.685 | training precision: 0.781 |:  55%|█████▌    | 5234/9450 [02:57<03:02, 23.16it/s]"
     ]
    },
    {
     "name": "stdout",
     "output_type": "stream",
     "text": [
      "allowed_classes_set:  {0, 1, 2, 3, 4, 5, 6, 7, 8, 9, 10, 11, 12, 13}\n"
     ]
    },
    {
     "name": "stderr",
     "output_type": "stream",
     "text": [
      "  <SOLVER>   | Task: 1/1 | training loss: 0.634 | training precision: 0.812 |:  56%|█████▌    | 5296/9450 [02:58<02:09, 32.04it/s]"
     ]
    },
    {
     "name": "stdout",
     "output_type": "stream",
     "text": [
      "allowed_classes_set:  {0, 1, 2, 3, 4, 5, 6, 7, 8, 9, 10, 11, 12, 13}\n",
      "Epoch 84 best model saved with weighted f1: 0.540457139384664, accuracy: 0.5401785714285714, loss 0.8580932021141052\n"
     ]
    },
    {
     "name": "stderr",
     "output_type": "stream",
     "text": [
      "  <SOLVER>   | Task: 1/1 | training loss: 0.684 | training precision: 0.75 |:  57%|█████▋    | 5356/9450 [03:00<02:34, 26.58it/s] "
     ]
    },
    {
     "name": "stdout",
     "output_type": "stream",
     "text": [
      "allowed_classes_set:  {0, 1, 2, 3, 4, 5, 6, 7, 8, 9, 10, 11, 12, 13}\n",
      "Epoch 85 best model saved with weighted f1: 0.5441930742058165, accuracy: 0.5446428571428571, loss 0.9430386424064636\n"
     ]
    },
    {
     "name": "stderr",
     "output_type": "stream",
     "text": [
      "  <SOLVER>   | Task: 1/1 | training loss: 0.812 | training precision: 0.719 |:  57%|█████▋    | 5424/9450 [03:03<02:56, 22.77it/s]"
     ]
    },
    {
     "name": "stdout",
     "output_type": "stream",
     "text": [
      "allowed_classes_set:  {0, 1, 2, 3, 4, 5, 6, 7, 8, 9, 10, 11, 12, 13}\n"
     ]
    },
    {
     "name": "stderr",
     "output_type": "stream",
     "text": [
      "  <SOLVER>   | Task: 1/1 | training loss: 0.811 | training precision: 0.656 |:  58%|█████▊    | 5484/9450 [03:06<03:25, 19.32it/s]"
     ]
    },
    {
     "name": "stdout",
     "output_type": "stream",
     "text": [
      "allowed_classes_set:  {0, 1, 2, 3, 4, 5, 6, 7, 8, 9, 10, 11, 12, 13}\n"
     ]
    },
    {
     "name": "stderr",
     "output_type": "stream",
     "text": [
      "  <SOLVER>   | Task: 1/1 | training loss: 0.875 | training precision: 0.75 |:  59%|█████▊    | 5547/9450 [03:08<02:56, 22.15it/s] "
     ]
    },
    {
     "name": "stdout",
     "output_type": "stream",
     "text": [
      "allowed_classes_set:  {0, 1, 2, 3, 4, 5, 6, 7, 8, 9, 10, 11, 12, 13}\n",
      "Epoch 88 best model saved with weighted f1: 0.6055724212762028, accuracy: 0.6071428571428571, loss 0.6996987462043762\n"
     ]
    },
    {
     "name": "stderr",
     "output_type": "stream",
     "text": [
      "  <SOLVER>   | Task: 1/1 | training loss: 0.684 | training precision: 0.781 |:  59%|█████▉    | 5610/9450 [03:11<02:54, 22.02it/s]"
     ]
    },
    {
     "name": "stdout",
     "output_type": "stream",
     "text": [
      "allowed_classes_set:  {0, 1, 2, 3, 4, 5, 6, 7, 8, 9, 10, 11, 12, 13}\n"
     ]
    },
    {
     "name": "stderr",
     "output_type": "stream",
     "text": [
      "  <SOLVER>   | Task: 1/1 | training loss: 1.12 | training precision: 0.75 |:  60%|██████    | 5674/9450 [03:13<02:17, 27.49it/s]  "
     ]
    },
    {
     "name": "stdout",
     "output_type": "stream",
     "text": [
      "allowed_classes_set:  {0, 1, 2, 3, 4, 5, 6, 7, 8, 9, 10, 11, 12, 13}\n"
     ]
    },
    {
     "name": "stderr",
     "output_type": "stream",
     "text": [
      "  <SOLVER>   | Task: 1/1 | training loss: 0.428 | training precision: 0.906 |:  61%|██████    | 5734/9450 [03:16<04:25, 14.01it/s]"
     ]
    },
    {
     "name": "stdout",
     "output_type": "stream",
     "text": [
      "allowed_classes_set:  {0, 1, 2, 3, 4, 5, 6, 7, 8, 9, 10, 11, 12, 13}\n"
     ]
    },
    {
     "name": "stderr",
     "output_type": "stream",
     "text": [
      "  <SOLVER>   | Task: 1/1 | training loss: 0.964 | training precision: 0.781 |:  61%|██████▏   | 5800/9450 [03:19<02:22, 25.58it/s]"
     ]
    },
    {
     "name": "stdout",
     "output_type": "stream",
     "text": [
      "allowed_classes_set:  {0, 1, 2, 3, 4, 5, 6, 7, 8, 9, 10, 11, 12, 13}\n"
     ]
    },
    {
     "name": "stderr",
     "output_type": "stream",
     "text": [
      "  <SOLVER>   | Task: 1/1 | training loss: 0.949 | training precision: 0.719 |:  62%|██████▏   | 5865/9450 [03:21<01:48, 32.94it/s]"
     ]
    },
    {
     "name": "stdout",
     "output_type": "stream",
     "text": [
      "allowed_classes_set:  {0, 1, 2, 3, 4, 5, 6, 7, 8, 9, 10, 11, 12, 13}\n"
     ]
    },
    {
     "name": "stderr",
     "output_type": "stream",
     "text": [
      "  <SOLVER>   | Task: 1/1 | training loss: 0.924 | training precision: 0.781 |:  63%|██████▎   | 5929/9450 [03:23<01:40, 34.95it/s]"
     ]
    },
    {
     "name": "stdout",
     "output_type": "stream",
     "text": [
      "allowed_classes_set:  {0, 1, 2, 3, 4, 5, 6, 7, 8, 9, 10, 11, 12, 13}\n"
     ]
    },
    {
     "name": "stderr",
     "output_type": "stream",
     "text": [
      "  <SOLVER>   | Task: 1/1 | training loss: 0.898 | training precision: 0.719 |:  63%|██████▎   | 5993/9450 [03:24<01:11, 48.29it/s]"
     ]
    },
    {
     "name": "stdout",
     "output_type": "stream",
     "text": [
      "allowed_classes_set:  {0, 1, 2, 3, 4, 5, 6, 7, 8, 9, 10, 11, 12, 13}\n"
     ]
    },
    {
     "name": "stderr",
     "output_type": "stream",
     "text": [
      "  <SOLVER>   | Task: 1/1 | training loss: 0.783 | training precision: 0.75 |:  64%|██████▍   | 6055/9450 [03:26<01:11, 47.33it/s] "
     ]
    },
    {
     "name": "stdout",
     "output_type": "stream",
     "text": [
      "allowed_classes_set:  {0, 1, 2, 3, 4, 5, 6, 7, 8, 9, 10, 11, 12, 13}\n"
     ]
    },
    {
     "name": "stderr",
     "output_type": "stream",
     "text": [
      "  <SOLVER>   | Task: 1/1 | training loss: 0.936 | training precision: 0.688 |:  65%|██████▍   | 6119/9450 [03:27<01:32, 36.16it/s]"
     ]
    },
    {
     "name": "stdout",
     "output_type": "stream",
     "text": [
      "allowed_classes_set:  {0, 1, 2, 3, 4, 5, 6, 7, 8, 9, 10, 11, 12, 13}\n"
     ]
    },
    {
     "name": "stderr",
     "output_type": "stream",
     "text": [
      "  <SOLVER>   | Task: 1/1 | training loss: 0.498 | training precision: 0.844 |:  65%|██████▌   | 6178/9450 [03:29<01:44, 31.20it/s]"
     ]
    },
    {
     "name": "stdout",
     "output_type": "stream",
     "text": [
      "allowed_classes_set:  {0, 1, 2, 3, 4, 5, 6, 7, 8, 9, 10, 11, 12, 13}\n"
     ]
    },
    {
     "name": "stderr",
     "output_type": "stream",
     "text": [
      "  <SOLVER>   | Task: 1/1 | training loss: 0.632 | training precision: 0.844 |:  66%|██████▌   | 6245/9450 [03:31<01:21, 39.44it/s]"
     ]
    },
    {
     "name": "stdout",
     "output_type": "stream",
     "text": [
      "allowed_classes_set:  {0, 1, 2, 3, 4, 5, 6, 7, 8, 9, 10, 11, 12, 13}\n"
     ]
    },
    {
     "name": "stderr",
     "output_type": "stream",
     "text": [
      "  <SOLVER>   | Task: 1/1 | training loss: 0.699 | training precision: 0.75 |:  67%|██████▋   | 6308/9450 [03:32<01:10, 44.50it/s] "
     ]
    },
    {
     "name": "stdout",
     "output_type": "stream",
     "text": [
      "allowed_classes_set:  {0, 1, 2, 3, 4, 5, 6, 7, 8, 9, 10, 11, 12, 13}\n"
     ]
    },
    {
     "name": "stderr",
     "output_type": "stream",
     "text": [
      "  <SOLVER>   | Task: 1/1 | training loss: 0.539 | training precision: 0.719 |:  67%|██████▋   | 6371/9450 [03:34<01:24, 36.51it/s]"
     ]
    },
    {
     "name": "stdout",
     "output_type": "stream",
     "text": [
      "allowed_classes_set:  {0, 1, 2, 3, 4, 5, 6, 7, 8, 9, 10, 11, 12, 13}\n"
     ]
    },
    {
     "name": "stderr",
     "output_type": "stream",
     "text": [
      "  <SOLVER>   | Task: 1/1 | training loss: 0.888 | training precision: 0.656 |:  68%|██████▊   | 6433/9450 [03:35<01:15, 39.75it/s]"
     ]
    },
    {
     "name": "stdout",
     "output_type": "stream",
     "text": [
      "allowed_classes_set:  {0, 1, 2, 3, 4, 5, 6, 7, 8, 9, 10, 11, 12, 13}\n"
     ]
    },
    {
     "name": "stderr",
     "output_type": "stream",
     "text": [
      "  <SOLVER>   | Task: 1/1 | training loss: 0.487 | training precision: 0.781 |:  69%|██████▊   | 6492/9450 [03:37<01:03, 46.56it/s]"
     ]
    },
    {
     "name": "stdout",
     "output_type": "stream",
     "text": [
      "allowed_classes_set:  {0, 1, 2, 3, 4, 5, 6, 7, 8, 9, 10, 11, 12, 13}\n"
     ]
    },
    {
     "name": "stderr",
     "output_type": "stream",
     "text": [
      "  <SOLVER>   | Task: 1/1 | training loss: 0.382 | training precision: 0.875 |:  69%|██████▉   | 6558/9450 [03:39<01:17, 37.08it/s]"
     ]
    },
    {
     "name": "stdout",
     "output_type": "stream",
     "text": [
      "allowed_classes_set:  {0, 1, 2, 3, 4, 5, 6, 7, 8, 9, 10, 11, 12, 13}\n"
     ]
    },
    {
     "name": "stderr",
     "output_type": "stream",
     "text": [
      "  <SOLVER>   | Task: 1/1 | training loss: 0.436 | training precision: 0.875 |:  70%|██████▉   | 6614/9450 [03:40<01:12, 38.89it/s]"
     ]
    },
    {
     "name": "stdout",
     "output_type": "stream",
     "text": [
      "allowed_classes_set:  {0, 1, 2, 3, 4, 5, 6, 7, 8, 9, 10, 11, 12, 13}\n"
     ]
    },
    {
     "name": "stderr",
     "output_type": "stream",
     "text": [
      "  <SOLVER>   | Task: 1/1 | training loss: 0.686 | training precision: 0.75 |:  71%|███████   | 6686/9450 [03:42<01:09, 40.02it/s] "
     ]
    },
    {
     "name": "stdout",
     "output_type": "stream",
     "text": [
      "allowed_classes_set:  {0, 1, 2, 3, 4, 5, 6, 7, 8, 9, 10, 11, 12, 13}\n"
     ]
    },
    {
     "name": "stderr",
     "output_type": "stream",
     "text": [
      "  <SOLVER>   | Task: 1/1 | training loss: 0.52 | training precision: 0.75 |:  71%|███████▏  | 6745/9450 [03:44<01:11, 37.80it/s]  "
     ]
    },
    {
     "name": "stdout",
     "output_type": "stream",
     "text": [
      "allowed_classes_set:  {0, 1, 2, 3, 4, 5, 6, 7, 8, 9, 10, 11, 12, 13}\n"
     ]
    },
    {
     "name": "stderr",
     "output_type": "stream",
     "text": [
      "  <SOLVER>   | Task: 1/1 | training loss: 0.526 | training precision: 0.812 |:  72%|███████▏  | 6812/9450 [03:46<01:15, 34.93it/s]"
     ]
    },
    {
     "name": "stdout",
     "output_type": "stream",
     "text": [
      "allowed_classes_set:  {0, 1, 2, 3, 4, 5, 6, 7, 8, 9, 10, 11, 12, 13}\n"
     ]
    },
    {
     "name": "stderr",
     "output_type": "stream",
     "text": [
      "  <SOLVER>   | Task: 1/1 | training loss: 0.432 | training precision: 0.812 |:  73%|███████▎  | 6868/9450 [03:47<01:07, 37.98it/s]"
     ]
    },
    {
     "name": "stdout",
     "output_type": "stream",
     "text": [
      "allowed_classes_set:  {0, 1, 2, 3, 4, 5, 6, 7, 8, 9, 10, 11, 12, 13}\n"
     ]
    },
    {
     "name": "stderr",
     "output_type": "stream",
     "text": [
      "  <SOLVER>   | Task: 1/1 | training loss: 0.574 | training precision: 0.812 |:  73%|███████▎  | 6937/9450 [03:49<00:56, 44.83it/s]"
     ]
    },
    {
     "name": "stdout",
     "output_type": "stream",
     "text": [
      "allowed_classes_set:  {0, 1, 2, 3, 4, 5, 6, 7, 8, 9, 10, 11, 12, 13}\n"
     ]
    },
    {
     "name": "stderr",
     "output_type": "stream",
     "text": [
      "  <SOLVER>   | Task: 1/1 | training loss: 0.529 | training precision: 0.875 |:  74%|███████▍  | 6996/9450 [03:51<01:45, 23.21it/s]"
     ]
    },
    {
     "name": "stdout",
     "output_type": "stream",
     "text": [
      "allowed_classes_set:  {0, 1, 2, 3, 4, 5, 6, 7, 8, 9, 10, 11, 12, 13}\n"
     ]
    },
    {
     "name": "stderr",
     "output_type": "stream",
     "text": [
      "  <SOLVER>   | Task: 1/1 | training loss: 0.739 | training precision: 0.75 |:  75%|███████▍  | 7064/9450 [03:52<00:58, 40.95it/s] "
     ]
    },
    {
     "name": "stdout",
     "output_type": "stream",
     "text": [
      "allowed_classes_set:  {0, 1, 2, 3, 4, 5, 6, 7, 8, 9, 10, 11, 12, 13}\n"
     ]
    },
    {
     "name": "stderr",
     "output_type": "stream",
     "text": [
      "  <SOLVER>   | Task: 1/1 | training loss: 0.648 | training precision: 0.75 |:  75%|███████▌  | 7123/9450 [03:54<00:50, 46.31it/s] "
     ]
    },
    {
     "name": "stdout",
     "output_type": "stream",
     "text": [
      "allowed_classes_set:  {0, 1, 2, 3, 4, 5, 6, 7, 8, 9, 10, 11, 12, 13}\n"
     ]
    },
    {
     "name": "stderr",
     "output_type": "stream",
     "text": [
      "  <SOLVER>   | Task: 1/1 | training loss: 0.495 | training precision: 0.875 |:  76%|███████▌  | 7187/9450 [03:56<01:18, 28.86it/s]"
     ]
    },
    {
     "name": "stdout",
     "output_type": "stream",
     "text": [
      "allowed_classes_set:  {0, 1, 2, 3, 4, 5, 6, 7, 8, 9, 10, 11, 12, 13}\n"
     ]
    },
    {
     "name": "stderr",
     "output_type": "stream",
     "text": [
      "  <SOLVER>   | Task: 1/1 | training loss: 0.482 | training precision: 0.844 |:  77%|███████▋  | 7251/9450 [03:57<00:54, 40.51it/s]"
     ]
    },
    {
     "name": "stdout",
     "output_type": "stream",
     "text": [
      "allowed_classes_set:  {0, 1, 2, 3, 4, 5, 6, 7, 8, 9, 10, 11, 12, 13}\n"
     ]
    },
    {
     "name": "stderr",
     "output_type": "stream",
     "text": [
      "  <SOLVER>   | Task: 1/1 | training loss: 0.547 | training precision: 0.812 |:  77%|███████▋  | 7312/9450 [04:00<01:26, 24.71it/s]"
     ]
    },
    {
     "name": "stdout",
     "output_type": "stream",
     "text": [
      "allowed_classes_set:  {0, 1, 2, 3, 4, 5, 6, 7, 8, 9, 10, 11, 12, 13}\n"
     ]
    },
    {
     "name": "stderr",
     "output_type": "stream",
     "text": [
      "  <SOLVER>   | Task: 1/1 | training loss: 0.769 | training precision: 0.656 |:  78%|███████▊  | 7374/9450 [04:02<01:07, 30.92it/s]"
     ]
    },
    {
     "name": "stdout",
     "output_type": "stream",
     "text": [
      "allowed_classes_set:  {0, 1, 2, 3, 4, 5, 6, 7, 8, 9, 10, 11, 12, 13}\n"
     ]
    },
    {
     "name": "stderr",
     "output_type": "stream",
     "text": [
      "  <SOLVER>   | Task: 1/1 | training loss: 0.526 | training precision: 0.812 |:  79%|███████▊  | 7437/9450 [04:05<01:21, 24.64it/s]"
     ]
    },
    {
     "name": "stdout",
     "output_type": "stream",
     "text": [
      "allowed_classes_set:  {0, 1, 2, 3, 4, 5, 6, 7, 8, 9, 10, 11, 12, 13}\n"
     ]
    },
    {
     "name": "stderr",
     "output_type": "stream",
     "text": [
      "  <SOLVER>   | Task: 1/1 | training loss: 0.64 | training precision: 0.781 |:  79%|███████▉  | 7498/9450 [04:07<01:18, 24.83it/s] "
     ]
    },
    {
     "name": "stdout",
     "output_type": "stream",
     "text": [
      "allowed_classes_set:  {0, 1, 2, 3, 4, 5, 6, 7, 8, 9, 10, 11, 12, 13}\n"
     ]
    },
    {
     "name": "stderr",
     "output_type": "stream",
     "text": [
      "  <SOLVER>   | Task: 1/1 | training loss: 0.734 | training precision: 0.688 |:  80%|████████  | 7566/9450 [04:09<00:49, 37.97it/s]"
     ]
    },
    {
     "name": "stdout",
     "output_type": "stream",
     "text": [
      "allowed_classes_set:  {0, 1, 2, 3, 4, 5, 6, 7, 8, 9, 10, 11, 12, 13}\n"
     ]
    },
    {
     "name": "stderr",
     "output_type": "stream",
     "text": [
      "  <SOLVER>   | Task: 1/1 | training loss: 0.534 | training precision: 0.812 |:  81%|████████  | 7625/9450 [04:11<01:04, 28.32it/s]"
     ]
    },
    {
     "name": "stdout",
     "output_type": "stream",
     "text": [
      "allowed_classes_set:  {0, 1, 2, 3, 4, 5, 6, 7, 8, 9, 10, 11, 12, 13}\n"
     ]
    },
    {
     "name": "stderr",
     "output_type": "stream",
     "text": [
      "  <SOLVER>   | Task: 1/1 | training loss: 0.588 | training precision: 0.75 |:  81%|████████▏ | 7689/9450 [04:14<01:13, 23.91it/s] "
     ]
    },
    {
     "name": "stdout",
     "output_type": "stream",
     "text": [
      "allowed_classes_set:  {0, 1, 2, 3, 4, 5, 6, 7, 8, 9, 10, 11, 12, 13}\n"
     ]
    },
    {
     "name": "stderr",
     "output_type": "stream",
     "text": [
      "  <SOLVER>   | Task: 1/1 | training loss: 0.427 | training precision: 0.844 |:  82%|████████▏ | 7757/9450 [04:15<00:38, 43.69it/s]"
     ]
    },
    {
     "name": "stdout",
     "output_type": "stream",
     "text": [
      "allowed_classes_set:  {0, 1, 2, 3, 4, 5, 6, 7, 8, 9, 10, 11, 12, 13}\n"
     ]
    },
    {
     "name": "stderr",
     "output_type": "stream",
     "text": [
      "  <SOLVER>   | Task: 1/1 | training loss: 0.433 | training precision: 0.844 |:  83%|████████▎ | 7816/9450 [04:18<01:05, 24.87it/s]"
     ]
    },
    {
     "name": "stdout",
     "output_type": "stream",
     "text": [
      "allowed_classes_set:  {0, 1, 2, 3, 4, 5, 6, 7, 8, 9, 10, 11, 12, 13}\n"
     ]
    },
    {
     "name": "stderr",
     "output_type": "stream",
     "text": [
      "  <SOLVER>   | Task: 1/1 | training loss: 0.368 | training precision: 0.844 |:  83%|████████▎ | 7879/9450 [04:20<00:52, 29.75it/s]"
     ]
    },
    {
     "name": "stdout",
     "output_type": "stream",
     "text": [
      "allowed_classes_set:  {0, 1, 2, 3, 4, 5, 6, 7, 8, 9, 10, 11, 12, 13}\n"
     ]
    },
    {
     "name": "stderr",
     "output_type": "stream",
     "text": [
      "  <SOLVER>   | Task: 1/1 | training loss: 0.399 | training precision: 0.844 |:  84%|████████▍ | 7945/9450 [04:22<00:36, 40.91it/s]"
     ]
    },
    {
     "name": "stdout",
     "output_type": "stream",
     "text": [
      "allowed_classes_set:  {0, 1, 2, 3, 4, 5, 6, 7, 8, 9, 10, 11, 12, 13}\n"
     ]
    },
    {
     "name": "stderr",
     "output_type": "stream",
     "text": [
      "  <SOLVER>   | Task: 1/1 | training loss: 0.444 | training precision: 0.844 |:  85%|████████▍ | 8005/9450 [04:23<00:55, 25.88it/s]"
     ]
    },
    {
     "name": "stdout",
     "output_type": "stream",
     "text": [
      "allowed_classes_set:  {0, 1, 2, 3, 4, 5, 6, 7, 8, 9, 10, 11, 12, 13}\n"
     ]
    },
    {
     "name": "stderr",
     "output_type": "stream",
     "text": [
      "  <SOLVER>   | Task: 1/1 | training loss: 0.323 | training precision: 0.906 |:  85%|████████▌ | 8067/9450 [04:26<01:14, 18.44it/s]"
     ]
    },
    {
     "name": "stdout",
     "output_type": "stream",
     "text": [
      "allowed_classes_set:  {0, 1, 2, 3, 4, 5, 6, 7, 8, 9, 10, 11, 12, 13}\n"
     ]
    },
    {
     "name": "stderr",
     "output_type": "stream",
     "text": [
      "  <SOLVER>   | Task: 1/1 | training loss: 0.613 | training precision: 0.781 |:  86%|████████▌ | 8130/9450 [04:28<00:56, 23.33it/s]"
     ]
    },
    {
     "name": "stdout",
     "output_type": "stream",
     "text": [
      "allowed_classes_set:  {0, 1, 2, 3, 4, 5, 6, 7, 8, 9, 10, 11, 12, 13}\n"
     ]
    },
    {
     "name": "stderr",
     "output_type": "stream",
     "text": [
      "  <SOLVER>   | Task: 1/1 | training loss: 0.82 | training precision: 0.75 |:  87%|████████▋ | 8193/9450 [04:31<00:54, 23.18it/s]  "
     ]
    },
    {
     "name": "stdout",
     "output_type": "stream",
     "text": [
      "allowed_classes_set:  {0, 1, 2, 3, 4, 5, 6, 7, 8, 9, 10, 11, 12, 13}\n"
     ]
    },
    {
     "name": "stderr",
     "output_type": "stream",
     "text": [
      "  <SOLVER>   | Task: 1/1 | training loss: 0.221 | training precision: 0.938 |:  87%|████████▋ | 8259/9450 [04:33<00:42, 28.21it/s]"
     ]
    },
    {
     "name": "stdout",
     "output_type": "stream",
     "text": [
      "allowed_classes_set:  {0, 1, 2, 3, 4, 5, 6, 7, 8, 9, 10, 11, 12, 13}\n"
     ]
    },
    {
     "name": "stderr",
     "output_type": "stream",
     "text": [
      "  <SOLVER>   | Task: 1/1 | training loss: 0.484 | training precision: 0.844 |:  88%|████████▊ | 8321/9450 [04:35<00:36, 31.22it/s]"
     ]
    },
    {
     "name": "stdout",
     "output_type": "stream",
     "text": [
      "allowed_classes_set:  {0, 1, 2, 3, 4, 5, 6, 7, 8, 9, 10, 11, 12, 13}\n"
     ]
    },
    {
     "name": "stderr",
     "output_type": "stream",
     "text": [
      "  <SOLVER>   | Task: 1/1 | training loss: 0.34 | training precision: 0.906 |:  89%|████████▊ | 8385/9450 [04:36<00:24, 44.06it/s] "
     ]
    },
    {
     "name": "stdout",
     "output_type": "stream",
     "text": [
      "allowed_classes_set:  {0, 1, 2, 3, 4, 5, 6, 7, 8, 9, 10, 11, 12, 13}\n"
     ]
    },
    {
     "name": "stderr",
     "output_type": "stream",
     "text": [
      "  <SOLVER>   | Task: 1/1 | training loss: 0.43 | training precision: 0.875 |:  89%|████████▉ | 8447/9450 [04:38<00:26, 37.38it/s] "
     ]
    },
    {
     "name": "stdout",
     "output_type": "stream",
     "text": [
      "allowed_classes_set:  {0, 1, 2, 3, 4, 5, 6, 7, 8, 9, 10, 11, 12, 13}\n"
     ]
    },
    {
     "name": "stderr",
     "output_type": "stream",
     "text": [
      "  <SOLVER>   | Task: 1/1 | training loss: 0.457 | training precision: 0.875 |:  90%|█████████ | 8511/9450 [04:40<00:30, 30.78it/s]"
     ]
    },
    {
     "name": "stdout",
     "output_type": "stream",
     "text": [
      "allowed_classes_set:  {0, 1, 2, 3, 4, 5, 6, 7, 8, 9, 10, 11, 12, 13}\n"
     ]
    },
    {
     "name": "stderr",
     "output_type": "stream",
     "text": [
      "  <SOLVER>   | Task: 1/1 | training loss: 0.317 | training precision: 0.906 |:  91%|█████████ | 8573/9450 [04:42<00:25, 34.03it/s]"
     ]
    },
    {
     "name": "stdout",
     "output_type": "stream",
     "text": [
      "allowed_classes_set:  {0, 1, 2, 3, 4, 5, 6, 7, 8, 9, 10, 11, 12, 13}\n"
     ]
    },
    {
     "name": "stderr",
     "output_type": "stream",
     "text": [
      "  <SOLVER>   | Task: 1/1 | training loss: 0.227 | training precision: 0.938 |:  91%|█████████▏| 8637/9450 [04:44<00:27, 30.02it/s]"
     ]
    },
    {
     "name": "stdout",
     "output_type": "stream",
     "text": [
      "allowed_classes_set:  {0, 1, 2, 3, 4, 5, 6, 7, 8, 9, 10, 11, 12, 13}\n"
     ]
    },
    {
     "name": "stderr",
     "output_type": "stream",
     "text": [
      "  <SOLVER>   | Task: 1/1 | training loss: 0.4 | training precision: 0.844 |:  92%|█████████▏| 8702/9450 [04:46<00:19, 38.77it/s]  "
     ]
    },
    {
     "name": "stdout",
     "output_type": "stream",
     "text": [
      "allowed_classes_set:  {0, 1, 2, 3, 4, 5, 6, 7, 8, 9, 10, 11, 12, 13}\n"
     ]
    },
    {
     "name": "stderr",
     "output_type": "stream",
     "text": [
      "  <SOLVER>   | Task: 1/1 | training loss: 0.44 | training precision: 0.844 |:  93%|█████████▎| 8761/9450 [04:48<00:23, 29.24it/s] "
     ]
    },
    {
     "name": "stdout",
     "output_type": "stream",
     "text": [
      "allowed_classes_set:  {0, 1, 2, 3, 4, 5, 6, 7, 8, 9, 10, 11, 12, 13}\n"
     ]
    },
    {
     "name": "stderr",
     "output_type": "stream",
     "text": [
      "  <SOLVER>   | Task: 1/1 | training loss: 0.354 | training precision: 0.938 |:  93%|█████████▎| 8828/9450 [04:49<00:13, 44.97it/s]"
     ]
    },
    {
     "name": "stdout",
     "output_type": "stream",
     "text": [
      "allowed_classes_set:  {0, 1, 2, 3, 4, 5, 6, 7, 8, 9, 10, 11, 12, 13}\n"
     ]
    },
    {
     "name": "stderr",
     "output_type": "stream",
     "text": [
      "  <SOLVER>   | Task: 1/1 | training loss: 0.386 | training precision: 0.844 |:  94%|█████████▍| 8889/9450 [04:51<00:16, 33.31it/s]"
     ]
    },
    {
     "name": "stdout",
     "output_type": "stream",
     "text": [
      "allowed_classes_set:  {0, 1, 2, 3, 4, 5, 6, 7, 8, 9, 10, 11, 12, 13}\n",
      "Epoch 141 best model saved with weighted f1: 0.6199511816124205, accuracy: 0.6116071428571429, loss 0.42339038848876953\n"
     ]
    },
    {
     "name": "stderr",
     "output_type": "stream",
     "text": [
      "  <SOLVER>   | Task: 1/1 | training loss: 0.47 | training precision: 0.875 |:  95%|█████████▍| 8949/9450 [04:53<00:22, 21.91it/s] "
     ]
    },
    {
     "name": "stdout",
     "output_type": "stream",
     "text": [
      "allowed_classes_set:  {0, 1, 2, 3, 4, 5, 6, 7, 8, 9, 10, 11, 12, 13}\n"
     ]
    },
    {
     "name": "stderr",
     "output_type": "stream",
     "text": [
      "  <SOLVER>   | Task: 1/1 | training loss: 0.314 | training precision: 0.875 |:  95%|█████████▌| 9009/9450 [04:56<00:22, 19.83it/s]"
     ]
    },
    {
     "name": "stdout",
     "output_type": "stream",
     "text": [
      "allowed_classes_set:  {0, 1, 2, 3, 4, 5, 6, 7, 8, 9, 10, 11, 12, 13}\n"
     ]
    },
    {
     "name": "stderr",
     "output_type": "stream",
     "text": [
      "  <SOLVER>   | Task: 1/1 | training loss: 0.25 | training precision: 0.969 |:  96%|█████████▌| 9077/9450 [04:59<00:14, 25.13it/s] "
     ]
    },
    {
     "name": "stdout",
     "output_type": "stream",
     "text": [
      "allowed_classes_set:  {0, 1, 2, 3, 4, 5, 6, 7, 8, 9, 10, 11, 12, 13}\n"
     ]
    },
    {
     "name": "stderr",
     "output_type": "stream",
     "text": [
      "  <SOLVER>   | Task: 1/1 | training loss: 0.398 | training precision: 0.875 |:  97%|█████████▋| 9138/9450 [05:01<00:07, 39.80it/s]"
     ]
    },
    {
     "name": "stdout",
     "output_type": "stream",
     "text": [
      "allowed_classes_set:  {0, 1, 2, 3, 4, 5, 6, 7, 8, 9, 10, 11, 12, 13}\n"
     ]
    },
    {
     "name": "stderr",
     "output_type": "stream",
     "text": [
      "  <SOLVER>   | Task: 1/1 | training loss: 0.189 | training precision: 0.906 |:  97%|█████████▋| 9204/9450 [05:03<00:07, 34.32it/s]"
     ]
    },
    {
     "name": "stdout",
     "output_type": "stream",
     "text": [
      "allowed_classes_set:  {0, 1, 2, 3, 4, 5, 6, 7, 8, 9, 10, 11, 12, 13}\n"
     ]
    },
    {
     "name": "stderr",
     "output_type": "stream",
     "text": [
      "  <SOLVER>   | Task: 1/1 | training loss: 0.27 | training precision: 0.906 |:  98%|█████████▊| 9267/9450 [05:05<00:04, 39.36it/s] "
     ]
    },
    {
     "name": "stdout",
     "output_type": "stream",
     "text": [
      "allowed_classes_set:  {0, 1, 2, 3, 4, 5, 6, 7, 8, 9, 10, 11, 12, 13}\n"
     ]
    },
    {
     "name": "stderr",
     "output_type": "stream",
     "text": [
      "  <SOLVER>   | Task: 1/1 | training loss: 0.441 | training precision: 0.906 |:  99%|█████████▊| 9329/9450 [05:06<00:03, 33.25it/s]"
     ]
    },
    {
     "name": "stdout",
     "output_type": "stream",
     "text": [
      "allowed_classes_set:  {0, 1, 2, 3, 4, 5, 6, 7, 8, 9, 10, 11, 12, 13}\n"
     ]
    },
    {
     "name": "stderr",
     "output_type": "stream",
     "text": [
      "  <SOLVER>   | Task: 1/1 | training loss: 0.729 | training precision: 0.781 |:  99%|█████████▉| 9390/9450 [05:08<00:02, 26.09it/s]"
     ]
    },
    {
     "name": "stdout",
     "output_type": "stream",
     "text": [
      "allowed_classes_set:  {0, 1, 2, 3, 4, 5, 6, 7, 8, 9, 10, 11, 12, 13}\n"
     ]
    },
    {
     "name": "stderr",
     "output_type": "stream",
     "text": [
      "  <SOLVER>   | Task: 1/1 | training loss: 0.45 | training precision: 0.938 |: 100%|██████████| 9450/9450 [05:10<00:00, 30.43it/s] "
     ]
    },
    {
     "name": "stdout",
     "output_type": "stream",
     "text": [
      "allowed_classes_set:  {0, 1, 2, 3, 4, 5, 6, 7, 8, 9, 10, 11, 12, 13}\n",
      "precision_dict:  {'per_task_acc': [[0.15625, 0.17410714285714285, 0.19642857142857142, 0.21428571428571427, 0.20535714285714285, 0.20982142857142858, 0.25, 0.23214285714285715, 0.23214285714285715, 0.2544642857142857, 0.25, 0.28125, 0.27232142857142855, 0.3169642857142857, 0.29910714285714285, 0.29910714285714285, 0.3169642857142857, 0.32142857142857145, 0.33035714285714285, 0.34375, 0.3125, 0.35267857142857145, 0.3392857142857143, 0.33482142857142855, 0.36160714285714285, 0.34375, 0.35267857142857145, 0.35267857142857145, 0.40625, 0.33035714285714285, 0.35267857142857145, 0.36607142857142855, 0.375, 0.35267857142857145, 0.4107142857142857, 0.36607142857142855, 0.39732142857142855, 0.32589285714285715, 0.38392857142857145, 0.4017857142857143, 0.42410714285714285, 0.45982142857142855, 0.4107142857142857, 0.4330357142857143, 0.4375, 0.4419642857142857, 0.44642857142857145, 0.4375, 0.41964285714285715, 0.45089285714285715, 0.45089285714285715, 0.45089285714285715, 0.46875, 0.48660714285714285, 0.44642857142857145, 0.44642857142857145, 0.45089285714285715, 0.4330357142857143, 0.47767857142857145, 0.45089285714285715, 0.47767857142857145, 0.46875, 0.45089285714285715, 0.46875, 0.5223214285714286, 0.5267857142857143, 0.5044642857142857, 0.49107142857142855, 0.49107142857142855, 0.48214285714285715, 0.48214285714285715, 0.5044642857142857, 0.5178571428571429, 0.5089285714285714, 0.5044642857142857, 0.53125, 0.48214285714285715, 0.5089285714285714, 0.5401785714285714, 0.53125, 0.5178571428571429, 0.5178571428571429, 0.49107142857142855, 0.5357142857142857, 0.5446428571428571, 0.5267857142857143, 0.5044642857142857, 0.6071428571428571, 0.5357142857142857, 0.5223214285714286, 0.5669642857142857, 0.5267857142857143, 0.5491071428571429, 0.5401785714285714, 0.5535714285714286, 0.5401785714285714, 0.5491071428571429, 0.5401785714285714, 0.5357142857142857, 0.5580357142857143, 0.5625, 0.5580357142857143, 0.5669642857142857, 0.5491071428571429, 0.53125, 0.5714285714285714, 0.5223214285714286, 0.5357142857142857, 0.5401785714285714, 0.5625, 0.5401785714285714, 0.5625, 0.5089285714285714, 0.5491071428571429, 0.5848214285714286, 0.5714285714285714, 0.5535714285714286, 0.5892857142857143, 0.5758928571428571, 0.5178571428571429, 0.5223214285714286, 0.53125, 0.5401785714285714, 0.5714285714285714, 0.5714285714285714, 0.5625, 0.5714285714285714, 0.5714285714285714, 0.5446428571428571, 0.5669642857142857, 0.5625, 0.5982142857142857, 0.5892857142857143, 0.53125, 0.5669642857142857, 0.5803571428571429, 0.5758928571428571, 0.5535714285714286, 0.5758928571428571, 0.6026785714285714, 0.6116071428571429, 0.5982142857142857, 0.5803571428571429, 0.5669642857142857, 0.5892857142857143, 0.5714285714285714, 0.5892857142857143, 0.5848214285714286, 0.6071428571428571, 0.5625]], 'per_task_weighted_f1': [[0.10819710019602742, 0.11276728169859422, 0.12306612144170047, 0.13744110411178878, 0.12398897321350277, 0.1451467138966435, 0.20838974005365324, 0.20349929851316978, 0.19797053703818915, 0.21904081160840264, 0.19881207761324302, 0.23539453289571272, 0.24789691265757116, 0.27589208943873755, 0.25867252865421775, 0.2657806552108023, 0.2837931199139753, 0.2961554679998371, 0.30701000461347594, 0.31326951333220704, 0.26774132814452223, 0.3432534654602119, 0.32648406381295975, 0.3271545365097954, 0.34026743971293144, 0.33445701707256337, 0.34930224801154297, 0.3374225325812499, 0.39032415390028496, 0.32075298328221413, 0.3529615665804918, 0.3372310273264274, 0.36927023435974843, 0.3419956827776705, 0.39256684372220485, 0.3567927196479666, 0.38966897910736786, 0.3103421613488008, 0.3675454594229479, 0.3819690317756433, 0.4280271802016692, 0.4679059684665292, 0.4073069850483767, 0.43211716459993504, 0.44072353011699406, 0.4366317815725684, 0.4304438823647178, 0.4329284829802829, 0.42128690297737315, 0.43863420365034456, 0.45006129117539295, 0.4476854958760141, 0.4628228571568797, 0.4792109409550345, 0.4449849510913341, 0.4376151787644128, 0.4437419896358103, 0.4205852129977074, 0.4876176258452287, 0.4451483965850551, 0.481539473541503, 0.46921048418485806, 0.46062048083007545, 0.46461216118992316, 0.5197800297276101, 0.5275263563923593, 0.49224967008189247, 0.500266057708203, 0.4808925245309389, 0.48416017954374463, 0.47466584534935846, 0.48849061259920934, 0.5068131523791448, 0.5077552617500711, 0.5037052562870726, 0.5188419959971299, 0.4791048290544554, 0.507379298377421, 0.5312668409481943, 0.5396394403536797, 0.5135835495574904, 0.5149859924846341, 0.4770394038944394, 0.540457139384664, 0.5441930742058165, 0.5253839322421099, 0.5137829302638623, 0.6055724212762028, 0.5312295804609469, 0.5281636334091141, 0.5636874047242533, 0.5338149485295598, 0.5605101756421632, 0.534654532105858, 0.5633343782771568, 0.5508270691032001, 0.5535667058875104, 0.5407890274627135, 0.5406614575512141, 0.5532815792310817, 0.568888039352992, 0.5647859680103703, 0.5606243625756278, 0.5421904052836561, 0.5339474514683962, 0.5698949982060564, 0.5236797944309947, 0.536534264955623, 0.5427724101108484, 0.5551618288647919, 0.5418362258368019, 0.5658889653021496, 0.5090753512856422, 0.5496617342595503, 0.5814995691457249, 0.5730548153110876, 0.5470305542597936, 0.5870039729807596, 0.5804338256165017, 0.518280916433559, 0.5208380412714574, 0.5332922268180637, 0.5370063226804577, 0.5726822264659088, 0.5636366266889227, 0.5668387888554991, 0.5794953523317627, 0.5712061332563677, 0.5376391480786394, 0.5614382908131963, 0.568323604694403, 0.5839260764888012, 0.593534662637588, 0.5238697623637567, 0.5773616616861871, 0.5832820606248964, 0.5719555179740518, 0.5542561627932859, 0.5772952088364168, 0.6007540311594812, 0.6199511816124205, 0.5974732673491846, 0.5646218019438148, 0.5622086305260166, 0.5879217656679903, 0.5677042768075512, 0.5866092567420963, 0.5863399839499477, 0.5985961376586376, 0.5722870448219827]], 'per_task_macro_f1': [[0.09166857736498357, 0.09029782541592125, 0.10323244072600739, 0.10610402134027977, 0.09842955359178593, 0.11139421760530724, 0.1729070661597624, 0.17496869051419478, 0.15587138297461187, 0.17496925290135495, 0.15423214242592564, 0.18451201788051488, 0.2030301124801217, 0.2226161838239049, 0.218982263209642, 0.23220753044807668, 0.2464197982452823, 0.24991755141727706, 0.25836201614336834, 0.2804827788523286, 0.2356344909872285, 0.28941779123442357, 0.30286294085490534, 0.2767971366016705, 0.300609742101428, 0.3042114747997101, 0.2982435366617674, 0.3052778105525891, 0.34180795411673875, 0.2959232453395432, 0.30653304107395934, 0.2979980798370868, 0.33729134469909045, 0.3054519447883669, 0.3560745571504313, 0.32908831514279974, 0.3615550767655214, 0.2641630887615039, 0.34015668988974285, 0.35649591112606677, 0.3785619872927934, 0.4214924564159098, 0.3649660199975507, 0.3899644171586424, 0.3865494456480416, 0.3804008570618764, 0.3934410056392844, 0.3982078529334457, 0.37892434671432224, 0.4038581316858532, 0.4187814976067545, 0.392740460492223, 0.41454680817141704, 0.44082681538503105, 0.40386292150999104, 0.399618523117402, 0.40435434332114467, 0.38633038354881616, 0.43137396484297164, 0.4024903203238576, 0.440069979191188, 0.4208824295556592, 0.4062188915206966, 0.4058654088688503, 0.48780501798068887, 0.47017754654309274, 0.45139926126294455, 0.45001325018526667, 0.442049490898751, 0.42353543817810635, 0.4412306259717723, 0.44009230510045566, 0.45067908748649865, 0.4651149385900762, 0.4437004391428236, 0.4784889569504143, 0.4474949607619178, 0.46837212566092423, 0.5006663871140661, 0.49141928186361955, 0.45685069269523343, 0.46295900960925584, 0.44954926851222327, 0.49540803757006363, 0.4872332458119702, 0.4861595199283057, 0.4644610644772806, 0.5740295263404507, 0.465088617386754, 0.49217881841333583, 0.5280072827340078, 0.4988167153053949, 0.5050728153833745, 0.5023541778914983, 0.5178875048679685, 0.5185623456912165, 0.5189937953745566, 0.5122744380966018, 0.4907171605156847, 0.5240465798818784, 0.5289394851058289, 0.5369614160112832, 0.5195956209426476, 0.5041993445198857, 0.5086917441321862, 0.5260048395851413, 0.49356150613339594, 0.5089956650230149, 0.5076491833684067, 0.5257164300751731, 0.4835132779833241, 0.5132289899664987, 0.45958835629592987, 0.5097316135690673, 0.5281347126696906, 0.5604575101837104, 0.5110494184497688, 0.5532191973725901, 0.5499500859249731, 0.502050626470684, 0.4861426581046203, 0.503287358192991, 0.5136207590598566, 0.5299334708576374, 0.5312864807749577, 0.536788968559944, 0.5348396725641964, 0.5313663522361971, 0.48593592524267937, 0.5069885222547035, 0.5366548538607362, 0.5482887608680352, 0.5553823435435306, 0.47964227919972047, 0.557847828627814, 0.5537658914462311, 0.5408761337578581, 0.522399144842462, 0.543141437332787, 0.5579629790361051, 0.5898553629800352, 0.577515154300446, 0.5362445977337138, 0.5511255541103777, 0.5607080423764245, 0.5410615749601818, 0.5529245354593787, 0.5549890490071528, 0.5650765900765901, 0.5477928731034322]], 'per_task_micro_f1': [[0.15625, 0.17410714285714285, 0.19642857142857142, 0.21428571428571427, 0.20535714285714285, 0.20982142857142858, 0.25, 0.23214285714285715, 0.23214285714285715, 0.2544642857142857, 0.25, 0.28125, 0.27232142857142855, 0.3169642857142857, 0.29910714285714285, 0.29910714285714285, 0.3169642857142857, 0.32142857142857145, 0.33035714285714285, 0.34375, 0.3125, 0.35267857142857145, 0.3392857142857143, 0.33482142857142855, 0.36160714285714285, 0.34375, 0.35267857142857145, 0.35267857142857145, 0.40625, 0.33035714285714285, 0.35267857142857145, 0.36607142857142855, 0.375, 0.35267857142857145, 0.4107142857142857, 0.36607142857142855, 0.3973214285714286, 0.32589285714285715, 0.38392857142857145, 0.4017857142857143, 0.42410714285714285, 0.45982142857142855, 0.4107142857142857, 0.4330357142857143, 0.4375, 0.4419642857142857, 0.44642857142857145, 0.4375, 0.41964285714285715, 0.45089285714285715, 0.45089285714285715, 0.45089285714285715, 0.46875, 0.48660714285714285, 0.44642857142857145, 0.44642857142857145, 0.45089285714285715, 0.4330357142857143, 0.47767857142857145, 0.45089285714285715, 0.47767857142857145, 0.46875, 0.45089285714285715, 0.46875, 0.5223214285714286, 0.5267857142857143, 0.5044642857142857, 0.49107142857142855, 0.49107142857142855, 0.48214285714285715, 0.48214285714285715, 0.5044642857142857, 0.5178571428571429, 0.5089285714285714, 0.5044642857142857, 0.53125, 0.48214285714285715, 0.5089285714285714, 0.5401785714285714, 0.53125, 0.5178571428571429, 0.5178571428571429, 0.49107142857142855, 0.5357142857142857, 0.5446428571428571, 0.5267857142857143, 0.5044642857142857, 0.6071428571428571, 0.5357142857142857, 0.5223214285714286, 0.5669642857142857, 0.5267857142857143, 0.5491071428571429, 0.5401785714285714, 0.5535714285714286, 0.5401785714285714, 0.5491071428571429, 0.5401785714285714, 0.5357142857142857, 0.5580357142857143, 0.5625, 0.5580357142857143, 0.5669642857142857, 0.5491071428571429, 0.53125, 0.5714285714285714, 0.5223214285714286, 0.5357142857142857, 0.5401785714285714, 0.5625, 0.5401785714285714, 0.5625, 0.5089285714285714, 0.5491071428571429, 0.5848214285714286, 0.5714285714285714, 0.5535714285714286, 0.5892857142857143, 0.5758928571428571, 0.5178571428571429, 0.5223214285714286, 0.53125, 0.5401785714285714, 0.5714285714285714, 0.5714285714285714, 0.5625, 0.5714285714285714, 0.5714285714285714, 0.5446428571428571, 0.5669642857142857, 0.5625, 0.5982142857142857, 0.5892857142857143, 0.53125, 0.5669642857142857, 0.5803571428571429, 0.5758928571428571, 0.5535714285714286, 0.5758928571428571, 0.6026785714285714, 0.6116071428571429, 0.5982142857142857, 0.5803571428571429, 0.5669642857142857, 0.5892857142857143, 0.5714285714285714, 0.5892857142857143, 0.5848214285714286, 0.6071428571428571, 0.5625]], 'per_task_weighted_prec': [[0.09857235210879582, 0.1460216281845495, 0.2249675628760047, 0.19897612577639753, 0.11050313299078497, 0.12796176606347415, 0.22834914978369922, 0.2373683464613916, 0.18641236995211652, 0.20119197373005146, 0.20002870322880253, 0.3332541379177791, 0.23204122875175506, 0.27559461561280296, 0.2900029064502749, 0.24999399263734076, 0.2945091225710463, 0.3015973703670657, 0.3736748755144691, 0.3188204156954157, 0.24258048705593344, 0.3781359916125541, 0.3927713481989798, 0.3643379932803115, 0.3375930059523809, 0.37487585627991965, 0.3581145173586676, 0.34626876908987275, 0.4123094017982449, 0.33467145648080526, 0.39383596787777975, 0.3297792980828695, 0.3907680692962951, 0.3503866358437399, 0.3943461467641682, 0.3666419740905308, 0.425622234386332, 0.36643704040320585, 0.38014505278313415, 0.425505179344465, 0.4607163989702752, 0.5052109880602528, 0.4328315231725101, 0.4644469246031746, 0.45907133051167687, 0.4420215780805329, 0.4402491253525088, 0.44851529027190473, 0.44238490467343855, 0.4628592715763768, 0.46472383915514864, 0.4627835907703776, 0.47412929221511774, 0.49659551021365483, 0.4624020416082773, 0.45289271394976843, 0.45586795736080993, 0.426116878734366, 0.5173459637351445, 0.46872188691183914, 0.5051018432688721, 0.4857706529581529, 0.4863226963060974, 0.4847592387770959, 0.5372063663240825, 0.5446665568141132, 0.5098221760430101, 0.533491513299526, 0.49937664325066705, 0.5066386162848746, 0.482615182867512, 0.5033262965887495, 0.5068886097933325, 0.5481210668769408, 0.5156325073735789, 0.539988756027359, 0.48681570289561726, 0.5286267421488287, 0.5621947041491422, 0.5655343561035525, 0.5442574979596582, 0.5331125050670891, 0.4809483504116656, 0.56802058249189, 0.574064341113132, 0.5485775189722558, 0.5455168413519254, 0.6409609533375981, 0.5434719922325655, 0.5530285166602874, 0.5932580165551775, 0.5557990221178077, 0.5957609688612288, 0.5512618963289178, 0.6018702256617017, 0.5830688492240398, 0.5784220253366278, 0.5660784852890431, 0.5621705075795466, 0.5890120589872474, 0.5974412598093863, 0.5826391513274737, 0.5764373145255922, 0.5609469352657468, 0.5486397778808493, 0.5971852482359281, 0.5391987509409971, 0.5546129076446376, 0.5766033785055524, 0.5938539622363151, 0.5560629726597384, 0.5775968448973792, 0.5258937608444187, 0.5680737627366846, 0.593836266770821, 0.5913203901021611, 0.5750936378907516, 0.6066920697379742, 0.5999759686483289, 0.5437801864730358, 0.5265026526915114, 0.5485557250289393, 0.5394571339147854, 0.5862362718980366, 0.5789200125879518, 0.5950384268169194, 0.6018949970223891, 0.5870809498041641, 0.5453814538635967, 0.5678100819009156, 0.5814674500336264, 0.5908405644454752, 0.6040653756918773, 0.5440933570397856, 0.5977635516742635, 0.5940669245553699, 0.5819466678598545, 0.5733315489720769, 0.5921508830805049, 0.621453666425471, 0.6550104749553279, 0.609084671728681, 0.5675535118496396, 0.570223921836825, 0.5927062596673786, 0.5724316306982562, 0.5950141107167505, 0.5935570191711578, 0.6020508833506878, 0.5933797583750543]], 'per_task_macro_prec': [[0.08586601716422894, 0.1100784047413261, 0.19836056564016175, 0.164290027605245, 0.08680103246972548, 0.09870555600369264, 0.18720594998396115, 0.2011695906432749, 0.14350278497743935, 0.1610813661128787, 0.1503641905925918, 0.24813713483286262, 0.19027634159213108, 0.22856227230559129, 0.2427164175284476, 0.22120170430592426, 0.2825453926660241, 0.2720610766829254, 0.31958874458874453, 0.30657576550433696, 0.21927801034943895, 0.3476499690785405, 0.3546423941160783, 0.3087366611321315, 0.3059736394557823, 0.3299080413831003, 0.30305307946933563, 0.3081255009534553, 0.37455312258550194, 0.3095888394207722, 0.3638426678496365, 0.28816944959802104, 0.36834340774432933, 0.3139392281861226, 0.363202342252397, 0.33813818373421645, 0.40242272347535496, 0.31800930898675267, 0.354588978758414, 0.404100185528757, 0.39595341678781576, 0.4553318690293481, 0.38405715052819545, 0.4264346764346764, 0.397112094104504, 0.3866955348572996, 0.4034780173877919, 0.41719122681263154, 0.39714910194233505, 0.42267952390132846, 0.4323682847238559, 0.4051633068882074, 0.4334334357833002, 0.45429039505222607, 0.4095263851327925, 0.4096739266188626, 0.41682089831980224, 0.3961727431420526, 0.46055653030442956, 0.429760727666348, 0.4576631700831267, 0.4288729128014842, 0.442844526668686, 0.41893899751042607, 0.517935348903394, 0.4821202293946655, 0.47840400650346704, 0.4844032166252304, 0.46518760514239144, 0.4397979229137047, 0.4467386219715412, 0.4705152303836514, 0.4597368622744562, 0.5035354630749367, 0.4618482707768422, 0.5019497195967785, 0.45689427003328537, 0.5041192360271307, 0.5328675141385226, 0.5225103930461072, 0.5251028316464926, 0.4863887688833117, 0.4514911115454594, 0.5385410923262585, 0.5576562571555359, 0.5191691140939261, 0.487298073075384, 0.6101346839598719, 0.47921229164180296, 0.5000620755548597, 0.5815351807485675, 0.519675153215408, 0.5382917904003707, 0.5319730780728223, 0.5492162132117999, 0.543523304547283, 0.5364146851186021, 0.5609764557997112, 0.5097067385110864, 0.5974965550885575, 0.5583858348244537, 0.5558641285614969, 0.5663496176975439, 0.5563378773662024, 0.5282480416408988, 0.5827624968544808, 0.5152855237911629, 0.5461649852985697, 0.5513809344554687, 0.5914588981815873, 0.48719491804541953, 0.5191390541723936, 0.48670956236745705, 0.5194380777114234, 0.5431080083802043, 0.5883624752168394, 0.5689355761511958, 0.5888514694415315, 0.5864214331217436, 0.5208069189120763, 0.49072475143903704, 0.5080016610373753, 0.5105172027098167, 0.5496208040325687, 0.5682054437026257, 0.5673688920012451, 0.5498109777459999, 0.54694715007215, 0.4890284318855747, 0.5139092425912416, 0.5425089826140245, 0.572410248481677, 0.5705252540492816, 0.4862347969490826, 0.5665983567633471, 0.5655688281190656, 0.5624287370397211, 0.5650900514254552, 0.5606182612905302, 0.6121528638445931, 0.6311967988438577, 0.5862919978127351, 0.5476282118827757, 0.5756867684287039, 0.5720455571452628, 0.547787160841348, 0.5646196884550921, 0.5582551248414508, 0.5800254761497879, 0.5601974155993585]], 'per_task_micro_prec': [[0.15625, 0.17410714285714285, 0.19642857142857142, 0.21428571428571427, 0.20535714285714285, 0.20982142857142858, 0.25, 0.23214285714285715, 0.23214285714285715, 0.2544642857142857, 0.25, 0.28125, 0.27232142857142855, 0.3169642857142857, 0.29910714285714285, 0.29910714285714285, 0.3169642857142857, 0.32142857142857145, 0.33035714285714285, 0.34375, 0.3125, 0.35267857142857145, 0.3392857142857143, 0.33482142857142855, 0.36160714285714285, 0.34375, 0.35267857142857145, 0.35267857142857145, 0.40625, 0.33035714285714285, 0.35267857142857145, 0.36607142857142855, 0.375, 0.35267857142857145, 0.4107142857142857, 0.36607142857142855, 0.39732142857142855, 0.32589285714285715, 0.38392857142857145, 0.4017857142857143, 0.42410714285714285, 0.45982142857142855, 0.4107142857142857, 0.4330357142857143, 0.4375, 0.4419642857142857, 0.44642857142857145, 0.4375, 0.41964285714285715, 0.45089285714285715, 0.45089285714285715, 0.45089285714285715, 0.46875, 0.48660714285714285, 0.44642857142857145, 0.44642857142857145, 0.45089285714285715, 0.4330357142857143, 0.47767857142857145, 0.45089285714285715, 0.47767857142857145, 0.46875, 0.45089285714285715, 0.46875, 0.5223214285714286, 0.5267857142857143, 0.5044642857142857, 0.49107142857142855, 0.49107142857142855, 0.48214285714285715, 0.48214285714285715, 0.5044642857142857, 0.5178571428571429, 0.5089285714285714, 0.5044642857142857, 0.53125, 0.48214285714285715, 0.5089285714285714, 0.5401785714285714, 0.53125, 0.5178571428571429, 0.5178571428571429, 0.49107142857142855, 0.5357142857142857, 0.5446428571428571, 0.5267857142857143, 0.5044642857142857, 0.6071428571428571, 0.5357142857142857, 0.5223214285714286, 0.5669642857142857, 0.5267857142857143, 0.5491071428571429, 0.5401785714285714, 0.5535714285714286, 0.5401785714285714, 0.5491071428571429, 0.5401785714285714, 0.5357142857142857, 0.5580357142857143, 0.5625, 0.5580357142857143, 0.5669642857142857, 0.5491071428571429, 0.53125, 0.5714285714285714, 0.5223214285714286, 0.5357142857142857, 0.5401785714285714, 0.5625, 0.5401785714285714, 0.5625, 0.5089285714285714, 0.5491071428571429, 0.5848214285714286, 0.5714285714285714, 0.5535714285714286, 0.5892857142857143, 0.5758928571428571, 0.5178571428571429, 0.5223214285714286, 0.53125, 0.5401785714285714, 0.5714285714285714, 0.5714285714285714, 0.5625, 0.5714285714285714, 0.5714285714285714, 0.5446428571428571, 0.5669642857142857, 0.5625, 0.5982142857142857, 0.5892857142857143, 0.53125, 0.5669642857142857, 0.5803571428571429, 0.5758928571428571, 0.5535714285714286, 0.5758928571428571, 0.6026785714285714, 0.6116071428571429, 0.5982142857142857, 0.5803571428571429, 0.5669642857142857, 0.5892857142857143, 0.5714285714285714, 0.5892857142857143, 0.5848214285714286, 0.6071428571428571, 0.5625]], 'per_task_weighted_rec': [[0.15625, 0.17410714285714285, 0.19642857142857142, 0.21428571428571427, 0.20535714285714285, 0.20982142857142858, 0.25, 0.23214285714285715, 0.23214285714285715, 0.2544642857142857, 0.25, 0.28125, 0.27232142857142855, 0.3169642857142857, 0.29910714285714285, 0.29910714285714285, 0.3169642857142857, 0.32142857142857145, 0.33035714285714285, 0.34375, 0.3125, 0.35267857142857145, 0.3392857142857143, 0.33482142857142855, 0.36160714285714285, 0.34375, 0.35267857142857145, 0.35267857142857145, 0.40625, 0.33035714285714285, 0.35267857142857145, 0.36607142857142855, 0.375, 0.35267857142857145, 0.4107142857142857, 0.36607142857142855, 0.39732142857142855, 0.32589285714285715, 0.38392857142857145, 0.4017857142857143, 0.42410714285714285, 0.45982142857142855, 0.4107142857142857, 0.4330357142857143, 0.4375, 0.4419642857142857, 0.44642857142857145, 0.4375, 0.41964285714285715, 0.45089285714285715, 0.45089285714285715, 0.45089285714285715, 0.46875, 0.48660714285714285, 0.44642857142857145, 0.44642857142857145, 0.45089285714285715, 0.4330357142857143, 0.47767857142857145, 0.45089285714285715, 0.47767857142857145, 0.46875, 0.45089285714285715, 0.46875, 0.5223214285714286, 0.5267857142857143, 0.5044642857142857, 0.49107142857142855, 0.49107142857142855, 0.48214285714285715, 0.48214285714285715, 0.5044642857142857, 0.5178571428571429, 0.5089285714285714, 0.5044642857142857, 0.53125, 0.48214285714285715, 0.5089285714285714, 0.5401785714285714, 0.53125, 0.5178571428571429, 0.5178571428571429, 0.49107142857142855, 0.5357142857142857, 0.5446428571428571, 0.5267857142857143, 0.5044642857142857, 0.6071428571428571, 0.5357142857142857, 0.5223214285714286, 0.5669642857142857, 0.5267857142857143, 0.5491071428571429, 0.5401785714285714, 0.5535714285714286, 0.5401785714285714, 0.5491071428571429, 0.5401785714285714, 0.5357142857142857, 0.5580357142857143, 0.5625, 0.5580357142857143, 0.5669642857142857, 0.5491071428571429, 0.53125, 0.5714285714285714, 0.5223214285714286, 0.5357142857142857, 0.5401785714285714, 0.5625, 0.5401785714285714, 0.5625, 0.5089285714285714, 0.5491071428571429, 0.5848214285714286, 0.5714285714285714, 0.5535714285714286, 0.5892857142857143, 0.5758928571428571, 0.5178571428571429, 0.5223214285714286, 0.53125, 0.5401785714285714, 0.5714285714285714, 0.5714285714285714, 0.5625, 0.5714285714285714, 0.5714285714285714, 0.5446428571428571, 0.5669642857142857, 0.5625, 0.5982142857142857, 0.5892857142857143, 0.53125, 0.5669642857142857, 0.5803571428571429, 0.5758928571428571, 0.5535714285714286, 0.5758928571428571, 0.6026785714285714, 0.6116071428571429, 0.5982142857142857, 0.5803571428571429, 0.5669642857142857, 0.5892857142857143, 0.5714285714285714, 0.5892857142857143, 0.5848214285714286, 0.6071428571428571, 0.5625]], 'per_task_macro_rec': [[0.13975427350427352, 0.13701465201465204, 0.16616910866910867, 0.16181166056166058, 0.15710927960927962, 0.1600924075924076, 0.21227673120530263, 0.2007382696668411, 0.18765912658769798, 0.20337690087690086, 0.198519536019536, 0.22246368710654427, 0.2224818633747205, 0.25313597117168546, 0.2540122179407894, 0.2606895683681398, 0.26539438735867305, 0.2745019266447838, 0.2737080181723039, 0.30661412000697713, 0.27469030969030966, 0.3022049973835688, 0.32876300287014576, 0.28997811712097427, 0.3173920722135008, 0.31928781535924394, 0.3048552241409384, 0.33211429443572305, 0.36129112950541525, 0.30775397221825795, 0.3062174333602905, 0.32923988709702995, 0.34089016142587575, 0.3266478759335902, 0.3735816366173509, 0.338739454989455, 0.37142369535226677, 0.28330368044653753, 0.35865184418755847, 0.3855155360512503, 0.3914025855097284, 0.41807466343180627, 0.38692924139352697, 0.3875622789908504, 0.39027831295688437, 0.38657057228485797, 0.4046660680589252, 0.4070797654726226, 0.3857608264751122, 0.41957060796346507, 0.42522511218939785, 0.400085569192712, 0.4130973391687678, 0.4489747157604301, 0.41842199467199465, 0.41235920825206535, 0.4126828528614243, 0.39864736454022165, 0.42265991944563375, 0.4016170932242361, 0.44770810538667677, 0.427787728144871, 0.3931130377558949, 0.41498753230896085, 0.4848705461205461, 0.4813806629878058, 0.46117723546294975, 0.4486781472495758, 0.4528940107511536, 0.4364952111380683, 0.4611545597259883, 0.44121677925249353, 0.45621307264164407, 0.4728320489034775, 0.4475129235843522, 0.4952789670646814, 0.4502922276136561, 0.46615997098139955, 0.5084589814946957, 0.48497567908282185, 0.4522833317476174, 0.4643590734662163, 0.4633966232180518, 0.492870066441495, 0.4788788790574504, 0.47946264053406906, 0.4645738388595531, 0.5753124653124654, 0.4712223292580435, 0.5040851410494268, 0.5232631455845741, 0.4944453760525188, 0.5069627792842079, 0.5042057545628974, 0.5175117541188969, 0.5156270911628054, 0.5196346312417741, 0.5034759882974169, 0.4925009316080744, 0.5263351925851926, 0.5257152173223602, 0.532149457685172, 0.5220048998620428, 0.5060359085359085, 0.5059218757433043, 0.5271577034077034, 0.49210694067836924, 0.5053634857206285, 0.5054831874474731, 0.5272824199609913, 0.4934995758210044, 0.5178587285730143, 0.4582038794538795, 0.5164695820052964, 0.5357643150500293, 0.5583941851798995, 0.5198714579071722, 0.5475488598702883, 0.5438189588189587, 0.5042384599527455, 0.4897540752897895, 0.5165526933384076, 0.5228790852005137, 0.524416773702488, 0.5251638044495187, 0.5367787966002251, 0.5357407275264418, 0.5344547912405054, 0.49919310847882276, 0.512670127491556, 0.5382808064950921, 0.5540727922870781, 0.5521954632668918, 0.5008179122464836, 0.562481486767201, 0.5566257353757353, 0.539728822764537, 0.5156188454402739, 0.549372730444159, 0.5527963702963703, 0.5908182690325547, 0.5810638567781424, 0.545262099012099, 0.54685532721247, 0.5579015032586461, 0.5434018164375307, 0.5566292239506525, 0.5580907584479012, 0.566343339200482, 0.5457111142825428]], 'per_task_micro_rec': [[0.15625, 0.17410714285714285, 0.19642857142857142, 0.21428571428571427, 0.20535714285714285, 0.20982142857142858, 0.25, 0.23214285714285715, 0.23214285714285715, 0.2544642857142857, 0.25, 0.28125, 0.27232142857142855, 0.3169642857142857, 0.29910714285714285, 0.29910714285714285, 0.3169642857142857, 0.32142857142857145, 0.33035714285714285, 0.34375, 0.3125, 0.35267857142857145, 0.3392857142857143, 0.33482142857142855, 0.36160714285714285, 0.34375, 0.35267857142857145, 0.35267857142857145, 0.40625, 0.33035714285714285, 0.35267857142857145, 0.36607142857142855, 0.375, 0.35267857142857145, 0.4107142857142857, 0.36607142857142855, 0.39732142857142855, 0.32589285714285715, 0.38392857142857145, 0.4017857142857143, 0.42410714285714285, 0.45982142857142855, 0.4107142857142857, 0.4330357142857143, 0.4375, 0.4419642857142857, 0.44642857142857145, 0.4375, 0.41964285714285715, 0.45089285714285715, 0.45089285714285715, 0.45089285714285715, 0.46875, 0.48660714285714285, 0.44642857142857145, 0.44642857142857145, 0.45089285714285715, 0.4330357142857143, 0.47767857142857145, 0.45089285714285715, 0.47767857142857145, 0.46875, 0.45089285714285715, 0.46875, 0.5223214285714286, 0.5267857142857143, 0.5044642857142857, 0.49107142857142855, 0.49107142857142855, 0.48214285714285715, 0.48214285714285715, 0.5044642857142857, 0.5178571428571429, 0.5089285714285714, 0.5044642857142857, 0.53125, 0.48214285714285715, 0.5089285714285714, 0.5401785714285714, 0.53125, 0.5178571428571429, 0.5178571428571429, 0.49107142857142855, 0.5357142857142857, 0.5446428571428571, 0.5267857142857143, 0.5044642857142857, 0.6071428571428571, 0.5357142857142857, 0.5223214285714286, 0.5669642857142857, 0.5267857142857143, 0.5491071428571429, 0.5401785714285714, 0.5535714285714286, 0.5401785714285714, 0.5491071428571429, 0.5401785714285714, 0.5357142857142857, 0.5580357142857143, 0.5625, 0.5580357142857143, 0.5669642857142857, 0.5491071428571429, 0.53125, 0.5714285714285714, 0.5223214285714286, 0.5357142857142857, 0.5401785714285714, 0.5625, 0.5401785714285714, 0.5625, 0.5089285714285714, 0.5491071428571429, 0.5848214285714286, 0.5714285714285714, 0.5535714285714286, 0.5892857142857143, 0.5758928571428571, 0.5178571428571429, 0.5223214285714286, 0.53125, 0.5401785714285714, 0.5714285714285714, 0.5714285714285714, 0.5625, 0.5714285714285714, 0.5714285714285714, 0.5446428571428571, 0.5669642857142857, 0.5625, 0.5982142857142857, 0.5892857142857143, 0.53125, 0.5669642857142857, 0.5803571428571429, 0.5758928571428571, 0.5535714285714286, 0.5758928571428571, 0.6026785714285714, 0.6116071428571429, 0.5982142857142857, 0.5803571428571429, 0.5669642857142857, 0.5892857142857143, 0.5714285714285714, 0.5892857142857143, 0.5848214285714286, 0.6071428571428571, 0.5625]], 'x_iteration': [63, 126, 189, 252, 315, 378, 441, 504, 567, 630, 693, 756, 819, 882, 945, 1008, 1071, 1134, 1197, 1260, 1323, 1386, 1449, 1512, 1575, 1638, 1701, 1764, 1827, 1890, 1953, 2016, 2079, 2142, 2205, 2268, 2331, 2394, 2457, 2520, 2583, 2646, 2709, 2772, 2835, 2898, 2961, 3024, 3087, 3150, 3213, 3276, 3339, 3402, 3465, 3528, 3591, 3654, 3717, 3780, 3843, 3906, 3969, 4032, 4095, 4158, 4221, 4284, 4347, 4410, 4473, 4536, 4599, 4662, 4725, 4788, 4851, 4914, 4977, 5040, 5103, 5166, 5229, 5292, 5355, 5418, 5481, 5544, 5607, 5670, 5733, 5796, 5859, 5922, 5985, 6048, 6111, 6174, 6237, 6300, 6363, 6426, 6489, 6552, 6615, 6678, 6741, 6804, 6867, 6930, 6993, 7056, 7119, 7182, 7245, 7308, 7371, 7434, 7497, 7560, 7623, 7686, 7749, 7812, 7875, 7938, 8001, 8064, 8127, 8190, 8253, 8316, 8379, 8442, 8505, 8568, 8631, 8694, 8757, 8820, 8883, 8946, 9009, 9072, 9135, 9198, 9261, 9324, 9387, 9450], 'x_task': [1, 1, 1, 1, 1, 1, 1, 1, 1, 1, 1, 1, 1, 1, 1, 1, 1, 1, 1, 1, 1, 1, 1, 1, 1, 1, 1, 1, 1, 1, 1, 1, 1, 1, 1, 1, 1, 1, 1, 1, 1, 1, 1, 1, 1, 1, 1, 1, 1, 1, 1, 1, 1, 1, 1, 1, 1, 1, 1, 1, 1, 1, 1, 1, 1, 1, 1, 1, 1, 1, 1, 1, 1, 1, 1, 1, 1, 1, 1, 1, 1, 1, 1, 1, 1, 1, 1, 1, 1, 1, 1, 1, 1, 1, 1, 1, 1, 1, 1, 1, 1, 1, 1, 1, 1, 1, 1, 1, 1, 1, 1, 1, 1, 1, 1, 1, 1, 1, 1, 1, 1, 1, 1, 1, 1, 1, 1, 1, 1, 1, 1, 1, 1, 1, 1, 1, 1, 1, 1, 1, 1, 1, 1, 1, 1, 1, 1, 1, 1, 1], 'all_tasks_acc': [], 'all_tasks_weighted_f1': [], 'all_tasks_macro_f1': [], 'all_tasks_micro_f1': [], 'all_tasks_weighted_prec': [], 'all_tasks_macro_prec': [], 'all_tasks_micro_prec': [], 'all_tasks_weighted_rec': [], 'all_tasks_macro_rec': [], 'all_tasks_micro_rec': []}\n",
      "total_time:  310.59524035453796\n",
      "eval_time:  25.168075561523438\n",
      "train_time_ewc_update:  0.0\n",
      "train_time_ewc_loss:  0.0\n",
      "train_time_si_update:  0.0\n",
      "train_time_si_loss:  0.0\n",
      "train_time_si_running_weights:  0.0\n",
      "train_time_lwf_update:  0.0\n",
      "train_time_lwf_loss:  0.0\n",
      "train_time_icarl_construct:  0.0\n",
      "train_time_icarl_reduce:  0.0\n",
      "train_time_icarl_loss:  0.0\n",
      "train_time_gem_update_memory:  0.0\n",
      "train_time_gem_compute_gradient:  0.0\n",
      "train_time_gem_violation_check:  0.0\n",
      "only train_time:  285.4271647930145\n",
      "../data/saved_model/weighted_best_exp2_lstm_joint_emotion-fbanks-frames10_clsSeq1_t1_hp1.pth\n",
      "args fc_lay: 1, fc_units: 64, lr: 0.001000, lr2: 0.001000, batch: 32, budget_size: 0, args.hp: 1, total epochs: 141, weighted_f1: 0.619951\n",
      "saved_model_epoch_l:  [141]\n",
      "acc_D1_temp:  0.6199511816124205\n",
      "acc_D1_max:  0.6199511816124205\n",
      "\n",
      "=======================================\n",
      "============ All Finished =============\n",
      "=======================================\n",
      "precision_dict_list_list:  [[{'per_task_acc': [[0.15625, 0.17410714285714285, 0.19642857142857142, 0.21428571428571427, 0.20535714285714285, 0.20982142857142858, 0.25, 0.23214285714285715, 0.23214285714285715, 0.2544642857142857, 0.25, 0.28125, 0.27232142857142855, 0.3169642857142857, 0.29910714285714285, 0.29910714285714285, 0.3169642857142857, 0.32142857142857145, 0.33035714285714285, 0.34375, 0.3125, 0.35267857142857145, 0.3392857142857143, 0.33482142857142855, 0.36160714285714285, 0.34375, 0.35267857142857145, 0.35267857142857145, 0.40625, 0.33035714285714285, 0.35267857142857145, 0.36607142857142855, 0.375, 0.35267857142857145, 0.4107142857142857, 0.36607142857142855, 0.39732142857142855, 0.32589285714285715, 0.38392857142857145, 0.4017857142857143, 0.42410714285714285, 0.45982142857142855, 0.4107142857142857, 0.4330357142857143, 0.4375, 0.4419642857142857, 0.44642857142857145, 0.4375, 0.41964285714285715, 0.45089285714285715, 0.45089285714285715, 0.45089285714285715, 0.46875, 0.48660714285714285, 0.44642857142857145, 0.44642857142857145, 0.45089285714285715, 0.4330357142857143, 0.47767857142857145, 0.45089285714285715, 0.47767857142857145, 0.46875, 0.45089285714285715, 0.46875, 0.5223214285714286, 0.5267857142857143, 0.5044642857142857, 0.49107142857142855, 0.49107142857142855, 0.48214285714285715, 0.48214285714285715, 0.5044642857142857, 0.5178571428571429, 0.5089285714285714, 0.5044642857142857, 0.53125, 0.48214285714285715, 0.5089285714285714, 0.5401785714285714, 0.53125, 0.5178571428571429, 0.5178571428571429, 0.49107142857142855, 0.5357142857142857, 0.5446428571428571, 0.5267857142857143, 0.5044642857142857, 0.6071428571428571, 0.5357142857142857, 0.5223214285714286, 0.5669642857142857, 0.5267857142857143, 0.5491071428571429, 0.5401785714285714, 0.5535714285714286, 0.5401785714285714, 0.5491071428571429, 0.5401785714285714, 0.5357142857142857, 0.5580357142857143, 0.5625, 0.5580357142857143, 0.5669642857142857, 0.5491071428571429, 0.53125, 0.5714285714285714, 0.5223214285714286, 0.5357142857142857, 0.5401785714285714, 0.5625, 0.5401785714285714, 0.5625, 0.5089285714285714, 0.5491071428571429, 0.5848214285714286, 0.5714285714285714, 0.5535714285714286, 0.5892857142857143, 0.5758928571428571, 0.5178571428571429, 0.5223214285714286, 0.53125, 0.5401785714285714, 0.5714285714285714, 0.5714285714285714, 0.5625, 0.5714285714285714, 0.5714285714285714, 0.5446428571428571, 0.5669642857142857, 0.5625, 0.5982142857142857, 0.5892857142857143, 0.53125, 0.5669642857142857, 0.5803571428571429, 0.5758928571428571, 0.5535714285714286, 0.5758928571428571, 0.6026785714285714, 0.6116071428571429, 0.5982142857142857, 0.5803571428571429, 0.5669642857142857, 0.5892857142857143, 0.5714285714285714, 0.5892857142857143, 0.5848214285714286, 0.6071428571428571, 0.5625]], 'per_task_weighted_f1': [[0.10819710019602742, 0.11276728169859422, 0.12306612144170047, 0.13744110411178878, 0.12398897321350277, 0.1451467138966435, 0.20838974005365324, 0.20349929851316978, 0.19797053703818915, 0.21904081160840264, 0.19881207761324302, 0.23539453289571272, 0.24789691265757116, 0.27589208943873755, 0.25867252865421775, 0.2657806552108023, 0.2837931199139753, 0.2961554679998371, 0.30701000461347594, 0.31326951333220704, 0.26774132814452223, 0.3432534654602119, 0.32648406381295975, 0.3271545365097954, 0.34026743971293144, 0.33445701707256337, 0.34930224801154297, 0.3374225325812499, 0.39032415390028496, 0.32075298328221413, 0.3529615665804918, 0.3372310273264274, 0.36927023435974843, 0.3419956827776705, 0.39256684372220485, 0.3567927196479666, 0.38966897910736786, 0.3103421613488008, 0.3675454594229479, 0.3819690317756433, 0.4280271802016692, 0.4679059684665292, 0.4073069850483767, 0.43211716459993504, 0.44072353011699406, 0.4366317815725684, 0.4304438823647178, 0.4329284829802829, 0.42128690297737315, 0.43863420365034456, 0.45006129117539295, 0.4476854958760141, 0.4628228571568797, 0.4792109409550345, 0.4449849510913341, 0.4376151787644128, 0.4437419896358103, 0.4205852129977074, 0.4876176258452287, 0.4451483965850551, 0.481539473541503, 0.46921048418485806, 0.46062048083007545, 0.46461216118992316, 0.5197800297276101, 0.5275263563923593, 0.49224967008189247, 0.500266057708203, 0.4808925245309389, 0.48416017954374463, 0.47466584534935846, 0.48849061259920934, 0.5068131523791448, 0.5077552617500711, 0.5037052562870726, 0.5188419959971299, 0.4791048290544554, 0.507379298377421, 0.5312668409481943, 0.5396394403536797, 0.5135835495574904, 0.5149859924846341, 0.4770394038944394, 0.540457139384664, 0.5441930742058165, 0.5253839322421099, 0.5137829302638623, 0.6055724212762028, 0.5312295804609469, 0.5281636334091141, 0.5636874047242533, 0.5338149485295598, 0.5605101756421632, 0.534654532105858, 0.5633343782771568, 0.5508270691032001, 0.5535667058875104, 0.5407890274627135, 0.5406614575512141, 0.5532815792310817, 0.568888039352992, 0.5647859680103703, 0.5606243625756278, 0.5421904052836561, 0.5339474514683962, 0.5698949982060564, 0.5236797944309947, 0.536534264955623, 0.5427724101108484, 0.5551618288647919, 0.5418362258368019, 0.5658889653021496, 0.5090753512856422, 0.5496617342595503, 0.5814995691457249, 0.5730548153110876, 0.5470305542597936, 0.5870039729807596, 0.5804338256165017, 0.518280916433559, 0.5208380412714574, 0.5332922268180637, 0.5370063226804577, 0.5726822264659088, 0.5636366266889227, 0.5668387888554991, 0.5794953523317627, 0.5712061332563677, 0.5376391480786394, 0.5614382908131963, 0.568323604694403, 0.5839260764888012, 0.593534662637588, 0.5238697623637567, 0.5773616616861871, 0.5832820606248964, 0.5719555179740518, 0.5542561627932859, 0.5772952088364168, 0.6007540311594812, 0.6199511816124205, 0.5974732673491846, 0.5646218019438148, 0.5622086305260166, 0.5879217656679903, 0.5677042768075512, 0.5866092567420963, 0.5863399839499477, 0.5985961376586376, 0.5722870448219827]], 'per_task_macro_f1': [[0.09166857736498357, 0.09029782541592125, 0.10323244072600739, 0.10610402134027977, 0.09842955359178593, 0.11139421760530724, 0.1729070661597624, 0.17496869051419478, 0.15587138297461187, 0.17496925290135495, 0.15423214242592564, 0.18451201788051488, 0.2030301124801217, 0.2226161838239049, 0.218982263209642, 0.23220753044807668, 0.2464197982452823, 0.24991755141727706, 0.25836201614336834, 0.2804827788523286, 0.2356344909872285, 0.28941779123442357, 0.30286294085490534, 0.2767971366016705, 0.300609742101428, 0.3042114747997101, 0.2982435366617674, 0.3052778105525891, 0.34180795411673875, 0.2959232453395432, 0.30653304107395934, 0.2979980798370868, 0.33729134469909045, 0.3054519447883669, 0.3560745571504313, 0.32908831514279974, 0.3615550767655214, 0.2641630887615039, 0.34015668988974285, 0.35649591112606677, 0.3785619872927934, 0.4214924564159098, 0.3649660199975507, 0.3899644171586424, 0.3865494456480416, 0.3804008570618764, 0.3934410056392844, 0.3982078529334457, 0.37892434671432224, 0.4038581316858532, 0.4187814976067545, 0.392740460492223, 0.41454680817141704, 0.44082681538503105, 0.40386292150999104, 0.399618523117402, 0.40435434332114467, 0.38633038354881616, 0.43137396484297164, 0.4024903203238576, 0.440069979191188, 0.4208824295556592, 0.4062188915206966, 0.4058654088688503, 0.48780501798068887, 0.47017754654309274, 0.45139926126294455, 0.45001325018526667, 0.442049490898751, 0.42353543817810635, 0.4412306259717723, 0.44009230510045566, 0.45067908748649865, 0.4651149385900762, 0.4437004391428236, 0.4784889569504143, 0.4474949607619178, 0.46837212566092423, 0.5006663871140661, 0.49141928186361955, 0.45685069269523343, 0.46295900960925584, 0.44954926851222327, 0.49540803757006363, 0.4872332458119702, 0.4861595199283057, 0.4644610644772806, 0.5740295263404507, 0.465088617386754, 0.49217881841333583, 0.5280072827340078, 0.4988167153053949, 0.5050728153833745, 0.5023541778914983, 0.5178875048679685, 0.5185623456912165, 0.5189937953745566, 0.5122744380966018, 0.4907171605156847, 0.5240465798818784, 0.5289394851058289, 0.5369614160112832, 0.5195956209426476, 0.5041993445198857, 0.5086917441321862, 0.5260048395851413, 0.49356150613339594, 0.5089956650230149, 0.5076491833684067, 0.5257164300751731, 0.4835132779833241, 0.5132289899664987, 0.45958835629592987, 0.5097316135690673, 0.5281347126696906, 0.5604575101837104, 0.5110494184497688, 0.5532191973725901, 0.5499500859249731, 0.502050626470684, 0.4861426581046203, 0.503287358192991, 0.5136207590598566, 0.5299334708576374, 0.5312864807749577, 0.536788968559944, 0.5348396725641964, 0.5313663522361971, 0.48593592524267937, 0.5069885222547035, 0.5366548538607362, 0.5482887608680352, 0.5553823435435306, 0.47964227919972047, 0.557847828627814, 0.5537658914462311, 0.5408761337578581, 0.522399144842462, 0.543141437332787, 0.5579629790361051, 0.5898553629800352, 0.577515154300446, 0.5362445977337138, 0.5511255541103777, 0.5607080423764245, 0.5410615749601818, 0.5529245354593787, 0.5549890490071528, 0.5650765900765901, 0.5477928731034322]], 'per_task_micro_f1': [[0.15625, 0.17410714285714285, 0.19642857142857142, 0.21428571428571427, 0.20535714285714285, 0.20982142857142858, 0.25, 0.23214285714285715, 0.23214285714285715, 0.2544642857142857, 0.25, 0.28125, 0.27232142857142855, 0.3169642857142857, 0.29910714285714285, 0.29910714285714285, 0.3169642857142857, 0.32142857142857145, 0.33035714285714285, 0.34375, 0.3125, 0.35267857142857145, 0.3392857142857143, 0.33482142857142855, 0.36160714285714285, 0.34375, 0.35267857142857145, 0.35267857142857145, 0.40625, 0.33035714285714285, 0.35267857142857145, 0.36607142857142855, 0.375, 0.35267857142857145, 0.4107142857142857, 0.36607142857142855, 0.3973214285714286, 0.32589285714285715, 0.38392857142857145, 0.4017857142857143, 0.42410714285714285, 0.45982142857142855, 0.4107142857142857, 0.4330357142857143, 0.4375, 0.4419642857142857, 0.44642857142857145, 0.4375, 0.41964285714285715, 0.45089285714285715, 0.45089285714285715, 0.45089285714285715, 0.46875, 0.48660714285714285, 0.44642857142857145, 0.44642857142857145, 0.45089285714285715, 0.4330357142857143, 0.47767857142857145, 0.45089285714285715, 0.47767857142857145, 0.46875, 0.45089285714285715, 0.46875, 0.5223214285714286, 0.5267857142857143, 0.5044642857142857, 0.49107142857142855, 0.49107142857142855, 0.48214285714285715, 0.48214285714285715, 0.5044642857142857, 0.5178571428571429, 0.5089285714285714, 0.5044642857142857, 0.53125, 0.48214285714285715, 0.5089285714285714, 0.5401785714285714, 0.53125, 0.5178571428571429, 0.5178571428571429, 0.49107142857142855, 0.5357142857142857, 0.5446428571428571, 0.5267857142857143, 0.5044642857142857, 0.6071428571428571, 0.5357142857142857, 0.5223214285714286, 0.5669642857142857, 0.5267857142857143, 0.5491071428571429, 0.5401785714285714, 0.5535714285714286, 0.5401785714285714, 0.5491071428571429, 0.5401785714285714, 0.5357142857142857, 0.5580357142857143, 0.5625, 0.5580357142857143, 0.5669642857142857, 0.5491071428571429, 0.53125, 0.5714285714285714, 0.5223214285714286, 0.5357142857142857, 0.5401785714285714, 0.5625, 0.5401785714285714, 0.5625, 0.5089285714285714, 0.5491071428571429, 0.5848214285714286, 0.5714285714285714, 0.5535714285714286, 0.5892857142857143, 0.5758928571428571, 0.5178571428571429, 0.5223214285714286, 0.53125, 0.5401785714285714, 0.5714285714285714, 0.5714285714285714, 0.5625, 0.5714285714285714, 0.5714285714285714, 0.5446428571428571, 0.5669642857142857, 0.5625, 0.5982142857142857, 0.5892857142857143, 0.53125, 0.5669642857142857, 0.5803571428571429, 0.5758928571428571, 0.5535714285714286, 0.5758928571428571, 0.6026785714285714, 0.6116071428571429, 0.5982142857142857, 0.5803571428571429, 0.5669642857142857, 0.5892857142857143, 0.5714285714285714, 0.5892857142857143, 0.5848214285714286, 0.6071428571428571, 0.5625]], 'per_task_weighted_prec': [[0.09857235210879582, 0.1460216281845495, 0.2249675628760047, 0.19897612577639753, 0.11050313299078497, 0.12796176606347415, 0.22834914978369922, 0.2373683464613916, 0.18641236995211652, 0.20119197373005146, 0.20002870322880253, 0.3332541379177791, 0.23204122875175506, 0.27559461561280296, 0.2900029064502749, 0.24999399263734076, 0.2945091225710463, 0.3015973703670657, 0.3736748755144691, 0.3188204156954157, 0.24258048705593344, 0.3781359916125541, 0.3927713481989798, 0.3643379932803115, 0.3375930059523809, 0.37487585627991965, 0.3581145173586676, 0.34626876908987275, 0.4123094017982449, 0.33467145648080526, 0.39383596787777975, 0.3297792980828695, 0.3907680692962951, 0.3503866358437399, 0.3943461467641682, 0.3666419740905308, 0.425622234386332, 0.36643704040320585, 0.38014505278313415, 0.425505179344465, 0.4607163989702752, 0.5052109880602528, 0.4328315231725101, 0.4644469246031746, 0.45907133051167687, 0.4420215780805329, 0.4402491253525088, 0.44851529027190473, 0.44238490467343855, 0.4628592715763768, 0.46472383915514864, 0.4627835907703776, 0.47412929221511774, 0.49659551021365483, 0.4624020416082773, 0.45289271394976843, 0.45586795736080993, 0.426116878734366, 0.5173459637351445, 0.46872188691183914, 0.5051018432688721, 0.4857706529581529, 0.4863226963060974, 0.4847592387770959, 0.5372063663240825, 0.5446665568141132, 0.5098221760430101, 0.533491513299526, 0.49937664325066705, 0.5066386162848746, 0.482615182867512, 0.5033262965887495, 0.5068886097933325, 0.5481210668769408, 0.5156325073735789, 0.539988756027359, 0.48681570289561726, 0.5286267421488287, 0.5621947041491422, 0.5655343561035525, 0.5442574979596582, 0.5331125050670891, 0.4809483504116656, 0.56802058249189, 0.574064341113132, 0.5485775189722558, 0.5455168413519254, 0.6409609533375981, 0.5434719922325655, 0.5530285166602874, 0.5932580165551775, 0.5557990221178077, 0.5957609688612288, 0.5512618963289178, 0.6018702256617017, 0.5830688492240398, 0.5784220253366278, 0.5660784852890431, 0.5621705075795466, 0.5890120589872474, 0.5974412598093863, 0.5826391513274737, 0.5764373145255922, 0.5609469352657468, 0.5486397778808493, 0.5971852482359281, 0.5391987509409971, 0.5546129076446376, 0.5766033785055524, 0.5938539622363151, 0.5560629726597384, 0.5775968448973792, 0.5258937608444187, 0.5680737627366846, 0.593836266770821, 0.5913203901021611, 0.5750936378907516, 0.6066920697379742, 0.5999759686483289, 0.5437801864730358, 0.5265026526915114, 0.5485557250289393, 0.5394571339147854, 0.5862362718980366, 0.5789200125879518, 0.5950384268169194, 0.6018949970223891, 0.5870809498041641, 0.5453814538635967, 0.5678100819009156, 0.5814674500336264, 0.5908405644454752, 0.6040653756918773, 0.5440933570397856, 0.5977635516742635, 0.5940669245553699, 0.5819466678598545, 0.5733315489720769, 0.5921508830805049, 0.621453666425471, 0.6550104749553279, 0.609084671728681, 0.5675535118496396, 0.570223921836825, 0.5927062596673786, 0.5724316306982562, 0.5950141107167505, 0.5935570191711578, 0.6020508833506878, 0.5933797583750543]], 'per_task_macro_prec': [[0.08586601716422894, 0.1100784047413261, 0.19836056564016175, 0.164290027605245, 0.08680103246972548, 0.09870555600369264, 0.18720594998396115, 0.2011695906432749, 0.14350278497743935, 0.1610813661128787, 0.1503641905925918, 0.24813713483286262, 0.19027634159213108, 0.22856227230559129, 0.2427164175284476, 0.22120170430592426, 0.2825453926660241, 0.2720610766829254, 0.31958874458874453, 0.30657576550433696, 0.21927801034943895, 0.3476499690785405, 0.3546423941160783, 0.3087366611321315, 0.3059736394557823, 0.3299080413831003, 0.30305307946933563, 0.3081255009534553, 0.37455312258550194, 0.3095888394207722, 0.3638426678496365, 0.28816944959802104, 0.36834340774432933, 0.3139392281861226, 0.363202342252397, 0.33813818373421645, 0.40242272347535496, 0.31800930898675267, 0.354588978758414, 0.404100185528757, 0.39595341678781576, 0.4553318690293481, 0.38405715052819545, 0.4264346764346764, 0.397112094104504, 0.3866955348572996, 0.4034780173877919, 0.41719122681263154, 0.39714910194233505, 0.42267952390132846, 0.4323682847238559, 0.4051633068882074, 0.4334334357833002, 0.45429039505222607, 0.4095263851327925, 0.4096739266188626, 0.41682089831980224, 0.3961727431420526, 0.46055653030442956, 0.429760727666348, 0.4576631700831267, 0.4288729128014842, 0.442844526668686, 0.41893899751042607, 0.517935348903394, 0.4821202293946655, 0.47840400650346704, 0.4844032166252304, 0.46518760514239144, 0.4397979229137047, 0.4467386219715412, 0.4705152303836514, 0.4597368622744562, 0.5035354630749367, 0.4618482707768422, 0.5019497195967785, 0.45689427003328537, 0.5041192360271307, 0.5328675141385226, 0.5225103930461072, 0.5251028316464926, 0.4863887688833117, 0.4514911115454594, 0.5385410923262585, 0.5576562571555359, 0.5191691140939261, 0.487298073075384, 0.6101346839598719, 0.47921229164180296, 0.5000620755548597, 0.5815351807485675, 0.519675153215408, 0.5382917904003707, 0.5319730780728223, 0.5492162132117999, 0.543523304547283, 0.5364146851186021, 0.5609764557997112, 0.5097067385110864, 0.5974965550885575, 0.5583858348244537, 0.5558641285614969, 0.5663496176975439, 0.5563378773662024, 0.5282480416408988, 0.5827624968544808, 0.5152855237911629, 0.5461649852985697, 0.5513809344554687, 0.5914588981815873, 0.48719491804541953, 0.5191390541723936, 0.48670956236745705, 0.5194380777114234, 0.5431080083802043, 0.5883624752168394, 0.5689355761511958, 0.5888514694415315, 0.5864214331217436, 0.5208069189120763, 0.49072475143903704, 0.5080016610373753, 0.5105172027098167, 0.5496208040325687, 0.5682054437026257, 0.5673688920012451, 0.5498109777459999, 0.54694715007215, 0.4890284318855747, 0.5139092425912416, 0.5425089826140245, 0.572410248481677, 0.5705252540492816, 0.4862347969490826, 0.5665983567633471, 0.5655688281190656, 0.5624287370397211, 0.5650900514254552, 0.5606182612905302, 0.6121528638445931, 0.6311967988438577, 0.5862919978127351, 0.5476282118827757, 0.5756867684287039, 0.5720455571452628, 0.547787160841348, 0.5646196884550921, 0.5582551248414508, 0.5800254761497879, 0.5601974155993585]], 'per_task_micro_prec': [[0.15625, 0.17410714285714285, 0.19642857142857142, 0.21428571428571427, 0.20535714285714285, 0.20982142857142858, 0.25, 0.23214285714285715, 0.23214285714285715, 0.2544642857142857, 0.25, 0.28125, 0.27232142857142855, 0.3169642857142857, 0.29910714285714285, 0.29910714285714285, 0.3169642857142857, 0.32142857142857145, 0.33035714285714285, 0.34375, 0.3125, 0.35267857142857145, 0.3392857142857143, 0.33482142857142855, 0.36160714285714285, 0.34375, 0.35267857142857145, 0.35267857142857145, 0.40625, 0.33035714285714285, 0.35267857142857145, 0.36607142857142855, 0.375, 0.35267857142857145, 0.4107142857142857, 0.36607142857142855, 0.39732142857142855, 0.32589285714285715, 0.38392857142857145, 0.4017857142857143, 0.42410714285714285, 0.45982142857142855, 0.4107142857142857, 0.4330357142857143, 0.4375, 0.4419642857142857, 0.44642857142857145, 0.4375, 0.41964285714285715, 0.45089285714285715, 0.45089285714285715, 0.45089285714285715, 0.46875, 0.48660714285714285, 0.44642857142857145, 0.44642857142857145, 0.45089285714285715, 0.4330357142857143, 0.47767857142857145, 0.45089285714285715, 0.47767857142857145, 0.46875, 0.45089285714285715, 0.46875, 0.5223214285714286, 0.5267857142857143, 0.5044642857142857, 0.49107142857142855, 0.49107142857142855, 0.48214285714285715, 0.48214285714285715, 0.5044642857142857, 0.5178571428571429, 0.5089285714285714, 0.5044642857142857, 0.53125, 0.48214285714285715, 0.5089285714285714, 0.5401785714285714, 0.53125, 0.5178571428571429, 0.5178571428571429, 0.49107142857142855, 0.5357142857142857, 0.5446428571428571, 0.5267857142857143, 0.5044642857142857, 0.6071428571428571, 0.5357142857142857, 0.5223214285714286, 0.5669642857142857, 0.5267857142857143, 0.5491071428571429, 0.5401785714285714, 0.5535714285714286, 0.5401785714285714, 0.5491071428571429, 0.5401785714285714, 0.5357142857142857, 0.5580357142857143, 0.5625, 0.5580357142857143, 0.5669642857142857, 0.5491071428571429, 0.53125, 0.5714285714285714, 0.5223214285714286, 0.5357142857142857, 0.5401785714285714, 0.5625, 0.5401785714285714, 0.5625, 0.5089285714285714, 0.5491071428571429, 0.5848214285714286, 0.5714285714285714, 0.5535714285714286, 0.5892857142857143, 0.5758928571428571, 0.5178571428571429, 0.5223214285714286, 0.53125, 0.5401785714285714, 0.5714285714285714, 0.5714285714285714, 0.5625, 0.5714285714285714, 0.5714285714285714, 0.5446428571428571, 0.5669642857142857, 0.5625, 0.5982142857142857, 0.5892857142857143, 0.53125, 0.5669642857142857, 0.5803571428571429, 0.5758928571428571, 0.5535714285714286, 0.5758928571428571, 0.6026785714285714, 0.6116071428571429, 0.5982142857142857, 0.5803571428571429, 0.5669642857142857, 0.5892857142857143, 0.5714285714285714, 0.5892857142857143, 0.5848214285714286, 0.6071428571428571, 0.5625]], 'per_task_weighted_rec': [[0.15625, 0.17410714285714285, 0.19642857142857142, 0.21428571428571427, 0.20535714285714285, 0.20982142857142858, 0.25, 0.23214285714285715, 0.23214285714285715, 0.2544642857142857, 0.25, 0.28125, 0.27232142857142855, 0.3169642857142857, 0.29910714285714285, 0.29910714285714285, 0.3169642857142857, 0.32142857142857145, 0.33035714285714285, 0.34375, 0.3125, 0.35267857142857145, 0.3392857142857143, 0.33482142857142855, 0.36160714285714285, 0.34375, 0.35267857142857145, 0.35267857142857145, 0.40625, 0.33035714285714285, 0.35267857142857145, 0.36607142857142855, 0.375, 0.35267857142857145, 0.4107142857142857, 0.36607142857142855, 0.39732142857142855, 0.32589285714285715, 0.38392857142857145, 0.4017857142857143, 0.42410714285714285, 0.45982142857142855, 0.4107142857142857, 0.4330357142857143, 0.4375, 0.4419642857142857, 0.44642857142857145, 0.4375, 0.41964285714285715, 0.45089285714285715, 0.45089285714285715, 0.45089285714285715, 0.46875, 0.48660714285714285, 0.44642857142857145, 0.44642857142857145, 0.45089285714285715, 0.4330357142857143, 0.47767857142857145, 0.45089285714285715, 0.47767857142857145, 0.46875, 0.45089285714285715, 0.46875, 0.5223214285714286, 0.5267857142857143, 0.5044642857142857, 0.49107142857142855, 0.49107142857142855, 0.48214285714285715, 0.48214285714285715, 0.5044642857142857, 0.5178571428571429, 0.5089285714285714, 0.5044642857142857, 0.53125, 0.48214285714285715, 0.5089285714285714, 0.5401785714285714, 0.53125, 0.5178571428571429, 0.5178571428571429, 0.49107142857142855, 0.5357142857142857, 0.5446428571428571, 0.5267857142857143, 0.5044642857142857, 0.6071428571428571, 0.5357142857142857, 0.5223214285714286, 0.5669642857142857, 0.5267857142857143, 0.5491071428571429, 0.5401785714285714, 0.5535714285714286, 0.5401785714285714, 0.5491071428571429, 0.5401785714285714, 0.5357142857142857, 0.5580357142857143, 0.5625, 0.5580357142857143, 0.5669642857142857, 0.5491071428571429, 0.53125, 0.5714285714285714, 0.5223214285714286, 0.5357142857142857, 0.5401785714285714, 0.5625, 0.5401785714285714, 0.5625, 0.5089285714285714, 0.5491071428571429, 0.5848214285714286, 0.5714285714285714, 0.5535714285714286, 0.5892857142857143, 0.5758928571428571, 0.5178571428571429, 0.5223214285714286, 0.53125, 0.5401785714285714, 0.5714285714285714, 0.5714285714285714, 0.5625, 0.5714285714285714, 0.5714285714285714, 0.5446428571428571, 0.5669642857142857, 0.5625, 0.5982142857142857, 0.5892857142857143, 0.53125, 0.5669642857142857, 0.5803571428571429, 0.5758928571428571, 0.5535714285714286, 0.5758928571428571, 0.6026785714285714, 0.6116071428571429, 0.5982142857142857, 0.5803571428571429, 0.5669642857142857, 0.5892857142857143, 0.5714285714285714, 0.5892857142857143, 0.5848214285714286, 0.6071428571428571, 0.5625]], 'per_task_macro_rec': [[0.13975427350427352, 0.13701465201465204, 0.16616910866910867, 0.16181166056166058, 0.15710927960927962, 0.1600924075924076, 0.21227673120530263, 0.2007382696668411, 0.18765912658769798, 0.20337690087690086, 0.198519536019536, 0.22246368710654427, 0.2224818633747205, 0.25313597117168546, 0.2540122179407894, 0.2606895683681398, 0.26539438735867305, 0.2745019266447838, 0.2737080181723039, 0.30661412000697713, 0.27469030969030966, 0.3022049973835688, 0.32876300287014576, 0.28997811712097427, 0.3173920722135008, 0.31928781535924394, 0.3048552241409384, 0.33211429443572305, 0.36129112950541525, 0.30775397221825795, 0.3062174333602905, 0.32923988709702995, 0.34089016142587575, 0.3266478759335902, 0.3735816366173509, 0.338739454989455, 0.37142369535226677, 0.28330368044653753, 0.35865184418755847, 0.3855155360512503, 0.3914025855097284, 0.41807466343180627, 0.38692924139352697, 0.3875622789908504, 0.39027831295688437, 0.38657057228485797, 0.4046660680589252, 0.4070797654726226, 0.3857608264751122, 0.41957060796346507, 0.42522511218939785, 0.400085569192712, 0.4130973391687678, 0.4489747157604301, 0.41842199467199465, 0.41235920825206535, 0.4126828528614243, 0.39864736454022165, 0.42265991944563375, 0.4016170932242361, 0.44770810538667677, 0.427787728144871, 0.3931130377558949, 0.41498753230896085, 0.4848705461205461, 0.4813806629878058, 0.46117723546294975, 0.4486781472495758, 0.4528940107511536, 0.4364952111380683, 0.4611545597259883, 0.44121677925249353, 0.45621307264164407, 0.4728320489034775, 0.4475129235843522, 0.4952789670646814, 0.4502922276136561, 0.46615997098139955, 0.5084589814946957, 0.48497567908282185, 0.4522833317476174, 0.4643590734662163, 0.4633966232180518, 0.492870066441495, 0.4788788790574504, 0.47946264053406906, 0.4645738388595531, 0.5753124653124654, 0.4712223292580435, 0.5040851410494268, 0.5232631455845741, 0.4944453760525188, 0.5069627792842079, 0.5042057545628974, 0.5175117541188969, 0.5156270911628054, 0.5196346312417741, 0.5034759882974169, 0.4925009316080744, 0.5263351925851926, 0.5257152173223602, 0.532149457685172, 0.5220048998620428, 0.5060359085359085, 0.5059218757433043, 0.5271577034077034, 0.49210694067836924, 0.5053634857206285, 0.5054831874474731, 0.5272824199609913, 0.4934995758210044, 0.5178587285730143, 0.4582038794538795, 0.5164695820052964, 0.5357643150500293, 0.5583941851798995, 0.5198714579071722, 0.5475488598702883, 0.5438189588189587, 0.5042384599527455, 0.4897540752897895, 0.5165526933384076, 0.5228790852005137, 0.524416773702488, 0.5251638044495187, 0.5367787966002251, 0.5357407275264418, 0.5344547912405054, 0.49919310847882276, 0.512670127491556, 0.5382808064950921, 0.5540727922870781, 0.5521954632668918, 0.5008179122464836, 0.562481486767201, 0.5566257353757353, 0.539728822764537, 0.5156188454402739, 0.549372730444159, 0.5527963702963703, 0.5908182690325547, 0.5810638567781424, 0.545262099012099, 0.54685532721247, 0.5579015032586461, 0.5434018164375307, 0.5566292239506525, 0.5580907584479012, 0.566343339200482, 0.5457111142825428]], 'per_task_micro_rec': [[0.15625, 0.17410714285714285, 0.19642857142857142, 0.21428571428571427, 0.20535714285714285, 0.20982142857142858, 0.25, 0.23214285714285715, 0.23214285714285715, 0.2544642857142857, 0.25, 0.28125, 0.27232142857142855, 0.3169642857142857, 0.29910714285714285, 0.29910714285714285, 0.3169642857142857, 0.32142857142857145, 0.33035714285714285, 0.34375, 0.3125, 0.35267857142857145, 0.3392857142857143, 0.33482142857142855, 0.36160714285714285, 0.34375, 0.35267857142857145, 0.35267857142857145, 0.40625, 0.33035714285714285, 0.35267857142857145, 0.36607142857142855, 0.375, 0.35267857142857145, 0.4107142857142857, 0.36607142857142855, 0.39732142857142855, 0.32589285714285715, 0.38392857142857145, 0.4017857142857143, 0.42410714285714285, 0.45982142857142855, 0.4107142857142857, 0.4330357142857143, 0.4375, 0.4419642857142857, 0.44642857142857145, 0.4375, 0.41964285714285715, 0.45089285714285715, 0.45089285714285715, 0.45089285714285715, 0.46875, 0.48660714285714285, 0.44642857142857145, 0.44642857142857145, 0.45089285714285715, 0.4330357142857143, 0.47767857142857145, 0.45089285714285715, 0.47767857142857145, 0.46875, 0.45089285714285715, 0.46875, 0.5223214285714286, 0.5267857142857143, 0.5044642857142857, 0.49107142857142855, 0.49107142857142855, 0.48214285714285715, 0.48214285714285715, 0.5044642857142857, 0.5178571428571429, 0.5089285714285714, 0.5044642857142857, 0.53125, 0.48214285714285715, 0.5089285714285714, 0.5401785714285714, 0.53125, 0.5178571428571429, 0.5178571428571429, 0.49107142857142855, 0.5357142857142857, 0.5446428571428571, 0.5267857142857143, 0.5044642857142857, 0.6071428571428571, 0.5357142857142857, 0.5223214285714286, 0.5669642857142857, 0.5267857142857143, 0.5491071428571429, 0.5401785714285714, 0.5535714285714286, 0.5401785714285714, 0.5491071428571429, 0.5401785714285714, 0.5357142857142857, 0.5580357142857143, 0.5625, 0.5580357142857143, 0.5669642857142857, 0.5491071428571429, 0.53125, 0.5714285714285714, 0.5223214285714286, 0.5357142857142857, 0.5401785714285714, 0.5625, 0.5401785714285714, 0.5625, 0.5089285714285714, 0.5491071428571429, 0.5848214285714286, 0.5714285714285714, 0.5535714285714286, 0.5892857142857143, 0.5758928571428571, 0.5178571428571429, 0.5223214285714286, 0.53125, 0.5401785714285714, 0.5714285714285714, 0.5714285714285714, 0.5625, 0.5714285714285714, 0.5714285714285714, 0.5446428571428571, 0.5669642857142857, 0.5625, 0.5982142857142857, 0.5892857142857143, 0.53125, 0.5669642857142857, 0.5803571428571429, 0.5758928571428571, 0.5535714285714286, 0.5758928571428571, 0.6026785714285714, 0.6116071428571429, 0.5982142857142857, 0.5803571428571429, 0.5669642857142857, 0.5892857142857143, 0.5714285714285714, 0.5892857142857143, 0.5848214285714286, 0.6071428571428571, 0.5625]], 'x_iteration': [63, 126, 189, 252, 315, 378, 441, 504, 567, 630, 693, 756, 819, 882, 945, 1008, 1071, 1134, 1197, 1260, 1323, 1386, 1449, 1512, 1575, 1638, 1701, 1764, 1827, 1890, 1953, 2016, 2079, 2142, 2205, 2268, 2331, 2394, 2457, 2520, 2583, 2646, 2709, 2772, 2835, 2898, 2961, 3024, 3087, 3150, 3213, 3276, 3339, 3402, 3465, 3528, 3591, 3654, 3717, 3780, 3843, 3906, 3969, 4032, 4095, 4158, 4221, 4284, 4347, 4410, 4473, 4536, 4599, 4662, 4725, 4788, 4851, 4914, 4977, 5040, 5103, 5166, 5229, 5292, 5355, 5418, 5481, 5544, 5607, 5670, 5733, 5796, 5859, 5922, 5985, 6048, 6111, 6174, 6237, 6300, 6363, 6426, 6489, 6552, 6615, 6678, 6741, 6804, 6867, 6930, 6993, 7056, 7119, 7182, 7245, 7308, 7371, 7434, 7497, 7560, 7623, 7686, 7749, 7812, 7875, 7938, 8001, 8064, 8127, 8190, 8253, 8316, 8379, 8442, 8505, 8568, 8631, 8694, 8757, 8820, 8883, 8946, 9009, 9072, 9135, 9198, 9261, 9324, 9387, 9450], 'x_task': [1, 1, 1, 1, 1, 1, 1, 1, 1, 1, 1, 1, 1, 1, 1, 1, 1, 1, 1, 1, 1, 1, 1, 1, 1, 1, 1, 1, 1, 1, 1, 1, 1, 1, 1, 1, 1, 1, 1, 1, 1, 1, 1, 1, 1, 1, 1, 1, 1, 1, 1, 1, 1, 1, 1, 1, 1, 1, 1, 1, 1, 1, 1, 1, 1, 1, 1, 1, 1, 1, 1, 1, 1, 1, 1, 1, 1, 1, 1, 1, 1, 1, 1, 1, 1, 1, 1, 1, 1, 1, 1, 1, 1, 1, 1, 1, 1, 1, 1, 1, 1, 1, 1, 1, 1, 1, 1, 1, 1, 1, 1, 1, 1, 1, 1, 1, 1, 1, 1, 1, 1, 1, 1, 1, 1, 1, 1, 1, 1, 1, 1, 1, 1, 1, 1, 1, 1, 1, 1, 1, 1, 1, 1, 1, 1, 1, 1, 1, 1, 1], 'all_tasks_acc': [], 'all_tasks_weighted_f1': [], 'all_tasks_macro_f1': [], 'all_tasks_micro_f1': [], 'all_tasks_weighted_prec': [], 'all_tasks_macro_prec': [], 'all_tasks_micro_prec': [], 'all_tasks_weighted_rec': [], 'all_tasks_macro_rec': [], 'all_tasks_micro_rec': []}]]\n",
      "\n",
      "===== final summary of average metrics and forgetting =====\n",
      "\n",
      "Best precision_dict_list [{'per_task_acc': [[0.15625, 0.17410714285714285, 0.19642857142857142, 0.21428571428571427, 0.20535714285714285, 0.20982142857142858, 0.25, 0.23214285714285715, 0.23214285714285715, 0.2544642857142857, 0.25, 0.28125, 0.27232142857142855, 0.3169642857142857, 0.29910714285714285, 0.29910714285714285, 0.3169642857142857, 0.32142857142857145, 0.33035714285714285, 0.34375, 0.3125, 0.35267857142857145, 0.3392857142857143, 0.33482142857142855, 0.36160714285714285, 0.34375, 0.35267857142857145, 0.35267857142857145, 0.40625, 0.33035714285714285, 0.35267857142857145, 0.36607142857142855, 0.375, 0.35267857142857145, 0.4107142857142857, 0.36607142857142855, 0.39732142857142855, 0.32589285714285715, 0.38392857142857145, 0.4017857142857143, 0.42410714285714285, 0.45982142857142855, 0.4107142857142857, 0.4330357142857143, 0.4375, 0.4419642857142857, 0.44642857142857145, 0.4375, 0.41964285714285715, 0.45089285714285715, 0.45089285714285715, 0.45089285714285715, 0.46875, 0.48660714285714285, 0.44642857142857145, 0.44642857142857145, 0.45089285714285715, 0.4330357142857143, 0.47767857142857145, 0.45089285714285715, 0.47767857142857145, 0.46875, 0.45089285714285715, 0.46875, 0.5223214285714286, 0.5267857142857143, 0.5044642857142857, 0.49107142857142855, 0.49107142857142855, 0.48214285714285715, 0.48214285714285715, 0.5044642857142857, 0.5178571428571429, 0.5089285714285714, 0.5044642857142857, 0.53125, 0.48214285714285715, 0.5089285714285714, 0.5401785714285714, 0.53125, 0.5178571428571429, 0.5178571428571429, 0.49107142857142855, 0.5357142857142857, 0.5446428571428571, 0.5267857142857143, 0.5044642857142857, 0.6071428571428571, 0.5357142857142857, 0.5223214285714286, 0.5669642857142857, 0.5267857142857143, 0.5491071428571429, 0.5401785714285714, 0.5535714285714286, 0.5401785714285714, 0.5491071428571429, 0.5401785714285714, 0.5357142857142857, 0.5580357142857143, 0.5625, 0.5580357142857143, 0.5669642857142857, 0.5491071428571429, 0.53125, 0.5714285714285714, 0.5223214285714286, 0.5357142857142857, 0.5401785714285714, 0.5625, 0.5401785714285714, 0.5625, 0.5089285714285714, 0.5491071428571429, 0.5848214285714286, 0.5714285714285714, 0.5535714285714286, 0.5892857142857143, 0.5758928571428571, 0.5178571428571429, 0.5223214285714286, 0.53125, 0.5401785714285714, 0.5714285714285714, 0.5714285714285714, 0.5625, 0.5714285714285714, 0.5714285714285714, 0.5446428571428571, 0.5669642857142857, 0.5625, 0.5982142857142857, 0.5892857142857143, 0.53125, 0.5669642857142857, 0.5803571428571429, 0.5758928571428571, 0.5535714285714286, 0.5758928571428571, 0.6026785714285714, 0.6116071428571429, 0.5982142857142857, 0.5803571428571429, 0.5669642857142857, 0.5892857142857143, 0.5714285714285714, 0.5892857142857143, 0.5848214285714286, 0.6071428571428571, 0.5625]], 'per_task_weighted_f1': [[0.10819710019602742, 0.11276728169859422, 0.12306612144170047, 0.13744110411178878, 0.12398897321350277, 0.1451467138966435, 0.20838974005365324, 0.20349929851316978, 0.19797053703818915, 0.21904081160840264, 0.19881207761324302, 0.23539453289571272, 0.24789691265757116, 0.27589208943873755, 0.25867252865421775, 0.2657806552108023, 0.2837931199139753, 0.2961554679998371, 0.30701000461347594, 0.31326951333220704, 0.26774132814452223, 0.3432534654602119, 0.32648406381295975, 0.3271545365097954, 0.34026743971293144, 0.33445701707256337, 0.34930224801154297, 0.3374225325812499, 0.39032415390028496, 0.32075298328221413, 0.3529615665804918, 0.3372310273264274, 0.36927023435974843, 0.3419956827776705, 0.39256684372220485, 0.3567927196479666, 0.38966897910736786, 0.3103421613488008, 0.3675454594229479, 0.3819690317756433, 0.4280271802016692, 0.4679059684665292, 0.4073069850483767, 0.43211716459993504, 0.44072353011699406, 0.4366317815725684, 0.4304438823647178, 0.4329284829802829, 0.42128690297737315, 0.43863420365034456, 0.45006129117539295, 0.4476854958760141, 0.4628228571568797, 0.4792109409550345, 0.4449849510913341, 0.4376151787644128, 0.4437419896358103, 0.4205852129977074, 0.4876176258452287, 0.4451483965850551, 0.481539473541503, 0.46921048418485806, 0.46062048083007545, 0.46461216118992316, 0.5197800297276101, 0.5275263563923593, 0.49224967008189247, 0.500266057708203, 0.4808925245309389, 0.48416017954374463, 0.47466584534935846, 0.48849061259920934, 0.5068131523791448, 0.5077552617500711, 0.5037052562870726, 0.5188419959971299, 0.4791048290544554, 0.507379298377421, 0.5312668409481943, 0.5396394403536797, 0.5135835495574904, 0.5149859924846341, 0.4770394038944394, 0.540457139384664, 0.5441930742058165, 0.5253839322421099, 0.5137829302638623, 0.6055724212762028, 0.5312295804609469, 0.5281636334091141, 0.5636874047242533, 0.5338149485295598, 0.5605101756421632, 0.534654532105858, 0.5633343782771568, 0.5508270691032001, 0.5535667058875104, 0.5407890274627135, 0.5406614575512141, 0.5532815792310817, 0.568888039352992, 0.5647859680103703, 0.5606243625756278, 0.5421904052836561, 0.5339474514683962, 0.5698949982060564, 0.5236797944309947, 0.536534264955623, 0.5427724101108484, 0.5551618288647919, 0.5418362258368019, 0.5658889653021496, 0.5090753512856422, 0.5496617342595503, 0.5814995691457249, 0.5730548153110876, 0.5470305542597936, 0.5870039729807596, 0.5804338256165017, 0.518280916433559, 0.5208380412714574, 0.5332922268180637, 0.5370063226804577, 0.5726822264659088, 0.5636366266889227, 0.5668387888554991, 0.5794953523317627, 0.5712061332563677, 0.5376391480786394, 0.5614382908131963, 0.568323604694403, 0.5839260764888012, 0.593534662637588, 0.5238697623637567, 0.5773616616861871, 0.5832820606248964, 0.5719555179740518, 0.5542561627932859, 0.5772952088364168, 0.6007540311594812, 0.6199511816124205, 0.5974732673491846, 0.5646218019438148, 0.5622086305260166, 0.5879217656679903, 0.5677042768075512, 0.5866092567420963, 0.5863399839499477, 0.5985961376586376, 0.5722870448219827]], 'per_task_macro_f1': [[0.09166857736498357, 0.09029782541592125, 0.10323244072600739, 0.10610402134027977, 0.09842955359178593, 0.11139421760530724, 0.1729070661597624, 0.17496869051419478, 0.15587138297461187, 0.17496925290135495, 0.15423214242592564, 0.18451201788051488, 0.2030301124801217, 0.2226161838239049, 0.218982263209642, 0.23220753044807668, 0.2464197982452823, 0.24991755141727706, 0.25836201614336834, 0.2804827788523286, 0.2356344909872285, 0.28941779123442357, 0.30286294085490534, 0.2767971366016705, 0.300609742101428, 0.3042114747997101, 0.2982435366617674, 0.3052778105525891, 0.34180795411673875, 0.2959232453395432, 0.30653304107395934, 0.2979980798370868, 0.33729134469909045, 0.3054519447883669, 0.3560745571504313, 0.32908831514279974, 0.3615550767655214, 0.2641630887615039, 0.34015668988974285, 0.35649591112606677, 0.3785619872927934, 0.4214924564159098, 0.3649660199975507, 0.3899644171586424, 0.3865494456480416, 0.3804008570618764, 0.3934410056392844, 0.3982078529334457, 0.37892434671432224, 0.4038581316858532, 0.4187814976067545, 0.392740460492223, 0.41454680817141704, 0.44082681538503105, 0.40386292150999104, 0.399618523117402, 0.40435434332114467, 0.38633038354881616, 0.43137396484297164, 0.4024903203238576, 0.440069979191188, 0.4208824295556592, 0.4062188915206966, 0.4058654088688503, 0.48780501798068887, 0.47017754654309274, 0.45139926126294455, 0.45001325018526667, 0.442049490898751, 0.42353543817810635, 0.4412306259717723, 0.44009230510045566, 0.45067908748649865, 0.4651149385900762, 0.4437004391428236, 0.4784889569504143, 0.4474949607619178, 0.46837212566092423, 0.5006663871140661, 0.49141928186361955, 0.45685069269523343, 0.46295900960925584, 0.44954926851222327, 0.49540803757006363, 0.4872332458119702, 0.4861595199283057, 0.4644610644772806, 0.5740295263404507, 0.465088617386754, 0.49217881841333583, 0.5280072827340078, 0.4988167153053949, 0.5050728153833745, 0.5023541778914983, 0.5178875048679685, 0.5185623456912165, 0.5189937953745566, 0.5122744380966018, 0.4907171605156847, 0.5240465798818784, 0.5289394851058289, 0.5369614160112832, 0.5195956209426476, 0.5041993445198857, 0.5086917441321862, 0.5260048395851413, 0.49356150613339594, 0.5089956650230149, 0.5076491833684067, 0.5257164300751731, 0.4835132779833241, 0.5132289899664987, 0.45958835629592987, 0.5097316135690673, 0.5281347126696906, 0.5604575101837104, 0.5110494184497688, 0.5532191973725901, 0.5499500859249731, 0.502050626470684, 0.4861426581046203, 0.503287358192991, 0.5136207590598566, 0.5299334708576374, 0.5312864807749577, 0.536788968559944, 0.5348396725641964, 0.5313663522361971, 0.48593592524267937, 0.5069885222547035, 0.5366548538607362, 0.5482887608680352, 0.5553823435435306, 0.47964227919972047, 0.557847828627814, 0.5537658914462311, 0.5408761337578581, 0.522399144842462, 0.543141437332787, 0.5579629790361051, 0.5898553629800352, 0.577515154300446, 0.5362445977337138, 0.5511255541103777, 0.5607080423764245, 0.5410615749601818, 0.5529245354593787, 0.5549890490071528, 0.5650765900765901, 0.5477928731034322]], 'per_task_micro_f1': [[0.15625, 0.17410714285714285, 0.19642857142857142, 0.21428571428571427, 0.20535714285714285, 0.20982142857142858, 0.25, 0.23214285714285715, 0.23214285714285715, 0.2544642857142857, 0.25, 0.28125, 0.27232142857142855, 0.3169642857142857, 0.29910714285714285, 0.29910714285714285, 0.3169642857142857, 0.32142857142857145, 0.33035714285714285, 0.34375, 0.3125, 0.35267857142857145, 0.3392857142857143, 0.33482142857142855, 0.36160714285714285, 0.34375, 0.35267857142857145, 0.35267857142857145, 0.40625, 0.33035714285714285, 0.35267857142857145, 0.36607142857142855, 0.375, 0.35267857142857145, 0.4107142857142857, 0.36607142857142855, 0.3973214285714286, 0.32589285714285715, 0.38392857142857145, 0.4017857142857143, 0.42410714285714285, 0.45982142857142855, 0.4107142857142857, 0.4330357142857143, 0.4375, 0.4419642857142857, 0.44642857142857145, 0.4375, 0.41964285714285715, 0.45089285714285715, 0.45089285714285715, 0.45089285714285715, 0.46875, 0.48660714285714285, 0.44642857142857145, 0.44642857142857145, 0.45089285714285715, 0.4330357142857143, 0.47767857142857145, 0.45089285714285715, 0.47767857142857145, 0.46875, 0.45089285714285715, 0.46875, 0.5223214285714286, 0.5267857142857143, 0.5044642857142857, 0.49107142857142855, 0.49107142857142855, 0.48214285714285715, 0.48214285714285715, 0.5044642857142857, 0.5178571428571429, 0.5089285714285714, 0.5044642857142857, 0.53125, 0.48214285714285715, 0.5089285714285714, 0.5401785714285714, 0.53125, 0.5178571428571429, 0.5178571428571429, 0.49107142857142855, 0.5357142857142857, 0.5446428571428571, 0.5267857142857143, 0.5044642857142857, 0.6071428571428571, 0.5357142857142857, 0.5223214285714286, 0.5669642857142857, 0.5267857142857143, 0.5491071428571429, 0.5401785714285714, 0.5535714285714286, 0.5401785714285714, 0.5491071428571429, 0.5401785714285714, 0.5357142857142857, 0.5580357142857143, 0.5625, 0.5580357142857143, 0.5669642857142857, 0.5491071428571429, 0.53125, 0.5714285714285714, 0.5223214285714286, 0.5357142857142857, 0.5401785714285714, 0.5625, 0.5401785714285714, 0.5625, 0.5089285714285714, 0.5491071428571429, 0.5848214285714286, 0.5714285714285714, 0.5535714285714286, 0.5892857142857143, 0.5758928571428571, 0.5178571428571429, 0.5223214285714286, 0.53125, 0.5401785714285714, 0.5714285714285714, 0.5714285714285714, 0.5625, 0.5714285714285714, 0.5714285714285714, 0.5446428571428571, 0.5669642857142857, 0.5625, 0.5982142857142857, 0.5892857142857143, 0.53125, 0.5669642857142857, 0.5803571428571429, 0.5758928571428571, 0.5535714285714286, 0.5758928571428571, 0.6026785714285714, 0.6116071428571429, 0.5982142857142857, 0.5803571428571429, 0.5669642857142857, 0.5892857142857143, 0.5714285714285714, 0.5892857142857143, 0.5848214285714286, 0.6071428571428571, 0.5625]], 'per_task_weighted_prec': [[0.09857235210879582, 0.1460216281845495, 0.2249675628760047, 0.19897612577639753, 0.11050313299078497, 0.12796176606347415, 0.22834914978369922, 0.2373683464613916, 0.18641236995211652, 0.20119197373005146, 0.20002870322880253, 0.3332541379177791, 0.23204122875175506, 0.27559461561280296, 0.2900029064502749, 0.24999399263734076, 0.2945091225710463, 0.3015973703670657, 0.3736748755144691, 0.3188204156954157, 0.24258048705593344, 0.3781359916125541, 0.3927713481989798, 0.3643379932803115, 0.3375930059523809, 0.37487585627991965, 0.3581145173586676, 0.34626876908987275, 0.4123094017982449, 0.33467145648080526, 0.39383596787777975, 0.3297792980828695, 0.3907680692962951, 0.3503866358437399, 0.3943461467641682, 0.3666419740905308, 0.425622234386332, 0.36643704040320585, 0.38014505278313415, 0.425505179344465, 0.4607163989702752, 0.5052109880602528, 0.4328315231725101, 0.4644469246031746, 0.45907133051167687, 0.4420215780805329, 0.4402491253525088, 0.44851529027190473, 0.44238490467343855, 0.4628592715763768, 0.46472383915514864, 0.4627835907703776, 0.47412929221511774, 0.49659551021365483, 0.4624020416082773, 0.45289271394976843, 0.45586795736080993, 0.426116878734366, 0.5173459637351445, 0.46872188691183914, 0.5051018432688721, 0.4857706529581529, 0.4863226963060974, 0.4847592387770959, 0.5372063663240825, 0.5446665568141132, 0.5098221760430101, 0.533491513299526, 0.49937664325066705, 0.5066386162848746, 0.482615182867512, 0.5033262965887495, 0.5068886097933325, 0.5481210668769408, 0.5156325073735789, 0.539988756027359, 0.48681570289561726, 0.5286267421488287, 0.5621947041491422, 0.5655343561035525, 0.5442574979596582, 0.5331125050670891, 0.4809483504116656, 0.56802058249189, 0.574064341113132, 0.5485775189722558, 0.5455168413519254, 0.6409609533375981, 0.5434719922325655, 0.5530285166602874, 0.5932580165551775, 0.5557990221178077, 0.5957609688612288, 0.5512618963289178, 0.6018702256617017, 0.5830688492240398, 0.5784220253366278, 0.5660784852890431, 0.5621705075795466, 0.5890120589872474, 0.5974412598093863, 0.5826391513274737, 0.5764373145255922, 0.5609469352657468, 0.5486397778808493, 0.5971852482359281, 0.5391987509409971, 0.5546129076446376, 0.5766033785055524, 0.5938539622363151, 0.5560629726597384, 0.5775968448973792, 0.5258937608444187, 0.5680737627366846, 0.593836266770821, 0.5913203901021611, 0.5750936378907516, 0.6066920697379742, 0.5999759686483289, 0.5437801864730358, 0.5265026526915114, 0.5485557250289393, 0.5394571339147854, 0.5862362718980366, 0.5789200125879518, 0.5950384268169194, 0.6018949970223891, 0.5870809498041641, 0.5453814538635967, 0.5678100819009156, 0.5814674500336264, 0.5908405644454752, 0.6040653756918773, 0.5440933570397856, 0.5977635516742635, 0.5940669245553699, 0.5819466678598545, 0.5733315489720769, 0.5921508830805049, 0.621453666425471, 0.6550104749553279, 0.609084671728681, 0.5675535118496396, 0.570223921836825, 0.5927062596673786, 0.5724316306982562, 0.5950141107167505, 0.5935570191711578, 0.6020508833506878, 0.5933797583750543]], 'per_task_macro_prec': [[0.08586601716422894, 0.1100784047413261, 0.19836056564016175, 0.164290027605245, 0.08680103246972548, 0.09870555600369264, 0.18720594998396115, 0.2011695906432749, 0.14350278497743935, 0.1610813661128787, 0.1503641905925918, 0.24813713483286262, 0.19027634159213108, 0.22856227230559129, 0.2427164175284476, 0.22120170430592426, 0.2825453926660241, 0.2720610766829254, 0.31958874458874453, 0.30657576550433696, 0.21927801034943895, 0.3476499690785405, 0.3546423941160783, 0.3087366611321315, 0.3059736394557823, 0.3299080413831003, 0.30305307946933563, 0.3081255009534553, 0.37455312258550194, 0.3095888394207722, 0.3638426678496365, 0.28816944959802104, 0.36834340774432933, 0.3139392281861226, 0.363202342252397, 0.33813818373421645, 0.40242272347535496, 0.31800930898675267, 0.354588978758414, 0.404100185528757, 0.39595341678781576, 0.4553318690293481, 0.38405715052819545, 0.4264346764346764, 0.397112094104504, 0.3866955348572996, 0.4034780173877919, 0.41719122681263154, 0.39714910194233505, 0.42267952390132846, 0.4323682847238559, 0.4051633068882074, 0.4334334357833002, 0.45429039505222607, 0.4095263851327925, 0.4096739266188626, 0.41682089831980224, 0.3961727431420526, 0.46055653030442956, 0.429760727666348, 0.4576631700831267, 0.4288729128014842, 0.442844526668686, 0.41893899751042607, 0.517935348903394, 0.4821202293946655, 0.47840400650346704, 0.4844032166252304, 0.46518760514239144, 0.4397979229137047, 0.4467386219715412, 0.4705152303836514, 0.4597368622744562, 0.5035354630749367, 0.4618482707768422, 0.5019497195967785, 0.45689427003328537, 0.5041192360271307, 0.5328675141385226, 0.5225103930461072, 0.5251028316464926, 0.4863887688833117, 0.4514911115454594, 0.5385410923262585, 0.5576562571555359, 0.5191691140939261, 0.487298073075384, 0.6101346839598719, 0.47921229164180296, 0.5000620755548597, 0.5815351807485675, 0.519675153215408, 0.5382917904003707, 0.5319730780728223, 0.5492162132117999, 0.543523304547283, 0.5364146851186021, 0.5609764557997112, 0.5097067385110864, 0.5974965550885575, 0.5583858348244537, 0.5558641285614969, 0.5663496176975439, 0.5563378773662024, 0.5282480416408988, 0.5827624968544808, 0.5152855237911629, 0.5461649852985697, 0.5513809344554687, 0.5914588981815873, 0.48719491804541953, 0.5191390541723936, 0.48670956236745705, 0.5194380777114234, 0.5431080083802043, 0.5883624752168394, 0.5689355761511958, 0.5888514694415315, 0.5864214331217436, 0.5208069189120763, 0.49072475143903704, 0.5080016610373753, 0.5105172027098167, 0.5496208040325687, 0.5682054437026257, 0.5673688920012451, 0.5498109777459999, 0.54694715007215, 0.4890284318855747, 0.5139092425912416, 0.5425089826140245, 0.572410248481677, 0.5705252540492816, 0.4862347969490826, 0.5665983567633471, 0.5655688281190656, 0.5624287370397211, 0.5650900514254552, 0.5606182612905302, 0.6121528638445931, 0.6311967988438577, 0.5862919978127351, 0.5476282118827757, 0.5756867684287039, 0.5720455571452628, 0.547787160841348, 0.5646196884550921, 0.5582551248414508, 0.5800254761497879, 0.5601974155993585]], 'per_task_micro_prec': [[0.15625, 0.17410714285714285, 0.19642857142857142, 0.21428571428571427, 0.20535714285714285, 0.20982142857142858, 0.25, 0.23214285714285715, 0.23214285714285715, 0.2544642857142857, 0.25, 0.28125, 0.27232142857142855, 0.3169642857142857, 0.29910714285714285, 0.29910714285714285, 0.3169642857142857, 0.32142857142857145, 0.33035714285714285, 0.34375, 0.3125, 0.35267857142857145, 0.3392857142857143, 0.33482142857142855, 0.36160714285714285, 0.34375, 0.35267857142857145, 0.35267857142857145, 0.40625, 0.33035714285714285, 0.35267857142857145, 0.36607142857142855, 0.375, 0.35267857142857145, 0.4107142857142857, 0.36607142857142855, 0.39732142857142855, 0.32589285714285715, 0.38392857142857145, 0.4017857142857143, 0.42410714285714285, 0.45982142857142855, 0.4107142857142857, 0.4330357142857143, 0.4375, 0.4419642857142857, 0.44642857142857145, 0.4375, 0.41964285714285715, 0.45089285714285715, 0.45089285714285715, 0.45089285714285715, 0.46875, 0.48660714285714285, 0.44642857142857145, 0.44642857142857145, 0.45089285714285715, 0.4330357142857143, 0.47767857142857145, 0.45089285714285715, 0.47767857142857145, 0.46875, 0.45089285714285715, 0.46875, 0.5223214285714286, 0.5267857142857143, 0.5044642857142857, 0.49107142857142855, 0.49107142857142855, 0.48214285714285715, 0.48214285714285715, 0.5044642857142857, 0.5178571428571429, 0.5089285714285714, 0.5044642857142857, 0.53125, 0.48214285714285715, 0.5089285714285714, 0.5401785714285714, 0.53125, 0.5178571428571429, 0.5178571428571429, 0.49107142857142855, 0.5357142857142857, 0.5446428571428571, 0.5267857142857143, 0.5044642857142857, 0.6071428571428571, 0.5357142857142857, 0.5223214285714286, 0.5669642857142857, 0.5267857142857143, 0.5491071428571429, 0.5401785714285714, 0.5535714285714286, 0.5401785714285714, 0.5491071428571429, 0.5401785714285714, 0.5357142857142857, 0.5580357142857143, 0.5625, 0.5580357142857143, 0.5669642857142857, 0.5491071428571429, 0.53125, 0.5714285714285714, 0.5223214285714286, 0.5357142857142857, 0.5401785714285714, 0.5625, 0.5401785714285714, 0.5625, 0.5089285714285714, 0.5491071428571429, 0.5848214285714286, 0.5714285714285714, 0.5535714285714286, 0.5892857142857143, 0.5758928571428571, 0.5178571428571429, 0.5223214285714286, 0.53125, 0.5401785714285714, 0.5714285714285714, 0.5714285714285714, 0.5625, 0.5714285714285714, 0.5714285714285714, 0.5446428571428571, 0.5669642857142857, 0.5625, 0.5982142857142857, 0.5892857142857143, 0.53125, 0.5669642857142857, 0.5803571428571429, 0.5758928571428571, 0.5535714285714286, 0.5758928571428571, 0.6026785714285714, 0.6116071428571429, 0.5982142857142857, 0.5803571428571429, 0.5669642857142857, 0.5892857142857143, 0.5714285714285714, 0.5892857142857143, 0.5848214285714286, 0.6071428571428571, 0.5625]], 'per_task_weighted_rec': [[0.15625, 0.17410714285714285, 0.19642857142857142, 0.21428571428571427, 0.20535714285714285, 0.20982142857142858, 0.25, 0.23214285714285715, 0.23214285714285715, 0.2544642857142857, 0.25, 0.28125, 0.27232142857142855, 0.3169642857142857, 0.29910714285714285, 0.29910714285714285, 0.3169642857142857, 0.32142857142857145, 0.33035714285714285, 0.34375, 0.3125, 0.35267857142857145, 0.3392857142857143, 0.33482142857142855, 0.36160714285714285, 0.34375, 0.35267857142857145, 0.35267857142857145, 0.40625, 0.33035714285714285, 0.35267857142857145, 0.36607142857142855, 0.375, 0.35267857142857145, 0.4107142857142857, 0.36607142857142855, 0.39732142857142855, 0.32589285714285715, 0.38392857142857145, 0.4017857142857143, 0.42410714285714285, 0.45982142857142855, 0.4107142857142857, 0.4330357142857143, 0.4375, 0.4419642857142857, 0.44642857142857145, 0.4375, 0.41964285714285715, 0.45089285714285715, 0.45089285714285715, 0.45089285714285715, 0.46875, 0.48660714285714285, 0.44642857142857145, 0.44642857142857145, 0.45089285714285715, 0.4330357142857143, 0.47767857142857145, 0.45089285714285715, 0.47767857142857145, 0.46875, 0.45089285714285715, 0.46875, 0.5223214285714286, 0.5267857142857143, 0.5044642857142857, 0.49107142857142855, 0.49107142857142855, 0.48214285714285715, 0.48214285714285715, 0.5044642857142857, 0.5178571428571429, 0.5089285714285714, 0.5044642857142857, 0.53125, 0.48214285714285715, 0.5089285714285714, 0.5401785714285714, 0.53125, 0.5178571428571429, 0.5178571428571429, 0.49107142857142855, 0.5357142857142857, 0.5446428571428571, 0.5267857142857143, 0.5044642857142857, 0.6071428571428571, 0.5357142857142857, 0.5223214285714286, 0.5669642857142857, 0.5267857142857143, 0.5491071428571429, 0.5401785714285714, 0.5535714285714286, 0.5401785714285714, 0.5491071428571429, 0.5401785714285714, 0.5357142857142857, 0.5580357142857143, 0.5625, 0.5580357142857143, 0.5669642857142857, 0.5491071428571429, 0.53125, 0.5714285714285714, 0.5223214285714286, 0.5357142857142857, 0.5401785714285714, 0.5625, 0.5401785714285714, 0.5625, 0.5089285714285714, 0.5491071428571429, 0.5848214285714286, 0.5714285714285714, 0.5535714285714286, 0.5892857142857143, 0.5758928571428571, 0.5178571428571429, 0.5223214285714286, 0.53125, 0.5401785714285714, 0.5714285714285714, 0.5714285714285714, 0.5625, 0.5714285714285714, 0.5714285714285714, 0.5446428571428571, 0.5669642857142857, 0.5625, 0.5982142857142857, 0.5892857142857143, 0.53125, 0.5669642857142857, 0.5803571428571429, 0.5758928571428571, 0.5535714285714286, 0.5758928571428571, 0.6026785714285714, 0.6116071428571429, 0.5982142857142857, 0.5803571428571429, 0.5669642857142857, 0.5892857142857143, 0.5714285714285714, 0.5892857142857143, 0.5848214285714286, 0.6071428571428571, 0.5625]], 'per_task_macro_rec': [[0.13975427350427352, 0.13701465201465204, 0.16616910866910867, 0.16181166056166058, 0.15710927960927962, 0.1600924075924076, 0.21227673120530263, 0.2007382696668411, 0.18765912658769798, 0.20337690087690086, 0.198519536019536, 0.22246368710654427, 0.2224818633747205, 0.25313597117168546, 0.2540122179407894, 0.2606895683681398, 0.26539438735867305, 0.2745019266447838, 0.2737080181723039, 0.30661412000697713, 0.27469030969030966, 0.3022049973835688, 0.32876300287014576, 0.28997811712097427, 0.3173920722135008, 0.31928781535924394, 0.3048552241409384, 0.33211429443572305, 0.36129112950541525, 0.30775397221825795, 0.3062174333602905, 0.32923988709702995, 0.34089016142587575, 0.3266478759335902, 0.3735816366173509, 0.338739454989455, 0.37142369535226677, 0.28330368044653753, 0.35865184418755847, 0.3855155360512503, 0.3914025855097284, 0.41807466343180627, 0.38692924139352697, 0.3875622789908504, 0.39027831295688437, 0.38657057228485797, 0.4046660680589252, 0.4070797654726226, 0.3857608264751122, 0.41957060796346507, 0.42522511218939785, 0.400085569192712, 0.4130973391687678, 0.4489747157604301, 0.41842199467199465, 0.41235920825206535, 0.4126828528614243, 0.39864736454022165, 0.42265991944563375, 0.4016170932242361, 0.44770810538667677, 0.427787728144871, 0.3931130377558949, 0.41498753230896085, 0.4848705461205461, 0.4813806629878058, 0.46117723546294975, 0.4486781472495758, 0.4528940107511536, 0.4364952111380683, 0.4611545597259883, 0.44121677925249353, 0.45621307264164407, 0.4728320489034775, 0.4475129235843522, 0.4952789670646814, 0.4502922276136561, 0.46615997098139955, 0.5084589814946957, 0.48497567908282185, 0.4522833317476174, 0.4643590734662163, 0.4633966232180518, 0.492870066441495, 0.4788788790574504, 0.47946264053406906, 0.4645738388595531, 0.5753124653124654, 0.4712223292580435, 0.5040851410494268, 0.5232631455845741, 0.4944453760525188, 0.5069627792842079, 0.5042057545628974, 0.5175117541188969, 0.5156270911628054, 0.5196346312417741, 0.5034759882974169, 0.4925009316080744, 0.5263351925851926, 0.5257152173223602, 0.532149457685172, 0.5220048998620428, 0.5060359085359085, 0.5059218757433043, 0.5271577034077034, 0.49210694067836924, 0.5053634857206285, 0.5054831874474731, 0.5272824199609913, 0.4934995758210044, 0.5178587285730143, 0.4582038794538795, 0.5164695820052964, 0.5357643150500293, 0.5583941851798995, 0.5198714579071722, 0.5475488598702883, 0.5438189588189587, 0.5042384599527455, 0.4897540752897895, 0.5165526933384076, 0.5228790852005137, 0.524416773702488, 0.5251638044495187, 0.5367787966002251, 0.5357407275264418, 0.5344547912405054, 0.49919310847882276, 0.512670127491556, 0.5382808064950921, 0.5540727922870781, 0.5521954632668918, 0.5008179122464836, 0.562481486767201, 0.5566257353757353, 0.539728822764537, 0.5156188454402739, 0.549372730444159, 0.5527963702963703, 0.5908182690325547, 0.5810638567781424, 0.545262099012099, 0.54685532721247, 0.5579015032586461, 0.5434018164375307, 0.5566292239506525, 0.5580907584479012, 0.566343339200482, 0.5457111142825428]], 'per_task_micro_rec': [[0.15625, 0.17410714285714285, 0.19642857142857142, 0.21428571428571427, 0.20535714285714285, 0.20982142857142858, 0.25, 0.23214285714285715, 0.23214285714285715, 0.2544642857142857, 0.25, 0.28125, 0.27232142857142855, 0.3169642857142857, 0.29910714285714285, 0.29910714285714285, 0.3169642857142857, 0.32142857142857145, 0.33035714285714285, 0.34375, 0.3125, 0.35267857142857145, 0.3392857142857143, 0.33482142857142855, 0.36160714285714285, 0.34375, 0.35267857142857145, 0.35267857142857145, 0.40625, 0.33035714285714285, 0.35267857142857145, 0.36607142857142855, 0.375, 0.35267857142857145, 0.4107142857142857, 0.36607142857142855, 0.39732142857142855, 0.32589285714285715, 0.38392857142857145, 0.4017857142857143, 0.42410714285714285, 0.45982142857142855, 0.4107142857142857, 0.4330357142857143, 0.4375, 0.4419642857142857, 0.44642857142857145, 0.4375, 0.41964285714285715, 0.45089285714285715, 0.45089285714285715, 0.45089285714285715, 0.46875, 0.48660714285714285, 0.44642857142857145, 0.44642857142857145, 0.45089285714285715, 0.4330357142857143, 0.47767857142857145, 0.45089285714285715, 0.47767857142857145, 0.46875, 0.45089285714285715, 0.46875, 0.5223214285714286, 0.5267857142857143, 0.5044642857142857, 0.49107142857142855, 0.49107142857142855, 0.48214285714285715, 0.48214285714285715, 0.5044642857142857, 0.5178571428571429, 0.5089285714285714, 0.5044642857142857, 0.53125, 0.48214285714285715, 0.5089285714285714, 0.5401785714285714, 0.53125, 0.5178571428571429, 0.5178571428571429, 0.49107142857142855, 0.5357142857142857, 0.5446428571428571, 0.5267857142857143, 0.5044642857142857, 0.6071428571428571, 0.5357142857142857, 0.5223214285714286, 0.5669642857142857, 0.5267857142857143, 0.5491071428571429, 0.5401785714285714, 0.5535714285714286, 0.5401785714285714, 0.5491071428571429, 0.5401785714285714, 0.5357142857142857, 0.5580357142857143, 0.5625, 0.5580357142857143, 0.5669642857142857, 0.5491071428571429, 0.53125, 0.5714285714285714, 0.5223214285714286, 0.5357142857142857, 0.5401785714285714, 0.5625, 0.5401785714285714, 0.5625, 0.5089285714285714, 0.5491071428571429, 0.5848214285714286, 0.5714285714285714, 0.5535714285714286, 0.5892857142857143, 0.5758928571428571, 0.5178571428571429, 0.5223214285714286, 0.53125, 0.5401785714285714, 0.5714285714285714, 0.5714285714285714, 0.5625, 0.5714285714285714, 0.5714285714285714, 0.5446428571428571, 0.5669642857142857, 0.5625, 0.5982142857142857, 0.5892857142857143, 0.53125, 0.5669642857142857, 0.5803571428571429, 0.5758928571428571, 0.5535714285714286, 0.5758928571428571, 0.6026785714285714, 0.6116071428571429, 0.5982142857142857, 0.5803571428571429, 0.5669642857142857, 0.5892857142857143, 0.5714285714285714, 0.5892857142857143, 0.5848214285714286, 0.6071428571428571, 0.5625]], 'x_iteration': [63, 126, 189, 252, 315, 378, 441, 504, 567, 630, 693, 756, 819, 882, 945, 1008, 1071, 1134, 1197, 1260, 1323, 1386, 1449, 1512, 1575, 1638, 1701, 1764, 1827, 1890, 1953, 2016, 2079, 2142, 2205, 2268, 2331, 2394, 2457, 2520, 2583, 2646, 2709, 2772, 2835, 2898, 2961, 3024, 3087, 3150, 3213, 3276, 3339, 3402, 3465, 3528, 3591, 3654, 3717, 3780, 3843, 3906, 3969, 4032, 4095, 4158, 4221, 4284, 4347, 4410, 4473, 4536, 4599, 4662, 4725, 4788, 4851, 4914, 4977, 5040, 5103, 5166, 5229, 5292, 5355, 5418, 5481, 5544, 5607, 5670, 5733, 5796, 5859, 5922, 5985, 6048, 6111, 6174, 6237, 6300, 6363, 6426, 6489, 6552, 6615, 6678, 6741, 6804, 6867, 6930, 6993, 7056, 7119, 7182, 7245, 7308, 7371, 7434, 7497, 7560, 7623, 7686, 7749, 7812, 7875, 7938, 8001, 8064, 8127, 8190, 8253, 8316, 8379, 8442, 8505, 8568, 8631, 8694, 8757, 8820, 8883, 8946, 9009, 9072, 9135, 9198, 9261, 9324, 9387, 9450], 'x_task': [1, 1, 1, 1, 1, 1, 1, 1, 1, 1, 1, 1, 1, 1, 1, 1, 1, 1, 1, 1, 1, 1, 1, 1, 1, 1, 1, 1, 1, 1, 1, 1, 1, 1, 1, 1, 1, 1, 1, 1, 1, 1, 1, 1, 1, 1, 1, 1, 1, 1, 1, 1, 1, 1, 1, 1, 1, 1, 1, 1, 1, 1, 1, 1, 1, 1, 1, 1, 1, 1, 1, 1, 1, 1, 1, 1, 1, 1, 1, 1, 1, 1, 1, 1, 1, 1, 1, 1, 1, 1, 1, 1, 1, 1, 1, 1, 1, 1, 1, 1, 1, 1, 1, 1, 1, 1, 1, 1, 1, 1, 1, 1, 1, 1, 1, 1, 1, 1, 1, 1, 1, 1, 1, 1, 1, 1, 1, 1, 1, 1, 1, 1, 1, 1, 1, 1, 1, 1, 1, 1, 1, 1, 1, 1, 1, 1, 1, 1, 1, 1], 'all_tasks_acc': [], 'all_tasks_weighted_f1': [], 'all_tasks_macro_f1': [], 'all_tasks_micro_f1': [], 'all_tasks_weighted_prec': [], 'all_tasks_macro_prec': [], 'all_tasks_micro_prec': [], 'all_tasks_weighted_rec': [], 'all_tasks_macro_rec': [], 'all_tasks_micro_rec': []}]\n",
      "\n",
      "===== report time =====\n",
      "method:  joint\n",
      "total_time: mean: nan, sd: nan\n",
      "eval_time: mean: nan, sd: nan\n",
      "train_time_ewc: mean: nan, sd: nan\n",
      "train_time_ewc_update: mean: nan, sd: nan\n",
      "train_time_ewc_loss: mean: nan, sd: nan\n",
      "train_time_si: mean: nan, sd: nan\n",
      "train_time_si_update: mean: nan, sd: nan\n",
      "train_time_si_loss: mean: nan, sd: nan\n",
      "train_time_si_running_weights: mean: nan, sd: nan\n",
      "train_time_lwf: mean: nan, sd: nan\n",
      "train_time_lwf_update: mean: nan, sd: nan\n",
      "train_time_lwf_loss: mean: nan, sd: nan\n",
      "train_time_icarl: mean: nan, sd: nan\n",
      "train_time_icarl_construct: mean: nan, sd: nan\n",
      "train_time_icarl_reduce: mean: nan, sd: nan\n",
      "train_time_icarl_loss: mean: nan, sd: nan\n",
      "train_time_gem: mean: nan, sd: nan\n",
      "train_time_gem_update_memory: mean: nan, sd: nan\n",
      "train_time_gem_compute_gradient: mean: nan, sd: nan\n",
      "train_time_gem_violation_check: mean: nan, sd: nan\n",
      "\n",
      "train_time_other_il: mean: nan, sd: nan\n",
      "only train_time: mean: nan, sd: nan\n",
      "\n",
      "===== report memory =====\n",
      "# tasks: 1\n",
      "model_size: 0.0958 MB, budget_size: 0.0, IL_method_size (total): 0.0 MB\n",
      "args_l:  [{'cl_alg': 'joint', 'budget_size': 0, 'scenario': 'exp2', 'dataset': 'emotion-fbanks-frames10', 'fc_lay': 1, 'fc_units': 64, 'lr': 0.001, 'lr2': 0.001, 'batch': 32, 'saved_model_epoch_l': [141], 'total_epochs': 141, 'weighted_f1': 0.6199511816124205, 'hp': 1, 'clsSeq': 0}]\n",
      "acc_D1_temp_l:  [0.6199511816124205]\n",
      "Best args {'cl_alg': 'joint', 'budget_size': 0, 'scenario': 'exp2', 'dataset': 'emotion-fbanks-frames10', 'fc_lay': 1, 'fc_units': 64, 'lr': 0.001, 'lr2': 0.001, 'batch': 32, 'saved_model_epoch_l': [141], 'total_epochs': 141, 'weighted_f1': 0.6199511816124205, 'hp': 1, 'clsSeq': 0}\n",
      "Best HP idx: 1, acc_D1_max: 0.6199511816124205 \n"
     ]
    },
    {
     "name": "stderr",
     "output_type": "stream",
     "text": [
      "\n"
     ]
    }
   ],
   "source": [
    "run_exp_joint(rClassD2List=class_D2_list_task1_c14_2,rDataset='emotion-fbanks-frames10',\n",
    "        rEpoch=150,cuda_num=-1,exp_type=None,\n",
    "        subject_idx=None,exp_setup='',\n",
    "        n_layers=1,n_units=64,lr2=0.001,batch_size=32,trial=1)"
   ]
  },
  {
   "cell_type": "code",
   "execution_count": null,
   "metadata": {},
   "outputs": [],
   "source": []
  }
 ],
 "metadata": {
  "kernelspec": {
   "display_name": "Python (py354)",
   "language": "python",
   "name": "py354"
  },
  "language_info": {
   "codemirror_mode": {
    "name": "ipython",
    "version": 3
   },
   "file_extension": ".py",
   "mimetype": "text/x-python",
   "name": "python",
   "nbconvert_exporter": "python",
   "pygments_lexer": "ipython3",
   "version": "3.7.4"
  }
 },
 "nbformat": 4,
 "nbformat_minor": 2
}
