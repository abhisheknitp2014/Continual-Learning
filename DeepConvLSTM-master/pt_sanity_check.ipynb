{
 "cells": [
  {
   "cell_type": "code",
   "execution_count": 1,
   "metadata": {},
   "outputs": [
    {
     "name": "stdout",
     "output_type": "stream",
     "text": [
      "279.35290160430094\n"
     ]
    }
   ],
   "source": [
    "import sys,os,json\n",
    "import collections,math\n",
    "import time,datetime,pytz\n",
    "import numpy as np\n",
    "import pandas as pd\n",
    "import pickle\n",
    "import matplotlib.pyplot as plt\n",
    "from collections import Counter\n",
    "from matplotlib.colors import ListedColormap\n",
    "import seaborn as sns\n",
    "import networkx as nx\n",
    "# from textblob import TextBlob\n",
    "# from polyglot.detect import Detector\n",
    "import operator\n",
    "# import PlotUtil\n",
    "from scipy.stats import linregress\n",
    "import statsmodels.api as sm\n",
    "from sklearn.preprocessing import StandardScaler\n",
    "%matplotlib inline\n",
    "import warnings\n",
    "warnings.filterwarnings('ignore')\n",
    "# warnings.filterwarnings(action='once')\n",
    "# import foursq_helper as foursq\n",
    "# from yelp_helper import *\n",
    "\n",
    "############################################\n",
    "########## Plot Style Declaration ##########\n",
    "# Set the style globally\n",
    "# Alternatives include bmh, fivethirtyeight, ggplot,\n",
    "# dark_background, seaborn-deep, etc\n",
    "# plt.style.use('ggplot')\n",
    "plt.style.use('seaborn-white')\n",
    "\n",
    "plt.rcParams['font.family'] = 'times new roman'\n",
    "# plt.rcParams['font.serif'] = 'Ubuntu'\n",
    "# plt.rcParams['font.monospace'] = 'Ubuntu Mono'\n",
    "plt.rcParams['font.size'] = 15\n",
    "plt.rcParams['axes.labelsize'] = 15\n",
    "plt.rcParams['axes.labelweight'] = 'bold'\n",
    "plt.rcParams['axes.titlesize'] = 15\n",
    "plt.rcParams['xtick.labelsize'] = 15\n",
    "plt.rcParams['ytick.labelsize'] = 15\n",
    "plt.rcParams['legend.fontsize'] = 14\n",
    "plt.rcParams['figure.titlesize'] = 15\n",
    "plt.rcParams['lines.linewidth'] = 3\n",
    "plt.rcParams['pdf.fonttype'] = 42\n",
    "plt.rcParams['ps.fonttype'] = 42\n",
    "\n",
    "##########################################\n",
    "########## data set declaration ##########\n",
    "path_processed = \"data/processed/\"\n",
    "path_final = \"data/final/\"\n",
    "\n",
    "##################################\n",
    "########## End of Setup ##########\n",
    "\n",
    "##### Geographical Change #####\n",
    "import geopy\n",
    "from geopy import distance as geopy_distance\n",
    "coords_1 = (52.2296756, 21.0122287)\n",
    "coords_2 = (52.406374, 16.9251681)\n",
    "print (geopy.distance.distance(coords_1, coords_2).km)"
   ]
  },
  {
   "cell_type": "code",
   "execution_count": 3,
   "metadata": {},
   "outputs": [],
   "source": [
    "X_train = np.load(\"data/opp_X_train.npy\")\n",
    "X_test = np.load(\"data/opp_X_test.npy\")\n",
    "y_train = np.load(\"data/opp_y_train.npy\")\n",
    "y_test = np.load(\"data/opp_y_test.npy\")"
   ]
  },
  {
   "cell_type": "code",
   "execution_count": 4,
   "metadata": {},
   "outputs": [],
   "source": [
    "import torch\n",
    "import torch.nn as nn\n",
    "import visdom"
   ]
  },
  {
   "cell_type": "code",
   "execution_count": 45,
   "metadata": {},
   "outputs": [],
   "source": [
    "import torch\n",
    "import torch.nn as nn\n",
    "\n",
    "#!/usr/bin/env python3\n",
    "from argparse import ArgumentParser\n",
    "import numpy as np\n",
    "import torch\n",
    "from data import get_dataset, DATASET_CONFIGS\n",
    "from train import train\n",
    "from model import MLP\n",
    "import utils"
   ]
  },
  {
   "cell_type": "code",
   "execution_count": 52,
   "metadata": {},
   "outputs": [],
   "source": [
    "hidden_size =400\n",
    "hidden_layer_num =2\n",
    "hidden_dropout_prob =0.5\n",
    "input_dropout_prob =0.2\n",
    "\n",
    "task_number =8\n",
    "epochs_per_task =3\n",
    "lamda =40\n",
    "lr =0.1\n",
    "weight_decay =0\n",
    "batch_size =128\n",
    "test_size =1024\n",
    "fisher_estimation_sample_size =1024\n",
    "random_seed =0\n",
    "no_gpus = False\n",
    "eval_log_interval =250\n",
    "loss_log_interval =250\n",
    "consolidate = False"
   ]
  },
  {
   "cell_type": "code",
   "execution_count": 9,
   "metadata": {},
   "outputs": [
    {
     "ename": "NameError",
     "evalue": "name 'args' is not defined",
     "output_type": "error",
     "traceback": [
      "\u001b[0;31m---------------------------------------------------------------------------\u001b[0m",
      "\u001b[0;31mNameError\u001b[0m                                 Traceback (most recent call last)",
      "\u001b[0;32m<ipython-input-9-ab56b60a7754>\u001b[0m in \u001b[0;36m<module>\u001b[0;34m()\u001b[0m\n\u001b[1;32m      3\u001b[0m     \u001b[0mDATASET_CONFIGS\u001b[0m\u001b[0;34m[\u001b[0m\u001b[0;34m'mnist'\u001b[0m\u001b[0;34m]\u001b[0m\u001b[0;34m[\u001b[0m\u001b[0;34m'size'\u001b[0m\u001b[0;34m]\u001b[0m\u001b[0;34m**\u001b[0m\u001b[0;36m2\u001b[0m\u001b[0;34m,\u001b[0m\u001b[0;34m\u001b[0m\u001b[0m\n\u001b[1;32m      4\u001b[0m     \u001b[0mDATASET_CONFIGS\u001b[0m\u001b[0;34m[\u001b[0m\u001b[0;34m'mnist'\u001b[0m\u001b[0;34m]\u001b[0m\u001b[0;34m[\u001b[0m\u001b[0;34m'classes'\u001b[0m\u001b[0;34m]\u001b[0m\u001b[0;34m,\u001b[0m\u001b[0;34m\u001b[0m\u001b[0m\n\u001b[0;32m----> 5\u001b[0;31m     \u001b[0mhidden_size\u001b[0m\u001b[0;34m=\u001b[0m\u001b[0margs\u001b[0m\u001b[0;34m.\u001b[0m\u001b[0mhidden_size\u001b[0m\u001b[0;34m,\u001b[0m\u001b[0;34m\u001b[0m\u001b[0m\n\u001b[0m\u001b[1;32m      6\u001b[0m     \u001b[0mhidden_layer_num\u001b[0m\u001b[0;34m=\u001b[0m\u001b[0margs\u001b[0m\u001b[0;34m.\u001b[0m\u001b[0mhidden_layer_num\u001b[0m\u001b[0;34m,\u001b[0m\u001b[0;34m\u001b[0m\u001b[0m\n\u001b[1;32m      7\u001b[0m     \u001b[0mhidden_dropout_prob\u001b[0m\u001b[0;34m=\u001b[0m\u001b[0margs\u001b[0m\u001b[0;34m.\u001b[0m\u001b[0mhidden_dropout_prob\u001b[0m\u001b[0;34m,\u001b[0m\u001b[0;34m\u001b[0m\u001b[0m\n",
      "\u001b[0;31mNameError\u001b[0m: name 'args' is not defined"
     ]
    }
   ],
   "source": [
    "# prepare the model.\n",
    "mlp = MLP(\n",
    "    DATASET_CONFIGS['mnist']['size']**2,\n",
    "    DATASET_CONFIGS['mnist']['classes'],\n",
    "    hidden_size=args.hidden_size,\n",
    "    hidden_layer_num=args.hidden_layer_num,\n",
    "    hidden_dropout_prob=args.hidden_dropout_prob,\n",
    "    input_dropout_prob=args.input_dropout_prob,\n",
    "    lamda=args.lamda,\n",
    ")\n",
    "\n",
    "# initialize the parameters.\n",
    "utils.xavier_initialize(mlp)"
   ]
  },
  {
   "cell_type": "code",
   "execution_count": 10,
   "metadata": {},
   "outputs": [
    {
     "data": {
      "text/plain": [
       "'/Users/ydkwon/2ndData/_MPhil/self_study/catastrophic-forgetting/catastrophic-forgetting/DeepConvLSTM-master'"
      ]
     },
     "execution_count": 10,
     "metadata": {},
     "output_type": "execute_result"
    }
   ],
   "source": [
    "pwd()"
   ]
  },
  {
   "cell_type": "code",
   "execution_count": 11,
   "metadata": {},
   "outputs": [],
   "source": [
    "% matplotlib inline\n",
    "import matplotlib.pyplot as plt\n",
    "\n",
    "plt.style.use(\"seaborn-white\")\n",
    "\n",
    "import random\n",
    "import torch\n",
    "from torch import nn\n",
    "from torch.nn import functional as F\n",
    "from torch import optim\n",
    "from tqdm import tqdm\n",
    "\n",
    "# from data_utils import *\n",
    "# from ewc import EWC, ewc_train, normal_train, test"
   ]
  },
  {
   "cell_type": "code",
   "execution_count": 53,
   "metadata": {},
   "outputs": [],
   "source": [
    "epochs = 20\n",
    "lr = 1e-3\n",
    "batch_size = 128\n",
    "sample_size = 5000\n",
    "hidden_size = 1024\n",
    "num_task = 2"
   ]
  },
  {
   "cell_type": "code",
   "execution_count": 54,
   "metadata": {},
   "outputs": [],
   "source": [
    "class MLP(nn.Module):\n",
    "    def __init__(self, hidden_size=400):\n",
    "        super(MLP, self).__init__()\n",
    "        self.fc1 = nn.Linear(24 * 113, 1024)\n",
    "        self.fc2 = nn.Linear(1024, 512)\n",
    "        #self.fc3 = nn.Linear(hidden_size, hidden_size)\n",
    "        self.fc4 = nn.Linear(512, 17)\n",
    "\n",
    "    def forward(self, input):\n",
    "        x = F.tanh(self.fc1(input))\n",
    "        x = F.tanh(self.fc2(x))\n",
    "        #x = F.relu(self.fc3(x))\n",
    "        x = self.fc4(x)\n",
    "        return x"
   ]
  },
  {
   "cell_type": "code",
   "execution_count": 36,
   "metadata": {},
   "outputs": [
    {
     "ename": "AttributeError",
     "evalue": "can't set attribute",
     "output_type": "error",
     "traceback": [
      "\u001b[0;31m---------------------------------------------------------------------------\u001b[0m",
      "\u001b[0;31mAttributeError\u001b[0m                            Traceback (most recent call last)",
      "\u001b[0;32m<ipython-input-36-dd28c73426fa>\u001b[0m in \u001b[0;36m<module>\u001b[0;34m()\u001b[0m\n\u001b[1;32m     13\u001b[0m \u001b[0;34m\u001b[0m\u001b[0m\n\u001b[1;32m     14\u001b[0m \u001b[0;34m\u001b[0m\u001b[0m\n\u001b[0;32m---> 15\u001b[0;31m \u001b[0mtrain_loader\u001b[0m\u001b[0;34m,\u001b[0m \u001b[0mtest_loader\u001b[0m \u001b[0;34m=\u001b[0m \u001b[0mget_permute_mnist\u001b[0m\u001b[0;34m(\u001b[0m\u001b[0;34m)\u001b[0m\u001b[0;34m\u001b[0m\u001b[0m\n\u001b[0m",
      "\u001b[0;32m<ipython-input-36-dd28c73426fa>\u001b[0m in \u001b[0;36mget_permute_mnist\u001b[0;34m()\u001b[0m\n\u001b[1;32m      4\u001b[0m     \u001b[0midx\u001b[0m \u001b[0;34m=\u001b[0m \u001b[0mlist\u001b[0m\u001b[0;34m(\u001b[0m\u001b[0mrange\u001b[0m\u001b[0;34m(\u001b[0m\u001b[0;36m28\u001b[0m \u001b[0;34m*\u001b[0m \u001b[0;36m28\u001b[0m\u001b[0;34m)\u001b[0m\u001b[0;34m)\u001b[0m\u001b[0;34m\u001b[0m\u001b[0m\n\u001b[1;32m      5\u001b[0m     \u001b[0;32mfor\u001b[0m \u001b[0mi\u001b[0m \u001b[0;32min\u001b[0m \u001b[0mrange\u001b[0m\u001b[0;34m(\u001b[0m\u001b[0mnum_task\u001b[0m\u001b[0;34m)\u001b[0m\u001b[0;34m:\u001b[0m\u001b[0;34m\u001b[0m\u001b[0m\n\u001b[0;32m----> 6\u001b[0;31m         train_loader[i] = torch.utils.data.DataLoader(PermutedMNIST(train=True, permute_idx=idx),\n\u001b[0m\u001b[1;32m      7\u001b[0m                                                       \u001b[0mbatch_size\u001b[0m\u001b[0;34m=\u001b[0m\u001b[0mbatch_size\u001b[0m\u001b[0;34m,\u001b[0m\u001b[0;34m\u001b[0m\u001b[0m\n\u001b[1;32m      8\u001b[0m                                                       num_workers=4)\n",
      "\u001b[0;32m~/2ndData/_MPhil/self_study/catastrophic-forgetting/catastrophic-forgetting/DeepConvLSTM-master/data_utils.py\u001b[0m in \u001b[0;36m__init__\u001b[0;34m(self, root, train, permute_idx)\u001b[0m\n\u001b[1;32m     10\u001b[0m         \u001b[0;32mif\u001b[0m \u001b[0mself\u001b[0m\u001b[0;34m.\u001b[0m\u001b[0mtrain\u001b[0m\u001b[0;34m:\u001b[0m\u001b[0;34m\u001b[0m\u001b[0m\n\u001b[1;32m     11\u001b[0m             self.train_data = torch.stack([img.float().view(-1)[permute_idx] / 255\n\u001b[0;32m---> 12\u001b[0;31m                                            for img in self.train_data])\n\u001b[0m\u001b[1;32m     13\u001b[0m         \u001b[0;32melse\u001b[0m\u001b[0;34m:\u001b[0m\u001b[0;34m\u001b[0m\u001b[0m\n\u001b[1;32m     14\u001b[0m             self.test_data = torch.stack([img.float().view(-1)[permute_idx] / 255\n",
      "\u001b[0;31mAttributeError\u001b[0m: can't set attribute"
     ]
    }
   ],
   "source": [
    "def get_permute_mnist():\n",
    "    train_loader = {}\n",
    "    test_loader = {}\n",
    "    idx = list(range(28 * 28))\n",
    "    for i in range(num_task):\n",
    "        train_loader[i] = torch.utils.data.DataLoader(PermutedMNIST(train=True, permute_idx=idx),\n",
    "                                                      batch_size=batch_size,\n",
    "                                                      num_workers=4)\n",
    "        test_loader[i] = torch.utils.data.DataLoader(PermutedMNIST(train=False, permute_idx=idx),\n",
    "                                                     batch_size=batch_size)\n",
    "        random.shuffle(idx)\n",
    "    return train_loader, test_loader\n",
    "\n",
    "train_loader, test_loader = get_permute_mnist()"
   ]
  },
  {
   "cell_type": "code",
   "execution_count": 14,
   "metadata": {},
   "outputs": [],
   "source": [
    "X_train = np.load(\"data/opp_X_train.npy\")\n",
    "X_test = np.load(\"data/opp_X_test.npy\")\n",
    "y_train = np.load(\"data/opp_y_train.npy\")\n",
    "y_test = np.load(\"data/opp_y_test.npy\")"
   ]
  },
  {
   "cell_type": "code",
   "execution_count": 15,
   "metadata": {},
   "outputs": [
    {
     "data": {
      "text/plain": [
       "(46495, 24, 113)"
      ]
     },
     "execution_count": 15,
     "metadata": {},
     "output_type": "execute_result"
    }
   ],
   "source": [
    "X_train.shape"
   ]
  },
  {
   "cell_type": "code",
   "execution_count": 17,
   "metadata": {},
   "outputs": [
    {
     "data": {
      "text/plain": [
       "(46495,)"
      ]
     },
     "execution_count": 17,
     "metadata": {},
     "output_type": "execute_result"
    }
   ],
   "source": [
    "y_train.shape"
   ]
  },
  {
   "cell_type": "code",
   "execution_count": 18,
   "metadata": {},
   "outputs": [
    {
     "data": {
      "text/plain": [
       "numpy.ndarray"
      ]
     },
     "execution_count": 18,
     "metadata": {},
     "output_type": "execute_result"
    }
   ],
   "source": [
    "type(X_train[0,1])"
   ]
  },
  {
   "cell_type": "code",
   "execution_count": 19,
   "metadata": {},
   "outputs": [
    {
     "data": {
      "text/plain": [
       "numpy.uint8"
      ]
     },
     "execution_count": 19,
     "metadata": {},
     "output_type": "execute_result"
    }
   ],
   "source": [
    "type(y_train[0])"
   ]
  },
  {
   "cell_type": "code",
   "execution_count": null,
   "metadata": {},
   "outputs": [],
   "source": []
  },
  {
   "cell_type": "code",
   "execution_count": 46,
   "metadata": {},
   "outputs": [],
   "source": [
    "import torch.utils.data as data\n",
    "\n",
    "def slit_train_val(input_path, target_path, phase):\n",
    "    input_data = np.load(input_path)\n",
    "    target_data = np.load(target_path)\n",
    "    # input_data = transpose_data(input_data)\n",
    "    # target_data = transpose_data(target_data)\n",
    "    data_size = input_data.shape[2]\n",
    "    print(\"total data size is \" + str(data_size))\n",
    "\n",
    "    # shuffle_id = list(range(data_size))\n",
    "    # random.shuffle(shuffle_id)\n",
    "    \n",
    "    # train_size = int(0.9*data_size)\n",
    "    # print(\"total training data size from DataLoader is \" + str(train_size))\n",
    "    # train_id = shuffle_id[:train_size]\n",
    "    # val_id = shuffle_id[train_size:]\n",
    "    return input_data, target_data, data_size\n",
    "    # if phase == \"train\":\n",
    "    #     return input_data[train_id,:,:], target_data[train_id]\n",
    "    # elif phase == \"test\":\n",
    "    #     return input_data[val_id,:,:], target_data[val_id]\n",
    "    # else:\n",
    "    #     print(\"Wrong phase information\")\n",
    "    #     return None\n",
    "\n",
    "def transpose_data(data):\n",
    "    return np.transpose(data, (1,2,0))\n",
    "\n",
    "class MyDataLoader(data.Dataset):\n",
    "    \"\"\"docstring for DataLoader\"\"\"\n",
    "    def __init__(self, input_path, target_path, phase):\n",
    "        super(MyDataLoader, self).__init__()\n",
    "        self.input, self.target, self.data_size= slit_train_val(input_path, target_path, phase)\n",
    "        \n",
    "    def __getitem__(self, index):\n",
    "        return self.input[index,:,:], self.target[index]\n",
    "\n",
    "    def __len__(self):\n",
    "        return self.input.shape[2]\n",
    "\n",
    "\n",
    "def get_train_data(input_path, target_path):\n",
    "    return MyDataLoader(input_path, target_path, 'train')\n",
    "\n",
    "def get_test_data(input_path, target_path):\n",
    "    return MyDataLoader(input_path, target_path, 'test')\n",
    "\n",
    "def slit_train_val2(X,y,class_dict_D1, class_dict_D2, name):\n",
    "    #input_data = np.load(input_path)\n",
    "    #target_data = np.load(target_path)\n",
    "    if name == 'train_D1':\n",
    "        input_data = X[[True if x in class_dict_D1 else False for x in y]]\n",
    "        target_data = y[[True if x in class_dict_D1 else False for x in y]]\n",
    "    elif name == 'train_D2':\n",
    "        input_data = X[[True if x in class_dict_D2 else False for x in y]]\n",
    "        target_data = y[[True if x in class_dict_D2 else False for x in y]]\n",
    "    elif name == 'test_D1':\n",
    "        input_data = X[[True if x in class_dict_D1 else False for x in y]]\n",
    "        target_data = y[[True if x in class_dict_D1 else False for x in y]]\n",
    "    elif name == 'test_D2':\n",
    "        input_data = X[[True if x in class_dict_D2 else False for x in y]]\n",
    "        target_data = y[[True if x in class_dict_D2 else False for x in y]]\n",
    "    else:\n",
    "        print('wrong name')\n",
    "        \n",
    "    data_size = input_data.shape[0]\n",
    "    \n",
    "    print(\"total data size is \" + str(data_size))\n",
    "    # one hot vector\n",
    "    # target_data = np.eye(17)[target_data]\n",
    "    # print(\"target data size is \", target_data.shape)\n",
    "    return input_data, target_data, data_size\n",
    "\n",
    "class MyDataLoader2(data.Dataset):\n",
    "    \"\"\"docstring for DataLoader\"\"\"\n",
    "    def __init__(self, X,y,class_dict_D1, class_dict_D2, name):\n",
    "        super(MyDataLoader2, self).__init__()\n",
    "        self.input, self.target, self.data_size= slit_train_val2(X,y,class_dict_D1, class_dict_D2, name)\n",
    "        \n",
    "    def __getitem__(self, index):\n",
    "        return self.input[index,:], self.target[index]\n",
    "\n",
    "    def __len__(self):\n",
    "        return self.input.shape[0]\n",
    "    \n",
    "    def get_sample(self, sample_size):\n",
    "        sample_idx = random.sample(range(len(self)), sample_size)\n",
    "        return [img for img in self.input[sample_idx]]\n",
    "\n",
    "def setup_data(X,y,class_dict_D1, class_dict_D2, name):\n",
    "    return MyDataLoader2(X,y,class_dict_D1, class_dict_D2, name)"
   ]
  },
  {
   "cell_type": "code",
   "execution_count": 22,
   "metadata": {},
   "outputs": [],
   "source": [
    "def makeClassDictD1(class_dict_D2, num_classes):\n",
    "    class_list = []\n",
    "    for i in range(num_classes):\n",
    "        if i not in class_dict_D2:\n",
    "            class_list.append(i)\n",
    "    return set(class_list)\n",
    "\n",
    "X_train = X_train[y_train[:]>0]\n",
    "y_train = y_train[y_train[:]>0]\n",
    "y_train = y_train[:] - 1\n",
    "\n",
    "X_test = X_test[y_test[:]>0]\n",
    "y_test = y_test[y_test[:]>0]\n",
    "y_test = y_test[:] - 1"
   ]
  },
  {
   "cell_type": "code",
   "execution_count": 25,
   "metadata": {},
   "outputs": [],
   "source": [
    "X_train = X_train.reshape(-1, 24*113)\n",
    "X_test = X_test.reshape(-1, 24*113)"
   ]
  },
  {
   "cell_type": "code",
   "execution_count": 26,
   "metadata": {
    "scrolled": true
   },
   "outputs": [
    {
     "data": {
      "text/plain": [
       "(14147, 2712)"
      ]
     },
     "execution_count": 26,
     "metadata": {},
     "output_type": "execute_result"
    }
   ],
   "source": [
    "X_train.shape"
   ]
  },
  {
   "cell_type": "code",
   "execution_count": 27,
   "metadata": {},
   "outputs": [
    {
     "data": {
      "text/plain": [
       "(1657, 2712)"
      ]
     },
     "execution_count": 27,
     "metadata": {},
     "output_type": "execute_result"
    }
   ],
   "source": [
    "X_test.shape"
   ]
  },
  {
   "cell_type": "code",
   "execution_count": 48,
   "metadata": {},
   "outputs": [
    {
     "name": "stdout",
     "output_type": "stream",
     "text": [
      "==== Adding Half More Classes ====\n",
      "class dict D1:  {0, 1, 2, 3, 4, 5, 6, 7, 8, 9, 10, 11, 12, 13, 15, 16}\n",
      "class dict D2:  {14}\n",
      "total data size is 13243\n",
      "total data size is 904\n",
      "total data size is 1558\n",
      "total data size is 99\n"
     ]
    }
   ],
   "source": [
    "from torch.utils.data import DataLoader\n",
    "\n",
    "num_classes=17\n",
    "class_dict_D2 = {14}\n",
    "class_dict_D1 = makeClassDictD1(class_dict_D2, num_classes)\n",
    "print(\"==== Adding Half More Classes ====\")\n",
    "print(\"class dict D1: \", class_dict_D1)\n",
    "print(\"class dict D2: \", class_dict_D2)\n",
    "\n",
    "# train_set = get_train_data(\"data/opp_X_train.npy\", \"data/opp_y_train.npy\")\n",
    "# test_set = get_test_data(\"data/opp_X_test.npy\", \"data/opp_y_test.npy\")\n",
    "# X_train_D1, y_train_D1, X_train_D2, y_train_D2, X_test_D1, y_test_D1, X_test_D2, y_test_D2\n",
    "\n",
    "train_D1 = setup_data(X_train, y_train, class_dict_D1, class_dict_D2, 'train_D1')\n",
    "train_D2 = setup_data(X_train, y_train, class_dict_D1, class_dict_D2, 'train_D2')\n",
    "test_D1 = setup_data(X_test, y_test, class_dict_D1, class_dict_D2, 'test_D1')\n",
    "test_D2 = setup_data(X_test, y_test, class_dict_D1, class_dict_D2, 'test_D2')\n",
    "\n",
    "\n",
    "# train_data_loader = DataLoader(dataset=train_set, num_workers=2, batch_size=batch_size, shuffle=True)\n",
    "# test_data_loader = DataLoader(dataset=test_set, num_workers=2, batch_size=batch_size, shuffle=False)"
   ]
  },
  {
   "cell_type": "code",
   "execution_count": 49,
   "metadata": {},
   "outputs": [],
   "source": [
    "train_loader = {}\n",
    "test_loader = {}\n",
    "train_loader[0] = DataLoader(dataset=train_D1, num_workers=2, batch_size=batch_size, shuffle=True)\n",
    "train_loader[1] = DataLoader(dataset=train_D2, num_workers=2, batch_size=batch_size, shuffle=True)\n",
    "\n",
    "test_loader[0] = DataLoader(dataset=test_D1, num_workers=2, batch_size=batch_size, shuffle=False)\n",
    "test_loader[1] = DataLoader(dataset=test_D2, num_workers=2, batch_size=batch_size, shuffle=False)"
   ]
  },
  {
   "cell_type": "code",
   "execution_count": 55,
   "metadata": {},
   "outputs": [],
   "source": [
    "def standard_process(epochs, use_cuda=True, weight=True):\n",
    "    model = MLP(hidden_size)\n",
    "    if torch.cuda.is_available() and use_cuda:\n",
    "        model.cuda()\n",
    "    optimizer = optim.Adam(params=model.parameters(), lr=lr)\n",
    "\n",
    "    loss, acc = {}, {}\n",
    "    for task in range(num_task):\n",
    "        loss[task] = []\n",
    "        acc[task] = []\n",
    "        for _ in tqdm(range(epochs)):\n",
    "            loss[task].append(normal_train(model, optimizer, train_loader[task]))\n",
    "            for sub_task in range(task + 1):\n",
    "                acc[sub_task].append(test(model, test_loader[sub_task]))\n",
    "        if task == 0 and weight:\n",
    "            weight = model.state_dict()\n",
    "    return loss, acc, weight\n",
    "\n",
    "\n",
    "def ewc_process(epochs, importance, use_cuda=True, weight=None):\n",
    "    model = MLP(hidden_size)\n",
    "    if torch.cuda.is_available() and use_cuda:\n",
    "        model.cuda()\n",
    "    optimizer = optim.Adam(params=model.parameters(), lr=lr)\n",
    "\n",
    "    loss, acc, ewc = {}, {}, {}\n",
    "    for task in range(num_task):\n",
    "        loss[task] = []\n",
    "        acc[task] = []\n",
    "\n",
    "        if task == 0:\n",
    "            if weight:\n",
    "                model.load_state_dict(weight)\n",
    "            else:\n",
    "                for _ in tqdm(range(epochs)):\n",
    "                    loss[task].append(normal_train(model, optimizer, train_loader[task]))\n",
    "                    acc[task].append(test(model, test_loader[task]))\n",
    "        else:\n",
    "            old_tasks = []\n",
    "            for sub_task in range(task):\n",
    "                old_tasks = old_tasks + train_loader[sub_task].dataset.get_sample(sample_size)\n",
    "            old_tasks = random.sample(old_tasks, k=sample_size)\n",
    "            for _ in tqdm(range(epochs)):\n",
    "                loss[task].append(ewc_train(model, optimizer, train_loader[task], EWC(model, old_tasks), importance))\n",
    "                for sub_task in range(task + 1):\n",
    "                    acc[sub_task].append(test(model, test_loader[sub_task]))\n",
    "\n",
    "    return loss, acc"
   ]
  },
  {
   "cell_type": "code",
   "execution_count": 56,
   "metadata": {},
   "outputs": [],
   "source": [
    "def loss_plot(x):\n",
    "    for t, v in x.items():\n",
    "        plt.plot(list(range(t * epochs, (t + 1) * epochs)), v)\n",
    "\n",
    "def accuracy_plot(x):\n",
    "    for t, v in x.items():\n",
    "        plt.plot(list(range(t * epochs, num_task * epochs)), v)\n",
    "    plt.ylim(0, 1)"
   ]
  },
  {
   "cell_type": "code",
   "execution_count": 57,
   "metadata": {},
   "outputs": [],
   "source": [
    "from copy import deepcopy\n",
    "\n",
    "import torch\n",
    "from torch import nn\n",
    "from torch.nn import functional as F\n",
    "from torch.autograd import Variable\n",
    "import torch.utils.data\n",
    "\n",
    "def variable(t: torch.Tensor, use_cuda=True, **kwargs):\n",
    "    if torch.cuda.is_available() and use_cuda:\n",
    "        t = t.cuda()\n",
    "    return Variable(t, **kwargs)\n",
    "\n",
    "class EWC(object):\n",
    "    def __init__(self, model: nn.Module, dataset: list):\n",
    "\n",
    "        self.model = model\n",
    "        self.dataset = dataset\n",
    "\n",
    "        self.params = {n: p for n, p in self.model.named_parameters() if p.requires_grad}\n",
    "        self._means = {}\n",
    "        self._precision_matrices = self._diag_fisher()\n",
    "\n",
    "        for n, p in deepcopy(self.params).items():\n",
    "            self._means[n] = variable(p.data)\n",
    "\n",
    "    def _diag_fisher(self):\n",
    "        precision_matrices = {}\n",
    "        for n, p in deepcopy(self.params).items():\n",
    "            p.data.zero_()\n",
    "            precision_matrices[n] = variable(p.data)\n",
    "\n",
    "        self.model.eval()\n",
    "        for input in self.dataset:\n",
    "            self.model.zero_grad()\n",
    "            input = variable(torch.from_numpy(input))\n",
    "            output = self.model(input).view(1, -1)\n",
    "            label = output.max(1)[1].view(-1)\n",
    "            loss = F.nll_loss(F.log_softmax(output, dim=1), label)\n",
    "            loss.backward()\n",
    "\n",
    "            for n, p in self.model.named_parameters():\n",
    "                precision_matrices[n].data += p.grad.data ** 2 / len(self.dataset)\n",
    "\n",
    "        precision_matrices = {n: p for n, p in precision_matrices.items()}\n",
    "        return precision_matrices\n",
    "\n",
    "    def penalty(self, model: nn.Module):\n",
    "        loss = 0\n",
    "        for n, p in model.named_parameters():\n",
    "            _loss = self._precision_matrices[n] * (p - self._means[n]) ** 2\n",
    "            loss += _loss.sum()\n",
    "        return loss\n",
    "\n",
    "\n",
    "def normal_train(model: nn.Module, optimizer: torch.optim, data_loader: torch.utils.data.DataLoader):\n",
    "    model.train()\n",
    "    cross_entropy_loss = nn.CrossEntropyLoss()\n",
    "    epoch_loss = 0\n",
    "    for input, target in data_loader:\n",
    "        input, target = variable(input), variable(target.long())\n",
    "        optimizer.zero_grad()\n",
    "        output = model(input)\n",
    "        #loss = F.cross_entropy(output, target)\n",
    "        loss = cross_entropy_loss(output, target)\n",
    "        epoch_loss += loss.item()\n",
    "        loss.backward()\n",
    "        optimizer.step()\n",
    "    return epoch_loss / len(data_loader)\n",
    "\n",
    "def ewc_train(model: nn.Module, optimizer: torch.optim, data_loader: torch.utils.data.DataLoader,\n",
    "              ewc: EWC, importance: float):\n",
    "    model.train()\n",
    "    cross_entropy_loss = nn.CrossEntropyLoss()\n",
    "    epoch_loss = 0\n",
    "    for input, target in data_loader:\n",
    "        input, target = variable(input), variable(target.long())\n",
    "        optimizer.zero_grad()\n",
    "        output = model(input)\n",
    "        loss = cross_entropy_loss(output, target) + importance * ewc.penalty(model)\n",
    "        epoch_loss += loss.item()\n",
    "        loss.backward()\n",
    "        optimizer.step()\n",
    "    return epoch_loss / len(data_loader)\n",
    "\n",
    "def test(model: nn.Module, data_loader: torch.utils.data.DataLoader):\n",
    "    model.eval()\n",
    "    correct = 0\n",
    "    for input, target in data_loader:\n",
    "        input, target = variable(input), variable(target.long())\n",
    "        output = model(input)\n",
    "        correct += (F.softmax(output, dim=1).max(dim=1)[1] == target).data.sum()\n",
    "    # print(\"correct: \", correct)\n",
    "    # print(\"len dataloader: \", len(data_loader.dataset))\n",
    "    return correct.float() / len(data_loader.dataset)"
   ]
  },
  {
   "cell_type": "code",
   "execution_count": 58,
   "metadata": {},
   "outputs": [
    {
     "data": {
      "text/plain": [
       "2"
      ]
     },
     "execution_count": 58,
     "metadata": {},
     "output_type": "execute_result"
    }
   ],
   "source": [
    "num_task"
   ]
  },
  {
   "cell_type": "code",
   "execution_count": 59,
   "metadata": {},
   "outputs": [],
   "source": [
    "num_task = 2"
   ]
  },
  {
   "cell_type": "code",
   "execution_count": 60,
   "metadata": {},
   "outputs": [
    {
     "data": {
      "text/plain": [
       "13243"
      ]
     },
     "execution_count": 60,
     "metadata": {},
     "output_type": "execute_result"
    }
   ],
   "source": [
    "len(train_loader[0].dataset)"
   ]
  },
  {
   "cell_type": "code",
   "execution_count": 61,
   "metadata": {
    "scrolled": true
   },
   "outputs": [
    {
     "name": "stderr",
     "output_type": "stream",
     "text": [
      "\r",
      "  0%|          | 0/20 [00:00<?, ?it/s]"
     ]
    },
    {
     "name": "stdout",
     "output_type": "stream",
     "text": [
      "task 0\n",
      "loss :  [2.312537908554077]\n",
      "acc :  tensor(0.3657)\n",
      "sub_task:  0\n"
     ]
    },
    {
     "name": "stderr",
     "output_type": "stream",
     "text": [
      "\r",
      "  5%|▌         | 1/20 [00:05<01:49,  5.76s/it]"
     ]
    },
    {
     "name": "stdout",
     "output_type": "stream",
     "text": [
      "loss :  [2.312537908554077, 1.6790132877918391]\n",
      "acc :  tensor(0.4470)\n",
      "sub_task:  0\n"
     ]
    },
    {
     "name": "stderr",
     "output_type": "stream",
     "text": [
      "\r",
      " 10%|█         | 2/20 [00:10<01:38,  5.45s/it]"
     ]
    },
    {
     "name": "stdout",
     "output_type": "stream",
     "text": [
      "loss :  [2.312537908554077, 1.6790132877918391, 1.4153047238404934]\n",
      "acc :  tensor(0.4796)\n",
      "sub_task:  0\n"
     ]
    },
    {
     "name": "stderr",
     "output_type": "stream",
     "text": [
      "\r",
      " 15%|█▌        | 3/20 [00:15<01:29,  5.28s/it]"
     ]
    },
    {
     "name": "stdout",
     "output_type": "stream",
     "text": [
      "loss :  [2.312537908554077, 1.6790132877918391, 1.4153047238404934, 1.28244303052242]\n",
      "acc :  tensor(0.5068)\n",
      "sub_task:  0\n"
     ]
    },
    {
     "name": "stderr",
     "output_type": "stream",
     "text": [
      "\r",
      " 20%|██        | 4/20 [00:20<01:22,  5.19s/it]"
     ]
    },
    {
     "name": "stdout",
     "output_type": "stream",
     "text": [
      "loss :  [2.312537908554077, 1.6790132877918391, 1.4153047238404934, 1.28244303052242, 1.1849001898215368]\n",
      "acc :  tensor(0.5023)\n",
      "sub_task:  0\n"
     ]
    },
    {
     "name": "stderr",
     "output_type": "stream",
     "text": [
      "\r",
      " 25%|██▌       | 5/20 [00:27<01:25,  5.68s/it]"
     ]
    },
    {
     "name": "stdout",
     "output_type": "stream",
     "text": [
      "loss :  [2.312537908554077, 1.6790132877918391, 1.4153047238404934, 1.28244303052242, 1.1849001898215368, 1.0769676806835027]\n",
      "acc :  tensor(0.5494)\n",
      "sub_task:  0\n"
     ]
    },
    {
     "name": "stderr",
     "output_type": "stream",
     "text": [
      "\r",
      " 30%|███       | 6/20 [00:32<01:19,  5.69s/it]"
     ]
    },
    {
     "name": "stdout",
     "output_type": "stream",
     "text": [
      "loss :  [2.312537908554077, 1.6790132877918391, 1.4153047238404934, 1.28244303052242, 1.1849001898215368, 1.0769676806835027, 1.0147656099154398]\n",
      "acc :  tensor(0.5912)\n",
      "sub_task:  0\n"
     ]
    },
    {
     "name": "stderr",
     "output_type": "stream",
     "text": [
      "\r",
      " 35%|███▌      | 7/20 [00:38<01:14,  5.76s/it]"
     ]
    },
    {
     "name": "stdout",
     "output_type": "stream",
     "text": [
      "loss :  [2.312537908554077, 1.6790132877918391, 1.4153047238404934, 1.28244303052242, 1.1849001898215368, 1.0769676806835027, 1.0147656099154398, 1.0208790944172785]\n",
      "acc :  tensor(0.5826)\n",
      "sub_task:  0\n"
     ]
    },
    {
     "name": "stderr",
     "output_type": "stream",
     "text": [
      "\r",
      " 40%|████      | 8/20 [00:45<01:11,  5.93s/it]"
     ]
    },
    {
     "name": "stdout",
     "output_type": "stream",
     "text": [
      "loss :  [2.312537908554077, 1.6790132877918391, 1.4153047238404934, 1.28244303052242, 1.1849001898215368, 1.0769676806835027, 1.0147656099154398, 1.0208790944172785, 0.994237081362651]\n",
      "acc :  tensor(0.5913)\n",
      "sub_task:  0\n"
     ]
    },
    {
     "name": "stderr",
     "output_type": "stream",
     "text": [
      "\r",
      " 45%|████▌     | 9/20 [00:55<01:19,  7.25s/it]"
     ]
    },
    {
     "name": "stdout",
     "output_type": "stream",
     "text": [
      "loss :  [2.312537908554077, 1.6790132877918391, 1.4153047238404934, 1.28244303052242, 1.1849001898215368, 1.0769676806835027, 1.0147656099154398, 1.0208790944172785, 0.994237081362651, 0.973989918254889]\n",
      "acc :  tensor(0.5876)\n",
      "sub_task:  0\n"
     ]
    },
    {
     "name": "stderr",
     "output_type": "stream",
     "text": [
      "\r",
      " 50%|█████     | 10/20 [01:02<01:12,  7.22s/it]"
     ]
    },
    {
     "name": "stdout",
     "output_type": "stream",
     "text": [
      "loss :  [2.312537908554077, 1.6790132877918391, 1.4153047238404934, 1.28244303052242, 1.1849001898215368, 1.0769676806835027, 1.0147656099154398, 1.0208790944172785, 0.994237081362651, 0.973989918254889, 0.9278896605739226]\n",
      "acc :  tensor(0.5638)\n",
      "sub_task:  0\n"
     ]
    },
    {
     "name": "stderr",
     "output_type": "stream",
     "text": [
      "\r",
      " 55%|█████▌    | 11/20 [01:10<01:06,  7.38s/it]"
     ]
    },
    {
     "name": "stdout",
     "output_type": "stream",
     "text": [
      "loss :  [2.312537908554077, 1.6790132877918391, 1.4153047238404934, 1.28244303052242, 1.1849001898215368, 1.0769676806835027, 1.0147656099154398, 1.0208790944172785, 0.994237081362651, 0.973989918254889, 0.9278896605739226, 0.9237225617353733]\n",
      "acc :  tensor(0.6342)\n",
      "sub_task:  0\n"
     ]
    },
    {
     "name": "stderr",
     "output_type": "stream",
     "text": [
      "\r",
      " 60%|██████    | 12/20 [01:17<00:58,  7.28s/it]"
     ]
    },
    {
     "name": "stdout",
     "output_type": "stream",
     "text": [
      "loss :  [2.312537908554077, 1.6790132877918391, 1.4153047238404934, 1.28244303052242, 1.1849001898215368, 1.0769676806835027, 1.0147656099154398, 1.0208790944172785, 0.994237081362651, 0.973989918254889, 0.9278896605739226, 0.9237225617353733, 0.8716367763968614]\n",
      "acc :  tensor(0.5758)\n",
      "sub_task:  0\n"
     ]
    },
    {
     "name": "stderr",
     "output_type": "stream",
     "text": [
      "\r",
      " 65%|██████▌   | 13/20 [01:22<00:47,  6.76s/it]"
     ]
    },
    {
     "name": "stdout",
     "output_type": "stream",
     "text": [
      "loss :  [2.312537908554077, 1.6790132877918391, 1.4153047238404934, 1.28244303052242, 1.1849001898215368, 1.0769676806835027, 1.0147656099154398, 1.0208790944172785, 0.994237081362651, 0.973989918254889, 0.9278896605739226, 0.9237225617353733, 0.8716367763968614, 0.8573463060534917]\n",
      "acc :  tensor(0.6209)\n",
      "sub_task:  0\n"
     ]
    },
    {
     "name": "stderr",
     "output_type": "stream",
     "text": [
      "\r",
      " 70%|███████   | 14/20 [01:32<00:45,  7.51s/it]"
     ]
    },
    {
     "name": "stdout",
     "output_type": "stream",
     "text": [
      "loss :  [2.312537908554077, 1.6790132877918391, 1.4153047238404934, 1.28244303052242, 1.1849001898215368, 1.0769676806835027, 1.0147656099154398, 1.0208790944172785, 0.994237081362651, 0.973989918254889, 0.9278896605739226, 0.9237225617353733, 0.8716367763968614, 0.8573463060534917, 0.8750889702485158]\n",
      "acc :  tensor(0.6290)\n",
      "sub_task:  0\n"
     ]
    },
    {
     "name": "stderr",
     "output_type": "stream",
     "text": [
      "\r",
      " 75%|███████▌  | 15/20 [01:40<00:38,  7.65s/it]"
     ]
    },
    {
     "name": "stdout",
     "output_type": "stream",
     "text": [
      "loss :  [2.312537908554077, 1.6790132877918391, 1.4153047238404934, 1.28244303052242, 1.1849001898215368, 1.0769676806835027, 1.0147656099154398, 1.0208790944172785, 0.994237081362651, 0.973989918254889, 0.9278896605739226, 0.9237225617353733, 0.8716367763968614, 0.8573463060534917, 0.8750889702485158, 0.8580572553552114]\n",
      "acc :  tensor(0.6585)\n",
      "sub_task:  0\n"
     ]
    },
    {
     "name": "stderr",
     "output_type": "stream",
     "text": [
      "\r",
      " 80%|████████  | 16/20 [01:47<00:30,  7.63s/it]"
     ]
    },
    {
     "name": "stdout",
     "output_type": "stream",
     "text": [
      "loss :  [2.312537908554077, 1.6790132877918391, 1.4153047238404934, 1.28244303052242, 1.1849001898215368, 1.0769676806835027, 1.0147656099154398, 1.0208790944172785, 0.994237081362651, 0.973989918254889, 0.9278896605739226, 0.9237225617353733, 0.8716367763968614, 0.8573463060534917, 0.8750889702485158, 0.8580572553552114, 0.8235205131081434]\n",
      "acc :  tensor(0.6432)\n",
      "sub_task:  0\n"
     ]
    },
    {
     "name": "stderr",
     "output_type": "stream",
     "text": [
      "\r",
      " 85%|████████▌ | 17/20 [01:54<00:21,  7.22s/it]"
     ]
    },
    {
     "name": "stdout",
     "output_type": "stream",
     "text": [
      "loss :  [2.312537908554077, 1.6790132877918391, 1.4153047238404934, 1.28244303052242, 1.1849001898215368, 1.0769676806835027, 1.0147656099154398, 1.0208790944172785, 0.994237081362651, 0.973989918254889, 0.9278896605739226, 0.9237225617353733, 0.8716367763968614, 0.8573463060534917, 0.8750889702485158, 0.8580572553552114, 0.8235205131081434, 0.8145873873279645]\n",
      "acc :  tensor(0.6420)\n",
      "sub_task:  0\n"
     ]
    },
    {
     "name": "stderr",
     "output_type": "stream",
     "text": [
      "\r",
      " 90%|█████████ | 18/20 [02:01<00:14,  7.24s/it]"
     ]
    },
    {
     "name": "stdout",
     "output_type": "stream",
     "text": [
      "loss :  [2.312537908554077, 1.6790132877918391, 1.4153047238404934, 1.28244303052242, 1.1849001898215368, 1.0769676806835027, 1.0147656099154398, 1.0208790944172785, 0.994237081362651, 0.973989918254889, 0.9278896605739226, 0.9237225617353733, 0.8716367763968614, 0.8573463060534917, 0.8750889702485158, 0.8580572553552114, 0.8235205131081434, 0.8145873873279645, 0.8223641921694462]\n",
      "acc :  tensor(0.6131)\n",
      "sub_task:  0\n"
     ]
    },
    {
     "name": "stderr",
     "output_type": "stream",
     "text": [
      "\r",
      " 95%|█████████▌| 19/20 [02:07<00:06,  6.81s/it]"
     ]
    },
    {
     "name": "stdout",
     "output_type": "stream",
     "text": [
      "loss :  [2.312537908554077, 1.6790132877918391, 1.4153047238404934, 1.28244303052242, 1.1849001898215368, 1.0769676806835027, 1.0147656099154398, 1.0208790944172785, 0.994237081362651, 0.973989918254889, 0.9278896605739226, 0.9237225617353733, 0.8716367763968614, 0.8573463060534917, 0.8750889702485158, 0.8580572553552114, 0.8235205131081434, 0.8145873873279645, 0.8223641921694462, 0.7714498071716382]\n",
      "acc :  tensor(0.6566)\n",
      "sub_task:  0\n"
     ]
    },
    {
     "name": "stderr",
     "output_type": "stream",
     "text": [
      "100%|██████████| 20/20 [02:13<00:00,  6.74s/it]\n"
     ]
    },
    {
     "ename": "NameError",
     "evalue": "name 'weight' is not defined",
     "output_type": "error",
     "traceback": [
      "\u001b[0;31m---------------------------------------------------------------------------\u001b[0m",
      "\u001b[0;31mNameError\u001b[0m                                 Traceback (most recent call last)",
      "\u001b[0;32m<ipython-input-61-440bf390b5a8>\u001b[0m in \u001b[0;36m<module>\u001b[0;34m()\u001b[0m\n\u001b[1;32m     16\u001b[0m             \u001b[0mprint\u001b[0m\u001b[0;34m(\u001b[0m\u001b[0;34m'sub_task: '\u001b[0m\u001b[0;34m,\u001b[0m \u001b[0msub_task\u001b[0m\u001b[0;34m)\u001b[0m\u001b[0;34m\u001b[0m\u001b[0m\n\u001b[1;32m     17\u001b[0m             \u001b[0macc\u001b[0m\u001b[0;34m[\u001b[0m\u001b[0msub_task\u001b[0m\u001b[0;34m]\u001b[0m\u001b[0;34m.\u001b[0m\u001b[0mappend\u001b[0m\u001b[0;34m(\u001b[0m\u001b[0mtest\u001b[0m\u001b[0;34m(\u001b[0m\u001b[0mmodel1\u001b[0m\u001b[0;34m,\u001b[0m \u001b[0mtest_loader\u001b[0m\u001b[0;34m[\u001b[0m\u001b[0msub_task\u001b[0m\u001b[0;34m]\u001b[0m\u001b[0;34m)\u001b[0m\u001b[0;34m)\u001b[0m\u001b[0;34m\u001b[0m\u001b[0m\n\u001b[0;32m---> 18\u001b[0;31m     \u001b[0;32mif\u001b[0m \u001b[0mtask\u001b[0m \u001b[0;34m==\u001b[0m \u001b[0;36m0\u001b[0m \u001b[0;32mand\u001b[0m \u001b[0mweight\u001b[0m\u001b[0;34m:\u001b[0m\u001b[0;34m\u001b[0m\u001b[0m\n\u001b[0m\u001b[1;32m     19\u001b[0m         \u001b[0mweight\u001b[0m \u001b[0;34m=\u001b[0m \u001b[0mmodel1\u001b[0m\u001b[0;34m.\u001b[0m\u001b[0mstate_dict\u001b[0m\u001b[0;34m(\u001b[0m\u001b[0;34m)\u001b[0m\u001b[0;34m\u001b[0m\u001b[0m\n",
      "\u001b[0;31mNameError\u001b[0m: name 'weight' is not defined"
     ]
    }
   ],
   "source": [
    "model1 = MLP(hidden_size)\n",
    "if torch.cuda.is_available() and use_cuda:\n",
    "    model1.cuda()\n",
    "optimizer = optim.Adam(params=model1.parameters(), lr=lr)\n",
    "\n",
    "loss, acc = {}, {}\n",
    "for task in range(1):\n",
    "    loss[task] = []\n",
    "    acc[task] = []\n",
    "    print('task %d' %(task))\n",
    "    for _ in tqdm(range(epochs)):\n",
    "        loss[task].append(normal_train(model1, optimizer, train_loader[task]))\n",
    "        print(\"loss : \", loss[task])\n",
    "        print(\"acc : \", test(model1, train_loader[task]))\n",
    "        for sub_task in range(task + 1):\n",
    "            print('sub_task: ', sub_task)\n",
    "            acc[sub_task].append(test(model1, test_loader[sub_task]))\n",
    "    if task == 0 and weight:\n",
    "        weight = model1.state_dict()"
   ]
  },
  {
   "cell_type": "code",
   "execution_count": 62,
   "metadata": {},
   "outputs": [
    {
     "data": {
      "text/plain": [
       "{0: [tensor(0.3556),\n",
       "  tensor(0.3543),\n",
       "  tensor(0.3787),\n",
       "  tensor(0.4531),\n",
       "  tensor(0.4198),\n",
       "  tensor(0.4339),\n",
       "  tensor(0.4936),\n",
       "  tensor(0.4647),\n",
       "  tensor(0.4660),\n",
       "  tensor(0.4564),\n",
       "  tensor(0.4891),\n",
       "  tensor(0.4750),\n",
       "  tensor(0.4332),\n",
       "  tensor(0.4942),\n",
       "  tensor(0.5154),\n",
       "  tensor(0.5539),\n",
       "  tensor(0.5039),\n",
       "  tensor(0.5039),\n",
       "  tensor(0.5077),\n",
       "  tensor(0.5186)]}"
      ]
     },
     "execution_count": 62,
     "metadata": {},
     "output_type": "execute_result"
    }
   ],
   "source": [
    "acc"
   ]
  },
  {
   "cell_type": "code",
   "execution_count": 296,
   "metadata": {},
   "outputs": [
    {
     "data": {
      "text/plain": [
       "55"
      ]
     },
     "execution_count": 296,
     "metadata": {},
     "output_type": "execute_result"
    }
   ],
   "source": [
    "len(train_loader[1])"
   ]
  },
  {
   "cell_type": "code",
   "execution_count": 387,
   "metadata": {},
   "outputs": [
    {
     "name": "stdout",
     "output_type": "stream",
     "text": [
      "tensor([[0.5175, 0.6625, 0.5707,  ..., 0.4983, 0.4989, 0.4760],\n",
      "        [0.4520, 0.6177, 0.6582,  ..., 0.5017, 0.5019, 0.5480],\n",
      "        [0.5460, 0.6160, 0.4875,  ..., 0.5053, 0.5171, 0.5000],\n",
      "        ...,\n",
      "        [0.4640, 0.6430, 0.6613,  ..., 0.5821, 0.4269, 0.5080],\n",
      "        [0.5047, 0.6768, 0.4502,  ..., 0.4953, 0.5095, 0.6300],\n",
      "        [0.5088, 0.6603, 0.5780,  ..., 0.4986, 0.4999, 0.5280]])\n",
      "tensor([3, 4, 0, 7, 1, 6, 7, 1, 5, 2, 4, 4, 6, 5, 2, 4, 1, 0, 6, 2, 0, 0, 6, 6,\n",
      "        7, 0, 3, 4, 1, 4, 0, 7, 0, 0, 1, 5, 2, 3, 8, 0, 2, 7, 2, 0, 1, 3, 1, 0,\n",
      "        4, 3, 4, 0, 0, 0, 7, 0, 3, 8, 8, 7, 3, 1, 7, 7, 4, 0, 0, 5, 4, 1, 1, 4,\n",
      "        2, 4, 5, 0, 4, 3, 2, 2, 2, 1, 4, 4, 4, 2, 4, 3, 1, 5, 5, 8, 4, 4, 6, 2,\n",
      "        1, 4, 2, 0, 7, 7, 7, 1, 0, 4, 3, 1, 2, 0, 4, 1, 2, 0, 4, 8, 2, 5, 3, 1,\n",
      "        1, 0, 2, 8, 4, 6, 4, 1], dtype=torch.uint8)\n",
      "tensor([3, 4, 0, 7, 1, 6, 7, 1, 5, 2, 4, 4, 6, 5, 2, 4, 1, 0, 6, 2, 0, 0, 6, 6,\n",
      "        7, 0, 3, 4, 1, 4, 0, 7, 0, 0, 1, 5, 2, 3, 8, 0, 2, 7, 2, 0, 1, 3, 1, 0,\n",
      "        4, 3, 4, 0, 0, 0, 7, 0, 3, 8, 8, 7, 3, 1, 7, 7, 4, 0, 0, 5, 4, 1, 1, 4,\n",
      "        2, 4, 5, 0, 4, 3, 2, 2, 2, 1, 4, 4, 4, 2, 4, 3, 1, 5, 5, 8, 4, 4, 6, 2,\n",
      "        1, 4, 2, 0, 7, 7, 7, 1, 0, 4, 3, 1, 2, 0, 4, 1, 2, 0, 4, 8, 2, 5, 3, 1,\n",
      "        1, 0, 2, 8, 4, 6, 4, 1])\n"
     ]
    }
   ],
   "source": [
    "i = 0\n",
    "for input, target in train_loader[0]:\n",
    "    i += 1\n",
    "    if i > 10:\n",
    "        print(input)\n",
    "        print(target)\n",
    "        print(target.long())\n",
    "        break"
   ]
  },
  {
   "cell_type": "code",
   "execution_count": 395,
   "metadata": {},
   "outputs": [],
   "source": [
    "correct = 0\n",
    "target = target.long()\n",
    "output = model1(input)\n",
    "correct += (F.softmax(output, dim=1).max(dim=1)[1] == target).data.sum()"
   ]
  },
  {
   "cell_type": "code",
   "execution_count": 397,
   "metadata": {},
   "outputs": [
    {
     "data": {
      "text/plain": [
       "128"
      ]
     },
     "execution_count": 397,
     "metadata": {},
     "output_type": "execute_result"
    }
   ],
   "source": [
    "len(target)"
   ]
  },
  {
   "cell_type": "code",
   "execution_count": 396,
   "metadata": {},
   "outputs": [
    {
     "data": {
      "text/plain": [
       "tensor(73)"
      ]
     },
     "execution_count": 396,
     "metadata": {},
     "output_type": "execute_result"
    }
   ],
   "source": [
    "correct"
   ]
  },
  {
   "cell_type": "code",
   "execution_count": 374,
   "metadata": {},
   "outputs": [
    {
     "data": {
      "text/plain": [
       "tensor(42)"
      ]
     },
     "execution_count": 374,
     "metadata": {},
     "output_type": "execute_result"
    }
   ],
   "source": [
    "correct"
   ]
  },
  {
   "cell_type": "code",
   "execution_count": 375,
   "metadata": {},
   "outputs": [
    {
     "data": {
      "text/plain": [
       "tensor([0, 4, 4, 1, 0, 2, 8, 3, 3, 1, 3, 6, 3, 7, 2, 8, 6, 5, 8, 4, 4, 3, 7, 5,\n",
       "        6, 0, 6, 7, 4, 2, 6, 2, 2, 7, 7, 0, 7, 5, 1, 8, 7, 6, 7, 2, 2, 3, 4, 2,\n",
       "        1, 5, 1, 0, 1, 6, 2, 2, 4, 5, 3, 2, 2, 4, 3, 6, 1, 3, 0, 4, 6, 3, 4, 4,\n",
       "        0, 3, 2, 7, 7, 4, 5, 2, 3, 1, 1, 5, 0, 1, 1, 8, 0, 1, 3, 5, 5, 0, 5, 0,\n",
       "        4, 8, 6, 0, 8, 1, 6, 3, 2, 0, 4, 1, 7, 5, 1, 5, 4, 4, 1, 5, 0, 8, 0, 8,\n",
       "        8, 5, 1, 5, 1, 1, 6, 5])"
      ]
     },
     "execution_count": 375,
     "metadata": {},
     "output_type": "execute_result"
    }
   ],
   "source": [
    "target"
   ]
  },
  {
   "cell_type": "code",
   "execution_count": 376,
   "metadata": {},
   "outputs": [
    {
     "data": {
      "text/plain": [
       "tensor([1, 4, 4, 1, 0, 1, 4, 1, 1, 1, 1, 4, 1, 4, 0, 4, 4, 4, 4, 4, 4, 1, 4, 4,\n",
       "        4, 4, 4, 4, 4, 0, 4, 0, 0, 4, 4, 0, 4, 4, 1, 4, 4, 4, 4, 1, 1, 1, 4, 1,\n",
       "        1, 4, 1, 0, 1, 4, 0, 4, 4, 4, 1, 1, 0, 4, 1, 4, 1, 1, 1, 4, 4, 1, 4, 4,\n",
       "        0, 1, 1, 4, 4, 4, 4, 1, 1, 1, 1, 4, 1, 1, 1, 4, 0, 1, 1, 4, 4, 1, 4, 0,\n",
       "        4, 4, 4, 0, 4, 1, 4, 1, 0, 1, 4, 4, 4, 4, 1, 4, 4, 4, 1, 1, 0, 4, 1, 4,\n",
       "        4, 4, 1, 4, 1, 1, 4, 4])"
      ]
     },
     "execution_count": 376,
     "metadata": {},
     "output_type": "execute_result"
    }
   ],
   "source": [
    "F.softmax(model(input), dim=1).max(dim=1)[1]"
   ]
  },
  {
   "cell_type": "code",
   "execution_count": 392,
   "metadata": {},
   "outputs": [
    {
     "data": {
      "text/plain": [
       "tensor([3, 4, 0, 7, 1, 6, 7, 1, 5, 2, 4, 4, 6, 5, 2, 4, 1, 0, 6, 2, 0, 0, 6, 6,\n",
       "        7, 0, 3, 4, 1, 4, 0, 7, 0, 0, 1, 5, 2, 3, 8, 0, 2, 7, 2, 0, 1, 3, 1, 0,\n",
       "        4, 3, 4, 0, 0, 0, 7, 0, 3, 8, 8, 7, 3, 1, 7, 7, 4, 0, 0, 5, 4, 1, 1, 4,\n",
       "        2, 4, 5, 0, 4, 3, 2, 2, 2, 1, 4, 4, 4, 2, 4, 3, 1, 5, 5, 8, 4, 4, 6, 2,\n",
       "        1, 4, 2, 0, 7, 7, 7, 1, 0, 4, 3, 1, 2, 0, 4, 1, 2, 0, 4, 8, 2, 5, 3, 1,\n",
       "        1, 0, 2, 8, 4, 6, 4, 1], dtype=torch.uint8)"
      ]
     },
     "execution_count": 392,
     "metadata": {},
     "output_type": "execute_result"
    }
   ],
   "source": [
    "target"
   ]
  },
  {
   "cell_type": "code",
   "execution_count": 393,
   "metadata": {},
   "outputs": [
    {
     "data": {
      "text/plain": [
       "tensor([1, 5, 2, 7, 1, 8, 8, 1, 5, 2, 5, 5, 7, 5, 2, 5, 1, 0, 7, 2, 2, 2, 7, 7,\n",
       "        7, 2, 3, 5, 1, 4, 2, 6, 2, 2, 1, 7, 2, 3, 8, 2, 2, 7, 2, 7, 1, 3, 1, 2,\n",
       "        5, 3, 5, 2, 2, 2, 7, 0, 3, 8, 8, 7, 3, 1, 7, 5, 5, 2, 0, 5, 5, 1, 1, 5,\n",
       "        2, 5, 6, 2, 5, 3, 2, 2, 2, 1, 5, 5, 5, 2, 5, 3, 1, 5, 5, 8, 5, 5, 6, 2,\n",
       "        1, 6, 2, 0, 8, 7, 7, 1, 0, 5, 3, 1, 2, 2, 5, 1, 2, 0, 5, 8, 2, 5, 3, 3,\n",
       "        1, 2, 2, 8, 5, 7, 5, 1])"
      ]
     },
     "execution_count": 393,
     "metadata": {},
     "output_type": "execute_result"
    }
   ],
   "source": [
    "F.softmax(model1(input), dim=1).max(dim=1)[1]"
   ]
  },
  {
   "cell_type": "code",
   "execution_count": 377,
   "metadata": {},
   "outputs": [
    {
     "data": {
      "text/plain": [
       "tensor([[0.1257, 0.1298, 0.1200,  ..., 0.0036, 0.0013, 0.0036],\n",
       "        [0.0914, 0.0990, 0.0845,  ..., 0.0029, 0.0006, 0.0035],\n",
       "        [0.0983, 0.1041, 0.0933,  ..., 0.0030, 0.0007, 0.0035],\n",
       "        ...,\n",
       "        [0.1333, 0.1445, 0.1241,  ..., 0.0037, 0.0017, 0.0035],\n",
       "        [0.0942, 0.0972, 0.0893,  ..., 0.0030, 0.0006, 0.0036],\n",
       "        [0.1016, 0.1061, 0.0928,  ..., 0.0032, 0.0008, 0.0036]],\n",
       "       grad_fn=<SoftmaxBackward>)"
      ]
     },
     "execution_count": 377,
     "metadata": {},
     "output_type": "execute_result"
    }
   ],
   "source": [
    "F.softmax(output, dim=1)"
   ]
  },
  {
   "cell_type": "code",
   "execution_count": 237,
   "metadata": {},
   "outputs": [
    {
     "data": {
      "text/plain": [
       "tensor([[ 2.3636,  2.2833,  2.2108,  ..., -1.9791, -1.7001, -2.1292],\n",
       "        [ 2.2966,  2.2469,  2.1365,  ..., -1.9794, -1.7794, -2.1149],\n",
       "        [ 2.2920,  2.1956,  2.1180,  ..., -1.8860, -1.4570, -2.0379],\n",
       "        ...,\n",
       "        [ 2.3067,  2.1982,  2.1176,  ..., -1.8533, -1.3969, -2.0326],\n",
       "        [ 1.8217,  1.8532,  1.8033,  ..., -2.1196, -2.6340, -2.0280],\n",
       "        [ 1.9371,  1.9536,  1.9073,  ..., -2.0950, -2.5238, -2.0660]],\n",
       "       grad_fn=<AddmmBackward>)"
      ]
     },
     "execution_count": 237,
     "metadata": {},
     "output_type": "execute_result"
    }
   ],
   "source": [
    "output"
   ]
  },
  {
   "cell_type": "code",
   "execution_count": 236,
   "metadata": {},
   "outputs": [
    {
     "data": {
      "text/plain": [
       "tensor(0)"
      ]
     },
     "execution_count": 236,
     "metadata": {},
     "output_type": "execute_result"
    }
   ],
   "source": [
    "correct"
   ]
  },
  {
   "cell_type": "code",
   "execution_count": 230,
   "metadata": {},
   "outputs": [
    {
     "data": {
      "text/plain": [
       "tensor([15, 15, 15, 16,  9, 12, 15, 15, 10, 15, 12, 14,  9, 15, 15, 15,  9, 15,\n",
       "        15, 15, 15, 15, 15, 14, 12, 12, 15, 13, 11, 15,  9, 13, 15, 15, 16, 15,\n",
       "        14, 16, 15, 15, 15, 12, 15, 15,  9, 15, 15, 15, 15, 16, 14, 15, 10, 15,\n",
       "        14, 15, 15, 10, 15, 12, 15, 15, 15, 15, 10, 15, 16,  9, 15, 15, 13, 15,\n",
       "        15, 14, 15, 16, 15, 15, 14, 15, 15, 15, 13, 11, 16, 15, 15, 14, 15, 16,\n",
       "        13, 10, 13, 15, 11, 16, 15, 15, 15, 15, 12, 15, 12, 15, 15, 15, 14, 12,\n",
       "        10, 15, 10, 12, 15, 14, 13, 10, 15, 15, 10, 15,  9, 13, 14,  9, 15, 15,\n",
       "        12, 12], dtype=torch.uint8)"
      ]
     },
     "execution_count": 230,
     "metadata": {},
     "output_type": "execute_result"
    }
   ],
   "source": [
    "target"
   ]
  },
  {
   "cell_type": "code",
   "execution_count": 63,
   "metadata": {
    "scrolled": true
   },
   "outputs": [
    {
     "name": "stderr",
     "output_type": "stream",
     "text": [
      "100%|██████████| 20/20 [01:57<00:00,  7.34s/it]\n",
      "100%|██████████| 20/20 [00:16<00:00,  1.19it/s]\n"
     ]
    }
   ],
   "source": [
    "loss, acc, weight = standard_process(20)"
   ]
  },
  {
   "cell_type": "code",
   "execution_count": 351,
   "metadata": {},
   "outputs": [
    {
     "name": "stderr",
     "output_type": "stream",
     "text": [
      "\n",
      "\n",
      "\n",
      "\n",
      "\n",
      "\n",
      "\n",
      "\n",
      "\n",
      "  0%|          | 0/10 [00:00<?, ?it/s]\u001b[A\u001b[A\u001b[A\u001b[A\u001b[A\u001b[A\u001b[A\u001b[A\u001b[A"
     ]
    },
    {
     "name": "stdout",
     "output_type": "stream",
     "text": [
      "task:  0\n",
      "task:  1\n"
     ]
    },
    {
     "name": "stderr",
     "output_type": "stream",
     "text": [
      "\n",
      "\n",
      "\n",
      "\n",
      "\n",
      "\n",
      "\n",
      "\n",
      "\n",
      " 10%|█         | 1/10 [00:05<00:53,  5.90s/it]\u001b[A\u001b[A\u001b[A\u001b[A\u001b[A\u001b[A\u001b[A\u001b[A\u001b[A"
     ]
    },
    {
     "ename": "KeyboardInterrupt",
     "evalue": "",
     "output_type": "error",
     "traceback": [
      "\u001b[0;31m---------------------------------------------------------------------------\u001b[0m",
      "\u001b[0;31mKeyboardInterrupt\u001b[0m                         Traceback (most recent call last)",
      "\u001b[0;32m<ipython-input-351-5ec1705e3d3a>\u001b[0m in \u001b[0;36m<module>\u001b[0;34m()\u001b[0m\n\u001b[1;32m     24\u001b[0m         \u001b[0mold_tasks\u001b[0m \u001b[0;34m=\u001b[0m \u001b[0mrandom\u001b[0m\u001b[0;34m.\u001b[0m\u001b[0msample\u001b[0m\u001b[0;34m(\u001b[0m\u001b[0mold_tasks\u001b[0m\u001b[0;34m,\u001b[0m \u001b[0mk\u001b[0m\u001b[0;34m=\u001b[0m\u001b[0msample_size\u001b[0m\u001b[0;34m)\u001b[0m\u001b[0;34m\u001b[0m\u001b[0m\n\u001b[1;32m     25\u001b[0m         \u001b[0;32mfor\u001b[0m \u001b[0m_\u001b[0m \u001b[0;32min\u001b[0m \u001b[0mtqdm\u001b[0m\u001b[0;34m(\u001b[0m\u001b[0mrange\u001b[0m\u001b[0;34m(\u001b[0m\u001b[0mepochs\u001b[0m\u001b[0;34m)\u001b[0m\u001b[0;34m)\u001b[0m\u001b[0;34m:\u001b[0m\u001b[0;34m\u001b[0m\u001b[0m\n\u001b[0;32m---> 26\u001b[0;31m             \u001b[0mloss\u001b[0m\u001b[0;34m[\u001b[0m\u001b[0mtask\u001b[0m\u001b[0;34m]\u001b[0m\u001b[0;34m.\u001b[0m\u001b[0mappend\u001b[0m\u001b[0;34m(\u001b[0m\u001b[0mewc_train\u001b[0m\u001b[0;34m(\u001b[0m\u001b[0mmodel\u001b[0m\u001b[0;34m,\u001b[0m \u001b[0moptimizer\u001b[0m\u001b[0;34m,\u001b[0m \u001b[0mtrain_loader\u001b[0m\u001b[0;34m[\u001b[0m\u001b[0mtask\u001b[0m\u001b[0;34m]\u001b[0m\u001b[0;34m,\u001b[0m \u001b[0mEWC\u001b[0m\u001b[0;34m(\u001b[0m\u001b[0mmodel\u001b[0m\u001b[0;34m,\u001b[0m \u001b[0mold_tasks\u001b[0m\u001b[0;34m)\u001b[0m\u001b[0;34m,\u001b[0m \u001b[0mimportance\u001b[0m\u001b[0;34m)\u001b[0m\u001b[0;34m)\u001b[0m\u001b[0;34m\u001b[0m\u001b[0m\n\u001b[0m\u001b[1;32m     27\u001b[0m             \u001b[0;32mfor\u001b[0m \u001b[0msub_task\u001b[0m \u001b[0;32min\u001b[0m \u001b[0mrange\u001b[0m\u001b[0;34m(\u001b[0m\u001b[0mtask\u001b[0m \u001b[0;34m+\u001b[0m \u001b[0;36m1\u001b[0m\u001b[0;34m)\u001b[0m\u001b[0;34m:\u001b[0m\u001b[0;34m\u001b[0m\u001b[0m\n\u001b[1;32m     28\u001b[0m                 \u001b[0macc\u001b[0m\u001b[0;34m[\u001b[0m\u001b[0msub_task\u001b[0m\u001b[0;34m]\u001b[0m\u001b[0;34m.\u001b[0m\u001b[0mappend\u001b[0m\u001b[0;34m(\u001b[0m\u001b[0mtest\u001b[0m\u001b[0;34m(\u001b[0m\u001b[0mmodel\u001b[0m\u001b[0;34m,\u001b[0m \u001b[0mtest_loader\u001b[0m\u001b[0;34m[\u001b[0m\u001b[0msub_task\u001b[0m\u001b[0;34m]\u001b[0m\u001b[0;34m)\u001b[0m\u001b[0;34m)\u001b[0m\u001b[0;34m\u001b[0m\u001b[0m\n",
      "\u001b[0;32m<ipython-input-332-b6c036c571f4>\u001b[0m in \u001b[0;36m__init__\u001b[0;34m(self, model, dataset)\u001b[0m\n\u001b[1;32m     20\u001b[0m         \u001b[0mself\u001b[0m\u001b[0;34m.\u001b[0m\u001b[0mparams\u001b[0m \u001b[0;34m=\u001b[0m \u001b[0;34m{\u001b[0m\u001b[0mn\u001b[0m\u001b[0;34m:\u001b[0m \u001b[0mp\u001b[0m \u001b[0;32mfor\u001b[0m \u001b[0mn\u001b[0m\u001b[0;34m,\u001b[0m \u001b[0mp\u001b[0m \u001b[0;32min\u001b[0m \u001b[0mself\u001b[0m\u001b[0;34m.\u001b[0m\u001b[0mmodel\u001b[0m\u001b[0;34m.\u001b[0m\u001b[0mnamed_parameters\u001b[0m\u001b[0;34m(\u001b[0m\u001b[0;34m)\u001b[0m \u001b[0;32mif\u001b[0m \u001b[0mp\u001b[0m\u001b[0;34m.\u001b[0m\u001b[0mrequires_grad\u001b[0m\u001b[0;34m}\u001b[0m\u001b[0;34m\u001b[0m\u001b[0m\n\u001b[1;32m     21\u001b[0m         \u001b[0mself\u001b[0m\u001b[0;34m.\u001b[0m\u001b[0m_means\u001b[0m \u001b[0;34m=\u001b[0m \u001b[0;34m{\u001b[0m\u001b[0;34m}\u001b[0m\u001b[0;34m\u001b[0m\u001b[0m\n\u001b[0;32m---> 22\u001b[0;31m         \u001b[0mself\u001b[0m\u001b[0;34m.\u001b[0m\u001b[0m_precision_matrices\u001b[0m \u001b[0;34m=\u001b[0m \u001b[0mself\u001b[0m\u001b[0;34m.\u001b[0m\u001b[0m_diag_fisher\u001b[0m\u001b[0;34m(\u001b[0m\u001b[0;34m)\u001b[0m\u001b[0;34m\u001b[0m\u001b[0m\n\u001b[0m\u001b[1;32m     23\u001b[0m \u001b[0;34m\u001b[0m\u001b[0m\n\u001b[1;32m     24\u001b[0m         \u001b[0;32mfor\u001b[0m \u001b[0mn\u001b[0m\u001b[0;34m,\u001b[0m \u001b[0mp\u001b[0m \u001b[0;32min\u001b[0m \u001b[0mdeepcopy\u001b[0m\u001b[0;34m(\u001b[0m\u001b[0mself\u001b[0m\u001b[0;34m.\u001b[0m\u001b[0mparams\u001b[0m\u001b[0;34m)\u001b[0m\u001b[0;34m.\u001b[0m\u001b[0mitems\u001b[0m\u001b[0;34m(\u001b[0m\u001b[0;34m)\u001b[0m\u001b[0;34m:\u001b[0m\u001b[0;34m\u001b[0m\u001b[0m\n",
      "\u001b[0;32m<ipython-input-332-b6c036c571f4>\u001b[0m in \u001b[0;36m_diag_fisher\u001b[0;34m(self)\u001b[0m\n\u001b[1;32m     38\u001b[0m             \u001b[0mlabel\u001b[0m \u001b[0;34m=\u001b[0m \u001b[0moutput\u001b[0m\u001b[0;34m.\u001b[0m\u001b[0mmax\u001b[0m\u001b[0;34m(\u001b[0m\u001b[0;36m1\u001b[0m\u001b[0;34m)\u001b[0m\u001b[0;34m[\u001b[0m\u001b[0;36m1\u001b[0m\u001b[0;34m]\u001b[0m\u001b[0;34m.\u001b[0m\u001b[0mview\u001b[0m\u001b[0;34m(\u001b[0m\u001b[0;34m-\u001b[0m\u001b[0;36m1\u001b[0m\u001b[0;34m)\u001b[0m\u001b[0;34m\u001b[0m\u001b[0m\n\u001b[1;32m     39\u001b[0m             \u001b[0mloss\u001b[0m \u001b[0;34m=\u001b[0m \u001b[0mF\u001b[0m\u001b[0;34m.\u001b[0m\u001b[0mnll_loss\u001b[0m\u001b[0;34m(\u001b[0m\u001b[0mF\u001b[0m\u001b[0;34m.\u001b[0m\u001b[0mlog_softmax\u001b[0m\u001b[0;34m(\u001b[0m\u001b[0moutput\u001b[0m\u001b[0;34m,\u001b[0m \u001b[0mdim\u001b[0m\u001b[0;34m=\u001b[0m\u001b[0;36m1\u001b[0m\u001b[0;34m)\u001b[0m\u001b[0;34m,\u001b[0m \u001b[0mlabel\u001b[0m\u001b[0;34m)\u001b[0m\u001b[0;34m\u001b[0m\u001b[0m\n\u001b[0;32m---> 40\u001b[0;31m             \u001b[0mloss\u001b[0m\u001b[0;34m.\u001b[0m\u001b[0mbackward\u001b[0m\u001b[0;34m(\u001b[0m\u001b[0;34m)\u001b[0m\u001b[0;34m\u001b[0m\u001b[0m\n\u001b[0m\u001b[1;32m     41\u001b[0m \u001b[0;34m\u001b[0m\u001b[0m\n\u001b[1;32m     42\u001b[0m             \u001b[0;32mfor\u001b[0m \u001b[0mn\u001b[0m\u001b[0;34m,\u001b[0m \u001b[0mp\u001b[0m \u001b[0;32min\u001b[0m \u001b[0mself\u001b[0m\u001b[0;34m.\u001b[0m\u001b[0mmodel\u001b[0m\u001b[0;34m.\u001b[0m\u001b[0mnamed_parameters\u001b[0m\u001b[0;34m(\u001b[0m\u001b[0;34m)\u001b[0m\u001b[0;34m:\u001b[0m\u001b[0;34m\u001b[0m\u001b[0m\n",
      "\u001b[0;32m~/anaconda2/envs/py354/lib/python3.5/site-packages/torch/tensor.py\u001b[0m in \u001b[0;36mbackward\u001b[0;34m(self, gradient, retain_graph, create_graph)\u001b[0m\n\u001b[1;32m    105\u001b[0m                 \u001b[0mproducts\u001b[0m\u001b[0;34m.\u001b[0m \u001b[0mDefaults\u001b[0m \u001b[0mto\u001b[0m\u001b[0;31m \u001b[0m\u001b[0;31m`\u001b[0m\u001b[0;31m`\u001b[0m\u001b[0;32mFalse\u001b[0m\u001b[0;31m`\u001b[0m\u001b[0;31m`\u001b[0m\u001b[0;34m.\u001b[0m\u001b[0;34m\u001b[0m\u001b[0m\n\u001b[1;32m    106\u001b[0m         \"\"\"\n\u001b[0;32m--> 107\u001b[0;31m         \u001b[0mtorch\u001b[0m\u001b[0;34m.\u001b[0m\u001b[0mautograd\u001b[0m\u001b[0;34m.\u001b[0m\u001b[0mbackward\u001b[0m\u001b[0;34m(\u001b[0m\u001b[0mself\u001b[0m\u001b[0;34m,\u001b[0m \u001b[0mgradient\u001b[0m\u001b[0;34m,\u001b[0m \u001b[0mretain_graph\u001b[0m\u001b[0;34m,\u001b[0m \u001b[0mcreate_graph\u001b[0m\u001b[0;34m)\u001b[0m\u001b[0;34m\u001b[0m\u001b[0m\n\u001b[0m\u001b[1;32m    108\u001b[0m \u001b[0;34m\u001b[0m\u001b[0m\n\u001b[1;32m    109\u001b[0m     \u001b[0;32mdef\u001b[0m \u001b[0mregister_hook\u001b[0m\u001b[0;34m(\u001b[0m\u001b[0mself\u001b[0m\u001b[0;34m,\u001b[0m \u001b[0mhook\u001b[0m\u001b[0;34m)\u001b[0m\u001b[0;34m:\u001b[0m\u001b[0;34m\u001b[0m\u001b[0m\n",
      "\u001b[0;32m~/anaconda2/envs/py354/lib/python3.5/site-packages/torch/autograd/__init__.py\u001b[0m in \u001b[0;36mbackward\u001b[0;34m(tensors, grad_tensors, retain_graph, create_graph, grad_variables)\u001b[0m\n\u001b[1;32m     91\u001b[0m     Variable._execution_engine.run_backward(\n\u001b[1;32m     92\u001b[0m         \u001b[0mtensors\u001b[0m\u001b[0;34m,\u001b[0m \u001b[0mgrad_tensors\u001b[0m\u001b[0;34m,\u001b[0m \u001b[0mretain_graph\u001b[0m\u001b[0;34m,\u001b[0m \u001b[0mcreate_graph\u001b[0m\u001b[0;34m,\u001b[0m\u001b[0;34m\u001b[0m\u001b[0m\n\u001b[0;32m---> 93\u001b[0;31m         allow_unreachable=True)  # allow_unreachable flag\n\u001b[0m\u001b[1;32m     94\u001b[0m \u001b[0;34m\u001b[0m\u001b[0m\n\u001b[1;32m     95\u001b[0m \u001b[0;34m\u001b[0m\u001b[0m\n",
      "\u001b[0;31mKeyboardInterrupt\u001b[0m: "
     ]
    }
   ],
   "source": [
    "importance=1000\n",
    "epochs = 10\n",
    "model = MLP(hidden_size)\n",
    "if torch.cuda.is_available() and use_cuda:\n",
    "    model.cuda()\n",
    "optimizer = optim.SGD(params=model.parameters(), lr=lr)\n",
    "\n",
    "loss, acc, ewc = {}, {}, {}\n",
    "for task in range(num_task):\n",
    "    loss[task] = []\n",
    "    acc[task] = []\n",
    "    print(\"task: \", task)\n",
    "    if task == 0:\n",
    "        if weight:\n",
    "            model.load_state_dict(weight)\n",
    "        else:\n",
    "            for _ in tqdm(range(epochs)):\n",
    "                loss[task].append(normal_train(model, optimizer, train_loader[task]))\n",
    "                acc[task].append(test(model, test_loader[task]))\n",
    "    else:\n",
    "        old_tasks = []\n",
    "        for sub_task in range(task):\n",
    "            old_tasks = old_tasks + train_loader[sub_task].dataset.get_sample(sample_size)\n",
    "        old_tasks = random.sample(old_tasks, k=sample_size)\n",
    "        for _ in tqdm(range(epochs)):\n",
    "            loss[task].append(ewc_train(model, optimizer, train_loader[task], EWC(model, old_tasks), importance))\n",
    "            for sub_task in range(task + 1):\n",
    "                acc[sub_task].append(test(model, test_loader[sub_task]))"
   ]
  },
  {
   "cell_type": "code",
   "execution_count": 349,
   "metadata": {},
   "outputs": [
    {
     "data": {
      "text/plain": [
       "1"
      ]
     },
     "execution_count": 349,
     "metadata": {},
     "output_type": "execute_result"
    }
   ],
   "source": []
  },
  {
   "cell_type": "code",
   "execution_count": 74,
   "metadata": {
    "scrolled": true
   },
   "outputs": [
    {
     "name": "stderr",
     "output_type": "stream",
     "text": [
      "100%|██████████| 5/5 [00:19<00:00,  3.83s/it]\n",
      "100%|██████████| 5/5 [00:14<00:00,  2.97s/it]\n"
     ]
    }
   ],
   "source": [
    "loss_ewc, acc_ewc = ewc_process(epochs=5, importance=9000000, \n",
    "#                                 weight=weight\n",
    "                               )"
   ]
  },
  {
   "cell_type": "code",
   "execution_count": 69,
   "metadata": {},
   "outputs": [
    {
     "data": {
      "image/png": "[encoded data removed]",
      "text/plain": [
       "<Figure size 432x288 with 1 Axes>"
      ]
     },
     "metadata": {},
     "output_type": "display_data"
    }
   ],
   "source": [
    "accuracy_plot(acc)"
   ]
  },
  {
   "cell_type": "code",
   "execution_count": 71,
   "metadata": {},
   "outputs": [
    {
     "data": {
      "text/plain": [
       "{0: [tensor(0.3087),\n",
       "  tensor(0.3710),\n",
       "  tensor(0.3864),\n",
       "  tensor(0.3851),\n",
       "  tensor(0.4005),\n",
       "  tensor(0.1207),\n",
       "  tensor(0.),\n",
       "  tensor(0.),\n",
       "  tensor(0.),\n",
       "  tensor(0.)],\n",
       " 1: [tensor(1.), tensor(1.), tensor(1.), tensor(1.), tensor(1.)]}"
      ]
     },
     "execution_count": 71,
     "metadata": {},
     "output_type": "execute_result"
    }
   ],
   "source": [
    "acc_ewc"
   ]
  },
  {
   "cell_type": "code",
   "execution_count": 73,
   "metadata": {},
   "outputs": [
    {
     "data": {
      "text/plain": [
       "{0: [tensor(0.3485),\n",
       "  tensor(0.3723),\n",
       "  tensor(0.4249),\n",
       "  tensor(0.4454),\n",
       "  tensor(0.4204),\n",
       "  tensor(0.1380),\n",
       "  tensor(0.0629),\n",
       "  tensor(0.1130),\n",
       "  tensor(0.0969),\n",
       "  tensor(0.0976)],\n",
       " 1: [tensor(1.), tensor(1.), tensor(1.), tensor(1.), tensor(1.)]}"
      ]
     },
     "execution_count": 73,
     "metadata": {},
     "output_type": "execute_result"
    }
   ],
   "source": [
    "acc_ewc"
   ]
  },
  {
   "cell_type": "code",
   "execution_count": 75,
   "metadata": {},
   "outputs": [
    {
     "data": {
      "text/plain": [
       "{0: [tensor(0.3107),\n",
       "  tensor(0.4063),\n",
       "  tensor(0.4576),\n",
       "  tensor(0.4095),\n",
       "  tensor(0.4012),\n",
       "  tensor(0.1784),\n",
       "  tensor(0.1309),\n",
       "  tensor(0.1849),\n",
       "  tensor(0.1316),\n",
       "  tensor(0.1245)],\n",
       " 1: [tensor(0.8586),\n",
       "  tensor(0.8687),\n",
       "  tensor(0.6263),\n",
       "  tensor(0.8788),\n",
       "  tensor(0.9192)]}"
      ]
     },
     "execution_count": 75,
     "metadata": {},
     "output_type": "execute_result"
    }
   ],
   "source": [
    "acc_ewc"
   ]
  },
  {
   "cell_type": "code",
   "execution_count": 1,
   "metadata": {},
   "outputs": [
    {
     "ename": "NameError",
     "evalue": "name 'accuracy_plot' is not defined",
     "output_type": "error",
     "traceback": [
      "\u001b[0;31m---------------------------------------------------------------------------\u001b[0m",
      "\u001b[0;31mNameError\u001b[0m                                 Traceback (most recent call last)",
      "\u001b[0;32m<ipython-input-1-b06308fbbe7c>\u001b[0m in \u001b[0;36m<module>\u001b[0;34m()\u001b[0m\n\u001b[0;32m----> 1\u001b[0;31m \u001b[0maccuracy_plot\u001b[0m\u001b[0;34m(\u001b[0m\u001b[0macc_ewc\u001b[0m\u001b[0;34m)\u001b[0m\u001b[0;34m\u001b[0m\u001b[0m\n\u001b[0m",
      "\u001b[0;31mNameError\u001b[0m: name 'accuracy_plot' is not defined"
     ]
    }
   ],
   "source": [
    "accuracy_plot(acc_ewc)"
   ]
  },
  {
   "cell_type": "code",
   "execution_count": 409,
   "metadata": {},
   "outputs": [
    {
     "data": {
      "text/plain": [
       "<matplotlib.legend.Legend at 0x1c25b4b6d8>"
      ]
     },
     "execution_count": 409,
     "metadata": {},
     "output_type": "execute_result"
    },
    {
     "data": {
      "image/png": "[encoded data removed]",
      "text/plain": [
       "<Figure size 432x288 with 1 Axes>"
      ]
     },
     "metadata": {},
     "output_type": "display_data"
    }
   ],
   "source": [
    "plt.plot(acc[0], label=\"sgd\")\n",
    "plt.plot(acc_ewc[0], label=\"ewc\")\n",
    "plt.legend()"
   ]
  },
  {
   "cell_type": "code",
   "execution_count": 406,
   "metadata": {},
   "outputs": [
    {
     "data": {
      "text/plain": [
       "{0: [tensor(0.3522),\n",
       "  tensor(0.3378),\n",
       "  tensor(0.4189),\n",
       "  tensor(0.3933),\n",
       "  tensor(0.3367),\n",
       "  tensor(0.3733),\n",
       "  tensor(0.3922),\n",
       "  tensor(0.4433),\n",
       "  tensor(0.3856),\n",
       "  tensor(0.4422),\n",
       "  tensor(0.3944),\n",
       "  tensor(0.4233),\n",
       "  tensor(0.3922),\n",
       "  tensor(0.4589),\n",
       "  tensor(0.4833),\n",
       "  tensor(0.5144),\n",
       "  tensor(0.4533),\n",
       "  tensor(0.5111),\n",
       "  tensor(0.3644),\n",
       "  tensor(0.4533),\n",
       "  tensor(0.),\n",
       "  tensor(0.),\n",
       "  tensor(0.),\n",
       "  tensor(0.),\n",
       "  tensor(0.),\n",
       "  tensor(0.),\n",
       "  tensor(0.),\n",
       "  tensor(0.),\n",
       "  tensor(0.),\n",
       "  tensor(0.),\n",
       "  tensor(0.),\n",
       "  tensor(0.),\n",
       "  tensor(0.),\n",
       "  tensor(0.),\n",
       "  tensor(0.),\n",
       "  tensor(0.),\n",
       "  tensor(0.),\n",
       "  tensor(0.),\n",
       "  tensor(0.),\n",
       "  tensor(0.)],\n",
       " 1: [tensor(0.5878),\n",
       "  tensor(0.5826),\n",
       "  tensor(0.5878),\n",
       "  tensor(0.5918),\n",
       "  tensor(0.6050),\n",
       "  tensor(0.6143),\n",
       "  tensor(0.6024),\n",
       "  tensor(0.6262),\n",
       "  tensor(0.6275),\n",
       "  tensor(0.6341),\n",
       "  tensor(0.6129),\n",
       "  tensor(0.6341),\n",
       "  tensor(0.6011),\n",
       "  tensor(0.6143),\n",
       "  tensor(0.6275),\n",
       "  tensor(0.6182),\n",
       "  tensor(0.6750),\n",
       "  tensor(0.6539),\n",
       "  tensor(0.5865),\n",
       "  tensor(0.6592)]}"
      ]
     },
     "execution_count": 406,
     "metadata": {},
     "output_type": "execute_result"
    }
   ],
   "source": [
    "acc_ewc"
   ]
  },
  {
   "cell_type": "code",
   "execution_count": 415,
   "metadata": {
    "scrolled": true
   },
   "outputs": [
    {
     "name": "stderr",
     "output_type": "stream",
     "text": [
      "\n",
      "\n",
      "\n",
      "\n",
      "\n",
      "\n",
      "\n",
      "\n",
      "\n",
      "\n",
      "  0%|          | 0/20 [00:00<?, ?it/s]\u001b[A\u001b[A\u001b[A\u001b[A\u001b[A\u001b[A\u001b[A\u001b[A\u001b[A\u001b[A\n",
      "\n",
      "\n",
      "\n",
      "\n",
      "\n",
      "\n",
      "\n",
      "\n",
      "\n",
      "  5%|▌         | 1/20 [00:04<01:32,  4.86s/it]\u001b[A\u001b[A\u001b[A\u001b[A\u001b[A\u001b[A\u001b[A\u001b[A\u001b[A\u001b[A\n",
      "\n",
      "\n",
      "\n",
      "\n",
      "\n",
      "\n",
      "\n",
      "\n",
      "\n",
      " 10%|█         | 2/20 [00:08<01:22,  4.59s/it]\u001b[A\u001b[A\u001b[A\u001b[A\u001b[A\u001b[A\u001b[A\u001b[A\u001b[A\u001b[A\n",
      "\n",
      "\n",
      "\n",
      "\n",
      "\n",
      "\n",
      "\n",
      "\n",
      "\n",
      " 15%|█▌        | 3/20 [00:12<01:15,  4.43s/it]\u001b[A\u001b[A\u001b[A\u001b[A\u001b[A\u001b[A\u001b[A\u001b[A\u001b[A\u001b[A\n",
      "\n",
      "\n",
      "\n",
      "\n",
      "\n",
      "\n",
      "\n",
      "\n",
      "\n",
      " 20%|██        | 4/20 [00:17<01:10,  4.38s/it]\u001b[A\u001b[A\u001b[A\u001b[A\u001b[A\u001b[A\u001b[A\u001b[A\u001b[A\u001b[A\n",
      "\n",
      "\n",
      "\n",
      "\n",
      "\n",
      "\n",
      "\n",
      "\n",
      "\n",
      " 25%|██▌       | 5/20 [00:21<01:04,  4.31s/it]\u001b[A\u001b[A\u001b[A\u001b[A\u001b[A\u001b[A\u001b[A\u001b[A\u001b[A\u001b[A\n",
      "\n",
      "\n",
      "\n",
      "\n",
      "\n",
      "\n",
      "\n",
      "\n",
      "\n",
      " 30%|███       | 6/20 [00:25<01:00,  4.35s/it]\u001b[A\u001b[A\u001b[A\u001b[A\u001b[A\u001b[A\u001b[A\u001b[A\u001b[A\u001b[A\n",
      "\n",
      "\n",
      "\n",
      "\n",
      "\n",
      "\n",
      "\n",
      "\n",
      "\n",
      " 35%|███▌      | 7/20 [00:30<00:59,  4.58s/it]\u001b[A\u001b[A\u001b[A\u001b[A\u001b[A\u001b[A\u001b[A\u001b[A\u001b[A\u001b[A\n",
      "\n",
      "\n",
      "\n",
      "\n",
      "\n",
      "\n",
      "\n",
      "\n",
      "\n",
      " 40%|████      | 8/20 [00:36<00:57,  4.79s/it]\u001b[A\u001b[A\u001b[A\u001b[A\u001b[A\u001b[A\u001b[A\u001b[A\u001b[A\u001b[A\n",
      "\n",
      "\n",
      "\n",
      "\n",
      "\n",
      "\n",
      "\n",
      "\n",
      "\n",
      " 45%|████▌     | 9/20 [00:41<00:55,  5.00s/it]\u001b[A\u001b[A\u001b[A\u001b[A\u001b[A\u001b[A\u001b[A\u001b[A\u001b[A\u001b[A\n",
      "\n",
      "\n",
      "\n",
      "\n",
      "\n",
      "\n",
      "\n",
      "\n",
      "\n",
      " 50%|█████     | 10/20 [00:47<00:52,  5.28s/it]\u001b[A\u001b[A\u001b[A\u001b[A\u001b[A\u001b[A\u001b[A\u001b[A\u001b[A\u001b[A\n",
      "\n",
      "\n",
      "\n",
      "\n",
      "\n",
      "\n",
      "\n",
      "\n",
      "\n",
      " 55%|█████▌    | 11/20 [00:52<00:47,  5.29s/it]\u001b[A\u001b[A\u001b[A\u001b[A\u001b[A\u001b[A\u001b[A\u001b[A\u001b[A\u001b[A\n",
      "\n",
      "\n",
      "\n",
      "\n",
      "\n",
      "\n",
      "\n",
      "\n",
      "\n",
      " 60%|██████    | 12/20 [00:57<00:41,  5.23s/it]\u001b[A\u001b[A\u001b[A\u001b[A\u001b[A\u001b[A\u001b[A\u001b[A\u001b[A\u001b[A\n",
      "\n",
      "\n",
      "\n",
      "\n",
      "\n",
      "\n",
      "\n",
      "\n",
      "\n",
      " 65%|██████▌   | 13/20 [01:03<00:37,  5.39s/it]\u001b[A\u001b[A\u001b[A\u001b[A\u001b[A\u001b[A\u001b[A\u001b[A\u001b[A\u001b[A\n",
      "\n",
      "\n",
      "\n",
      "\n",
      "\n",
      "\n",
      "\n",
      "\n",
      "\n",
      " 70%|███████   | 14/20 [01:08<00:30,  5.14s/it]\u001b[A\u001b[A\u001b[A\u001b[A\u001b[A\u001b[A\u001b[A\u001b[A\u001b[A\u001b[A\n",
      "\n",
      "\n",
      "\n",
      "\n",
      "\n",
      "\n",
      "\n",
      "\n",
      "\n",
      " 75%|███████▌  | 15/20 [01:12<00:24,  4.88s/it]\u001b[A\u001b[A\u001b[A\u001b[A\u001b[A\u001b[A\u001b[A\u001b[A\u001b[A\u001b[A\n",
      "\n",
      "\n",
      "\n",
      "\n",
      "\n",
      "\n",
      "\n",
      "\n",
      "\n",
      " 80%|████████  | 16/20 [01:17<00:20,  5.04s/it]\u001b[A\u001b[A\u001b[A\u001b[A\u001b[A\u001b[A\u001b[A\u001b[A\u001b[A\u001b[A\n",
      "\n",
      "\n",
      "\n",
      "\n",
      "\n",
      "\n",
      "\n",
      "\n",
      "\n",
      " 85%|████████▌ | 17/20 [01:23<00:15,  5.06s/it]\u001b[A\u001b[A\u001b[A\u001b[A\u001b[A\u001b[A\u001b[A\u001b[A\u001b[A\u001b[A\n",
      "\n",
      "\n",
      "\n",
      "\n",
      "\n",
      "\n",
      "\n",
      "\n",
      "\n",
      " 90%|█████████ | 18/20 [01:28<00:10,  5.03s/it]\u001b[A\u001b[A\u001b[A\u001b[A\u001b[A\u001b[A\u001b[A\u001b[A\u001b[A\u001b[A\n",
      "\n",
      "\n",
      "\n",
      "\n",
      "\n",
      "\n",
      "\n",
      "\n",
      "\n",
      " 95%|█████████▌| 19/20 [01:32<00:04,  4.97s/it]\u001b[A\u001b[A\u001b[A\u001b[A\u001b[A\u001b[A\u001b[A\u001b[A\u001b[A\u001b[A\n",
      "\n",
      "\n",
      "\n",
      "\n",
      "\n",
      "\n",
      "\n",
      "\n",
      "\n",
      "100%|██████████| 20/20 [01:37<00:00,  4.81s/it]\u001b[A\u001b[A\u001b[A\u001b[A\u001b[A\u001b[A\u001b[A\u001b[A\u001b[A\u001b[A\n",
      "\n",
      "\n",
      "\n",
      "\n",
      "\n",
      "\n",
      "\n",
      "\n",
      "\n",
      "  0%|          | 0/20 [00:00<?, ?it/s]\u001b[A\u001b[A\u001b[A\u001b[A\u001b[A\u001b[A\u001b[A\u001b[A\u001b[A\u001b[A\n",
      "\n",
      "\n",
      "\n",
      "\n",
      "\n",
      "\n",
      "\n",
      "\n",
      "\n",
      "  5%|▌         | 1/20 [00:03<01:12,  3.80s/it]\u001b[A\u001b[A\u001b[A\u001b[A\u001b[A\u001b[A\u001b[A\u001b[A\u001b[A\u001b[A\n",
      "\n",
      "\n",
      "\n",
      "\n",
      "\n",
      "\n",
      "\n",
      "\n",
      "\n",
      " 10%|█         | 2/20 [00:07<01:07,  3.77s/it]\u001b[A\u001b[A\u001b[A\u001b[A\u001b[A\u001b[A\u001b[A\u001b[A\u001b[A\u001b[A\n",
      "\n",
      "\n",
      "\n",
      "\n",
      "\n",
      "\n",
      "\n",
      "\n",
      "\n",
      " 15%|█▌        | 3/20 [00:11<01:04,  3.77s/it]\u001b[A\u001b[A\u001b[A\u001b[A\u001b[A\u001b[A\u001b[A\u001b[A\u001b[A\u001b[A\n",
      "\n",
      "\n",
      "\n",
      "\n",
      "\n",
      "\n",
      "\n",
      "\n",
      "\n",
      " 20%|██        | 4/20 [00:14<00:58,  3.66s/it]\u001b[A\u001b[A\u001b[A\u001b[A\u001b[A\u001b[A\u001b[A\u001b[A\u001b[A\u001b[A\n",
      "\n",
      "\n",
      "\n",
      "\n",
      "\n",
      "\n",
      "\n",
      "\n",
      "\n",
      " 25%|██▌       | 5/20 [00:18<00:54,  3.61s/it]\u001b[A\u001b[A\u001b[A\u001b[A\u001b[A\u001b[A\u001b[A\u001b[A\u001b[A\u001b[A\n",
      "\n",
      "\n",
      "\n",
      "\n",
      "\n",
      "\n",
      "\n",
      "\n",
      "\n",
      " 30%|███       | 6/20 [00:21<00:49,  3.56s/it]\u001b[A\u001b[A\u001b[A\u001b[A\u001b[A\u001b[A\u001b[A\u001b[A\u001b[A\u001b[A\n",
      "\n",
      "\n",
      "\n",
      "\n",
      "\n",
      "\n",
      "\n",
      "\n",
      "\n",
      " 35%|███▌      | 7/20 [00:25<00:47,  3.64s/it]\u001b[A\u001b[A\u001b[A\u001b[A\u001b[A\u001b[A\u001b[A\u001b[A\u001b[A\u001b[A\n",
      "\n",
      "\n",
      "\n",
      "\n",
      "\n",
      "\n",
      "\n",
      "\n",
      "\n",
      " 40%|████      | 8/20 [00:28<00:43,  3.60s/it]\u001b[A\u001b[A\u001b[A\u001b[A\u001b[A\u001b[A\u001b[A\u001b[A\u001b[A\u001b[A\n",
      "\n",
      "\n",
      "\n",
      "\n",
      "\n",
      "\n",
      "\n",
      "\n",
      "\n",
      " 45%|████▌     | 9/20 [00:32<00:38,  3.54s/it]\u001b[A\u001b[A\u001b[A\u001b[A\u001b[A\u001b[A\u001b[A\u001b[A\u001b[A\u001b[A\n",
      "\n",
      "\n",
      "\n",
      "\n",
      "\n",
      "\n",
      "\n",
      "\n",
      "\n",
      " 50%|█████     | 10/20 [00:35<00:33,  3.36s/it]\u001b[A\u001b[A\u001b[A\u001b[A\u001b[A\u001b[A\u001b[A\u001b[A\u001b[A\u001b[A\n",
      "\n",
      "\n",
      "\n",
      "\n",
      "\n",
      "\n",
      "\n",
      "\n",
      "\n",
      " 55%|█████▌    | 11/20 [00:38<00:30,  3.38s/it]\u001b[A\u001b[A\u001b[A\u001b[A\u001b[A\u001b[A\u001b[A\u001b[A\u001b[A\u001b[A\n",
      "\n",
      "\n",
      "\n",
      "\n",
      "\n",
      "\n",
      "\n",
      "\n",
      "\n",
      " 60%|██████    | 12/20 [00:42<00:27,  3.45s/it]\u001b[A\u001b[A\u001b[A\u001b[A\u001b[A\u001b[A\u001b[A\u001b[A\u001b[A\u001b[A\n",
      "\n",
      "\n",
      "\n",
      "\n",
      "\n",
      "\n",
      "\n",
      "\n",
      "\n",
      " 65%|██████▌   | 13/20 [00:45<00:24,  3.45s/it]\u001b[A\u001b[A\u001b[A\u001b[A\u001b[A\u001b[A\u001b[A\u001b[A\u001b[A\u001b[A\n",
      "\n",
      "\n",
      "\n",
      "\n",
      "\n",
      "\n",
      "\n",
      "\n",
      "\n",
      " 70%|███████   | 14/20 [00:49<00:20,  3.47s/it]\u001b[A\u001b[A\u001b[A\u001b[A\u001b[A\u001b[A\u001b[A\u001b[A\u001b[A\u001b[A\n",
      "\n",
      "\n",
      "\n",
      "\n",
      "\n",
      "\n",
      "\n",
      "\n",
      "\n",
      " 75%|███████▌  | 15/20 [00:52<00:17,  3.52s/it]\u001b[A\u001b[A\u001b[A\u001b[A\u001b[A\u001b[A\u001b[A\u001b[A\u001b[A\u001b[A\n",
      "\n",
      "\n",
      "\n",
      "\n",
      "\n",
      "\n",
      "\n",
      "\n",
      "\n",
      " 80%|████████  | 16/20 [00:56<00:14,  3.62s/it]\u001b[A\u001b[A\u001b[A\u001b[A\u001b[A\u001b[A\u001b[A\u001b[A\u001b[A\u001b[A\n",
      "\n",
      "\n",
      "\n",
      "\n",
      "\n",
      "\n",
      "\n",
      "\n",
      "\n",
      " 85%|████████▌ | 17/20 [01:00<00:10,  3.61s/it]\u001b[A\u001b[A\u001b[A\u001b[A\u001b[A\u001b[A\u001b[A\u001b[A\u001b[A\u001b[A\n",
      "\n",
      "\n",
      "\n",
      "\n",
      "\n",
      "\n",
      "\n",
      "\n",
      "\n",
      " 90%|█████████ | 18/20 [01:03<00:07,  3.55s/it]\u001b[A\u001b[A\u001b[A\u001b[A\u001b[A\u001b[A\u001b[A\u001b[A\u001b[A\u001b[A\n",
      "\n",
      "\n",
      "\n",
      "\n",
      "\n",
      "\n",
      "\n",
      "\n",
      "\n",
      " 95%|█████████▌| 19/20 [01:07<00:03,  3.46s/it]\u001b[A\u001b[A\u001b[A\u001b[A\u001b[A\u001b[A\u001b[A\u001b[A\u001b[A\u001b[A\n",
      "\n",
      "\n",
      "\n",
      "\n",
      "\n",
      "\n",
      "\n",
      "\n",
      "\n",
      "100%|██████████| 20/20 [01:10<00:00,  3.42s/it]\u001b[A\u001b[A\u001b[A\u001b[A\u001b[A\u001b[A\u001b[A\u001b[A\u001b[A\u001b[A"
     ]
    }
   ],
   "source": [
    "loss_ewc, acc_ewc = ewc_process(epochs, importance=5000, \n",
    "#                                 weight=weight\n",
    "                               )"
   ]
  },
  {
   "cell_type": "code",
   "execution_count": 416,
   "metadata": {},
   "outputs": [
    {
     "data": {
      "image/png": "[encoded data removed]",
      "text/plain": [
       "<Figure size 432x288 with 1 Axes>"
      ]
     },
     "metadata": {},
     "output_type": "display_data"
    }
   ],
   "source": [
    "accuracy_plot(acc_ewc)"
   ]
  },
  {
   "cell_type": "code",
   "execution_count": 417,
   "metadata": {
    "scrolled": true
   },
   "outputs": [
    {
     "data": {
      "text/plain": [
       "{0: [tensor(0.2144),\n",
       "  tensor(0.3524),\n",
       "  tensor(0.3890),\n",
       "  tensor(0.4121),\n",
       "  tensor(0.4089),\n",
       "  tensor(0.4172),\n",
       "  tensor(0.4031),\n",
       "  tensor(0.4294),\n",
       "  tensor(0.4249),\n",
       "  tensor(0.4852),\n",
       "  tensor(0.4942),\n",
       "  tensor(0.4820),\n",
       "  tensor(0.4756),\n",
       "  tensor(0.5128),\n",
       "  tensor(0.4750),\n",
       "  tensor(0.4923),\n",
       "  tensor(0.5225),\n",
       "  tensor(0.4692),\n",
       "  tensor(0.4641),\n",
       "  tensor(0.5122),\n",
       "  tensor(0.),\n",
       "  tensor(0.),\n",
       "  tensor(0.),\n",
       "  tensor(0.),\n",
       "  tensor(0.),\n",
       "  tensor(0.),\n",
       "  tensor(0.),\n",
       "  tensor(0.),\n",
       "  tensor(0.),\n",
       "  tensor(0.),\n",
       "  tensor(0.),\n",
       "  tensor(0.),\n",
       "  tensor(0.),\n",
       "  tensor(0.),\n",
       "  tensor(0.),\n",
       "  tensor(0.),\n",
       "  tensor(0.),\n",
       "  tensor(0.),\n",
       "  tensor(0.),\n",
       "  tensor(0.)],\n",
       " 1: [tensor(1.),\n",
       "  tensor(1.),\n",
       "  tensor(1.),\n",
       "  tensor(1.),\n",
       "  tensor(1.),\n",
       "  tensor(1.),\n",
       "  tensor(1.),\n",
       "  tensor(1.),\n",
       "  tensor(1.),\n",
       "  tensor(1.),\n",
       "  tensor(1.),\n",
       "  tensor(1.),\n",
       "  tensor(1.),\n",
       "  tensor(1.),\n",
       "  tensor(1.),\n",
       "  tensor(1.),\n",
       "  tensor(1.),\n",
       "  tensor(1.),\n",
       "  tensor(1.),\n",
       "  tensor(1.)]}"
      ]
     },
     "execution_count": 417,
     "metadata": {},
     "output_type": "execute_result"
    }
   ],
   "source": [
    "acc_ewc"
   ]
  },
  {
   "cell_type": "code",
   "execution_count": 420,
   "metadata": {
    "scrolled": true
   },
   "outputs": [
    {
     "name": "stderr",
     "output_type": "stream",
     "text": [
      "\n",
      "\n",
      "\n",
      "\n",
      "\n",
      "\n",
      "\n",
      "\n",
      "\n",
      "\n",
      "  0%|          | 0/20 [00:00<?, ?it/s]\u001b[A\u001b[A\u001b[A\u001b[A\u001b[A\u001b[A\u001b[A\u001b[A\u001b[A\u001b[A\n",
      "\n",
      "\n",
      "\n",
      "\n",
      "\n",
      "\n",
      "\n",
      "\n",
      "\n",
      "  5%|▌         | 1/20 [00:03<01:12,  3.82s/it]\u001b[A\u001b[A\u001b[A\u001b[A\u001b[A\u001b[A\u001b[A\u001b[A\u001b[A\u001b[A\n",
      "\n",
      "\n",
      "\n",
      "\n",
      "\n",
      "\n",
      "\n",
      "\n",
      "\n",
      " 10%|█         | 2/20 [00:07<01:08,  3.78s/it]\u001b[A\u001b[A\u001b[A\u001b[A\u001b[A\u001b[A\u001b[A\u001b[A\u001b[A\u001b[A\n",
      "\n",
      "\n",
      "\n",
      "\n",
      "\n",
      "\n",
      "\n",
      "\n",
      "\n",
      " 15%|█▌        | 3/20 [00:11<01:05,  3.83s/it]\u001b[A\u001b[A\u001b[A\u001b[A\u001b[A\u001b[A\u001b[A\u001b[A\u001b[A\u001b[A\n",
      "\n",
      "\n",
      "\n",
      "\n",
      "\n",
      "\n",
      "\n",
      "\n",
      "\n",
      " 20%|██        | 4/20 [00:14<00:59,  3.73s/it]\u001b[A\u001b[A\u001b[A\u001b[A\u001b[A\u001b[A\u001b[A\u001b[A\u001b[A\u001b[A\n",
      "\n",
      "\n",
      "\n",
      "\n",
      "\n",
      "\n",
      "\n",
      "\n",
      "\n",
      " 25%|██▌       | 5/20 [00:20<01:04,  4.27s/it]\u001b[A\u001b[A\u001b[A\u001b[A\u001b[A\u001b[A\u001b[A\u001b[A\u001b[A\u001b[A\n",
      "\n",
      "\n",
      "\n",
      "\n",
      "\n",
      "\n",
      "\n",
      "\n",
      "\n",
      " 30%|███       | 6/20 [00:25<01:02,  4.45s/it]\u001b[A\u001b[A\u001b[A\u001b[A\u001b[A\u001b[A\u001b[A\u001b[A\u001b[A\u001b[A\n",
      "\n",
      "\n",
      "\n",
      "\n",
      "\n",
      "\n",
      "\n",
      "\n",
      "\n",
      " 35%|███▌      | 7/20 [00:30<01:01,  4.76s/it]\u001b[A\u001b[A\u001b[A\u001b[A\u001b[A\u001b[A\u001b[A\u001b[A\u001b[A\u001b[A\n",
      "\n",
      "\n",
      "\n",
      "\n",
      "\n",
      "\n",
      "\n",
      "\n",
      "\n",
      " 40%|████      | 8/20 [00:40<01:13,  6.09s/it]\u001b[A\u001b[A\u001b[A\u001b[A\u001b[A\u001b[A\u001b[A\u001b[A\u001b[A\u001b[A\n",
      "\n",
      "\n",
      "\n",
      "\n",
      "\n",
      "\n",
      "\n",
      "\n",
      "\n",
      " 45%|████▌     | 9/20 [00:48<01:13,  6.72s/it]\u001b[A\u001b[A\u001b[A\u001b[A\u001b[A\u001b[A\u001b[A\u001b[A\u001b[A\u001b[A\n",
      "\n",
      "\n",
      "\n",
      "\n",
      "\n",
      "\n",
      "\n",
      "\n",
      "\n",
      " 50%|█████     | 10/20 [00:54<01:04,  6.44s/it]\u001b[A\u001b[A\u001b[A\u001b[A\u001b[A\u001b[A\u001b[A\u001b[A\u001b[A\u001b[A\n",
      "\n",
      "\n",
      "\n",
      "\n",
      "\n",
      "\n",
      "\n",
      "\n",
      "\n",
      " 55%|█████▌    | 11/20 [01:00<00:58,  6.53s/it]\u001b[A\u001b[A\u001b[A\u001b[A\u001b[A\u001b[A\u001b[A\u001b[A\u001b[A\u001b[A\n",
      "\n",
      "\n",
      "\n",
      "\n",
      "\n",
      "\n",
      "\n",
      "\n",
      "\n",
      " 60%|██████    | 12/20 [01:10<01:00,  7.57s/it]\u001b[A\u001b[A\u001b[A\u001b[A\u001b[A\u001b[A\u001b[A\u001b[A\u001b[A\u001b[A\n",
      "\n",
      "\n",
      "\n",
      "\n",
      "\n",
      "\n",
      "\n",
      "\n",
      "\n",
      " 65%|██████▌   | 13/20 [01:29<01:15, 10.78s/it]\u001b[A\u001b[A\u001b[A\u001b[A\u001b[A\u001b[A\u001b[A\u001b[A\u001b[A\u001b[A\n",
      "\n",
      "\n",
      "\n",
      "\n",
      "\n",
      "\n",
      "\n",
      "\n",
      "\n",
      " 70%|███████   | 14/20 [01:42<01:08, 11.49s/it]\u001b[A\u001b[A\u001b[A\u001b[A\u001b[A\u001b[A\u001b[A\u001b[A\u001b[A\u001b[A\n",
      "\n",
      "\n",
      "\n",
      "\n",
      "\n",
      "\n",
      "\n",
      "\n",
      "\n",
      " 75%|███████▌  | 15/20 [01:47<00:48,  9.75s/it]\u001b[A\u001b[A\u001b[A\u001b[A\u001b[A\u001b[A\u001b[A\u001b[A\u001b[A\u001b[A\n",
      "\n",
      "\n",
      "\n",
      "\n",
      "\n",
      "\n",
      "\n",
      "\n",
      "\n",
      " 80%|████████  | 16/20 [01:54<00:35,  8.76s/it]\u001b[A\u001b[A\u001b[A\u001b[A\u001b[A\u001b[A\u001b[A\u001b[A\u001b[A\u001b[A\n",
      "\n",
      "\n",
      "\n",
      "\n",
      "\n",
      "\n",
      "\n",
      "\n",
      "\n",
      " 85%|████████▌ | 17/20 [01:59<00:22,  7.63s/it]\u001b[A\u001b[A\u001b[A\u001b[A\u001b[A\u001b[A\u001b[A\u001b[A\u001b[A\u001b[A\n",
      "\n",
      "\n",
      "\n",
      "\n",
      "\n",
      "\n",
      "\n",
      "\n",
      "\n",
      " 90%|█████████ | 18/20 [02:05<00:14,  7.05s/it]\u001b[A\u001b[A\u001b[A\u001b[A\u001b[A\u001b[A\u001b[A\u001b[A\u001b[A\u001b[A\n",
      "\n",
      "\n",
      "\n",
      "\n",
      "\n",
      "\n",
      "\n",
      "\n",
      "\n",
      " 95%|█████████▌| 19/20 [02:10<00:06,  6.43s/it]\u001b[A\u001b[A\u001b[A\u001b[A\u001b[A\u001b[A\u001b[A\u001b[A\u001b[A\u001b[A\n",
      "\n",
      "\n",
      "\n",
      "\n",
      "\n",
      "\n",
      "\n",
      "\n",
      "\n",
      "100%|██████████| 20/20 [02:15<00:00,  6.24s/it]\u001b[A\u001b[A\u001b[A\u001b[A\u001b[A\u001b[A\u001b[A\u001b[A\u001b[A\u001b[A\n",
      "\n",
      "\n",
      "\n",
      "\n",
      "\n",
      "\n",
      "\n",
      "\n",
      "\n",
      "  0%|          | 0/20 [00:00<?, ?it/s]\u001b[A\u001b[A\u001b[A\u001b[A\u001b[A\u001b[A\u001b[A\u001b[A\u001b[A\u001b[A\n",
      "\n",
      "\n",
      "\n",
      "\n",
      "\n",
      "\n",
      "\n",
      "\n",
      "\n",
      "  5%|▌         | 1/20 [00:03<01:12,  3.84s/it]\u001b[A\u001b[A\u001b[A\u001b[A\u001b[A\u001b[A\u001b[A\u001b[A\u001b[A\u001b[A\n",
      "\n",
      "\n",
      "\n",
      "\n",
      "\n",
      "\n",
      "\n",
      "\n",
      "\n",
      " 10%|█         | 2/20 [00:08<01:15,  4.17s/it]\u001b[A\u001b[A\u001b[A\u001b[A\u001b[A\u001b[A\u001b[A\u001b[A\u001b[A\u001b[A\n",
      "\n",
      "\n",
      "\n",
      "\n",
      "\n",
      "\n",
      "\n",
      "\n",
      "\n",
      " 15%|█▌        | 3/20 [00:12<01:10,  4.18s/it]\u001b[A\u001b[A\u001b[A\u001b[A\u001b[A\u001b[A\u001b[A\u001b[A\u001b[A\u001b[A\n",
      "\n",
      "\n",
      "\n",
      "\n",
      "\n",
      "\n",
      "\n",
      "\n",
      "\n",
      " 20%|██        | 4/20 [00:17<01:10,  4.38s/it]\u001b[A\u001b[A\u001b[A\u001b[A\u001b[A\u001b[A\u001b[A\u001b[A\u001b[A\u001b[A\n",
      "\n",
      "\n",
      "\n",
      "\n",
      "\n",
      "\n",
      "\n",
      "\n",
      "\n",
      " 25%|██▌       | 5/20 [00:21<01:04,  4.30s/it]\u001b[A\u001b[A\u001b[A\u001b[A\u001b[A\u001b[A\u001b[A\u001b[A\u001b[A\u001b[A\n",
      "\n",
      "\n",
      "\n",
      "\n",
      "\n",
      "\n",
      "\n",
      "\n",
      "\n",
      " 30%|███       | 6/20 [00:25<00:55,  3.98s/it]\u001b[A\u001b[A\u001b[A\u001b[A\u001b[A\u001b[A\u001b[A\u001b[A\u001b[A\u001b[A\n",
      "\n",
      "\n",
      "\n",
      "\n",
      "\n",
      "\n",
      "\n",
      "\n",
      "\n",
      " 35%|███▌      | 7/20 [00:29<00:51,  3.99s/it]\u001b[A\u001b[A\u001b[A\u001b[A\u001b[A\u001b[A\u001b[A\u001b[A\u001b[A\u001b[A\n",
      "\n",
      "\n",
      "\n",
      "\n",
      "\n",
      "\n",
      "\n",
      "\n",
      "\n",
      " 40%|████      | 8/20 [00:32<00:46,  3.89s/it]\u001b[A\u001b[A\u001b[A\u001b[A\u001b[A\u001b[A\u001b[A\u001b[A\u001b[A\u001b[A\n",
      "\n",
      "\n",
      "\n",
      "\n",
      "\n",
      "\n",
      "\n",
      "\n",
      "\n",
      " 45%|████▌     | 9/20 [00:36<00:42,  3.90s/it]\u001b[A\u001b[A\u001b[A\u001b[A\u001b[A\u001b[A\u001b[A\u001b[A\u001b[A\u001b[A\n",
      "\n",
      "\n",
      "\n",
      "\n",
      "\n",
      "\n",
      "\n",
      "\n",
      "\n",
      " 50%|█████     | 10/20 [00:39<00:36,  3.66s/it]\u001b[A\u001b[A\u001b[A\u001b[A\u001b[A\u001b[A\u001b[A\u001b[A\u001b[A\u001b[A\n",
      "\n",
      "\n",
      "\n",
      "\n",
      "\n",
      "\n",
      "\n",
      "\n",
      "\n",
      " 55%|█████▌    | 11/20 [00:43<00:31,  3.52s/it]\u001b[A\u001b[A\u001b[A\u001b[A\u001b[A\u001b[A\u001b[A\u001b[A\u001b[A\u001b[A\n",
      "\n",
      "\n",
      "\n",
      "\n",
      "\n",
      "\n",
      "\n",
      "\n",
      "\n",
      " 60%|██████    | 12/20 [00:47<00:30,  3.79s/it]\u001b[A\u001b[A\u001b[A\u001b[A\u001b[A\u001b[A\u001b[A\u001b[A\u001b[A\u001b[A\n",
      "\n",
      "\n",
      "\n",
      "\n",
      "\n",
      "\n",
      "\n",
      "\n",
      "\n",
      " 65%|██████▌   | 13/20 [00:52<00:29,  4.24s/it]\u001b[A\u001b[A\u001b[A\u001b[A\u001b[A\u001b[A\u001b[A\u001b[A\u001b[A\u001b[A\n",
      "\n",
      "\n",
      "\n",
      "\n",
      "\n",
      "\n",
      "\n",
      "\n",
      "\n",
      " 70%|███████   | 14/20 [00:56<00:24,  4.02s/it]\u001b[A\u001b[A\u001b[A\u001b[A\u001b[A\u001b[A\u001b[A\u001b[A\u001b[A\u001b[A\n",
      "\n",
      "\n",
      "\n",
      "\n",
      "\n",
      "\n",
      "\n",
      "\n",
      "\n",
      " 75%|███████▌  | 15/20 [01:00<00:19,  3.98s/it]\u001b[A\u001b[A\u001b[A\u001b[A\u001b[A\u001b[A\u001b[A\u001b[A\u001b[A\u001b[A\n",
      "\n",
      "\n",
      "\n",
      "\n",
      "\n",
      "\n",
      "\n",
      "\n",
      "\n",
      " 80%|████████  | 16/20 [01:04<00:16,  4.07s/it]\u001b[A\u001b[A\u001b[A\u001b[A\u001b[A\u001b[A\u001b[A\u001b[A\u001b[A\u001b[A\n",
      "\n",
      "\n",
      "\n",
      "\n",
      "\n",
      "\n",
      "\n",
      "\n",
      "\n",
      " 85%|████████▌ | 17/20 [01:07<00:11,  3.81s/it]\u001b[A\u001b[A\u001b[A\u001b[A\u001b[A\u001b[A\u001b[A\u001b[A\u001b[A\u001b[A\n",
      "\n",
      "\n",
      "\n",
      "\n",
      "\n",
      "\n",
      "\n",
      "\n",
      "\n",
      " 90%|█████████ | 18/20 [01:11<00:07,  3.75s/it]\u001b[A\u001b[A\u001b[A\u001b[A\u001b[A\u001b[A\u001b[A\u001b[A\u001b[A\u001b[A\n",
      "\n",
      "\n",
      "\n",
      "\n",
      "\n",
      "\n",
      "\n",
      "\n",
      "\n",
      " 95%|█████████▌| 19/20 [01:15<00:03,  3.83s/it]\u001b[A\u001b[A\u001b[A\u001b[A\u001b[A\u001b[A\u001b[A\u001b[A\u001b[A\u001b[A\n",
      "\n",
      "\n",
      "\n",
      "\n",
      "\n",
      "\n",
      "\n",
      "\n",
      "\n",
      "100%|██████████| 20/20 [01:18<00:00,  3.68s/it]\u001b[A\u001b[A\u001b[A\u001b[A\u001b[A\u001b[A\u001b[A\u001b[A\u001b[A\u001b[A"
     ]
    },
    {
     "data": {
      "image/png": "[encoded data removed]",
      "text/plain": [
       "<Figure size 432x288 with 1 Axes>"
      ]
     },
     "metadata": {},
     "output_type": "display_data"
    }
   ],
   "source": [
    "loss_ewc, acc_ewc = ewc_process(epochs, importance=5000, \n",
    "#                                 weight=weight\n",
    "                               )\n",
    "accuracy_plot(acc_ewc)"
   ]
  },
  {
   "cell_type": "code",
   "execution_count": 450,
   "metadata": {},
   "outputs": [],
   "source": [
    "label = Variable(torch.from_numpy(np.array([[-1,0],[1,2],[-1,3]])))"
   ]
  },
  {
   "cell_type": "code",
   "execution_count": 451,
   "metadata": {},
   "outputs": [
    {
     "data": {
      "text/plain": [
       "tensor([[0, 1],\n",
       "        [1, 1],\n",
       "        [0, 1]], dtype=torch.uint8)"
      ]
     },
     "execution_count": 451,
     "metadata": {},
     "output_type": "execute_result"
    }
   ],
   "source": [
    "(label >= 0)"
   ]
  },
  {
   "cell_type": "code",
   "execution_count": 452,
   "metadata": {},
   "outputs": [
    {
     "data": {
      "text/plain": [
       "tensor([[0., 1.],\n",
       "        [1., 1.],\n",
       "        [0., 1.]])"
      ]
     },
     "execution_count": 452,
     "metadata": {},
     "output_type": "execute_result"
    }
   ],
   "source": [
    "(label >= 0).float()"
   ]
  },
  {
   "cell_type": "code",
   "execution_count": 453,
   "metadata": {},
   "outputs": [],
   "source": [
    "mask = (label >= 0).float()"
   ]
  },
  {
   "cell_type": "code",
   "execution_count": 468,
   "metadata": {},
   "outputs": [
    {
     "data": {
      "text/plain": [
       "tensor([[0., 1.],\n",
       "        [1., 1.],\n",
       "        [0., 1.]])"
      ]
     },
     "execution_count": 468,
     "metadata": {},
     "output_type": "execute_result"
    }
   ],
   "source": [
    "mask"
   ]
  },
  {
   "cell_type": "code",
   "execution_count": 470,
   "metadata": {},
   "outputs": [
    {
     "ename": "TypeError",
     "evalue": "object of type 'NoneType' has no len()",
     "output_type": "error",
     "traceback": [
      "\u001b[0;31m---------------------------------------------------------------------------\u001b[0m",
      "\u001b[0;31mTypeError\u001b[0m                                 Traceback (most recent call last)",
      "\u001b[0;32m<ipython-input-470-96b07938784c>\u001b[0m in \u001b[0;36m<module>\u001b[0;34m()\u001b[0m\n\u001b[0;32m----> 1\u001b[0;31m \u001b[0mlen\u001b[0m\u001b[0;34m(\u001b[0m\u001b[0;32mNone\u001b[0m\u001b[0;34m)\u001b[0m\u001b[0;34m\u001b[0m\u001b[0m\n\u001b[0m",
      "\u001b[0;31mTypeError\u001b[0m: object of type 'NoneType' has no len()"
     ]
    }
   ],
   "source": [
    "len(None)"
   ]
  },
  {
   "cell_type": "code",
   "execution_count": 457,
   "metadata": {},
   "outputs": [
    {
     "data": {
      "text/plain": [
       "tensor(4.)"
      ]
     },
     "execution_count": 457,
     "metadata": {},
     "output_type": "execute_result"
    }
   ],
   "source": [
    "torch.sum(mask)"
   ]
  },
  {
   "cell_type": "code",
   "execution_count": 458,
   "metadata": {},
   "outputs": [],
   "source": [
    "num_tokens = int(torch.sum(mask))"
   ]
  },
  {
   "cell_type": "code",
   "execution_count": 459,
   "metadata": {},
   "outputs": [
    {
     "data": {
      "text/plain": [
       "4"
      ]
     },
     "execution_count": 459,
     "metadata": {},
     "output_type": "execute_result"
    }
   ],
   "source": [
    "num_tokens"
   ]
  },
  {
   "cell_type": "code",
   "execution_count": 465,
   "metadata": {},
   "outputs": [
    {
     "data": {
      "text/plain": [
       "tensor([-1,  0,  1,  2, -1,  3])"
      ]
     },
     "execution_count": 465,
     "metadata": {},
     "output_type": "execute_result"
    }
   ],
   "source": [
    "label.view(-1)"
   ]
  },
  {
   "cell_type": "code",
   "execution_count": 467,
   "metadata": {},
   "outputs": [
    {
     "data": {
      "text/plain": [
       "tensor([3, 0, 1, 2, 3, 3])"
      ]
     },
     "execution_count": 467,
     "metadata": {},
     "output_type": "execute_result"
    }
   ],
   "source": [
    "(label.view(-1)) % 4"
   ]
  },
  {
   "cell_type": "code",
   "execution_count": null,
   "metadata": {},
   "outputs": [],
   "source": []
  }
 ],
 "metadata": {
  "kernelspec": {
   "display_name": "Python (py354)",
   "language": "python",
   "name": "py354"
  },
  "language_info": {
   "codemirror_mode": {
    "name": "ipython",
    "version": 3
   },
   "file_extension": ".py",
   "mimetype": "text/x-python",
   "name": "python",
   "nbconvert_exporter": "python",
   "pygments_lexer": "ipython3",
   "version": "3.5.4"
  }
 },
 "nbformat": 4,
 "nbformat_minor": 2
}
