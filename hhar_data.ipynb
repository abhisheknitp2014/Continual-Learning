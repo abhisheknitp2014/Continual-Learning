{
 "cells": [
  {
   "cell_type": "code",
   "execution_count": 2,
   "metadata": {},
   "outputs": [
    {
     "name": "stdout",
     "output_type": "stream",
     "text": [
      "279.35290160430094\n"
     ]
    }
   ],
   "source": [
    "import sys,os,json\n",
    "import collections,math\n",
    "import time,datetime,pytz\n",
    "import numpy as np\n",
    "import pandas as pd\n",
    "import pickle\n",
    "import matplotlib.pyplot as plt\n",
    "from collections import Counter\n",
    "from matplotlib.colors import ListedColormap\n",
    "import seaborn as sns\n",
    "import operator\n",
    "from sklearn.preprocessing import StandardScaler\n",
    "%matplotlib inline\n",
    "import warnings\n",
    "warnings.filterwarnings('ignore')\n",
    "\n",
    "############################################\n",
    "########## Plot Style Declaration ##########\n",
    "# Set the style globally\n",
    "# Alternatives include bmh, fivethirtyeight, ggplot,\n",
    "# dark_background, seaborn-deep, etc\n",
    "# plt.style.use('ggplot')\n",
    "plt.style.use('seaborn-white')\n",
    "\n",
    "plt.rcParams['font.family'] = 'times new roman'\n",
    "# plt.rcParams['font.serif'] = 'Ubuntu'\n",
    "# plt.rcParams['font.monospace'] = 'Ubuntu Mono'\n",
    "plt.rcParams['font.size'] = 15\n",
    "plt.rcParams['axes.labelsize'] = 15\n",
    "plt.rcParams['axes.labelweight'] = 'bold'\n",
    "plt.rcParams['axes.titlesize'] = 15\n",
    "plt.rcParams['xtick.labelsize'] = 15\n",
    "plt.rcParams['ytick.labelsize'] = 15\n",
    "plt.rcParams['legend.fontsize'] = 14\n",
    "plt.rcParams['figure.titlesize'] = 15\n",
    "plt.rcParams['lines.linewidth'] = 3\n",
    "plt.rcParams['pdf.fonttype'] = 42\n",
    "plt.rcParams['ps.fonttype'] = 42\n",
    "\n",
    "##########################################\n",
    "########## data set declaration ##########\n",
    "path_processed = \"data/processed/\"\n",
    "path_final = \"data/final/\"\n",
    "\n",
    "##################################\n",
    "########## End of Setup ##########\n",
    "\n",
    "##### Geographical Change #####\n",
    "import geopy\n",
    "from geopy import distance as geopy_distance\n",
    "coords_1 = (52.2296756, 21.0122287)\n",
    "coords_2 = (52.406374, 16.9251681)\n",
    "print (geopy.distance.distance(coords_1, coords_2).km)"
   ]
  },
  {
   "cell_type": "code",
   "execution_count": 3,
   "metadata": {},
   "outputs": [],
   "source": [
    "df_phone = pd.read_csv(\"./data/hhar/Activity recognition exp/Phones_accelerometer.csv\")"
   ]
  },
  {
   "cell_type": "code",
   "execution_count": 4,
   "metadata": {},
   "outputs": [],
   "source": [
    "df_watch = pd.read_csv(\"./data/hhar/Activity recognition exp/Watch_accelerometer.csv\")"
   ]
  },
  {
   "cell_type": "code",
   "execution_count": 5,
   "metadata": {},
   "outputs": [],
   "source": [
    "a_phone = df_phone[df_phone['User']=='a']\n",
    "a_watch = df_watch[df_watch['User']=='a']"
   ]
  },
  {
   "cell_type": "code",
   "execution_count": 10,
   "metadata": {},
   "outputs": [
    {
     "data": {
      "text/html": [
       "<div>\n",
       "<style scoped>\n",
       "    .dataframe tbody tr th:only-of-type {\n",
       "        vertical-align: middle;\n",
       "    }\n",
       "\n",
       "    .dataframe tbody tr th {\n",
       "        vertical-align: top;\n",
       "    }\n",
       "\n",
       "    .dataframe thead th {\n",
       "        text-align: right;\n",
       "    }\n",
       "</style>\n",
       "<table border=\"1\" class=\"dataframe\">\n",
       "  <thead>\n",
       "    <tr style=\"text-align: right;\">\n",
       "      <th></th>\n",
       "      <th>Index</th>\n",
       "      <th>Arrival_Time</th>\n",
       "      <th>Creation_Time</th>\n",
       "      <th>x</th>\n",
       "      <th>y</th>\n",
       "      <th>z</th>\n",
       "      <th>User</th>\n",
       "      <th>Model</th>\n",
       "      <th>Device</th>\n",
       "      <th>gt</th>\n",
       "    </tr>\n",
       "  </thead>\n",
       "  <tbody>\n",
       "    <tr>\n",
       "      <th>0</th>\n",
       "      <td>0</td>\n",
       "      <td>1424696633908</td>\n",
       "      <td>1424696631913248572</td>\n",
       "      <td>-5.958191</td>\n",
       "      <td>0.688065</td>\n",
       "      <td>8.135345</td>\n",
       "      <td>a</td>\n",
       "      <td>nexus4</td>\n",
       "      <td>nexus4_1</td>\n",
       "      <td>stand</td>\n",
       "    </tr>\n",
       "    <tr>\n",
       "      <th>1</th>\n",
       "      <td>1</td>\n",
       "      <td>1424696633909</td>\n",
       "      <td>1424696631918283972</td>\n",
       "      <td>-5.952240</td>\n",
       "      <td>0.670212</td>\n",
       "      <td>8.136536</td>\n",
       "      <td>a</td>\n",
       "      <td>nexus4</td>\n",
       "      <td>nexus4_1</td>\n",
       "      <td>stand</td>\n",
       "    </tr>\n",
       "    <tr>\n",
       "      <th>2</th>\n",
       "      <td>2</td>\n",
       "      <td>1424696633918</td>\n",
       "      <td>1424696631923288855</td>\n",
       "      <td>-5.995087</td>\n",
       "      <td>0.653549</td>\n",
       "      <td>8.204376</td>\n",
       "      <td>a</td>\n",
       "      <td>nexus4</td>\n",
       "      <td>nexus4_1</td>\n",
       "      <td>stand</td>\n",
       "    </tr>\n",
       "    <tr>\n",
       "      <th>3</th>\n",
       "      <td>3</td>\n",
       "      <td>1424696633919</td>\n",
       "      <td>1424696631928385290</td>\n",
       "      <td>-5.942718</td>\n",
       "      <td>0.676163</td>\n",
       "      <td>8.128204</td>\n",
       "      <td>a</td>\n",
       "      <td>nexus4</td>\n",
       "      <td>nexus4_1</td>\n",
       "      <td>stand</td>\n",
       "    </tr>\n",
       "    <tr>\n",
       "      <th>4</th>\n",
       "      <td>4</td>\n",
       "      <td>1424696633929</td>\n",
       "      <td>1424696631933420691</td>\n",
       "      <td>-5.991516</td>\n",
       "      <td>0.641647</td>\n",
       "      <td>8.135345</td>\n",
       "      <td>a</td>\n",
       "      <td>nexus4</td>\n",
       "      <td>nexus4_1</td>\n",
       "      <td>stand</td>\n",
       "    </tr>\n",
       "  </tbody>\n",
       "</table>\n",
       "</div>"
      ],
      "text/plain": [
       "   Index   Arrival_Time        Creation_Time         x         y         z  \\\n",
       "0      0  1424696633908  1424696631913248572 -5.958191  0.688065  8.135345   \n",
       "1      1  1424696633909  1424696631918283972 -5.952240  0.670212  8.136536   \n",
       "2      2  1424696633918  1424696631923288855 -5.995087  0.653549  8.204376   \n",
       "3      3  1424696633919  1424696631928385290 -5.942718  0.676163  8.128204   \n",
       "4      4  1424696633929  1424696631933420691 -5.991516  0.641647  8.135345   \n",
       "\n",
       "  User   Model    Device     gt  \n",
       "0    a  nexus4  nexus4_1  stand  \n",
       "1    a  nexus4  nexus4_1  stand  \n",
       "2    a  nexus4  nexus4_1  stand  \n",
       "3    a  nexus4  nexus4_1  stand  \n",
       "4    a  nexus4  nexus4_1  stand  "
      ]
     },
     "execution_count": 10,
     "metadata": {},
     "output_type": "execute_result"
    }
   ],
   "source": [
    "a_phone.head()"
   ]
  },
  {
   "cell_type": "code",
   "execution_count": 11,
   "metadata": {},
   "outputs": [
    {
     "data": {
      "text/html": [
       "<div>\n",
       "<style scoped>\n",
       "    .dataframe tbody tr th:only-of-type {\n",
       "        vertical-align: middle;\n",
       "    }\n",
       "\n",
       "    .dataframe tbody tr th {\n",
       "        vertical-align: top;\n",
       "    }\n",
       "\n",
       "    .dataframe thead th {\n",
       "        text-align: right;\n",
       "    }\n",
       "</style>\n",
       "<table border=\"1\" class=\"dataframe\">\n",
       "  <thead>\n",
       "    <tr style=\"text-align: right;\">\n",
       "      <th></th>\n",
       "      <th>Index</th>\n",
       "      <th>Arrival_Time</th>\n",
       "      <th>Creation_Time</th>\n",
       "      <th>x</th>\n",
       "      <th>y</th>\n",
       "      <th>z</th>\n",
       "      <th>User</th>\n",
       "      <th>Model</th>\n",
       "      <th>Device</th>\n",
       "      <th>gt</th>\n",
       "    </tr>\n",
       "  </thead>\n",
       "  <tbody>\n",
       "    <tr>\n",
       "      <th>1362515</th>\n",
       "      <td>110391</td>\n",
       "      <td>1424698517360</td>\n",
       "      <td>12234742305000</td>\n",
       "      <td>6.895215</td>\n",
       "      <td>-1.685497</td>\n",
       "      <td>7.661350</td>\n",
       "      <td>a</td>\n",
       "      <td>samsungold</td>\n",
       "      <td>samsungold_2</td>\n",
       "      <td>bike</td>\n",
       "    </tr>\n",
       "    <tr>\n",
       "      <th>1362516</th>\n",
       "      <td>110392</td>\n",
       "      <td>1424698517369</td>\n",
       "      <td>12234751796000</td>\n",
       "      <td>7.048442</td>\n",
       "      <td>-1.685497</td>\n",
       "      <td>7.661350</td>\n",
       "      <td>a</td>\n",
       "      <td>samsungold</td>\n",
       "      <td>samsungold_2</td>\n",
       "      <td>bike</td>\n",
       "    </tr>\n",
       "    <tr>\n",
       "      <th>1362517</th>\n",
       "      <td>110393</td>\n",
       "      <td>1424698517390</td>\n",
       "      <td>12234772243000</td>\n",
       "      <td>7.201669</td>\n",
       "      <td>-1.838724</td>\n",
       "      <td>7.661350</td>\n",
       "      <td>a</td>\n",
       "      <td>samsungold</td>\n",
       "      <td>samsungold_2</td>\n",
       "      <td>bike</td>\n",
       "    </tr>\n",
       "    <tr>\n",
       "      <th>1362518</th>\n",
       "      <td>110394</td>\n",
       "      <td>1424698517410</td>\n",
       "      <td>12234792293000</td>\n",
       "      <td>7.048442</td>\n",
       "      <td>-1.532270</td>\n",
       "      <td>7.508123</td>\n",
       "      <td>a</td>\n",
       "      <td>samsungold</td>\n",
       "      <td>samsungold_2</td>\n",
       "      <td>bike</td>\n",
       "    </tr>\n",
       "    <tr>\n",
       "      <th>1362519</th>\n",
       "      <td>110395</td>\n",
       "      <td>1424698517419</td>\n",
       "      <td>12234801815000</td>\n",
       "      <td>6.741988</td>\n",
       "      <td>-1.532270</td>\n",
       "      <td>7.354896</td>\n",
       "      <td>a</td>\n",
       "      <td>samsungold</td>\n",
       "      <td>samsungold_2</td>\n",
       "      <td>bike</td>\n",
       "    </tr>\n",
       "  </tbody>\n",
       "</table>\n",
       "</div>"
      ],
      "text/plain": [
       "          Index   Arrival_Time   Creation_Time         x         y         z  \\\n",
       "1362515  110391  1424698517360  12234742305000  6.895215 -1.685497  7.661350   \n",
       "1362516  110392  1424698517369  12234751796000  7.048442 -1.685497  7.661350   \n",
       "1362517  110393  1424698517390  12234772243000  7.201669 -1.838724  7.661350   \n",
       "1362518  110394  1424698517410  12234792293000  7.048442 -1.532270  7.508123   \n",
       "1362519  110395  1424698517419  12234801815000  6.741988 -1.532270  7.354896   \n",
       "\n",
       "        User       Model        Device    gt  \n",
       "1362515    a  samsungold  samsungold_2  bike  \n",
       "1362516    a  samsungold  samsungold_2  bike  \n",
       "1362517    a  samsungold  samsungold_2  bike  \n",
       "1362518    a  samsungold  samsungold_2  bike  \n",
       "1362519    a  samsungold  samsungold_2  bike  "
      ]
     },
     "execution_count": 11,
     "metadata": {},
     "output_type": "execute_result"
    }
   ],
   "source": [
    "a_phone.tail()"
   ]
  },
  {
   "cell_type": "code",
   "execution_count": 22,
   "metadata": {},
   "outputs": [
    {
     "data": {
      "text/plain": [
       "Counter({'nexus4': 646825,\n",
       "         's3': 327917,\n",
       "         's3mini': 167886,\n",
       "         'samsungold': 219892})"
      ]
     },
     "execution_count": 22,
     "metadata": {},
     "output_type": "execute_result"
    }
   ],
   "source": [
    "Counter(a_phone['Model'])"
   ]
  },
  {
   "cell_type": "code",
   "execution_count": 23,
   "metadata": {},
   "outputs": [],
   "source": [
    "a_phone_nexus4 = a_phone[a_phone['Model']=='nexus4']\n",
    "a_phone_s3 = a_phone[a_phone['Model']=='s3']\n",
    "a_phone_s3mini = a_phone[a_phone['Model']=='s3mini']\n",
    "a_phone_samsungold = a_phone[a_phone['Model']=='samsungold']"
   ]
  },
  {
   "cell_type": "code",
   "execution_count": 32,
   "metadata": {},
   "outputs": [
    {
     "data": {
      "text/plain": [
       "Counter({'gear': 42578, 'lgwatch': 453846})"
      ]
     },
     "execution_count": 32,
     "metadata": {},
     "output_type": "execute_result"
    }
   ],
   "source": [
    "Counter(a_watch['Model'])"
   ]
  },
  {
   "cell_type": "code",
   "execution_count": 33,
   "metadata": {},
   "outputs": [],
   "source": [
    "a_watch_gear = a_watch[a_watch['Model']=='gear']\n",
    "a_watch_lgwatch = a_watch[a_watch['Model']=='lgwatch']"
   ]
  },
  {
   "cell_type": "code",
   "execution_count": 24,
   "metadata": {},
   "outputs": [
    {
     "data": {
      "text/html": [
       "<div>\n",
       "<style scoped>\n",
       "    .dataframe tbody tr th:only-of-type {\n",
       "        vertical-align: middle;\n",
       "    }\n",
       "\n",
       "    .dataframe tbody tr th {\n",
       "        vertical-align: top;\n",
       "    }\n",
       "\n",
       "    .dataframe thead th {\n",
       "        text-align: right;\n",
       "    }\n",
       "</style>\n",
       "<table border=\"1\" class=\"dataframe\">\n",
       "  <thead>\n",
       "    <tr style=\"text-align: right;\">\n",
       "      <th></th>\n",
       "      <th>Index</th>\n",
       "      <th>Arrival_Time</th>\n",
       "      <th>Creation_Time</th>\n",
       "      <th>x</th>\n",
       "      <th>y</th>\n",
       "      <th>z</th>\n",
       "      <th>User</th>\n",
       "      <th>Model</th>\n",
       "      <th>Device</th>\n",
       "      <th>gt</th>\n",
       "    </tr>\n",
       "  </thead>\n",
       "  <tbody>\n",
       "    <tr>\n",
       "      <th>0</th>\n",
       "      <td>0</td>\n",
       "      <td>1424696633908</td>\n",
       "      <td>1424696631913248572</td>\n",
       "      <td>-5.958191</td>\n",
       "      <td>0.688065</td>\n",
       "      <td>8.135345</td>\n",
       "      <td>a</td>\n",
       "      <td>nexus4</td>\n",
       "      <td>nexus4_1</td>\n",
       "      <td>stand</td>\n",
       "    </tr>\n",
       "    <tr>\n",
       "      <th>1</th>\n",
       "      <td>1</td>\n",
       "      <td>1424696633909</td>\n",
       "      <td>1424696631918283972</td>\n",
       "      <td>-5.952240</td>\n",
       "      <td>0.670212</td>\n",
       "      <td>8.136536</td>\n",
       "      <td>a</td>\n",
       "      <td>nexus4</td>\n",
       "      <td>nexus4_1</td>\n",
       "      <td>stand</td>\n",
       "    </tr>\n",
       "    <tr>\n",
       "      <th>2</th>\n",
       "      <td>2</td>\n",
       "      <td>1424696633918</td>\n",
       "      <td>1424696631923288855</td>\n",
       "      <td>-5.995087</td>\n",
       "      <td>0.653549</td>\n",
       "      <td>8.204376</td>\n",
       "      <td>a</td>\n",
       "      <td>nexus4</td>\n",
       "      <td>nexus4_1</td>\n",
       "      <td>stand</td>\n",
       "    </tr>\n",
       "    <tr>\n",
       "      <th>3</th>\n",
       "      <td>3</td>\n",
       "      <td>1424696633919</td>\n",
       "      <td>1424696631928385290</td>\n",
       "      <td>-5.942718</td>\n",
       "      <td>0.676163</td>\n",
       "      <td>8.128204</td>\n",
       "      <td>a</td>\n",
       "      <td>nexus4</td>\n",
       "      <td>nexus4_1</td>\n",
       "      <td>stand</td>\n",
       "    </tr>\n",
       "    <tr>\n",
       "      <th>4</th>\n",
       "      <td>4</td>\n",
       "      <td>1424696633929</td>\n",
       "      <td>1424696631933420691</td>\n",
       "      <td>-5.991516</td>\n",
       "      <td>0.641647</td>\n",
       "      <td>8.135345</td>\n",
       "      <td>a</td>\n",
       "      <td>nexus4</td>\n",
       "      <td>nexus4_1</td>\n",
       "      <td>stand</td>\n",
       "    </tr>\n",
       "  </tbody>\n",
       "</table>\n",
       "</div>"
      ],
      "text/plain": [
       "   Index   Arrival_Time        Creation_Time         x         y         z  \\\n",
       "0      0  1424696633908  1424696631913248572 -5.958191  0.688065  8.135345   \n",
       "1      1  1424696633909  1424696631918283972 -5.952240  0.670212  8.136536   \n",
       "2      2  1424696633918  1424696631923288855 -5.995087  0.653549  8.204376   \n",
       "3      3  1424696633919  1424696631928385290 -5.942718  0.676163  8.128204   \n",
       "4      4  1424696633929  1424696631933420691 -5.991516  0.641647  8.135345   \n",
       "\n",
       "  User   Model    Device     gt  \n",
       "0    a  nexus4  nexus4_1  stand  \n",
       "1    a  nexus4  nexus4_1  stand  \n",
       "2    a  nexus4  nexus4_1  stand  \n",
       "3    a  nexus4  nexus4_1  stand  \n",
       "4    a  nexus4  nexus4_1  stand  "
      ]
     },
     "execution_count": 24,
     "metadata": {},
     "output_type": "execute_result"
    }
   ],
   "source": [
    "a_phone_nexus4.head()"
   ]
  },
  {
   "cell_type": "code",
   "execution_count": 43,
   "metadata": {},
   "outputs": [
    {
     "data": {
      "text/plain": [
       "1424696631.9132485"
      ]
     },
     "execution_count": 43,
     "metadata": {},
     "output_type": "execute_result"
    }
   ],
   "source": [
    "1424696631913248572/pow(10,9)"
   ]
  },
  {
   "cell_type": "code",
   "execution_count": 25,
   "metadata": {},
   "outputs": [
    {
     "data": {
      "text/html": [
       "<div>\n",
       "<style scoped>\n",
       "    .dataframe tbody tr th:only-of-type {\n",
       "        vertical-align: middle;\n",
       "    }\n",
       "\n",
       "    .dataframe tbody tr th {\n",
       "        vertical-align: top;\n",
       "    }\n",
       "\n",
       "    .dataframe thead th {\n",
       "        text-align: right;\n",
       "    }\n",
       "</style>\n",
       "<table border=\"1\" class=\"dataframe\">\n",
       "  <thead>\n",
       "    <tr style=\"text-align: right;\">\n",
       "      <th></th>\n",
       "      <th>Index</th>\n",
       "      <th>Arrival_Time</th>\n",
       "      <th>Creation_Time</th>\n",
       "      <th>x</th>\n",
       "      <th>y</th>\n",
       "      <th>z</th>\n",
       "      <th>User</th>\n",
       "      <th>Model</th>\n",
       "      <th>Device</th>\n",
       "      <th>gt</th>\n",
       "    </tr>\n",
       "  </thead>\n",
       "  <tbody>\n",
       "    <tr>\n",
       "      <th>646825</th>\n",
       "      <td>0</td>\n",
       "      <td>1424696636908</td>\n",
       "      <td>52546413802000</td>\n",
       "      <td>-6.090849</td>\n",
       "      <td>0.565032</td>\n",
       "      <td>7.623138</td>\n",
       "      <td>a</td>\n",
       "      <td>s3</td>\n",
       "      <td>s3_1</td>\n",
       "      <td>stand</td>\n",
       "    </tr>\n",
       "    <tr>\n",
       "      <th>646826</th>\n",
       "      <td>1</td>\n",
       "      <td>1424696636919</td>\n",
       "      <td>52546425141000</td>\n",
       "      <td>-6.090849</td>\n",
       "      <td>0.593762</td>\n",
       "      <td>7.603985</td>\n",
       "      <td>a</td>\n",
       "      <td>s3</td>\n",
       "      <td>s3_1</td>\n",
       "      <td>stand</td>\n",
       "    </tr>\n",
       "    <tr>\n",
       "      <th>646827</th>\n",
       "      <td>2</td>\n",
       "      <td>1424696636933</td>\n",
       "      <td>52546438690000</td>\n",
       "      <td>-6.100426</td>\n",
       "      <td>0.612916</td>\n",
       "      <td>7.651869</td>\n",
       "      <td>a</td>\n",
       "      <td>s3</td>\n",
       "      <td>s3_1</td>\n",
       "      <td>stand</td>\n",
       "    </tr>\n",
       "    <tr>\n",
       "      <th>646828</th>\n",
       "      <td>3</td>\n",
       "      <td>1424696636939</td>\n",
       "      <td>52546445342000</td>\n",
       "      <td>-6.033388</td>\n",
       "      <td>0.603339</td>\n",
       "      <td>7.651869</td>\n",
       "      <td>a</td>\n",
       "      <td>s3</td>\n",
       "      <td>s3_1</td>\n",
       "      <td>stand</td>\n",
       "    </tr>\n",
       "    <tr>\n",
       "      <th>646829</th>\n",
       "      <td>4</td>\n",
       "      <td>1424696636949</td>\n",
       "      <td>52546455524000</td>\n",
       "      <td>-6.081272</td>\n",
       "      <td>0.641646</td>\n",
       "      <td>7.671022</td>\n",
       "      <td>a</td>\n",
       "      <td>s3</td>\n",
       "      <td>s3_1</td>\n",
       "      <td>stand</td>\n",
       "    </tr>\n",
       "  </tbody>\n",
       "</table>\n",
       "</div>"
      ],
      "text/plain": [
       "        Index   Arrival_Time   Creation_Time         x         y         z  \\\n",
       "646825      0  1424696636908  52546413802000 -6.090849  0.565032  7.623138   \n",
       "646826      1  1424696636919  52546425141000 -6.090849  0.593762  7.603985   \n",
       "646827      2  1424696636933  52546438690000 -6.100426  0.612916  7.651869   \n",
       "646828      3  1424696636939  52546445342000 -6.033388  0.603339  7.651869   \n",
       "646829      4  1424696636949  52546455524000 -6.081272  0.641646  7.671022   \n",
       "\n",
       "       User Model Device     gt  \n",
       "646825    a    s3   s3_1  stand  \n",
       "646826    a    s3   s3_1  stand  \n",
       "646827    a    s3   s3_1  stand  \n",
       "646828    a    s3   s3_1  stand  \n",
       "646829    a    s3   s3_1  stand  "
      ]
     },
     "execution_count": 25,
     "metadata": {},
     "output_type": "execute_result"
    }
   ],
   "source": [
    "a_phone_s3.head()"
   ]
  },
  {
   "cell_type": "code",
   "execution_count": 36,
   "metadata": {},
   "outputs": [
    {
     "name": "stdout",
     "output_type": "stream",
     "text": [
      "41\n",
      "41722000\n"
     ]
    }
   ],
   "source": [
    "print(1424696636949 - 1424696636908)\n",
    "print(52546455524000 - 52546413802000)"
   ]
  },
  {
   "cell_type": "code",
   "execution_count": 26,
   "metadata": {},
   "outputs": [
    {
     "data": {
      "text/html": [
       "<div>\n",
       "<style scoped>\n",
       "    .dataframe tbody tr th:only-of-type {\n",
       "        vertical-align: middle;\n",
       "    }\n",
       "\n",
       "    .dataframe tbody tr th {\n",
       "        vertical-align: top;\n",
       "    }\n",
       "\n",
       "    .dataframe thead th {\n",
       "        text-align: right;\n",
       "    }\n",
       "</style>\n",
       "<table border=\"1\" class=\"dataframe\">\n",
       "  <thead>\n",
       "    <tr style=\"text-align: right;\">\n",
       "      <th></th>\n",
       "      <th>Index</th>\n",
       "      <th>Arrival_Time</th>\n",
       "      <th>Creation_Time</th>\n",
       "      <th>x</th>\n",
       "      <th>y</th>\n",
       "      <th>z</th>\n",
       "      <th>User</th>\n",
       "      <th>Model</th>\n",
       "      <th>Device</th>\n",
       "      <th>gt</th>\n",
       "    </tr>\n",
       "  </thead>\n",
       "  <tbody>\n",
       "    <tr>\n",
       "      <th>974742</th>\n",
       "      <td>0</td>\n",
       "      <td>1424696637507</td>\n",
       "      <td>14347532400000</td>\n",
       "      <td>5.859808</td>\n",
       "      <td>-1.183933</td>\n",
       "      <td>7.475895</td>\n",
       "      <td>a</td>\n",
       "      <td>s3mini</td>\n",
       "      <td>s3mini_1</td>\n",
       "      <td>stand</td>\n",
       "    </tr>\n",
       "    <tr>\n",
       "      <th>974743</th>\n",
       "      <td>1</td>\n",
       "      <td>1424696637507</td>\n",
       "      <td>14347541365000</td>\n",
       "      <td>5.874174</td>\n",
       "      <td>-1.165976</td>\n",
       "      <td>7.478289</td>\n",
       "      <td>a</td>\n",
       "      <td>s3mini</td>\n",
       "      <td>s3mini_1</td>\n",
       "      <td>stand</td>\n",
       "    </tr>\n",
       "    <tr>\n",
       "      <th>974744</th>\n",
       "      <td>2</td>\n",
       "      <td>1424696637507</td>\n",
       "      <td>14347551459000</td>\n",
       "      <td>5.872977</td>\n",
       "      <td>-1.145625</td>\n",
       "      <td>7.474698</td>\n",
       "      <td>a</td>\n",
       "      <td>s3mini</td>\n",
       "      <td>s3mini_1</td>\n",
       "      <td>stand</td>\n",
       "    </tr>\n",
       "    <tr>\n",
       "      <th>974745</th>\n",
       "      <td>3</td>\n",
       "      <td>1424696637508</td>\n",
       "      <td>14347562559000</td>\n",
       "      <td>5.870583</td>\n",
       "      <td>-1.152808</td>\n",
       "      <td>7.477092</td>\n",
       "      <td>a</td>\n",
       "      <td>s3mini</td>\n",
       "      <td>s3mini_1</td>\n",
       "      <td>stand</td>\n",
       "    </tr>\n",
       "    <tr>\n",
       "      <th>974746</th>\n",
       "      <td>4</td>\n",
       "      <td>1424696637508</td>\n",
       "      <td>14347570945000</td>\n",
       "      <td>5.853823</td>\n",
       "      <td>-1.192313</td>\n",
       "      <td>7.457938</td>\n",
       "      <td>a</td>\n",
       "      <td>s3mini</td>\n",
       "      <td>s3mini_1</td>\n",
       "      <td>stand</td>\n",
       "    </tr>\n",
       "  </tbody>\n",
       "</table>\n",
       "</div>"
      ],
      "text/plain": [
       "        Index   Arrival_Time   Creation_Time         x         y         z  \\\n",
       "974742      0  1424696637507  14347532400000  5.859808 -1.183933  7.475895   \n",
       "974743      1  1424696637507  14347541365000  5.874174 -1.165976  7.478289   \n",
       "974744      2  1424696637507  14347551459000  5.872977 -1.145625  7.474698   \n",
       "974745      3  1424696637508  14347562559000  5.870583 -1.152808  7.477092   \n",
       "974746      4  1424696637508  14347570945000  5.853823 -1.192313  7.457938   \n",
       "\n",
       "       User   Model    Device     gt  \n",
       "974742    a  s3mini  s3mini_1  stand  \n",
       "974743    a  s3mini  s3mini_1  stand  \n",
       "974744    a  s3mini  s3mini_1  stand  \n",
       "974745    a  s3mini  s3mini_1  stand  \n",
       "974746    a  s3mini  s3mini_1  stand  "
      ]
     },
     "execution_count": 26,
     "metadata": {},
     "output_type": "execute_result"
    }
   ],
   "source": [
    "a_phone_s3mini.head()"
   ]
  },
  {
   "cell_type": "code",
   "execution_count": 27,
   "metadata": {},
   "outputs": [
    {
     "data": {
      "text/html": [
       "<div>\n",
       "<style scoped>\n",
       "    .dataframe tbody tr th:only-of-type {\n",
       "        vertical-align: middle;\n",
       "    }\n",
       "\n",
       "    .dataframe tbody tr th {\n",
       "        vertical-align: top;\n",
       "    }\n",
       "\n",
       "    .dataframe thead th {\n",
       "        text-align: right;\n",
       "    }\n",
       "</style>\n",
       "<table border=\"1\" class=\"dataframe\">\n",
       "  <thead>\n",
       "    <tr style=\"text-align: right;\">\n",
       "      <th></th>\n",
       "      <th>Index</th>\n",
       "      <th>Arrival_Time</th>\n",
       "      <th>Creation_Time</th>\n",
       "      <th>x</th>\n",
       "      <th>y</th>\n",
       "      <th>z</th>\n",
       "      <th>User</th>\n",
       "      <th>Model</th>\n",
       "      <th>Device</th>\n",
       "      <th>gt</th>\n",
       "    </tr>\n",
       "  </thead>\n",
       "  <tbody>\n",
       "    <tr>\n",
       "      <th>1142628</th>\n",
       "      <td>0</td>\n",
       "      <td>1424696633933</td>\n",
       "      <td>280361071531000</td>\n",
       "      <td>-5.669399</td>\n",
       "      <td>0.153227</td>\n",
       "      <td>7.814577</td>\n",
       "      <td>a</td>\n",
       "      <td>samsungold</td>\n",
       "      <td>samsungold_1</td>\n",
       "      <td>stand</td>\n",
       "    </tr>\n",
       "    <tr>\n",
       "      <th>1142629</th>\n",
       "      <td>1</td>\n",
       "      <td>1424696633953</td>\n",
       "      <td>280361091551000</td>\n",
       "      <td>-5.669399</td>\n",
       "      <td>0.306454</td>\n",
       "      <td>7.661350</td>\n",
       "      <td>a</td>\n",
       "      <td>samsungold</td>\n",
       "      <td>samsungold_1</td>\n",
       "      <td>stand</td>\n",
       "    </tr>\n",
       "    <tr>\n",
       "      <th>1142630</th>\n",
       "      <td>2</td>\n",
       "      <td>1424696633983</td>\n",
       "      <td>280361121549000</td>\n",
       "      <td>-5.669399</td>\n",
       "      <td>0.306454</td>\n",
       "      <td>7.814577</td>\n",
       "      <td>a</td>\n",
       "      <td>samsungold</td>\n",
       "      <td>samsungold_1</td>\n",
       "      <td>stand</td>\n",
       "    </tr>\n",
       "    <tr>\n",
       "      <th>1142631</th>\n",
       "      <td>3</td>\n",
       "      <td>1424696634014</td>\n",
       "      <td>280361152281000</td>\n",
       "      <td>-5.669399</td>\n",
       "      <td>0.306454</td>\n",
       "      <td>7.661350</td>\n",
       "      <td>a</td>\n",
       "      <td>samsungold</td>\n",
       "      <td>samsungold_1</td>\n",
       "      <td>stand</td>\n",
       "    </tr>\n",
       "    <tr>\n",
       "      <th>1142632</th>\n",
       "      <td>4</td>\n",
       "      <td>1424696634034</td>\n",
       "      <td>280361172300000</td>\n",
       "      <td>-5.669399</td>\n",
       "      <td>0.459681</td>\n",
       "      <td>7.661350</td>\n",
       "      <td>a</td>\n",
       "      <td>samsungold</td>\n",
       "      <td>samsungold_1</td>\n",
       "      <td>stand</td>\n",
       "    </tr>\n",
       "  </tbody>\n",
       "</table>\n",
       "</div>"
      ],
      "text/plain": [
       "         Index   Arrival_Time    Creation_Time         x         y         z  \\\n",
       "1142628      0  1424696633933  280361071531000 -5.669399  0.153227  7.814577   \n",
       "1142629      1  1424696633953  280361091551000 -5.669399  0.306454  7.661350   \n",
       "1142630      2  1424696633983  280361121549000 -5.669399  0.306454  7.814577   \n",
       "1142631      3  1424696634014  280361152281000 -5.669399  0.306454  7.661350   \n",
       "1142632      4  1424696634034  280361172300000 -5.669399  0.459681  7.661350   \n",
       "\n",
       "        User       Model        Device     gt  \n",
       "1142628    a  samsungold  samsungold_1  stand  \n",
       "1142629    a  samsungold  samsungold_1  stand  \n",
       "1142630    a  samsungold  samsungold_1  stand  \n",
       "1142631    a  samsungold  samsungold_1  stand  \n",
       "1142632    a  samsungold  samsungold_1  stand  "
      ]
     },
     "execution_count": 27,
     "metadata": {},
     "output_type": "execute_result"
    }
   ],
   "source": [
    "a_phone_samsungold.head()"
   ]
  },
  {
   "cell_type": "code",
   "execution_count": 31,
   "metadata": {},
   "outputs": [
    {
     "data": {
      "text/plain": [
       "101"
      ]
     },
     "execution_count": 31,
     "metadata": {},
     "output_type": "execute_result"
    }
   ],
   "source": [
    "1424696634034 - 1424696633933"
   ]
  },
  {
   "cell_type": "code",
   "execution_count": 30,
   "metadata": {},
   "outputs": [
    {
     "data": {
      "text/plain": [
       "100769000"
      ]
     },
     "execution_count": 30,
     "metadata": {},
     "output_type": "execute_result"
    }
   ],
   "source": [
    "280361172300000 - 280361071531000"
   ]
  },
  {
   "cell_type": "code",
   "execution_count": 34,
   "metadata": {},
   "outputs": [
    {
     "data": {
      "text/html": [
       "<div>\n",
       "<style scoped>\n",
       "    .dataframe tbody tr th:only-of-type {\n",
       "        vertical-align: middle;\n",
       "    }\n",
       "\n",
       "    .dataframe tbody tr th {\n",
       "        vertical-align: top;\n",
       "    }\n",
       "\n",
       "    .dataframe thead th {\n",
       "        text-align: right;\n",
       "    }\n",
       "</style>\n",
       "<table border=\"1\" class=\"dataframe\">\n",
       "  <thead>\n",
       "    <tr style=\"text-align: right;\">\n",
       "      <th></th>\n",
       "      <th>Index</th>\n",
       "      <th>Arrival_Time</th>\n",
       "      <th>Creation_Time</th>\n",
       "      <th>x</th>\n",
       "      <th>y</th>\n",
       "      <th>z</th>\n",
       "      <th>User</th>\n",
       "      <th>Model</th>\n",
       "      <th>Device</th>\n",
       "      <th>gt</th>\n",
       "    </tr>\n",
       "  </thead>\n",
       "  <tbody>\n",
       "    <tr>\n",
       "      <th>0</th>\n",
       "      <td>0</td>\n",
       "      <td>1424696638740</td>\n",
       "      <td>27920678471000</td>\n",
       "      <td>-0.565032</td>\n",
       "      <td>-9.572019</td>\n",
       "      <td>-0.614113</td>\n",
       "      <td>a</td>\n",
       "      <td>gear</td>\n",
       "      <td>gear_1</td>\n",
       "      <td>stand</td>\n",
       "    </tr>\n",
       "    <tr>\n",
       "      <th>1</th>\n",
       "      <td>1</td>\n",
       "      <td>1424696638740</td>\n",
       "      <td>27920681910000</td>\n",
       "      <td>-0.832584</td>\n",
       "      <td>-9.713276</td>\n",
       "      <td>-0.606930</td>\n",
       "      <td>a</td>\n",
       "      <td>gear</td>\n",
       "      <td>gear_1</td>\n",
       "      <td>stand</td>\n",
       "    </tr>\n",
       "    <tr>\n",
       "      <th>2</th>\n",
       "      <td>2</td>\n",
       "      <td>1424696638740</td>\n",
       "      <td>27920692014000</td>\n",
       "      <td>-1.018134</td>\n",
       "      <td>-9.935339</td>\n",
       "      <td>-0.544082</td>\n",
       "      <td>a</td>\n",
       "      <td>gear</td>\n",
       "      <td>gear_1</td>\n",
       "      <td>stand</td>\n",
       "    </tr>\n",
       "    <tr>\n",
       "      <th>3</th>\n",
       "      <td>3</td>\n",
       "      <td>1424696638741</td>\n",
       "      <td>27920701983000</td>\n",
       "      <td>-1.222838</td>\n",
       "      <td>-10.142437</td>\n",
       "      <td>-0.566229</td>\n",
       "      <td>a</td>\n",
       "      <td>gear</td>\n",
       "      <td>gear_1</td>\n",
       "      <td>stand</td>\n",
       "    </tr>\n",
       "    <tr>\n",
       "      <th>4</th>\n",
       "      <td>4</td>\n",
       "      <td>1424696638741</td>\n",
       "      <td>27920711906000</td>\n",
       "      <td>-1.577180</td>\n",
       "      <td>-10.480618</td>\n",
       "      <td>-0.402824</td>\n",
       "      <td>a</td>\n",
       "      <td>gear</td>\n",
       "      <td>gear_1</td>\n",
       "      <td>stand</td>\n",
       "    </tr>\n",
       "  </tbody>\n",
       "</table>\n",
       "</div>"
      ],
      "text/plain": [
       "   Index   Arrival_Time   Creation_Time         x          y         z User  \\\n",
       "0      0  1424696638740  27920678471000 -0.565032  -9.572019 -0.614113    a   \n",
       "1      1  1424696638740  27920681910000 -0.832584  -9.713276 -0.606930    a   \n",
       "2      2  1424696638740  27920692014000 -1.018134  -9.935339 -0.544082    a   \n",
       "3      3  1424696638741  27920701983000 -1.222838 -10.142437 -0.566229    a   \n",
       "4      4  1424696638741  27920711906000 -1.577180 -10.480618 -0.402824    a   \n",
       "\n",
       "  Model  Device     gt  \n",
       "0  gear  gear_1  stand  \n",
       "1  gear  gear_1  stand  \n",
       "2  gear  gear_1  stand  \n",
       "3  gear  gear_1  stand  \n",
       "4  gear  gear_1  stand  "
      ]
     },
     "execution_count": 34,
     "metadata": {},
     "output_type": "execute_result"
    }
   ],
   "source": [
    "a_watch_gear.head()"
   ]
  },
  {
   "cell_type": "code",
   "execution_count": 35,
   "metadata": {},
   "outputs": [
    {
     "data": {
      "text/html": [
       "<div>\n",
       "<style scoped>\n",
       "    .dataframe tbody tr th:only-of-type {\n",
       "        vertical-align: middle;\n",
       "    }\n",
       "\n",
       "    .dataframe tbody tr th {\n",
       "        vertical-align: top;\n",
       "    }\n",
       "\n",
       "    .dataframe thead th {\n",
       "        text-align: right;\n",
       "    }\n",
       "</style>\n",
       "<table border=\"1\" class=\"dataframe\">\n",
       "  <thead>\n",
       "    <tr style=\"text-align: right;\">\n",
       "      <th></th>\n",
       "      <th>Index</th>\n",
       "      <th>Arrival_Time</th>\n",
       "      <th>Creation_Time</th>\n",
       "      <th>x</th>\n",
       "      <th>y</th>\n",
       "      <th>z</th>\n",
       "      <th>User</th>\n",
       "      <th>Model</th>\n",
       "      <th>Device</th>\n",
       "      <th>gt</th>\n",
       "    </tr>\n",
       "  </thead>\n",
       "  <tbody>\n",
       "    <tr>\n",
       "      <th>42578</th>\n",
       "      <td>0</td>\n",
       "      <td>1424696633911</td>\n",
       "      <td>207817520343346</td>\n",
       "      <td>-9.160782</td>\n",
       "      <td>-3.759674</td>\n",
       "      <td>1.396469</td>\n",
       "      <td>a</td>\n",
       "      <td>lgwatch</td>\n",
       "      <td>lgwatch_1</td>\n",
       "      <td>stand</td>\n",
       "    </tr>\n",
       "    <tr>\n",
       "      <th>42579</th>\n",
       "      <td>1</td>\n",
       "      <td>1424696633916</td>\n",
       "      <td>207817525287194</td>\n",
       "      <td>-9.198868</td>\n",
       "      <td>-3.788239</td>\n",
       "      <td>1.420273</td>\n",
       "      <td>a</td>\n",
       "      <td>lgwatch</td>\n",
       "      <td>lgwatch_1</td>\n",
       "      <td>stand</td>\n",
       "    </tr>\n",
       "    <tr>\n",
       "      <th>42580</th>\n",
       "      <td>2</td>\n",
       "      <td>1424696633921</td>\n",
       "      <td>207817530231042</td>\n",
       "      <td>-9.208389</td>\n",
       "      <td>-3.804901</td>\n",
       "      <td>1.439316</td>\n",
       "      <td>a</td>\n",
       "      <td>lgwatch</td>\n",
       "      <td>lgwatch_1</td>\n",
       "      <td>stand</td>\n",
       "    </tr>\n",
       "    <tr>\n",
       "      <th>42581</th>\n",
       "      <td>3</td>\n",
       "      <td>1424696633926</td>\n",
       "      <td>207817535174889</td>\n",
       "      <td>-9.210770</td>\n",
       "      <td>-3.759674</td>\n",
       "      <td>1.446457</td>\n",
       "      <td>a</td>\n",
       "      <td>lgwatch</td>\n",
       "      <td>lgwatch_1</td>\n",
       "      <td>stand</td>\n",
       "    </tr>\n",
       "    <tr>\n",
       "      <th>42582</th>\n",
       "      <td>4</td>\n",
       "      <td>1424696633931</td>\n",
       "      <td>207817540118737</td>\n",
       "      <td>-9.222671</td>\n",
       "      <td>-3.735870</td>\n",
       "      <td>1.377426</td>\n",
       "      <td>a</td>\n",
       "      <td>lgwatch</td>\n",
       "      <td>lgwatch_1</td>\n",
       "      <td>stand</td>\n",
       "    </tr>\n",
       "  </tbody>\n",
       "</table>\n",
       "</div>"
      ],
      "text/plain": [
       "       Index   Arrival_Time    Creation_Time         x         y         z  \\\n",
       "42578      0  1424696633911  207817520343346 -9.160782 -3.759674  1.396469   \n",
       "42579      1  1424696633916  207817525287194 -9.198868 -3.788239  1.420273   \n",
       "42580      2  1424696633921  207817530231042 -9.208389 -3.804901  1.439316   \n",
       "42581      3  1424696633926  207817535174889 -9.210770 -3.759674  1.446457   \n",
       "42582      4  1424696633931  207817540118737 -9.222671 -3.735870  1.377426   \n",
       "\n",
       "      User    Model     Device     gt  \n",
       "42578    a  lgwatch  lgwatch_1  stand  \n",
       "42579    a  lgwatch  lgwatch_1  stand  \n",
       "42580    a  lgwatch  lgwatch_1  stand  \n",
       "42581    a  lgwatch  lgwatch_1  stand  \n",
       "42582    a  lgwatch  lgwatch_1  stand  "
      ]
     },
     "execution_count": 35,
     "metadata": {},
     "output_type": "execute_result"
    }
   ],
   "source": [
    "a_watch_lgwatch.head()"
   ]
  },
  {
   "cell_type": "code",
   "execution_count": 45,
   "metadata": {},
   "outputs": [
    {
     "data": {
      "text/plain": [
       "'ac'"
      ]
     },
     "execution_count": 45,
     "metadata": {},
     "output_type": "execute_result"
    }
   ],
   "source": [
    "aaa[:2]"
   ]
  },
  {
   "cell_type": "code",
   "execution_count": 18,
   "metadata": {},
   "outputs": [
    {
     "name": "stdout",
     "output_type": "stream",
     "text": [
      "Mon Feb 23 05:03:53 2015\n",
      "Mon Feb 23 05:35:17 2015\n"
     ]
    }
   ],
   "source": [
    "#### arrival time\n",
    "t1 = 1424696633.908\n",
    "print (time.ctime(t1))\n",
    "t2 = 1424698517.419\n",
    "print (time.ctime(t2))"
   ]
  },
  {
   "cell_type": "code",
   "execution_count": 21,
   "metadata": {},
   "outputs": [
    {
     "name": "stdout",
     "output_type": "stream",
     "text": [
      "Mon Feb 23 05:03:51 2015\n",
      "Wed Oct  8 08:36:21 2008\n"
     ]
    }
   ],
   "source": [
    "#### creation time\n",
    "t1 = 1424696631.913248572\n",
    "print (time.ctime(t1))\n",
    "t2 = 1223480181.5000\n",
    "print (time.ctime(t2))\n"
   ]
  },
  {
   "cell_type": "code",
   "execution_count": 37,
   "metadata": {},
   "outputs": [
    {
     "name": "stdout",
     "output_type": "stream",
     "text": [
      "1\n"
     ]
    }
   ],
   "source": [
    "if 'accelerometer' in 'd-s3_2-stairsup-Phones_accelerometer':\n",
    "    print(1)"
   ]
  },
  {
   "cell_type": "code",
   "execution_count": 38,
   "metadata": {},
   "outputs": [],
   "source": [
    "pair1 = 'd-s3_2-stairsup-Phones_accelerometer'\n",
    "nameElem = pair1.split('-')\n",
    "curLabel = '-'.join(nameElem[:-1])"
   ]
  },
  {
   "cell_type": "code",
   "execution_count": 39,
   "metadata": {},
   "outputs": [
    {
     "data": {
      "text/plain": [
       "['d', 's3_2', 'stairsup', 'Phones_accelerometer']"
      ]
     },
     "execution_count": 39,
     "metadata": {},
     "output_type": "execute_result"
    }
   ],
   "source": [
    "nameElem"
   ]
  },
  {
   "cell_type": "code",
   "execution_count": 40,
   "metadata": {},
   "outputs": [
    {
     "data": {
      "text/plain": [
       "'d-s3_2-stairsup'"
      ]
     },
     "execution_count": 40,
     "metadata": {},
     "output_type": "execute_result"
    }
   ],
   "source": [
    "curLabel"
   ]
  },
  {
   "cell_type": "code",
   "execution_count": 9,
   "metadata": {},
   "outputs": [
    {
     "data": {
      "text/html": [
       "<div>\n",
       "<style scoped>\n",
       "    .dataframe tbody tr th:only-of-type {\n",
       "        vertical-align: middle;\n",
       "    }\n",
       "\n",
       "    .dataframe tbody tr th {\n",
       "        vertical-align: top;\n",
       "    }\n",
       "\n",
       "    .dataframe thead th {\n",
       "        text-align: right;\n",
       "    }\n",
       "</style>\n",
       "<table border=\"1\" class=\"dataframe\">\n",
       "  <thead>\n",
       "    <tr style=\"text-align: right;\">\n",
       "      <th></th>\n",
       "      <th>Index</th>\n",
       "      <th>Arrival_Time</th>\n",
       "      <th>Creation_Time</th>\n",
       "      <th>x</th>\n",
       "      <th>y</th>\n",
       "      <th>z</th>\n",
       "    </tr>\n",
       "  </thead>\n",
       "  <tbody>\n",
       "    <tr>\n",
       "      <th>count</th>\n",
       "      <td>496424.000000</td>\n",
       "      <td>4.964240e+05</td>\n",
       "      <td>4.964240e+05</td>\n",
       "      <td>496424.000000</td>\n",
       "      <td>496424.000000</td>\n",
       "      <td>496424.000000</td>\n",
       "    </tr>\n",
       "    <tr>\n",
       "      <th>mean</th>\n",
       "      <td>152880.857330</td>\n",
       "      <td>1.424698e+12</td>\n",
       "      <td>1.804284e+14</td>\n",
       "      <td>-8.434637</td>\n",
       "      <td>-2.772951</td>\n",
       "      <td>1.599493</td>\n",
       "    </tr>\n",
       "    <tr>\n",
       "      <th>std</th>\n",
       "      <td>118811.498008</td>\n",
       "      <td>5.575266e+05</td>\n",
       "      <td>5.688078e+13</td>\n",
       "      <td>2.937981</td>\n",
       "      <td>3.600365</td>\n",
       "      <td>2.863248</td>\n",
       "    </tr>\n",
       "    <tr>\n",
       "      <th>min</th>\n",
       "      <td>0.000000</td>\n",
       "      <td>1.424697e+12</td>\n",
       "      <td>1.572705e+12</td>\n",
       "      <td>-19.669525</td>\n",
       "      <td>-19.703400</td>\n",
       "      <td>-19.613300</td>\n",
       "    </tr>\n",
       "    <tr>\n",
       "      <th>25%</th>\n",
       "      <td>40763.750000</td>\n",
       "      <td>1.424697e+12</td>\n",
       "      <td>2.078616e+14</td>\n",
       "      <td>-9.425003</td>\n",
       "      <td>-5.352142</td>\n",
       "      <td>-0.149039</td>\n",
       "    </tr>\n",
       "    <tr>\n",
       "      <th>50%</th>\n",
       "      <td>133030.500000</td>\n",
       "      <td>1.424698e+12</td>\n",
       "      <td>2.084741e+14</td>\n",
       "      <td>-8.111038</td>\n",
       "      <td>-3.345298</td>\n",
       "      <td>1.356003</td>\n",
       "    </tr>\n",
       "    <tr>\n",
       "      <th>75%</th>\n",
       "      <td>257136.250000</td>\n",
       "      <td>1.424698e+12</td>\n",
       "      <td>2.090868e+14</td>\n",
       "      <td>-7.094620</td>\n",
       "      <td>-1.595917</td>\n",
       "      <td>2.608078</td>\n",
       "    </tr>\n",
       "    <tr>\n",
       "      <th>max</th>\n",
       "      <td>381242.000000</td>\n",
       "      <td>1.424699e+12</td>\n",
       "      <td>2.097010e+14</td>\n",
       "      <td>13.869308</td>\n",
       "      <td>19.612701</td>\n",
       "      <td>19.927063</td>\n",
       "    </tr>\n",
       "  </tbody>\n",
       "</table>\n",
       "</div>"
      ],
      "text/plain": [
       "               Index  Arrival_Time  Creation_Time              x  \\\n",
       "count  496424.000000  4.964240e+05   4.964240e+05  496424.000000   \n",
       "mean   152880.857330  1.424698e+12   1.804284e+14      -8.434637   \n",
       "std    118811.498008  5.575266e+05   5.688078e+13       2.937981   \n",
       "min         0.000000  1.424697e+12   1.572705e+12     -19.669525   \n",
       "25%     40763.750000  1.424697e+12   2.078616e+14      -9.425003   \n",
       "50%    133030.500000  1.424698e+12   2.084741e+14      -8.111038   \n",
       "75%    257136.250000  1.424698e+12   2.090868e+14      -7.094620   \n",
       "max    381242.000000  1.424699e+12   2.097010e+14      13.869308   \n",
       "\n",
       "                   y              z  \n",
       "count  496424.000000  496424.000000  \n",
       "mean       -2.772951       1.599493  \n",
       "std         3.600365       2.863248  \n",
       "min       -19.703400     -19.613300  \n",
       "25%        -5.352142      -0.149039  \n",
       "50%        -3.345298       1.356003  \n",
       "75%        -1.595917       2.608078  \n",
       "max        19.612701      19.927063  "
      ]
     },
     "execution_count": 9,
     "metadata": {},
     "output_type": "execute_result"
    }
   ],
   "source": [
    "a_watch.describe()"
   ]
  },
  {
   "cell_type": "code",
   "execution_count": 27,
   "metadata": {
    "scrolled": true
   },
   "outputs": [
    {
     "data": {
      "text/html": [
       "<div>\n",
       "<style scoped>\n",
       "    .dataframe tbody tr th:only-of-type {\n",
       "        vertical-align: middle;\n",
       "    }\n",
       "\n",
       "    .dataframe tbody tr th {\n",
       "        vertical-align: top;\n",
       "    }\n",
       "\n",
       "    .dataframe thead th {\n",
       "        text-align: right;\n",
       "    }\n",
       "</style>\n",
       "<table border=\"1\" class=\"dataframe\">\n",
       "  <thead>\n",
       "    <tr style=\"text-align: right;\">\n",
       "      <th></th>\n",
       "      <th>Index</th>\n",
       "      <th>Arrival_Time</th>\n",
       "      <th>Creation_Time</th>\n",
       "      <th>x</th>\n",
       "      <th>y</th>\n",
       "      <th>z</th>\n",
       "      <th>User</th>\n",
       "      <th>Model</th>\n",
       "      <th>Device</th>\n",
       "      <th>gt</th>\n",
       "    </tr>\n",
       "  </thead>\n",
       "  <tbody>\n",
       "    <tr>\n",
       "      <th>0</th>\n",
       "      <td>0</td>\n",
       "      <td>1424696633908</td>\n",
       "      <td>1424696631913248572</td>\n",
       "      <td>-5.958191</td>\n",
       "      <td>0.688065</td>\n",
       "      <td>8.135345</td>\n",
       "      <td>a</td>\n",
       "      <td>nexus4</td>\n",
       "      <td>nexus4_1</td>\n",
       "      <td>stand</td>\n",
       "    </tr>\n",
       "    <tr>\n",
       "      <th>1</th>\n",
       "      <td>1</td>\n",
       "      <td>1424696633909</td>\n",
       "      <td>1424696631918283972</td>\n",
       "      <td>-5.952240</td>\n",
       "      <td>0.670212</td>\n",
       "      <td>8.136536</td>\n",
       "      <td>a</td>\n",
       "      <td>nexus4</td>\n",
       "      <td>nexus4_1</td>\n",
       "      <td>stand</td>\n",
       "    </tr>\n",
       "    <tr>\n",
       "      <th>2</th>\n",
       "      <td>2</td>\n",
       "      <td>1424696633918</td>\n",
       "      <td>1424696631923288855</td>\n",
       "      <td>-5.995087</td>\n",
       "      <td>0.653549</td>\n",
       "      <td>8.204376</td>\n",
       "      <td>a</td>\n",
       "      <td>nexus4</td>\n",
       "      <td>nexus4_1</td>\n",
       "      <td>stand</td>\n",
       "    </tr>\n",
       "    <tr>\n",
       "      <th>3</th>\n",
       "      <td>3</td>\n",
       "      <td>1424696633919</td>\n",
       "      <td>1424696631928385290</td>\n",
       "      <td>-5.942718</td>\n",
       "      <td>0.676163</td>\n",
       "      <td>8.128204</td>\n",
       "      <td>a</td>\n",
       "      <td>nexus4</td>\n",
       "      <td>nexus4_1</td>\n",
       "      <td>stand</td>\n",
       "    </tr>\n",
       "    <tr>\n",
       "      <th>4</th>\n",
       "      <td>4</td>\n",
       "      <td>1424696633929</td>\n",
       "      <td>1424696631933420691</td>\n",
       "      <td>-5.991516</td>\n",
       "      <td>0.641647</td>\n",
       "      <td>8.135345</td>\n",
       "      <td>a</td>\n",
       "      <td>nexus4</td>\n",
       "      <td>nexus4_1</td>\n",
       "      <td>stand</td>\n",
       "    </tr>\n",
       "    <tr>\n",
       "      <th>5</th>\n",
       "      <td>5</td>\n",
       "      <td>1424696633929</td>\n",
       "      <td>1424696631938456091</td>\n",
       "      <td>-5.965332</td>\n",
       "      <td>0.629745</td>\n",
       "      <td>8.128204</td>\n",
       "      <td>a</td>\n",
       "      <td>nexus4</td>\n",
       "      <td>nexus4_1</td>\n",
       "      <td>stand</td>\n",
       "    </tr>\n",
       "    <tr>\n",
       "      <th>6</th>\n",
       "      <td>6</td>\n",
       "      <td>1424696633938</td>\n",
       "      <td>1424696631943522009</td>\n",
       "      <td>-5.991516</td>\n",
       "      <td>0.635696</td>\n",
       "      <td>8.162720</td>\n",
       "      <td>a</td>\n",
       "      <td>nexus4</td>\n",
       "      <td>nexus4_1</td>\n",
       "      <td>stand</td>\n",
       "    </tr>\n",
       "    <tr>\n",
       "      <th>7</th>\n",
       "      <td>7</td>\n",
       "      <td>1424696633939</td>\n",
       "      <td>1424696631948496374</td>\n",
       "      <td>-5.915344</td>\n",
       "      <td>0.630936</td>\n",
       "      <td>8.105591</td>\n",
       "      <td>a</td>\n",
       "      <td>nexus4</td>\n",
       "      <td>nexus4_1</td>\n",
       "      <td>stand</td>\n",
       "    </tr>\n",
       "    <tr>\n",
       "      <th>8</th>\n",
       "      <td>8</td>\n",
       "      <td>1424696633951</td>\n",
       "      <td>1424696631953592810</td>\n",
       "      <td>-5.984375</td>\n",
       "      <td>0.694016</td>\n",
       "      <td>8.067505</td>\n",
       "      <td>a</td>\n",
       "      <td>nexus4</td>\n",
       "      <td>nexus4_1</td>\n",
       "      <td>stand</td>\n",
       "    </tr>\n",
       "    <tr>\n",
       "      <th>9</th>\n",
       "      <td>9</td>\n",
       "      <td>1424696633952</td>\n",
       "      <td>1424696631960428747</td>\n",
       "      <td>-5.937958</td>\n",
       "      <td>0.715439</td>\n",
       "      <td>8.090118</td>\n",
       "      <td>a</td>\n",
       "      <td>nexus4</td>\n",
       "      <td>nexus4_1</td>\n",
       "      <td>stand</td>\n",
       "    </tr>\n",
       "    <tr>\n",
       "      <th>10</th>\n",
       "      <td>10</td>\n",
       "      <td>1424696633959</td>\n",
       "      <td>1424696631963663611</td>\n",
       "      <td>-5.902252</td>\n",
       "      <td>0.667831</td>\n",
       "      <td>8.069885</td>\n",
       "      <td>a</td>\n",
       "      <td>nexus4</td>\n",
       "      <td>nexus4_1</td>\n",
       "      <td>stand</td>\n",
       "    </tr>\n",
       "    <tr>\n",
       "      <th>11</th>\n",
       "      <td>11</td>\n",
       "      <td>1424696633960</td>\n",
       "      <td>1424696631968912634</td>\n",
       "      <td>-5.949860</td>\n",
       "      <td>0.680923</td>\n",
       "      <td>8.119873</td>\n",
       "      <td>a</td>\n",
       "      <td>nexus4</td>\n",
       "      <td>nexus4_1</td>\n",
       "      <td>stand</td>\n",
       "    </tr>\n",
       "    <tr>\n",
       "      <th>12</th>\n",
       "      <td>12</td>\n",
       "      <td>1424696633966</td>\n",
       "      <td>1424696631973734412</td>\n",
       "      <td>-5.979614</td>\n",
       "      <td>0.741623</td>\n",
       "      <td>8.084167</td>\n",
       "      <td>a</td>\n",
       "      <td>nexus4</td>\n",
       "      <td>nexus4_1</td>\n",
       "      <td>stand</td>\n",
       "    </tr>\n",
       "    <tr>\n",
       "      <th>13</th>\n",
       "      <td>13</td>\n",
       "      <td>1424696633972</td>\n",
       "      <td>1424696631978769812</td>\n",
       "      <td>-5.961761</td>\n",
       "      <td>0.714249</td>\n",
       "      <td>8.155579</td>\n",
       "      <td>a</td>\n",
       "      <td>nexus4</td>\n",
       "      <td>nexus4_1</td>\n",
       "      <td>stand</td>\n",
       "    </tr>\n",
       "    <tr>\n",
       "      <th>14</th>\n",
       "      <td>14</td>\n",
       "      <td>1424696633978</td>\n",
       "      <td>1424696631983805212</td>\n",
       "      <td>-5.953430</td>\n",
       "      <td>0.713059</td>\n",
       "      <td>8.153198</td>\n",
       "      <td>a</td>\n",
       "      <td>nexus4</td>\n",
       "      <td>nexus4_1</td>\n",
       "      <td>stand</td>\n",
       "    </tr>\n",
       "    <tr>\n",
       "      <th>15</th>\n",
       "      <td>15</td>\n",
       "      <td>1424696633981</td>\n",
       "      <td>1424696631988840613</td>\n",
       "      <td>-5.866547</td>\n",
       "      <td>0.734482</td>\n",
       "      <td>8.100830</td>\n",
       "      <td>a</td>\n",
       "      <td>nexus4</td>\n",
       "      <td>nexus4_1</td>\n",
       "      <td>stand</td>\n",
       "    </tr>\n",
       "    <tr>\n",
       "      <th>16</th>\n",
       "      <td>16</td>\n",
       "      <td>1424696633989</td>\n",
       "      <td>1424696631993876013</td>\n",
       "      <td>-5.901062</td>\n",
       "      <td>0.758285</td>\n",
       "      <td>8.081787</td>\n",
       "      <td>a</td>\n",
       "      <td>nexus4</td>\n",
       "      <td>nexus4_1</td>\n",
       "      <td>stand</td>\n",
       "    </tr>\n",
       "    <tr>\n",
       "      <th>17</th>\n",
       "      <td>17</td>\n",
       "      <td>1424696633991</td>\n",
       "      <td>1424696631999064001</td>\n",
       "      <td>-5.871307</td>\n",
       "      <td>0.719009</td>\n",
       "      <td>8.192474</td>\n",
       "      <td>a</td>\n",
       "      <td>nexus4</td>\n",
       "      <td>nexus4_1</td>\n",
       "      <td>stand</td>\n",
       "    </tr>\n",
       "    <tr>\n",
       "      <th>18</th>\n",
       "      <td>18</td>\n",
       "      <td>1424696634003</td>\n",
       "      <td>1424696632003946814</td>\n",
       "      <td>-5.932007</td>\n",
       "      <td>0.672592</td>\n",
       "      <td>8.185333</td>\n",
       "      <td>a</td>\n",
       "      <td>nexus4</td>\n",
       "      <td>nexus4_1</td>\n",
       "      <td>stand</td>\n",
       "    </tr>\n",
       "    <tr>\n",
       "      <th>19</th>\n",
       "      <td>19</td>\n",
       "      <td>1424696634004</td>\n",
       "      <td>1424696632010447058</td>\n",
       "      <td>-5.895111</td>\n",
       "      <td>0.679733</td>\n",
       "      <td>8.132965</td>\n",
       "      <td>a</td>\n",
       "      <td>nexus4</td>\n",
       "      <td>nexus4_1</td>\n",
       "      <td>stand</td>\n",
       "    </tr>\n",
       "    <tr>\n",
       "      <th>20</th>\n",
       "      <td>20</td>\n",
       "      <td>1424696634007</td>\n",
       "      <td>1424696632014017615</td>\n",
       "      <td>-5.892731</td>\n",
       "      <td>0.682114</td>\n",
       "      <td>8.155579</td>\n",
       "      <td>a</td>\n",
       "      <td>nexus4</td>\n",
       "      <td>nexus4_1</td>\n",
       "      <td>stand</td>\n",
       "    </tr>\n",
       "    <tr>\n",
       "      <th>21</th>\n",
       "      <td>21</td>\n",
       "      <td>1424696634018</td>\n",
       "      <td>1424696632019053015</td>\n",
       "      <td>-5.848694</td>\n",
       "      <td>0.651169</td>\n",
       "      <td>8.144867</td>\n",
       "      <td>a</td>\n",
       "      <td>nexus4</td>\n",
       "      <td>nexus4_1</td>\n",
       "      <td>stand</td>\n",
       "    </tr>\n",
       "    <tr>\n",
       "      <th>22</th>\n",
       "      <td>22</td>\n",
       "      <td>1424696634019</td>\n",
       "      <td>1424696632025278601</td>\n",
       "      <td>-5.923675</td>\n",
       "      <td>0.686874</td>\n",
       "      <td>8.034180</td>\n",
       "      <td>a</td>\n",
       "      <td>nexus4</td>\n",
       "      <td>nexus4_1</td>\n",
       "      <td>stand</td>\n",
       "    </tr>\n",
       "    <tr>\n",
       "      <th>23</th>\n",
       "      <td>23</td>\n",
       "      <td>1424696634024</td>\n",
       "      <td>1424696632029123816</td>\n",
       "      <td>-5.902252</td>\n",
       "      <td>0.648788</td>\n",
       "      <td>8.150818</td>\n",
       "      <td>a</td>\n",
       "      <td>nexus4</td>\n",
       "      <td>nexus4_1</td>\n",
       "      <td>stand</td>\n",
       "    </tr>\n",
       "    <tr>\n",
       "      <th>24</th>\n",
       "      <td>24</td>\n",
       "      <td>1424696634028</td>\n",
       "      <td>1424696632034220251</td>\n",
       "      <td>-5.927246</td>\n",
       "      <td>0.671402</td>\n",
       "      <td>8.035370</td>\n",
       "      <td>a</td>\n",
       "      <td>nexus4</td>\n",
       "      <td>nexus4_1</td>\n",
       "      <td>stand</td>\n",
       "    </tr>\n",
       "    <tr>\n",
       "      <th>25</th>\n",
       "      <td>25</td>\n",
       "      <td>1424696634033</td>\n",
       "      <td>1424696632039255652</td>\n",
       "      <td>-5.928436</td>\n",
       "      <td>0.646408</td>\n",
       "      <td>8.134155</td>\n",
       "      <td>a</td>\n",
       "      <td>nexus4</td>\n",
       "      <td>nexus4_1</td>\n",
       "      <td>stand</td>\n",
       "    </tr>\n",
       "    <tr>\n",
       "      <th>26</th>\n",
       "      <td>26</td>\n",
       "      <td>1424696634039</td>\n",
       "      <td>1424696632044321570</td>\n",
       "      <td>-5.976044</td>\n",
       "      <td>0.696396</td>\n",
       "      <td>8.093689</td>\n",
       "      <td>a</td>\n",
       "      <td>nexus4</td>\n",
       "      <td>nexus4_1</td>\n",
       "      <td>stand</td>\n",
       "    </tr>\n",
       "    <tr>\n",
       "      <th>27</th>\n",
       "      <td>27</td>\n",
       "      <td>1424696634042</td>\n",
       "      <td>1424696632049356970</td>\n",
       "      <td>-5.949860</td>\n",
       "      <td>0.671402</td>\n",
       "      <td>8.135345</td>\n",
       "      <td>a</td>\n",
       "      <td>nexus4</td>\n",
       "      <td>nexus4_1</td>\n",
       "      <td>stand</td>\n",
       "    </tr>\n",
       "    <tr>\n",
       "      <th>28</th>\n",
       "      <td>28</td>\n",
       "      <td>1424696634050</td>\n",
       "      <td>1424696632054392371</td>\n",
       "      <td>-5.952240</td>\n",
       "      <td>0.667831</td>\n",
       "      <td>8.159149</td>\n",
       "      <td>a</td>\n",
       "      <td>nexus4</td>\n",
       "      <td>nexus4_1</td>\n",
       "      <td>stand</td>\n",
       "    </tr>\n",
       "    <tr>\n",
       "      <th>29</th>\n",
       "      <td>29</td>\n",
       "      <td>1424696634054</td>\n",
       "      <td>1424696632059427771</td>\n",
       "      <td>-5.940338</td>\n",
       "      <td>0.614273</td>\n",
       "      <td>8.093689</td>\n",
       "      <td>a</td>\n",
       "      <td>nexus4</td>\n",
       "      <td>nexus4_1</td>\n",
       "      <td>stand</td>\n",
       "    </tr>\n",
       "  </tbody>\n",
       "</table>\n",
       "</div>"
      ],
      "text/plain": [
       "    Index   Arrival_Time        Creation_Time         x         y         z  \\\n",
       "0       0  1424696633908  1424696631913248572 -5.958191  0.688065  8.135345   \n",
       "1       1  1424696633909  1424696631918283972 -5.952240  0.670212  8.136536   \n",
       "2       2  1424696633918  1424696631923288855 -5.995087  0.653549  8.204376   \n",
       "3       3  1424696633919  1424696631928385290 -5.942718  0.676163  8.128204   \n",
       "4       4  1424696633929  1424696631933420691 -5.991516  0.641647  8.135345   \n",
       "5       5  1424696633929  1424696631938456091 -5.965332  0.629745  8.128204   \n",
       "6       6  1424696633938  1424696631943522009 -5.991516  0.635696  8.162720   \n",
       "7       7  1424696633939  1424696631948496374 -5.915344  0.630936  8.105591   \n",
       "8       8  1424696633951  1424696631953592810 -5.984375  0.694016  8.067505   \n",
       "9       9  1424696633952  1424696631960428747 -5.937958  0.715439  8.090118   \n",
       "10     10  1424696633959  1424696631963663611 -5.902252  0.667831  8.069885   \n",
       "11     11  1424696633960  1424696631968912634 -5.949860  0.680923  8.119873   \n",
       "12     12  1424696633966  1424696631973734412 -5.979614  0.741623  8.084167   \n",
       "13     13  1424696633972  1424696631978769812 -5.961761  0.714249  8.155579   \n",
       "14     14  1424696633978  1424696631983805212 -5.953430  0.713059  8.153198   \n",
       "15     15  1424696633981  1424696631988840613 -5.866547  0.734482  8.100830   \n",
       "16     16  1424696633989  1424696631993876013 -5.901062  0.758285  8.081787   \n",
       "17     17  1424696633991  1424696631999064001 -5.871307  0.719009  8.192474   \n",
       "18     18  1424696634003  1424696632003946814 -5.932007  0.672592  8.185333   \n",
       "19     19  1424696634004  1424696632010447058 -5.895111  0.679733  8.132965   \n",
       "20     20  1424696634007  1424696632014017615 -5.892731  0.682114  8.155579   \n",
       "21     21  1424696634018  1424696632019053015 -5.848694  0.651169  8.144867   \n",
       "22     22  1424696634019  1424696632025278601 -5.923675  0.686874  8.034180   \n",
       "23     23  1424696634024  1424696632029123816 -5.902252  0.648788  8.150818   \n",
       "24     24  1424696634028  1424696632034220251 -5.927246  0.671402  8.035370   \n",
       "25     25  1424696634033  1424696632039255652 -5.928436  0.646408  8.134155   \n",
       "26     26  1424696634039  1424696632044321570 -5.976044  0.696396  8.093689   \n",
       "27     27  1424696634042  1424696632049356970 -5.949860  0.671402  8.135345   \n",
       "28     28  1424696634050  1424696632054392371 -5.952240  0.667831  8.159149   \n",
       "29     29  1424696634054  1424696632059427771 -5.940338  0.614273  8.093689   \n",
       "\n",
       "   User   Model    Device     gt  \n",
       "0     a  nexus4  nexus4_1  stand  \n",
       "1     a  nexus4  nexus4_1  stand  \n",
       "2     a  nexus4  nexus4_1  stand  \n",
       "3     a  nexus4  nexus4_1  stand  \n",
       "4     a  nexus4  nexus4_1  stand  \n",
       "5     a  nexus4  nexus4_1  stand  \n",
       "6     a  nexus4  nexus4_1  stand  \n",
       "7     a  nexus4  nexus4_1  stand  \n",
       "8     a  nexus4  nexus4_1  stand  \n",
       "9     a  nexus4  nexus4_1  stand  \n",
       "10    a  nexus4  nexus4_1  stand  \n",
       "11    a  nexus4  nexus4_1  stand  \n",
       "12    a  nexus4  nexus4_1  stand  \n",
       "13    a  nexus4  nexus4_1  stand  \n",
       "14    a  nexus4  nexus4_1  stand  \n",
       "15    a  nexus4  nexus4_1  stand  \n",
       "16    a  nexus4  nexus4_1  stand  \n",
       "17    a  nexus4  nexus4_1  stand  \n",
       "18    a  nexus4  nexus4_1  stand  \n",
       "19    a  nexus4  nexus4_1  stand  \n",
       "20    a  nexus4  nexus4_1  stand  \n",
       "21    a  nexus4  nexus4_1  stand  \n",
       "22    a  nexus4  nexus4_1  stand  \n",
       "23    a  nexus4  nexus4_1  stand  \n",
       "24    a  nexus4  nexus4_1  stand  \n",
       "25    a  nexus4  nexus4_1  stand  \n",
       "26    a  nexus4  nexus4_1  stand  \n",
       "27    a  nexus4  nexus4_1  stand  \n",
       "28    a  nexus4  nexus4_1  stand  \n",
       "29    a  nexus4  nexus4_1  stand  "
      ]
     },
     "execution_count": 27,
     "metadata": {},
     "output_type": "execute_result"
    }
   ],
   "source": [
    "df.head(30)"
   ]
  },
  {
   "cell_type": "code",
   "execution_count": 5,
   "metadata": {},
   "outputs": [
    {
     "data": {
      "image/png": "[encoded data removed]",
      "text/plain": [
       "<Figure size 432x288 with 1 Axes>"
      ]
     },
     "metadata": {
      "needs_background": "light"
     },
     "output_type": "display_data"
    }
   ],
   "source": [
    "df['gt'].value_counts().plot(kind='bar', title='Training examples by activity type');"
   ]
  },
  {
   "cell_type": "code",
   "execution_count": 6,
   "metadata": {},
   "outputs": [
    {
     "data": {
      "image/png": "[encoded data removed]",
      "text/plain": [
       "<Figure size 432x288 with 1 Axes>"
      ]
     },
     "metadata": {
      "needs_background": "light"
     },
     "output_type": "display_data"
    }
   ],
   "source": [
    "df['User'].value_counts().plot(kind='bar', title='Training examples by user');"
   ]
  },
  {
   "cell_type": "code",
   "execution_count": 11,
   "metadata": {},
   "outputs": [
    {
     "data": {
      "image/png": "[encoded data removed]",
      "text/plain": [
       "<Figure size 432x288 with 1 Axes>"
      ]
     },
     "metadata": {
      "needs_background": "light"
     },
     "output_type": "display_data"
    }
   ],
   "source": [
    "df['Model'].value_counts().plot(kind='bar', title='Training examples by activity type');"
   ]
  },
  {
   "cell_type": "code",
   "execution_count": 18,
   "metadata": {},
   "outputs": [],
   "source": [
    "nexus = df[df['Model']=='nexus4']\n",
    "s3 = df[df['Model']=='s3']\n",
    "samsungold = df[df['Model']=='samsungold']\n",
    "s3mini = df[df['Model']=='s3mini']"
   ]
  },
  {
   "cell_type": "code",
   "execution_count": 13,
   "metadata": {},
   "outputs": [
    {
     "data": {
      "image/png": "[encoded data removed]",
      "text/plain": [
       "<Figure size 432x288 with 1 Axes>"
      ]
     },
     "metadata": {
      "needs_background": "light"
     },
     "output_type": "display_data"
    }
   ],
   "source": [
    "nexus['gt'].value_counts().plot(kind='bar', title='Training examples by activity type');"
   ]
  },
  {
   "cell_type": "code",
   "execution_count": 20,
   "metadata": {},
   "outputs": [
    {
     "data": {
      "image/png": "[encoded data removed]",
      "text/plain": [
       "<Figure size 432x288 with 1 Axes>"
      ]
     },
     "metadata": {
      "needs_background": "light"
     },
     "output_type": "display_data"
    }
   ],
   "source": [
    "s3mini['gt'].value_counts().plot(kind='bar', title='Training examples by activity type');"
   ]
  },
  {
   "cell_type": "code",
   "execution_count": 16,
   "metadata": {},
   "outputs": [
    {
     "data": {
      "text/plain": [
       "walk          10603.33\n",
       "sit            9847.31\n",
       "stand          9108.02\n",
       "bike           8637.13\n",
       "stairsup       8365.90\n",
       "stairsdown     7490.63\n",
       "Name: gt, dtype: float64"
      ]
     },
     "execution_count": 16,
     "metadata": {},
     "output_type": "execute_result"
    }
   ],
   "source": [
    "nexus['gt'].value_counts()/100"
   ]
  },
  {
   "cell_type": "code",
   "execution_count": 23,
   "metadata": {},
   "outputs": [
    {
     "data": {
      "text/plain": [
       "walk          6599.253333\n",
       "sit           6345.320000\n",
       "stand         5716.760000\n",
       "bike          5466.826667\n",
       "stairsup      5316.800000\n",
       "stairsdown    4710.120000\n",
       "Name: gt, dtype: float64"
      ]
     },
     "execution_count": 23,
     "metadata": {},
     "output_type": "execute_result"
    }
   ],
   "source": [
    "s3['gt'].value_counts()/75"
   ]
  },
  {
   "cell_type": "code",
   "execution_count": 24,
   "metadata": {},
   "outputs": [
    {
     "data": {
      "text/plain": [
       "bike          14580.00\n",
       "walk          14245.80\n",
       "stairsup      12562.96\n",
       "stairsdown    12527.40\n",
       "stand         11085.20\n",
       "sit           10768.72\n",
       "Name: gt, dtype: float64"
      ]
     },
     "execution_count": 24,
     "metadata": {},
     "output_type": "execute_result"
    }
   ],
   "source": [
    "samsungold['gt'].value_counts()/25"
   ]
  },
  {
   "cell_type": "code",
   "execution_count": 25,
   "metadata": {},
   "outputs": [
    {
     "data": {
      "text/plain": [
       "walk          5619.58\n",
       "sit           5241.42\n",
       "stand         4696.06\n",
       "stairsup      4651.72\n",
       "bike          4146.64\n",
       "stairsdown    4007.78\n",
       "Name: gt, dtype: float64"
      ]
     },
     "execution_count": 25,
     "metadata": {},
     "output_type": "execute_result"
    }
   ],
   "source": [
    "s3mini['gt'].value_counts()/50"
   ]
  },
  {
   "cell_type": "code",
   "execution_count": 29,
   "metadata": {},
   "outputs": [
    {
     "data": {
      "text/plain": [
       "bike          32830.596667\n",
       "sit           32202.770000\n",
       "stairsdown    28735.930000\n",
       "stairsup      30897.380000\n",
       "stand         30606.040000\n",
       "walk          37067.963333\n",
       "Name: gt, dtype: float64"
      ]
     },
     "execution_count": 29,
     "metadata": {},
     "output_type": "execute_result"
    }
   ],
   "source": [
    "nexus['gt'].value_counts()/100 + s3['gt'].value_counts()/75 + s3mini['gt'].value_counts()/50 + samsungold['gt'].value_counts()/25 "
   ]
  },
  {
   "cell_type": "code",
   "execution_count": 30,
   "metadata": {},
   "outputs": [
    {
     "data": {
      "text/plain": [
       "192340.68"
      ]
     },
     "execution_count": 30,
     "metadata": {},
     "output_type": "execute_result"
    }
   ],
   "source": [
    "np.sum(nexus['gt'].value_counts()/100) + np.sum(s3['gt'].value_counts()/75) +\\\n",
    "np.sum(samsungold['gt'].value_counts()/25) + np.sum(s3mini['gt'].value_counts()/50)"
   ]
  },
  {
   "cell_type": "code",
   "execution_count": 7,
   "metadata": {},
   "outputs": [],
   "source": [
    "def plot_activity(activity, df):\n",
    "    data = df[df['gt'] == activity][['x', 'y', 'z']][:200]\n",
    "    axis = data.plot(subplots=True, figsize=(16, 12), \n",
    "                     title=activity)\n",
    "    for ax in axis:\n",
    "        ax.legend(loc='lower left', bbox_to_anchor=(1.0, 0.5))"
   ]
  },
  {
   "cell_type": "code",
   "execution_count": 8,
   "metadata": {},
   "outputs": [
    {
     "data": {
      "image/png": "[encoded data removed]",
      "text/plain": [
       "<Figure size 1152x864 with 3 Axes>"
      ]
     },
     "metadata": {
      "needs_background": "light"
     },
     "output_type": "display_data"
    }
   ],
   "source": [
    "plot_activity(\"walk\", df)"
   ]
  },
  {
   "cell_type": "code",
   "execution_count": 9,
   "metadata": {},
   "outputs": [
    {
     "data": {
      "image/png": "[encoded data removed]",
      "text/plain": [
       "<Figure size 1152x864 with 3 Axes>"
      ]
     },
     "metadata": {
      "needs_background": "light"
     },
     "output_type": "display_data"
    }
   ],
   "source": [
    "plot_activity(\"bike\", df)"
   ]
  },
  {
   "cell_type": "code",
   "execution_count": 10,
   "metadata": {},
   "outputs": [
    {
     "data": {
      "image/png": "[encoded data removed]",
      "text/plain": [
       "<Figure size 432x288 with 2 Axes>"
      ]
     },
     "metadata": {
      "needs_background": "light"
     },
     "output_type": "display_data"
    }
   ],
   "source": [
    "def correlation_matrix(df):\n",
    "    from matplotlib import pyplot as plt\n",
    "    from matplotlib import cm as cm\n",
    "\n",
    "    fig = plt.figure()\n",
    "    ax1 = fig.add_subplot(111)\n",
    "    cmap = cm.get_cmap('jet', 30)\n",
    "    cax = ax1.imshow(df.corr(), interpolation=\"nearest\", cmap=cmap)\n",
    "    ax1.grid(True)\n",
    "    plt.title('Abalone Feature Correlation')\n",
    "    labels=['Sex','Length','Diam','Height','Whole','Shucked','Viscera','Shell','Rings',]\n",
    "    ax1.set_xticklabels(labels,fontsize=6)\n",
    "    ax1.set_yticklabels(labels,fontsize=6)\n",
    "    # Add colorbar, make sure to specify tick locations to match desired ticklabels\n",
    "    fig.colorbar(cax, ticks=[.75,.8,.85,.90,.95,1])\n",
    "    plt.show()\n",
    "\n",
    "correlation_matrix(df)"
   ]
  }
 ],
 "metadata": {
  "kernelspec": {
   "display_name": "Python (py354)",
   "language": "python",
   "name": "py354"
  },
  "language_info": {
   "codemirror_mode": {
    "name": "ipython",
    "version": 3
   },
   "file_extension": ".py",
   "mimetype": "text/x-python",
   "name": "python",
   "nbconvert_exporter": "python",
   "pygments_lexer": "ipython3",
   "version": "3.7.4"
  }
 },
 "nbformat": 4,
 "nbformat_minor": 2
}
